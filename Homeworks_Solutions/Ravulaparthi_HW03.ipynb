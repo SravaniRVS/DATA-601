{
  "cells": [
    {
      "cell_type": "code",
      "execution_count": 1,
      "metadata": {
        "id": "_Pd5XAsefOGV"
      },
      "outputs": [],
      "source": [
        "import matplotlib\n",
        "import matplotlib.pyplot as plt\n",
        "from matplotlib.patches import Rectangle"
      ]
    },
    {
      "cell_type": "code",
      "execution_count": 5,
      "metadata": {
        "colab": {
          "base_uri": "https://localhost:8080/",
          "height": 687
        },
        "id": "qA7bBi7gfQRi",
        "outputId": "44ea7e8b-d845-4208-b4bd-c3ff7dba5411"
      },
      "outputs": [
        {
          "output_type": "stream",
          "name": "stdout",
          "text": [
            "Enter the x_axis of rectangle: 0\n",
            "Enter the y_axis of rectangle: 0\n",
            "Enter length of rectangle: 12\n",
            "Enter width of rectangle: 22\n",
            "Area = 264\n",
            "Perimeter = 68\n",
            "\n",
            "Plot of the Rectangle :\n"
          ]
        },
        {
          "output_type": "display_data",
          "data": {
            "image/png": "[encoded data removed]",
            "text/plain": [
              "<Figure size 432x288 with 1 Axes>"
            ]
          },
          "metadata": {
            "needs_background": "light"
          }
        },
        {
          "output_type": "stream",
          "name": "stdout",
          "text": [
            "Enter x_axis shift value: 2\n",
            "Enter y_axis shift value: 6\n",
            "\n",
            "Plot after shifting is : \n"
          ]
        },
        {
          "output_type": "display_data",
          "data": {
            "image/png": "[encoded data removed]",
            "text/plain": [
              "<Figure size 432x288 with 1 Axes>"
            ]
          },
          "metadata": {
            "needs_background": "light"
          }
        }
      ],
      "source": [
        "##1.a Create a class with the name \"rectangle\", which accepts 4 numbers (a, b, x1, y1) to create a rectangle object.\n",
        "##a and b are the side lenghts, and x1 and y1 are the x- and y-coordinates of the lower left corner\n",
        "## I used 'x' and 'y' for x & y coordinates. L and W for length and width of the rectangle.\n",
        "x=int(input(\"Enter the x_axis of rectangle: \"))\n",
        "y=int(input(\"Enter the y_axis of rectangle: \"))\n",
        "l=int(input(\"Enter length of rectangle: \"))\n",
        "w=int(input(\"Enter width of rectangle: \"))\n",
        "\n",
        "class Rectangles():\n",
        "    def __init__(self, l, w, x, y):\n",
        "        self.x = x\n",
        "        self.y = y\n",
        "        self.l = l\n",
        "        self.w = w\n",
        "\n",
        "##1.b Write a method which calculates and returns the area of this rectangle\n",
        "    def area(self):\n",
        "        return self.l*self.w\n",
        "\n",
        "##1.c Write a method which calculates and returns the perimeter of this rectangle\n",
        "    def perimeter(self):\n",
        "        return (self.l + self.w) * 2\n",
        "\n",
        "##1.d Write a method to plot this rectangle\n",
        "    def plotting(self):\n",
        "        fig, ax = plt.subplots()\n",
        "        ax.set_xlabel('X - AXIS')\n",
        "        ax.set_ylabel('Y- AXIS')\n",
        "        ax.plot()\n",
        "        ax.add_patch(Rectangle((self.x,self.y), self.w,self.l, edgecolor='r', facecolor=\"none\"))\n",
        "        plt.axis('scaled')\n",
        "        plt.show()\n",
        "               \n",
        "\n",
        "##1.e Write a method to shift this rectangle\n",
        "    def shifting(self, delta_x, delta_y ):\n",
        "         self.delta_x = delta_x\n",
        "         self.delta_y = delta_y   \n",
        "         new_x = x + delta_x\n",
        "         new_y = y + delta_y\n",
        "         print(\"\\nPlot after shifting is : \")\n",
        "         fig, ax = plt.subplots()\n",
        "         ax.set_xlabel('X - AXIS')\n",
        "         ax.set_ylabel('Y- AXIS')\n",
        "         ax.plot()\n",
        "         p= ax.add_patch(Rectangle((new_x, new_y), self.w, self.l, color='c'))\n",
        "         plt.axis('scaled')\n",
        "         plt.show()\n",
        "\n",
        "\n",
        "\n",
        "newRectangle = Rectangles(l, w, x,y,)\n",
        "print(\"Area =\",newRectangle.area())\n",
        "print(\"Perimeter =\",newRectangle.perimeter())\n",
        "plottedRectangle = Rectangles(l, w, x,y,)\n",
        "print(\"\\nPlot of the Rectangle :\")\n",
        "plottedRectangle.plotting()\n",
        "delta_x = int(input(\"Enter x_axis shift value: \"))\n",
        "delta_y = int(input(\"Enter y_axis shift value: \"))\n",
        "shiftedRectangle = Rectangles(l,w, x,y,)\n",
        "shiftedRectangle.shifting(delta_x, delta_y)\n",
        "\n",
        "\n",
        "\n"
      ]
    },
    {
      "cell_type": "code",
      "execution_count": 6,
      "metadata": {
        "colab": {
          "base_uri": "https://localhost:8080/",
          "height": 404
        },
        "id": "pbDD_jK5LlqX",
        "outputId": "634b0a96-25b2-4238-e66a-3430a7afa43b"
      },
      "outputs": [
        {
          "output_type": "stream",
          "name": "stdout",
          "text": [
            "Enter the x_axis of Square: 5\n",
            "Enter the y_axis of Square: 9\n",
            "Enter the side of the Square: 33\n",
            "Area of the Square = 1089\n",
            "Perimeter of the Square = 132\n",
            "\n",
            "Plot of the Square is :\n"
          ]
        },
        {
          "output_type": "display_data",
          "data": {
            "image/png": "[encoded data removed]",
            "text/plain": [
              "<Figure size 432x288 with 1 Axes>"
            ]
          },
          "metadata": {
            "needs_background": "light"
          }
        }
      ],
      "source": [
        "##2. Create another class called square using the \"inheritance\" property\n",
        "# create a square\n",
        "x1=int(input(\"Enter the x_axis of Square: \"))\n",
        "y1=int(input(\"Enter the y_axis of Square: \"))\n",
        "\n",
        "class Square(Rectangles):\n",
        "    def __init__(self,  side, x1, y1 ):\n",
        "        super().__init__(side, side, x1, y1)    \n",
        "\n",
        "        \n",
        "side=int(input(\"Enter the side of the Square: \"))\n",
        "s= Square( side, x1, y1)\n",
        "print(\"Area of the Square =\",s.area()) \n",
        "print(\"Perimeter of the Square =\", s.perimeter()) \n",
        "print(\"\\nPlot of the Square is :\")\n",
        "s.plotting()"
      ]
    },
    {
      "cell_type": "code",
      "execution_count": 8,
      "metadata": {
        "id": "zx9FYVLhLlqX"
      },
      "outputs": [],
      "source": [
        "s1=Square(16,3,5)"
      ]
    },
    {
      "cell_type": "code",
      "execution_count": 9,
      "metadata": {
        "colab": {
          "base_uri": "https://localhost:8080/",
          "height": 279
        },
        "id": "aMS2K0SILlqX",
        "outputId": "8aafce05-9539-4a2b-ebdd-870819e41cf6"
      },
      "outputs": [
        {
          "output_type": "display_data",
          "data": {
            "image/png": "[encoded data removed]",
            "text/plain": [
              "<Figure size 432x288 with 1 Axes>"
            ]
          },
          "metadata": {
            "needs_background": "light"
          }
        }
      ],
      "source": [
        "s1.plotting()"
      ]
    },
    {
      "cell_type": "code",
      "execution_count": 10,
      "metadata": {
        "colab": {
          "base_uri": "https://localhost:8080/"
        },
        "id": "oYBdvKQNLlqX",
        "outputId": "3d610686-7b47-4e94-e883-ce1f7c9ee028"
      },
      "outputs": [
        {
          "output_type": "execute_result",
          "data": {
            "text/plain": [
              "256"
            ]
          },
          "metadata": {},
          "execution_count": 10
        }
      ],
      "source": [
        "s1.area()"
      ]
    },
    {
      "cell_type": "code",
      "execution_count": 11,
      "metadata": {
        "colab": {
          "base_uri": "https://localhost:8080/"
        },
        "id": "FEZGeteJLlqY",
        "outputId": "1dc7c86e-1944-4be5-f72e-c69c30a139df"
      },
      "outputs": [
        {
          "output_type": "execute_result",
          "data": {
            "text/plain": [
              "64"
            ]
          },
          "metadata": {},
          "execution_count": 11
        }
      ],
      "source": [
        "s1.perimeter()"
      ]
    },
    {
      "cell_type": "code",
      "execution_count": 12,
      "metadata": {
        "colab": {
          "base_uri": "https://localhost:8080/",
          "height": 314
        },
        "id": "-30uJvpXLlqY",
        "outputId": "61a98423-30ca-4768-a06c-04542412ea7b"
      },
      "outputs": [
        {
          "output_type": "stream",
          "name": "stdout",
          "text": [
            "\n",
            "Plot after shifting is : \n"
          ]
        },
        {
          "output_type": "display_data",
          "data": {
            "image/png": "[encoded data removed]",
            "text/plain": [
              "<Figure size 432x288 with 1 Axes>"
            ]
          },
          "metadata": {
            "needs_background": "light"
          }
        }
      ],
      "source": [
        "s1.shifting(10,15)"
      ]
    },
    {
      "cell_type": "code",
      "execution_count": 13,
      "metadata": {
        "id": "I9HeTH2dLlqY"
      },
      "outputs": [],
      "source": [
        "r1=Rectangles(12,19,1,2)"
      ]
    },
    {
      "cell_type": "code",
      "execution_count": 14,
      "metadata": {
        "colab": {
          "base_uri": "https://localhost:8080/"
        },
        "id": "FReEFn8sLlqZ",
        "outputId": "cc151f1b-a07e-4031-e9a8-b1dced59c755"
      },
      "outputs": [
        {
          "output_type": "execute_result",
          "data": {
            "text/plain": [
              "228"
            ]
          },
          "metadata": {},
          "execution_count": 14
        }
      ],
      "source": [
        "r1.area()"
      ]
    },
    {
      "cell_type": "code",
      "execution_count": 15,
      "metadata": {
        "colab": {
          "base_uri": "https://localhost:8080/"
        },
        "id": "aaQLefnZLlqZ",
        "outputId": "ad823195-142a-41fb-b2f1-3900d2778170"
      },
      "outputs": [
        {
          "output_type": "execute_result",
          "data": {
            "text/plain": [
              "62"
            ]
          },
          "metadata": {},
          "execution_count": 15
        }
      ],
      "source": [
        "r1.perimeter()"
      ]
    },
    {
      "cell_type": "code",
      "execution_count": 16,
      "metadata": {
        "colab": {
          "base_uri": "https://localhost:8080/",
          "height": 273
        },
        "id": "wSPldZCsLlqZ",
        "outputId": "2f06ff72-ec6a-445c-f9c5-a5c0fa122439"
      },
      "outputs": [
        {
          "output_type": "display_data",
          "data": {
            "image/png": "[encoded data removed]",
            "text/plain": [
              "<Figure size 432x288 with 1 Axes>"
            ]
          },
          "metadata": {
            "needs_background": "light"
          }
        }
      ],
      "source": [
        "r1.plotting()"
      ]
    },
    {
      "cell_type": "code",
      "execution_count": 17,
      "metadata": {
        "colab": {
          "base_uri": "https://localhost:8080/",
          "height": 308
        },
        "id": "p_6ZIBK7LlqZ",
        "outputId": "947383b0-71e2-425e-db8a-013bc484353b"
      },
      "outputs": [
        {
          "output_type": "stream",
          "name": "stdout",
          "text": [
            "\n",
            "Plot after shifting is : \n"
          ]
        },
        {
          "output_type": "display_data",
          "data": {
            "image/png": "[encoded data removed]",
            "text/plain": [
              "<Figure size 432x288 with 1 Axes>"
            ]
          },
          "metadata": {
            "needs_background": "light"
          }
        }
      ],
      "source": [
        "r1.shifting(2,3)"
      ]
    },
    {
      "cell_type": "code",
      "execution_count": null,
      "metadata": {
        "id": "Ku_A1F15LlqZ"
      },
      "outputs": [],
      "source": [
        ""
      ]
    }
  ],
  "metadata": {
    "colab": {
      "collapsed_sections": [],
      "name": "Ravulaparthi_HW03.ipynb",
      "provenance": []
    },
    "kernelspec": {
      "display_name": "Python 3 (ipykernel)",
      "language": "python",
      "name": "python3"
    },
    "language_info": {
      "codemirror_mode": {
        "name": "ipython",
        "version": 3
      },
      "file_extension": ".py",
      "mimetype": "text/x-python",
      "name": "python",
      "nbconvert_exporter": "python",
      "pygments_lexer": "ipython3",
      "version": "3.9.7"
    }
  },
  "nbformat": 4,
  "nbformat_minor": 0
}