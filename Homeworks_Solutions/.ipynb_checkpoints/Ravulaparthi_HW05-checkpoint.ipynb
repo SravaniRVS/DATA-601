{
 "cells": [
  {
   "cell_type": "markdown",
   "id": "e36888e7",
   "metadata": {
    "id": "e36888e7"
   },
   "source": [
    "# Homework 5\n",
    "Due Date: 04/21/2022, 11:59 pm\n",
    "\n",
    "Please use the cell below, get the \"American National Election Studies of 1996\" dataset, then the answer the questions below."
   ]
  },
  {
   "cell_type": "code",
   "execution_count": 1,
   "id": "abdc97f5",
   "metadata": {
    "id": "abdc97f5"
   },
   "outputs": [],
   "source": [
    "import pandas as pd\n",
    "import numpy as np\n",
    "import statsmodels.api as sm\n",
    "anes96 = sm.datasets.anes96\n",
    "df = anes96.load_pandas().data"
   ]
  },
  {
   "cell_type": "code",
   "execution_count": 2,
   "id": "4551979c",
   "metadata": {
    "id": "4551979c"
   },
   "outputs": [],
   "source": [
    "%matplotlib inline\n",
    "from datetime import date\n",
    "from datetime import datetime\n",
    "import matplotlib\n",
    "import matplotlib.pyplot as plt\n",
    "import seaborn as sns\n",
    "from scipy import stats\n",
    "import statsmodels.api as sm\n",
    "import statsmodels.formula.api as smf\n",
    "from statsmodels.formula.api import ols\n",
    "from statsmodels.stats.anova import AnovaRM\n",
    "import math\n",
    "from statistics import mean\n",
    "from scipy.stats import ttest_ind\n"
   ]
  },
  {
   "cell_type": "markdown",
   "id": "63646fee",
   "metadata": {
    "id": "63646fee"
   },
   "source": [
    "This data is a subset of the American National Election Studies of 1996."
   ]
  },
  {
   "cell_type": "markdown",
   "id": "67a71dc3",
   "metadata": {
    "id": "67a71dc3"
   },
   "source": [
    "# Questions/Tasks\n",
    "After loading data as a dataframe, carry out a typical EDA (check the shape, data types, min/max values, etc.)\n",
    "\n",
    "Visualize the histogram of all features and the correlation matrix.\n",
    "\n",
    "Use hypothesis testing methods and which ones of these have an affect on people's votes (0: Clinton, 1:Dole)\n",
    "\n",
    "a. Population\n",
    "\n",
    "b. TVnews\n",
    "\n",
    "c. Age\n",
    "\n",
    "d. Education\n",
    "\n",
    "e. Income\n",
    "\n",
    "Use Chi-square test of independence and answer the following quesion: If we assume that people who make less than $50k a year are poor, can we say that poor people favor one candidate over another?\n",
    "\n",
    "Use Fisher's exact test and answer the following quesion: If we assume that people who are under 40 years are young, can we say that young people favor one candidate over another?\n",
    "\n",
    "Use Welch's t-test and answer the following question: is there a difference in votes between people with a higher education degree (college, MS, or PhD) and without a higher education degree"
   ]
  },
  {
   "cell_type": "code",
   "execution_count": 3,
   "id": "0b820796",
   "metadata": {
    "colab": {
     "base_uri": "https://localhost:8080/"
    },
    "id": "0b820796",
    "outputId": "4a4ee756-741a-49ab-a4b9-e216c5833a19"
   },
   "outputs": [
    {
     "name": "stdout",
     "output_type": "stream",
     "text": [
      "::\n",
      "\n",
      "    Number of observations - 944\n",
      "    Number of variables - 10\n",
      "\n",
      "    Variables name definitions::\n",
      "\n",
      "            popul - Census place population in 1000s\n",
      "            TVnews - Number of times per week that respondent watches TV news.\n",
      "            PID - Party identification of respondent.\n",
      "                0 - Strong Democrat\n",
      "                1 - Weak Democrat\n",
      "                2 - Independent-Democrat\n",
      "                3 - Independent-Indpendent\n",
      "                4 - Independent-Republican\n",
      "                5 - Weak Republican\n",
      "                6 - Strong Republican\n",
      "            age : Age of respondent.\n",
      "            educ - Education level of respondent\n",
      "                1 - 1-8 grades\n",
      "                2 - Some high school\n",
      "                3 - High school graduate\n",
      "                4 - Some college\n",
      "                5 - College degree\n",
      "                6 - Master's degree\n",
      "                7 - PhD\n",
      "            income - Income of household\n",
      "                1  - None or less than $2,999\n",
      "                2  - $3,000-$4,999\n",
      "                3  - $5,000-$6,999\n",
      "                4  - $7,000-$8,999\n",
      "                5  - $9,000-$9,999\n",
      "                6  - $10,000-$10,999\n",
      "                7  - $11,000-$11,999\n",
      "                8  - $12,000-$12,999\n",
      "                9  - $13,000-$13,999\n",
      "                10 - $14,000-$14.999\n",
      "                11 - $15,000-$16,999\n",
      "                12 - $17,000-$19,999\n",
      "                13 - $20,000-$21,999\n",
      "                14 - $22,000-$24,999\n",
      "                15 - $25,000-$29,999\n",
      "                16 - $30,000-$34,999\n",
      "                17 - $35,000-$39,999\n",
      "                18 - $40,000-$44,999\n",
      "                19 - $45,000-$49,999\n",
      "                20 - $50,000-$59,999\n",
      "                21 - $60,000-$74,999\n",
      "                22 - $75,000-89,999\n",
      "                23 - $90,000-$104,999\n",
      "                24 - $105,000 and over\n",
      "            vote - Expected vote\n",
      "                0 - Clinton\n",
      "                1 - Dole\n",
      "            The following 3 variables all take the values:\n",
      "                1 - Extremely liberal\n",
      "                2 - Liberal\n",
      "                3 - Slightly liberal\n",
      "                4 - Moderate\n",
      "                5 - Slightly conservative\n",
      "                6 - Conservative\n",
      "                7 - Extremely Conservative\n",
      "            selfLR - Respondent's self-reported political leanings from \"Left\"\n",
      "                to \"Right\".\n",
      "            ClinLR - Respondents impression of Bill Clinton's political\n",
      "                leanings from \"Left\" to \"Right\".\n",
      "            DoleLR  - Respondents impression of Bob Dole's political leanings\n",
      "                from \"Left\" to \"Right\".\n",
      "            logpopul - log(popul + .1)\n",
      "\n"
     ]
    }
   ],
   "source": [
    "## After loading data as a dataframe, carry out a typical EDA (check the shape, data types, min/max values, etc.)\n",
    "print(anes96.NOTE)"
   ]
  },
  {
   "cell_type": "code",
   "execution_count": 4,
   "id": "4bd61762",
   "metadata": {
    "colab": {
     "base_uri": "https://localhost:8080/",
     "height": 786
    },
    "id": "4bd61762",
    "outputId": "7e1c3396-cc74-43e0-ff5d-4dff1372a4ea"
   },
   "outputs": [
    {
     "name": "stdout",
     "output_type": "stream",
     "text": [
      "Shape of the dataset is: (944, 11) \n",
      "\n",
      "\n",
      "Information about the dataset : \n",
      "\n",
      "\n",
      "<class 'pandas.core.frame.DataFrame'>\n",
      "RangeIndex: 944 entries, 0 to 943\n",
      "Data columns (total 11 columns):\n",
      " #   Column    Non-Null Count  Dtype  \n",
      "---  ------    --------------  -----  \n",
      " 0   popul     944 non-null    float64\n",
      " 1   TVnews    944 non-null    float64\n",
      " 2   selfLR    944 non-null    float64\n",
      " 3   ClinLR    944 non-null    float64\n",
      " 4   DoleLR    944 non-null    float64\n",
      " 5   PID       944 non-null    float64\n",
      " 6   age       944 non-null    float64\n",
      " 7   educ      944 non-null    float64\n",
      " 8   income    944 non-null    float64\n",
      " 9   vote      944 non-null    float64\n",
      " 10  logpopul  944 non-null    float64\n",
      "dtypes: float64(11)\n",
      "memory usage: 81.2 KB\n",
      "\n",
      "\n",
      " Description of the dataset : \n",
      "\n"
     ]
    },
    {
     "data": {
      "text/html": [
       "<div>\n",
       "<style scoped>\n",
       "    .dataframe tbody tr th:only-of-type {\n",
       "        vertical-align: middle;\n",
       "    }\n",
       "\n",
       "    .dataframe tbody tr th {\n",
       "        vertical-align: top;\n",
       "    }\n",
       "\n",
       "    .dataframe thead th {\n",
       "        text-align: right;\n",
       "    }\n",
       "</style>\n",
       "<table border=\"1\" class=\"dataframe\">\n",
       "  <thead>\n",
       "    <tr style=\"text-align: right;\">\n",
       "      <th></th>\n",
       "      <th>popul</th>\n",
       "      <th>TVnews</th>\n",
       "      <th>selfLR</th>\n",
       "      <th>ClinLR</th>\n",
       "      <th>DoleLR</th>\n",
       "      <th>PID</th>\n",
       "      <th>age</th>\n",
       "      <th>educ</th>\n",
       "      <th>income</th>\n",
       "      <th>vote</th>\n",
       "      <th>logpopul</th>\n",
       "    </tr>\n",
       "  </thead>\n",
       "  <tbody>\n",
       "    <tr>\n",
       "      <th>count</th>\n",
       "      <td>944.000000</td>\n",
       "      <td>944.000000</td>\n",
       "      <td>944.000000</td>\n",
       "      <td>944.000000</td>\n",
       "      <td>944.000000</td>\n",
       "      <td>944.000000</td>\n",
       "      <td>944.000000</td>\n",
       "      <td>944.000000</td>\n",
       "      <td>944.000000</td>\n",
       "      <td>944.000000</td>\n",
       "      <td>944.000000</td>\n",
       "    </tr>\n",
       "    <tr>\n",
       "      <th>mean</th>\n",
       "      <td>306.381356</td>\n",
       "      <td>3.727754</td>\n",
       "      <td>4.325212</td>\n",
       "      <td>2.939619</td>\n",
       "      <td>5.394068</td>\n",
       "      <td>2.842161</td>\n",
       "      <td>47.043432</td>\n",
       "      <td>4.565678</td>\n",
       "      <td>16.331568</td>\n",
       "      <td>0.416314</td>\n",
       "      <td>2.472307</td>\n",
       "    </tr>\n",
       "    <tr>\n",
       "      <th>std</th>\n",
       "      <td>1082.606745</td>\n",
       "      <td>2.677235</td>\n",
       "      <td>1.438436</td>\n",
       "      <td>1.383725</td>\n",
       "      <td>1.269349</td>\n",
       "      <td>2.273337</td>\n",
       "      <td>16.423130</td>\n",
       "      <td>1.599287</td>\n",
       "      <td>5.974781</td>\n",
       "      <td>0.493208</td>\n",
       "      <td>3.187043</td>\n",
       "    </tr>\n",
       "    <tr>\n",
       "      <th>min</th>\n",
       "      <td>0.000000</td>\n",
       "      <td>0.000000</td>\n",
       "      <td>1.000000</td>\n",
       "      <td>1.000000</td>\n",
       "      <td>1.000000</td>\n",
       "      <td>0.000000</td>\n",
       "      <td>19.000000</td>\n",
       "      <td>1.000000</td>\n",
       "      <td>1.000000</td>\n",
       "      <td>0.000000</td>\n",
       "      <td>-2.302585</td>\n",
       "    </tr>\n",
       "    <tr>\n",
       "      <th>25%</th>\n",
       "      <td>1.000000</td>\n",
       "      <td>1.000000</td>\n",
       "      <td>3.000000</td>\n",
       "      <td>2.000000</td>\n",
       "      <td>5.000000</td>\n",
       "      <td>1.000000</td>\n",
       "      <td>34.000000</td>\n",
       "      <td>3.000000</td>\n",
       "      <td>14.000000</td>\n",
       "      <td>0.000000</td>\n",
       "      <td>0.095310</td>\n",
       "    </tr>\n",
       "    <tr>\n",
       "      <th>50%</th>\n",
       "      <td>22.000000</td>\n",
       "      <td>3.000000</td>\n",
       "      <td>4.000000</td>\n",
       "      <td>3.000000</td>\n",
       "      <td>6.000000</td>\n",
       "      <td>2.000000</td>\n",
       "      <td>44.000000</td>\n",
       "      <td>4.000000</td>\n",
       "      <td>17.000000</td>\n",
       "      <td>0.000000</td>\n",
       "      <td>3.095578</td>\n",
       "    </tr>\n",
       "    <tr>\n",
       "      <th>75%</th>\n",
       "      <td>110.000000</td>\n",
       "      <td>7.000000</td>\n",
       "      <td>6.000000</td>\n",
       "      <td>4.000000</td>\n",
       "      <td>6.000000</td>\n",
       "      <td>5.000000</td>\n",
       "      <td>58.000000</td>\n",
       "      <td>6.000000</td>\n",
       "      <td>21.000000</td>\n",
       "      <td>1.000000</td>\n",
       "      <td>4.701389</td>\n",
       "    </tr>\n",
       "    <tr>\n",
       "      <th>max</th>\n",
       "      <td>7300.000000</td>\n",
       "      <td>7.000000</td>\n",
       "      <td>7.000000</td>\n",
       "      <td>7.000000</td>\n",
       "      <td>7.000000</td>\n",
       "      <td>6.000000</td>\n",
       "      <td>91.000000</td>\n",
       "      <td>7.000000</td>\n",
       "      <td>24.000000</td>\n",
       "      <td>1.000000</td>\n",
       "      <td>8.895643</td>\n",
       "    </tr>\n",
       "  </tbody>\n",
       "</table>\n",
       "</div>"
      ],
      "text/plain": [
       "             popul      TVnews      selfLR      ClinLR      DoleLR  \\\n",
       "count   944.000000  944.000000  944.000000  944.000000  944.000000   \n",
       "mean    306.381356    3.727754    4.325212    2.939619    5.394068   \n",
       "std    1082.606745    2.677235    1.438436    1.383725    1.269349   \n",
       "min       0.000000    0.000000    1.000000    1.000000    1.000000   \n",
       "25%       1.000000    1.000000    3.000000    2.000000    5.000000   \n",
       "50%      22.000000    3.000000    4.000000    3.000000    6.000000   \n",
       "75%     110.000000    7.000000    6.000000    4.000000    6.000000   \n",
       "max    7300.000000    7.000000    7.000000    7.000000    7.000000   \n",
       "\n",
       "              PID         age        educ      income        vote    logpopul  \n",
       "count  944.000000  944.000000  944.000000  944.000000  944.000000  944.000000  \n",
       "mean     2.842161   47.043432    4.565678   16.331568    0.416314    2.472307  \n",
       "std      2.273337   16.423130    1.599287    5.974781    0.493208    3.187043  \n",
       "min      0.000000   19.000000    1.000000    1.000000    0.000000   -2.302585  \n",
       "25%      1.000000   34.000000    3.000000   14.000000    0.000000    0.095310  \n",
       "50%      2.000000   44.000000    4.000000   17.000000    0.000000    3.095578  \n",
       "75%      5.000000   58.000000    6.000000   21.000000    1.000000    4.701389  \n",
       "max      6.000000   91.000000    7.000000   24.000000    1.000000    8.895643  "
      ]
     },
     "execution_count": 4,
     "metadata": {},
     "output_type": "execute_result"
    }
   ],
   "source": [
    "print(\"Shape of the dataset is:\", df.shape, \"\\n\\n\")\n",
    "print(\"Information about the dataset : \\n\\n\")\n",
    "df.info()\n",
    "print(\"\\n\\n Description of the dataset : \\n\")\n",
    "df.describe()"
   ]
  },
  {
   "cell_type": "code",
   "execution_count": 5,
   "id": "f70f0ed9",
   "metadata": {
    "colab": {
     "base_uri": "https://localhost:8080/"
    },
    "id": "f70f0ed9",
    "outputId": "2c9eebcc-af63-48f0-8d49-43ea40146aff"
   },
   "outputs": [
    {
     "data": {
      "text/plain": [
       "popul       0\n",
       "TVnews      0\n",
       "selfLR      0\n",
       "ClinLR      0\n",
       "DoleLR      0\n",
       "PID         0\n",
       "age         0\n",
       "educ        0\n",
       "income      0\n",
       "vote        0\n",
       "logpopul    0\n",
       "dtype: int64"
      ]
     },
     "execution_count": 5,
     "metadata": {},
     "output_type": "execute_result"
    }
   ],
   "source": [
    "df.isnull().sum()"
   ]
  },
  {
   "cell_type": "markdown",
   "id": "e0e97ce9",
   "metadata": {
    "id": "e0e97ce9"
   },
   "source": [
    "We can see that there are no null values in the dataset."
   ]
  },
  {
   "cell_type": "code",
   "execution_count": 6,
   "id": "cd867cfa",
   "metadata": {
    "colab": {
     "base_uri": "https://localhost:8080/"
    },
    "id": "cd867cfa",
    "outputId": "8f0b71a5-d3b4-4ecc-fc5a-2eb51b765126"
   },
   "outputs": [
    {
     "data": {
      "text/plain": [
       "popul       1.172037e+06\n",
       "TVnews      7.167585e+00\n",
       "selfLR      2.069099e+00\n",
       "ClinLR      1.914696e+00\n",
       "DoleLR      1.611248e+00\n",
       "PID         5.168061e+00\n",
       "age         2.697192e+02\n",
       "educ        2.557718e+00\n",
       "income      3.569801e+01\n",
       "vote        2.432543e-01\n",
       "logpopul    1.015725e+01\n",
       "dtype: float64"
      ]
     },
     "execution_count": 6,
     "metadata": {},
     "output_type": "execute_result"
    }
   ],
   "source": [
    "df.var()"
   ]
  },
  {
   "cell_type": "code",
   "execution_count": 7,
   "id": "502e74aa",
   "metadata": {
    "colab": {
     "base_uri": "https://localhost:8080/"
    },
    "id": "502e74aa",
    "outputId": "bd6bdfbe-d46a-4bb4-ba6a-bb9056d7e5d3"
   },
   "outputs": [
    {
     "data": {
      "text/plain": [
       "popul       1082.606745\n",
       "TVnews         2.677235\n",
       "selfLR         1.438436\n",
       "ClinLR         1.383725\n",
       "DoleLR         1.269349\n",
       "PID            2.273337\n",
       "age           16.423130\n",
       "educ           1.599287\n",
       "income         5.974781\n",
       "vote           0.493208\n",
       "logpopul       3.187043\n",
       "dtype: float64"
      ]
     },
     "execution_count": 7,
     "metadata": {},
     "output_type": "execute_result"
    }
   ],
   "source": [
    "df.std()"
   ]
  },
  {
   "cell_type": "code",
   "execution_count": 8,
   "id": "f501d033",
   "metadata": {
    "colab": {
     "base_uri": "https://localhost:8080/"
    },
    "id": "f501d033",
    "outputId": "7d25f168-1504-4980-dc24-a76c0eb89493"
   },
   "outputs": [
    {
     "data": {
      "text/plain": [
       "popul       5.489835\n",
       "TVnews     -0.019139\n",
       "selfLR     -0.181060\n",
       "ClinLR      0.811147\n",
       "DoleLR     -1.337448\n",
       "PID         0.125040\n",
       "age         0.525106\n",
       "educ        0.014549\n",
       "income     -0.915867\n",
       "vote        0.340076\n",
       "logpopul   -0.263428\n",
       "dtype: float64"
      ]
     },
     "execution_count": 8,
     "metadata": {},
     "output_type": "execute_result"
    }
   ],
   "source": [
    "df.skew()"
   ]
  },
  {
   "cell_type": "code",
   "execution_count": 9,
   "id": "808bbb95",
   "metadata": {
    "colab": {
     "base_uri": "https://localhost:8080/"
    },
    "id": "808bbb95",
    "outputId": "682c8c3c-6df1-464f-bc28-55eb3d4dd519"
   },
   "outputs": [
    {
     "data": {
      "text/plain": [
       "popul       3.533527\n",
       "TVnews      0.718190\n",
       "selfLR      0.332570\n",
       "ClinLR      0.470716\n",
       "DoleLR      0.235323\n",
       "PID         0.799862\n",
       "age         0.349106\n",
       "educ        0.350285\n",
       "income      0.365842\n",
       "vote        1.184704\n",
       "logpopul    1.289097\n",
       "dtype: float64"
      ]
     },
     "execution_count": 9,
     "metadata": {},
     "output_type": "execute_result"
    }
   ],
   "source": [
    "df.std()/df.mean()"
   ]
  },
  {
   "cell_type": "code",
   "execution_count": 10,
   "id": "eab432ec",
   "metadata": {
    "colab": {
     "base_uri": "https://localhost:8080/",
     "height": 500
    },
    "id": "eab432ec",
    "outputId": "83b8b614-5c37-4497-91f7-bb29bfae32b6"
   },
   "outputs": [
    {
     "data": {
      "text/plain": [
       "<AxesSubplot:>"
      ]
     },
     "execution_count": 10,
     "metadata": {},
     "output_type": "execute_result"
    },
    {
     "data": {
      "image/png": "[encoded data removed]",
      "text/plain": [
       "<Figure size 864x576 with 1 Axes>"
      ]
     },
     "metadata": {
      "needs_background": "light"
     },
     "output_type": "display_data"
    }
   ],
   "source": [
    "# normalizing each column to have an idea of distributions \n",
    "df_norm = df/df.max()\n",
    "df_norm.boxplot( figsize=(12,8))"
   ]
  },
  {
   "cell_type": "code",
   "execution_count": 11,
   "id": "43b5c8a4",
   "metadata": {
    "colab": {
     "base_uri": "https://localhost:8080/",
     "height": 241
    },
    "id": "43b5c8a4",
    "outputId": "206b96d6-f68d-4642-c9ee-2d9d950a0296"
   },
   "outputs": [
    {
     "data": {
      "image/png": "[encoded data removed]",
      "text/plain": [
       "<Figure size 864x216 with 2 Axes>"
      ]
     },
     "metadata": {
      "needs_background": "light"
     },
     "output_type": "display_data"
    }
   ],
   "source": [
    "plt.figure(figsize=(12,3))\n",
    "\n",
    "plt.subplot(121)\n",
    "sns.countplot(data = df, x='ClinLR')\n",
    "plt.title(\"Votes of ClinLR based on PID's\", fontweight='bold')\n",
    "\n",
    "\n",
    "plt.subplot(122)\n",
    "sns.countplot(data = df, x='DoleLR')\n",
    "plt.title(\"Votes of DoleLR based on PID's\", fontweight='bold')\n",
    "\n",
    "plt.show()"
   ]
  },
  {
   "cell_type": "code",
   "execution_count": 12,
   "id": "e647f913",
   "metadata": {
    "colab": {
     "base_uri": "https://localhost:8080/",
     "height": 612
    },
    "id": "e647f913",
    "outputId": "09ea95e6-296e-490c-c8c4-296b5e49e3dd"
   },
   "outputs": [
    {
     "data": {
      "text/plain": [
       "<AxesSubplot:>"
      ]
     },
     "execution_count": 12,
     "metadata": {},
     "output_type": "execute_result"
    },
    {
     "data": {
      "image/png": "[encoded data removed]",
      "text/plain": [
       "<Figure size 1080x720 with 2 Axes>"
      ]
     },
     "metadata": {
      "needs_background": "light"
     },
     "output_type": "display_data"
    }
   ],
   "source": [
    "## Visualize the histogram of all features and the correlation matrix.\n",
    "plt.figure(figsize = (15,10))\n",
    "df_corr = df.corr()\n",
    "sns.heatmap(df_corr, annot=True, fmt='g',square=True,cmap='OrRd', linewidth=0.5, annot_kws = {'size':8} )"
   ]
  },
  {
   "cell_type": "code",
   "execution_count": 13,
   "id": "8bbfda38",
   "metadata": {
    "colab": {
     "base_uri": "https://localhost:8080/",
     "height": 716
    },
    "id": "8bbfda38",
    "outputId": "ff1defc1-458c-459d-861a-35f00e88bbd4"
   },
   "outputs": [
    {
     "data": {
      "image/png": "[encoded data removed]",
      "text/plain": [
       "<Figure size 864x864 with 12 Axes>"
      ]
     },
     "metadata": {
      "needs_background": "light"
     },
     "output_type": "display_data"
    }
   ],
   "source": [
    "df.hist(figsize=(12,12))\n",
    "plt.show()"
   ]
  },
  {
   "cell_type": "code",
   "execution_count": 14,
   "id": "f08ea6e4",
   "metadata": {
    "colab": {
     "base_uri": "https://localhost:8080/",
     "height": 394
    },
    "id": "f08ea6e4",
    "outputId": "ced7972d-439e-4ec5-db65-e8ae059acf38"
   },
   "outputs": [
    {
     "data": {
      "text/html": [
       "<style type=\"text/css\">\n",
       "#T_4c715_row0_col0, #T_4c715_row0_col1, #T_4c715_row0_col3, #T_4c715_row0_col4, #T_4c715_row0_col10, #T_4c715_row2_col2, #T_4c715_row5_col2, #T_4c715_row5_col5, #T_4c715_row5_col9, #T_4c715_row6_col2, #T_4c715_row6_col6, #T_4c715_row8_col7, #T_4c715_row8_col8 {\n",
       "  background-color: #7f0000;\n",
       "  color: #f1f1f1;\n",
       "}\n",
       "#T_4c715_row0_col2, #T_4c715_row0_col5, #T_4c715_row0_col6, #T_4c715_row0_col7, #T_4c715_row0_col8, #T_4c715_row0_col9, #T_4c715_row1_col0, #T_4c715_row1_col10, #T_4c715_row2_col0, #T_4c715_row2_col10, #T_4c715_row3_col0, #T_4c715_row3_col4, #T_4c715_row3_col10, #T_4c715_row4_col0, #T_4c715_row4_col10, #T_4c715_row5_col0, #T_4c715_row5_col10, #T_4c715_row6_col0, #T_4c715_row6_col4, #T_4c715_row6_col10, #T_4c715_row7_col0, #T_4c715_row7_col10, #T_4c715_row8_col0, #T_4c715_row8_col1, #T_4c715_row8_col3, #T_4c715_row8_col10, #T_4c715_row9_col0, #T_4c715_row9_col10, #T_4c715_row10_col0 {\n",
       "  background-color: #fff7ec;\n",
       "  color: #000000;\n",
       "}\n",
       "#T_4c715_row1_col1 {\n",
       "  background-color: #fee7c5;\n",
       "  color: #000000;\n",
       "}\n",
       "#T_4c715_row1_col2, #T_4c715_row1_col9, #T_4c715_row4_col2, #T_4c715_row4_col5, #T_4c715_row4_col9, #T_4c715_row6_col5, #T_4c715_row7_col5, #T_4c715_row7_col9 {\n",
       "  background-color: #870000;\n",
       "  color: #f1f1f1;\n",
       "}\n",
       "#T_4c715_row1_col3, #T_4c715_row4_col4 {\n",
       "  background-color: #fff0db;\n",
       "  color: #000000;\n",
       "}\n",
       "#T_4c715_row1_col4, #T_4c715_row2_col1, #T_4c715_row3_col1, #T_4c715_row4_col1, #T_4c715_row5_col3, #T_4c715_row9_col1, #T_4c715_row9_col4, #T_4c715_row10_col1 {\n",
       "  background-color: #fff5e7;\n",
       "  color: #000000;\n",
       "}\n",
       "#T_4c715_row1_col5, #T_4c715_row3_col2, #T_4c715_row7_col2, #T_4c715_row10_col2 {\n",
       "  background-color: #890000;\n",
       "  color: #f1f1f1;\n",
       "}\n",
       "#T_4c715_row1_col6, #T_4c715_row1_col8 {\n",
       "  background-color: #d42c1c;\n",
       "  color: #f1f1f1;\n",
       "}\n",
       "#T_4c715_row1_col7 {\n",
       "  background-color: #ef6447;\n",
       "  color: #f1f1f1;\n",
       "}\n",
       "#T_4c715_row2_col3, #T_4c715_row8_col4, #T_4c715_row9_col3 {\n",
       "  background-color: #fff1de;\n",
       "  color: #000000;\n",
       "}\n",
       "#T_4c715_row2_col4, #T_4c715_row7_col1 {\n",
       "  background-color: #fff6e9;\n",
       "  color: #000000;\n",
       "}\n",
       "#T_4c715_row2_col5, #T_4c715_row2_col9 {\n",
       "  background-color: #840000;\n",
       "  color: #f1f1f1;\n",
       "}\n",
       "#T_4c715_row2_col6, #T_4c715_row5_col6, #T_4c715_row9_col6 {\n",
       "  background-color: #d83221;\n",
       "  color: #f1f1f1;\n",
       "}\n",
       "#T_4c715_row2_col7 {\n",
       "  background-color: #ee6246;\n",
       "  color: #f1f1f1;\n",
       "}\n",
       "#T_4c715_row2_col8, #T_4c715_row9_col8 {\n",
       "  background-color: #d2291a;\n",
       "  color: #f1f1f1;\n",
       "}\n",
       "#T_4c715_row3_col3 {\n",
       "  background-color: #fee8c9;\n",
       "  color: #000000;\n",
       "}\n",
       "#T_4c715_row3_col5, #T_4c715_row3_col9, #T_4c715_row10_col5, #T_4c715_row10_col9 {\n",
       "  background-color: #8a0000;\n",
       "  color: #f1f1f1;\n",
       "}\n",
       "#T_4c715_row3_col6, #T_4c715_row4_col6, #T_4c715_row7_col6, #T_4c715_row10_col6 {\n",
       "  background-color: #d93422;\n",
       "  color: #f1f1f1;\n",
       "}\n",
       "#T_4c715_row3_col7 {\n",
       "  background-color: #f16a4a;\n",
       "  color: #f1f1f1;\n",
       "}\n",
       "#T_4c715_row3_col8 {\n",
       "  background-color: #d62f1e;\n",
       "  color: #f1f1f1;\n",
       "}\n",
       "#T_4c715_row4_col3 {\n",
       "  background-color: #fff2e1;\n",
       "  color: #000000;\n",
       "}\n",
       "#T_4c715_row4_col7, #T_4c715_row5_col7 {\n",
       "  background-color: #e24933;\n",
       "  color: #f1f1f1;\n",
       "}\n",
       "#T_4c715_row4_col8 {\n",
       "  background-color: #d12719;\n",
       "  color: #f1f1f1;\n",
       "}\n",
       "#T_4c715_row5_col1 {\n",
       "  background-color: #fff6ea;\n",
       "  color: #000000;\n",
       "}\n",
       "#T_4c715_row5_col4, #T_4c715_row10_col4 {\n",
       "  background-color: #fff5e6;\n",
       "  color: #000000;\n",
       "}\n",
       "#T_4c715_row5_col8 {\n",
       "  background-color: #cd2316;\n",
       "  color: #f1f1f1;\n",
       "}\n",
       "#T_4c715_row6_col1 {\n",
       "  background-color: #fdc791;\n",
       "  color: #000000;\n",
       "}\n",
       "#T_4c715_row6_col3 {\n",
       "  background-color: #fff3e2;\n",
       "  color: #000000;\n",
       "}\n",
       "#T_4c715_row6_col7 {\n",
       "  background-color: #fdd49f;\n",
       "  color: #000000;\n",
       "}\n",
       "#T_4c715_row6_col8 {\n",
       "  background-color: #de3f2b;\n",
       "  color: #f1f1f1;\n",
       "}\n",
       "#T_4c715_row6_col9, #T_4c715_row8_col5, #T_4c715_row8_col9 {\n",
       "  background-color: #820000;\n",
       "  color: #f1f1f1;\n",
       "}\n",
       "#T_4c715_row7_col3 {\n",
       "  background-color: #fff2e0;\n",
       "  color: #000000;\n",
       "}\n",
       "#T_4c715_row7_col4 {\n",
       "  background-color: #fff4e4;\n",
       "  color: #000000;\n",
       "}\n",
       "#T_4c715_row7_col7 {\n",
       "  background-color: #a80000;\n",
       "  color: #f1f1f1;\n",
       "}\n",
       "#T_4c715_row7_col8 {\n",
       "  background-color: #cc2116;\n",
       "  color: #f1f1f1;\n",
       "}\n",
       "#T_4c715_row8_col2, #T_4c715_row9_col2, #T_4c715_row9_col5, #T_4c715_row9_col9 {\n",
       "  background-color: #860000;\n",
       "  color: #f1f1f1;\n",
       "}\n",
       "#T_4c715_row8_col6 {\n",
       "  background-color: #d93523;\n",
       "  color: #f1f1f1;\n",
       "}\n",
       "#T_4c715_row9_col7 {\n",
       "  background-color: #e9573d;\n",
       "  color: #f1f1f1;\n",
       "}\n",
       "#T_4c715_row10_col3 {\n",
       "  background-color: #feeed7;\n",
       "  color: #000000;\n",
       "}\n",
       "#T_4c715_row10_col7 {\n",
       "  background-color: #eb5c41;\n",
       "  color: #f1f1f1;\n",
       "}\n",
       "#T_4c715_row10_col8 {\n",
       "  background-color: #d52d1d;\n",
       "  color: #f1f1f1;\n",
       "}\n",
       "#T_4c715_row10_col10 {\n",
       "  background-color: #fff7eb;\n",
       "  color: #000000;\n",
       "}\n",
       "</style>\n",
       "<table id=\"T_4c715_\">\n",
       "  <thead>\n",
       "    <tr>\n",
       "      <th class=\"blank level0\" >&nbsp;</th>\n",
       "      <th class=\"col_heading level0 col0\" >popul</th>\n",
       "      <th class=\"col_heading level0 col1\" >TVnews</th>\n",
       "      <th class=\"col_heading level0 col2\" >selfLR</th>\n",
       "      <th class=\"col_heading level0 col3\" >ClinLR</th>\n",
       "      <th class=\"col_heading level0 col4\" >DoleLR</th>\n",
       "      <th class=\"col_heading level0 col5\" >PID</th>\n",
       "      <th class=\"col_heading level0 col6\" >age</th>\n",
       "      <th class=\"col_heading level0 col7\" >educ</th>\n",
       "      <th class=\"col_heading level0 col8\" >income</th>\n",
       "      <th class=\"col_heading level0 col9\" >vote</th>\n",
       "      <th class=\"col_heading level0 col10\" >logpopul</th>\n",
       "    </tr>\n",
       "  </thead>\n",
       "  <tbody>\n",
       "    <tr>\n",
       "      <th id=\"T_4c715_level0_row0\" class=\"row_heading level0 row0\" >popul</th>\n",
       "      <td id=\"T_4c715_row0_col0\" class=\"data row0 col0\" >1172037.364488</td>\n",
       "      <td id=\"T_4c715_row0_col1\" class=\"data row0 col1\" >59.292692</td>\n",
       "      <td id=\"T_4c715_row0_col2\" class=\"data row0 col2\" >-102.493188</td>\n",
       "      <td id=\"T_4c715_row0_col3\" class=\"data row0 col3\" >29.140761</td>\n",
       "      <td id=\"T_4c715_row0_col4\" class=\"data row0 col4\" >35.232381</td>\n",
       "      <td id=\"T_4c715_row0_col5\" class=\"data row0 col5\" >-220.493296</td>\n",
       "      <td id=\"T_4c715_row0_col6\" class=\"data row0 col6\" >-777.326231</td>\n",
       "      <td id=\"T_4c715_row0_col7\" class=\"data row0 col7\" >-6.699517</td>\n",
       "      <td id=\"T_4c715_row0_col8\" class=\"data row0 col8\" >-116.488191</td>\n",
       "      <td id=\"T_4c715_row0_col9\" class=\"data row0 col9\" >-39.013651</td>\n",
       "      <td id=\"T_4c715_row0_col10\" class=\"data row0 col10\" >1603.573237</td>\n",
       "    </tr>\n",
       "    <tr>\n",
       "      <th id=\"T_4c715_level0_row1\" class=\"row_heading level0 row1\" >TVnews</th>\n",
       "      <td id=\"T_4c715_row1_col0\" class=\"data row1 col0\" >59.292692</td>\n",
       "      <td id=\"T_4c715_row1_col1\" class=\"data row1 col1\" >7.167585</td>\n",
       "      <td id=\"T_4c715_row1_col2\" class=\"data row1 col2\" >-0.041803</td>\n",
       "      <td id=\"T_4c715_row1_col3\" class=\"data row1 col3\" >0.007934</td>\n",
       "      <td id=\"T_4c715_row1_col4\" class=\"data row1 col4\" >-0.047428</td>\n",
       "      <td id=\"T_4c715_row1_col5\" class=\"data row1 col5\" >-0.318732</td>\n",
       "      <td id=\"T_4c715_row1_col6\" class=\"data row1 col6\" >17.973661</td>\n",
       "      <td id=\"T_4c715_row1_col7\" class=\"data row1 col7\" >-0.248803</td>\n",
       "      <td id=\"T_4c715_row1_col8\" class=\"data row1 col8\" >-1.000835</td>\n",
       "      <td id=\"T_4c715_row1_col9\" class=\"data row1 col9\" >-0.019096</td>\n",
       "      <td id=\"T_4c715_row1_col10\" class=\"data row1 col10\" >-0.013524</td>\n",
       "    </tr>\n",
       "    <tr>\n",
       "      <th id=\"T_4c715_level0_row2\" class=\"row_heading level0 row2\" >selfLR</th>\n",
       "      <td id=\"T_4c715_row2_col0\" class=\"data row2 col0\" >-102.493188</td>\n",
       "      <td id=\"T_4c715_row2_col1\" class=\"data row2 col1\" >-0.041803</td>\n",
       "      <td id=\"T_4c715_row2_col2\" class=\"data row2 col2\" >2.069099</td>\n",
       "      <td id=\"T_4c715_row2_col3\" class=\"data row2 col3\" >-0.312262</td>\n",
       "      <td id=\"T_4c715_row2_col4\" class=\"data row2 col4\" >-0.164347</td>\n",
       "      <td id=\"T_4c715_row2_col5\" class=\"data row2 col5\" >2.022754</td>\n",
       "      <td id=\"T_4c715_row2_col6\" class=\"data row2 col6\" >2.236125</td>\n",
       "      <td id=\"T_4c715_row2_col7\" class=\"data row2 col7\" >-0.243545</td>\n",
       "      <td id=\"T_4c715_row2_col8\" class=\"data row2 col8\" >0.295025</td>\n",
       "      <td id=\"T_4c715_row2_col9\" class=\"data row2 col9\" >0.413777</td>\n",
       "      <td id=\"T_4c715_row2_col10\" class=\"data row2 col10\" >-0.534240</td>\n",
       "    </tr>\n",
       "    <tr>\n",
       "      <th id=\"T_4c715_level0_row3\" class=\"row_heading level0 row3\" >ClinLR</th>\n",
       "      <td id=\"T_4c715_row3_col0\" class=\"data row3 col0\" >29.140761</td>\n",
       "      <td id=\"T_4c715_row3_col1\" class=\"data row3 col1\" >0.007934</td>\n",
       "      <td id=\"T_4c715_row3_col2\" class=\"data row3 col2\" >-0.312262</td>\n",
       "      <td id=\"T_4c715_row3_col3\" class=\"data row3 col3\" >1.914696</td>\n",
       "      <td id=\"T_4c715_row3_col4\" class=\"data row3 col4\" >-0.619871</td>\n",
       "      <td id=\"T_4c715_row3_col5\" class=\"data row3 col5\" >-1.256624</td>\n",
       "      <td id=\"T_4c715_row3_col6\" class=\"data row3 col6\" >-0.739686</td>\n",
       "      <td id=\"T_4c715_row3_col7\" class=\"data row3 col7\" >-0.456794</td>\n",
       "      <td id=\"T_4c715_row3_col8\" class=\"data row3 col8\" >-1.861188</td>\n",
       "      <td id=\"T_4c715_row3_col9\" class=\"data row3 col9\" >-0.318420</td>\n",
       "      <td id=\"T_4c715_row3_col10\" class=\"data row3 col10\" >0.491234</td>\n",
       "    </tr>\n",
       "    <tr>\n",
       "      <th id=\"T_4c715_level0_row4\" class=\"row_heading level0 row4\" >DoleLR</th>\n",
       "      <td id=\"T_4c715_row4_col0\" class=\"data row4 col0\" >35.232381</td>\n",
       "      <td id=\"T_4c715_row4_col1\" class=\"data row4 col1\" >-0.047428</td>\n",
       "      <td id=\"T_4c715_row4_col2\" class=\"data row4 col2\" >-0.164347</td>\n",
       "      <td id=\"T_4c715_row4_col3\" class=\"data row4 col3\" >-0.619871</td>\n",
       "      <td id=\"T_4c715_row4_col4\" class=\"data row4 col4\" >1.611248</td>\n",
       "      <td id=\"T_4c715_row4_col5\" class=\"data row4 col5\" >0.138617</td>\n",
       "      <td id=\"T_4c715_row4_col6\" class=\"data row4 col6\" >-0.562202</td>\n",
       "      <td id=\"T_4c715_row4_col7\" class=\"data row4 col7\" >0.377060</td>\n",
       "      <td id=\"T_4c715_row4_col8\" class=\"data row4 col8\" >1.091895</td>\n",
       "      <td id=\"T_4c715_row4_col9\" class=\"data row4 col9\" >0.011804</td>\n",
       "      <td id=\"T_4c715_row4_col10\" class=\"data row4 col10\" >0.184814</td>\n",
       "    </tr>\n",
       "    <tr>\n",
       "      <th id=\"T_4c715_level0_row5\" class=\"row_heading level0 row5\" >PID</th>\n",
       "      <td id=\"T_4c715_row5_col0\" class=\"data row5 col0\" >-220.493296</td>\n",
       "      <td id=\"T_4c715_row5_col1\" class=\"data row5 col1\" >-0.318732</td>\n",
       "      <td id=\"T_4c715_row5_col2\" class=\"data row5 col2\" >2.022754</td>\n",
       "      <td id=\"T_4c715_row5_col3\" class=\"data row5 col3\" >-1.256624</td>\n",
       "      <td id=\"T_4c715_row5_col4\" class=\"data row5 col4\" >0.138617</td>\n",
       "      <td id=\"T_4c715_row5_col5\" class=\"data row5 col5\" >5.168061</td>\n",
       "      <td id=\"T_4c715_row5_col6\" class=\"data row5 col6\" >0.299545</td>\n",
       "      <td id=\"T_4c715_row5_col7\" class=\"data row5 col7\" >0.376761</td>\n",
       "      <td id=\"T_4c715_row5_col8\" class=\"data row5 col8\" >2.838180</td>\n",
       "      <td id=\"T_4c715_row5_col9\" class=\"data row5 col9\" >0.893988</td>\n",
       "      <td id=\"T_4c715_row5_col10\" class=\"data row5 col10\" >-1.224058</td>\n",
       "    </tr>\n",
       "    <tr>\n",
       "      <th id=\"T_4c715_level0_row6\" class=\"row_heading level0 row6\" >age</th>\n",
       "      <td id=\"T_4c715_row6_col0\" class=\"data row6 col0\" >-777.326231</td>\n",
       "      <td id=\"T_4c715_row6_col1\" class=\"data row6 col1\" >17.973661</td>\n",
       "      <td id=\"T_4c715_row6_col2\" class=\"data row6 col2\" >2.236125</td>\n",
       "      <td id=\"T_4c715_row6_col3\" class=\"data row6 col3\" >-0.739686</td>\n",
       "      <td id=\"T_4c715_row6_col4\" class=\"data row6 col4\" >-0.562202</td>\n",
       "      <td id=\"T_4c715_row6_col5\" class=\"data row6 col5\" >0.299545</td>\n",
       "      <td id=\"T_4c715_row6_col6\" class=\"data row6 col6\" >269.719215</td>\n",
       "      <td id=\"T_4c715_row6_col7\" class=\"data row6 col7\" >-4.171997</td>\n",
       "      <td id=\"T_4c715_row6_col8\" class=\"data row6 col8\" >-7.702645</td>\n",
       "      <td id=\"T_4c715_row6_col9\" class=\"data row6 col9\" >0.434710</td>\n",
       "      <td id=\"T_4c715_row6_col10\" class=\"data row6 col10\" >-1.211701</td>\n",
       "    </tr>\n",
       "    <tr>\n",
       "      <th id=\"T_4c715_level0_row7\" class=\"row_heading level0 row7\" >educ</th>\n",
       "      <td id=\"T_4c715_row7_col0\" class=\"data row7 col0\" >-6.699517</td>\n",
       "      <td id=\"T_4c715_row7_col1\" class=\"data row7 col1\" >-0.248803</td>\n",
       "      <td id=\"T_4c715_row7_col2\" class=\"data row7 col2\" >-0.243545</td>\n",
       "      <td id=\"T_4c715_row7_col3\" class=\"data row7 col3\" >-0.456794</td>\n",
       "      <td id=\"T_4c715_row7_col4\" class=\"data row7 col4\" >0.377060</td>\n",
       "      <td id=\"T_4c715_row7_col5\" class=\"data row7 col5\" >0.376761</td>\n",
       "      <td id=\"T_4c715_row7_col6\" class=\"data row7 col6\" >-4.171997</td>\n",
       "      <td id=\"T_4c715_row7_col7\" class=\"data row7 col7\" >2.557718</td>\n",
       "      <td id=\"T_4c715_row7_col8\" class=\"data row7 col8\" >3.561975</td>\n",
       "      <td id=\"T_4c715_row7_col9\" class=\"data row7 col9\" >0.067538</td>\n",
       "      <td id=\"T_4c715_row7_col10\" class=\"data row7 col10\" >-0.079417</td>\n",
       "    </tr>\n",
       "    <tr>\n",
       "      <th id=\"T_4c715_level0_row8\" class=\"row_heading level0 row8\" >income</th>\n",
       "      <td id=\"T_4c715_row8_col0\" class=\"data row8 col0\" >-116.488191</td>\n",
       "      <td id=\"T_4c715_row8_col1\" class=\"data row8 col1\" >-1.000835</td>\n",
       "      <td id=\"T_4c715_row8_col2\" class=\"data row8 col2\" >0.295025</td>\n",
       "      <td id=\"T_4c715_row8_col3\" class=\"data row8 col3\" >-1.861188</td>\n",
       "      <td id=\"T_4c715_row8_col4\" class=\"data row8 col4\" >1.091895</td>\n",
       "      <td id=\"T_4c715_row8_col5\" class=\"data row8 col5\" >2.838180</td>\n",
       "      <td id=\"T_4c715_row8_col6\" class=\"data row8 col6\" >-7.702645</td>\n",
       "      <td id=\"T_4c715_row8_col7\" class=\"data row8 col7\" >3.561975</td>\n",
       "      <td id=\"T_4c715_row8_col8\" class=\"data row8 col8\" >35.698006</td>\n",
       "      <td id=\"T_4c715_row8_col9\" class=\"data row8 col9\" >0.560651</td>\n",
       "      <td id=\"T_4c715_row8_col10\" class=\"data row8 col10\" >-1.618909</td>\n",
       "    </tr>\n",
       "    <tr>\n",
       "      <th id=\"T_4c715_level0_row9\" class=\"row_heading level0 row9\" >vote</th>\n",
       "      <td id=\"T_4c715_row9_col0\" class=\"data row9 col0\" >-39.013651</td>\n",
       "      <td id=\"T_4c715_row9_col1\" class=\"data row9 col1\" >-0.019096</td>\n",
       "      <td id=\"T_4c715_row9_col2\" class=\"data row9 col2\" >0.413777</td>\n",
       "      <td id=\"T_4c715_row9_col3\" class=\"data row9 col3\" >-0.318420</td>\n",
       "      <td id=\"T_4c715_row9_col4\" class=\"data row9 col4\" >0.011804</td>\n",
       "      <td id=\"T_4c715_row9_col5\" class=\"data row9 col5\" >0.893988</td>\n",
       "      <td id=\"T_4c715_row9_col6\" class=\"data row9 col6\" >0.434710</td>\n",
       "      <td id=\"T_4c715_row9_col7\" class=\"data row9 col7\" >0.067538</td>\n",
       "      <td id=\"T_4c715_row9_col8\" class=\"data row9 col8\" >0.560651</td>\n",
       "      <td id=\"T_4c715_row9_col9\" class=\"data row9 col9\" >0.243254</td>\n",
       "      <td id=\"T_4c715_row9_col10\" class=\"data row9 col10\" >-0.270326</td>\n",
       "    </tr>\n",
       "    <tr>\n",
       "      <th id=\"T_4c715_level0_row10\" class=\"row_heading level0 row10\" >logpopul</th>\n",
       "      <td id=\"T_4c715_row10_col0\" class=\"data row10 col0\" >1603.573237</td>\n",
       "      <td id=\"T_4c715_row10_col1\" class=\"data row10 col1\" >-0.013524</td>\n",
       "      <td id=\"T_4c715_row10_col2\" class=\"data row10 col2\" >-0.534240</td>\n",
       "      <td id=\"T_4c715_row10_col3\" class=\"data row10 col3\" >0.491234</td>\n",
       "      <td id=\"T_4c715_row10_col4\" class=\"data row10 col4\" >0.184814</td>\n",
       "      <td id=\"T_4c715_row10_col5\" class=\"data row10 col5\" >-1.224058</td>\n",
       "      <td id=\"T_4c715_row10_col6\" class=\"data row10 col6\" >-1.211701</td>\n",
       "      <td id=\"T_4c715_row10_col7\" class=\"data row10 col7\" >-0.079417</td>\n",
       "      <td id=\"T_4c715_row10_col8\" class=\"data row10 col8\" >-1.618909</td>\n",
       "      <td id=\"T_4c715_row10_col9\" class=\"data row10 col9\" >-0.270326</td>\n",
       "      <td id=\"T_4c715_row10_col10\" class=\"data row10 col10\" >10.157246</td>\n",
       "    </tr>\n",
       "  </tbody>\n",
       "</table>\n"
      ],
      "text/plain": [
       "<pandas.io.formats.style.Styler at 0x7f9973d757f0>"
      ]
     },
     "execution_count": 14,
     "metadata": {},
     "output_type": "execute_result"
    }
   ],
   "source": [
    "df_cov = df.cov()\n",
    "df_cov.style.background_gradient(cmap='OrRd')"
   ]
  },
  {
   "cell_type": "code",
   "execution_count": 15,
   "id": "HAVy5k2_lxt-",
   "metadata": {
    "colab": {
     "base_uri": "https://localhost:8080/",
     "height": 312
    },
    "id": "HAVy5k2_lxt-",
    "outputId": "4a8369ab-e048-42f0-e474-a146fddb8a0e"
   },
   "outputs": [
    {
     "data": {
      "text/plain": [
       "Text(0.5, 1.0, 'Number of Times per week Respondent watches TV News')"
      ]
     },
     "execution_count": 15,
     "metadata": {},
     "output_type": "execute_result"
    },
    {
     "data": {
      "image/png": "[encoded data removed]",
      "text/plain": [
       "<Figure size 1296x288 with 3 Axes>"
      ]
     },
     "metadata": {
      "needs_background": "light"
     },
     "output_type": "display_data"
    }
   ],
   "source": [
    "plt.figure(figsize=(18,4))\n",
    "\n",
    "plt.subplot(131)\n",
    "sns.countplot(data = df, x='educ')\n",
    "plt.title(\"Education level of the Respondent\", fontweight='bold')\n",
    "\n",
    "plt.subplot(132)\n",
    "sns.countplot(data = df, x='vote')\n",
    "plt.title(\" Total Votes per Candidate\", fontweight='bold')\n",
    "\n",
    "plt.subplot(133)\n",
    "sns.countplot(data = df, x='TVnews')\n",
    "plt.title(\"Number of Times per week Respondent watches TV News\", fontweight='bold')\n"
   ]
  },
  {
   "cell_type": "code",
   "execution_count": 16,
   "id": "c1a9ac9a",
   "metadata": {
    "colab": {
     "base_uri": "https://localhost:8080/",
     "height": 206
    },
    "id": "c1a9ac9a",
    "outputId": "b19b1ed8-9b2d-4747-a2d6-c75496031141"
   },
   "outputs": [
    {
     "data": {
      "text/html": [
       "<div>\n",
       "<style scoped>\n",
       "    .dataframe tbody tr th:only-of-type {\n",
       "        vertical-align: middle;\n",
       "    }\n",
       "\n",
       "    .dataframe tbody tr th {\n",
       "        vertical-align: top;\n",
       "    }\n",
       "\n",
       "    .dataframe thead th {\n",
       "        text-align: right;\n",
       "    }\n",
       "</style>\n",
       "<table border=\"1\" class=\"dataframe\">\n",
       "  <thead>\n",
       "    <tr style=\"text-align: right;\">\n",
       "      <th></th>\n",
       "      <th>popul</th>\n",
       "      <th>TVnews</th>\n",
       "      <th>selfLR</th>\n",
       "      <th>ClinLR</th>\n",
       "      <th>DoleLR</th>\n",
       "      <th>PID</th>\n",
       "      <th>age</th>\n",
       "      <th>educ</th>\n",
       "      <th>income</th>\n",
       "      <th>vote</th>\n",
       "      <th>logpopul</th>\n",
       "      <th>voted_clinton</th>\n",
       "      <th>voted_dole</th>\n",
       "    </tr>\n",
       "  </thead>\n",
       "  <tbody>\n",
       "    <tr>\n",
       "      <th>0</th>\n",
       "      <td>0.0</td>\n",
       "      <td>7.0</td>\n",
       "      <td>7.0</td>\n",
       "      <td>1.0</td>\n",
       "      <td>6.0</td>\n",
       "      <td>6.0</td>\n",
       "      <td>36.0</td>\n",
       "      <td>3.0</td>\n",
       "      <td>1.0</td>\n",
       "      <td>1.0</td>\n",
       "      <td>-2.302585</td>\n",
       "      <td>False</td>\n",
       "      <td>True</td>\n",
       "    </tr>\n",
       "    <tr>\n",
       "      <th>1</th>\n",
       "      <td>190.0</td>\n",
       "      <td>1.0</td>\n",
       "      <td>3.0</td>\n",
       "      <td>3.0</td>\n",
       "      <td>5.0</td>\n",
       "      <td>1.0</td>\n",
       "      <td>20.0</td>\n",
       "      <td>4.0</td>\n",
       "      <td>1.0</td>\n",
       "      <td>0.0</td>\n",
       "      <td>5.247550</td>\n",
       "      <td>True</td>\n",
       "      <td>False</td>\n",
       "    </tr>\n",
       "    <tr>\n",
       "      <th>2</th>\n",
       "      <td>31.0</td>\n",
       "      <td>7.0</td>\n",
       "      <td>2.0</td>\n",
       "      <td>2.0</td>\n",
       "      <td>6.0</td>\n",
       "      <td>1.0</td>\n",
       "      <td>24.0</td>\n",
       "      <td>6.0</td>\n",
       "      <td>1.0</td>\n",
       "      <td>0.0</td>\n",
       "      <td>3.437208</td>\n",
       "      <td>True</td>\n",
       "      <td>False</td>\n",
       "    </tr>\n",
       "    <tr>\n",
       "      <th>3</th>\n",
       "      <td>83.0</td>\n",
       "      <td>4.0</td>\n",
       "      <td>3.0</td>\n",
       "      <td>4.0</td>\n",
       "      <td>5.0</td>\n",
       "      <td>1.0</td>\n",
       "      <td>28.0</td>\n",
       "      <td>6.0</td>\n",
       "      <td>1.0</td>\n",
       "      <td>0.0</td>\n",
       "      <td>4.420045</td>\n",
       "      <td>True</td>\n",
       "      <td>False</td>\n",
       "    </tr>\n",
       "    <tr>\n",
       "      <th>4</th>\n",
       "      <td>640.0</td>\n",
       "      <td>7.0</td>\n",
       "      <td>5.0</td>\n",
       "      <td>6.0</td>\n",
       "      <td>4.0</td>\n",
       "      <td>0.0</td>\n",
       "      <td>68.0</td>\n",
       "      <td>6.0</td>\n",
       "      <td>1.0</td>\n",
       "      <td>0.0</td>\n",
       "      <td>6.461624</td>\n",
       "      <td>True</td>\n",
       "      <td>False</td>\n",
       "    </tr>\n",
       "  </tbody>\n",
       "</table>\n",
       "</div>"
      ],
      "text/plain": [
       "   popul  TVnews  selfLR  ClinLR  DoleLR  PID   age  educ  income  vote  \\\n",
       "0    0.0     7.0     7.0     1.0     6.0  6.0  36.0   3.0     1.0   1.0   \n",
       "1  190.0     1.0     3.0     3.0     5.0  1.0  20.0   4.0     1.0   0.0   \n",
       "2   31.0     7.0     2.0     2.0     6.0  1.0  24.0   6.0     1.0   0.0   \n",
       "3   83.0     4.0     3.0     4.0     5.0  1.0  28.0   6.0     1.0   0.0   \n",
       "4  640.0     7.0     5.0     6.0     4.0  0.0  68.0   6.0     1.0   0.0   \n",
       "\n",
       "   logpopul  voted_clinton  voted_dole  \n",
       "0 -2.302585          False        True  \n",
       "1  5.247550           True       False  \n",
       "2  3.437208           True       False  \n",
       "3  4.420045           True       False  \n",
       "4  6.461624           True       False  "
      ]
     },
     "execution_count": 16,
     "metadata": {},
     "output_type": "execute_result"
    }
   ],
   "source": [
    "df = df.assign(voted_clinton=(df.vote == 0), voted_dole=(df.vote == 1))\n",
    "df.head()"
   ]
  },
  {
   "cell_type": "code",
   "execution_count": 17,
   "id": "h4xusoyyiBTM",
   "metadata": {
    "colab": {
     "base_uri": "https://localhost:8080/"
    },
    "id": "h4xusoyyiBTM",
    "outputId": "610a2342-0ea9-4678-bfc8-c5226b3f0fc4"
   },
   "outputs": [
    {
     "name": "stdout",
     "output_type": "stream",
     "text": [
      "Population data per candidate:\n",
      "      vote   popul  Count\n",
      "0     0.0     0.0    103\n",
      "1     0.0     1.0     11\n",
      "2     0.0     2.0     15\n",
      "3     0.0     3.0     12\n",
      "4     0.0     4.0      9\n",
      "..    ...     ...    ...\n",
      "163   1.0   900.0      4\n",
      "164   1.0  1600.0      4\n",
      "165   1.0  2800.0      3\n",
      "166   1.0  3500.0      2\n",
      "167   1.0  7300.0      5\n",
      "\n",
      "[168 rows x 3 columns]\n"
     ]
    }
   ],
   "source": [
    "## Use hypothesis testing methods find which ones of these have an affect on people's votes (0: Clinton, 1:Dole)\n",
    "\n",
    "# a. Population\n",
    "## Null hypothesis --- Population has no affect on people's vote.\n",
    "population = df.groupby(['vote','popul']).size().reset_index(name='Count')\n",
    "print('Population data per candidate:\\n', population)"
   ]
  },
  {
   "cell_type": "code",
   "execution_count": 18,
   "id": "l80SkvEprodL",
   "metadata": {
    "colab": {
     "base_uri": "https://localhost:8080/"
    },
    "id": "l80SkvEprodL",
    "outputId": "fcf24081-08fd-41c2-c794-017d6507fb76"
   },
   "outputs": [
    {
     "name": "stdout",
     "output_type": "stream",
     "text": [
      "Chi square test :  0.0 \n",
      "\n"
     ]
    }
   ],
   "source": [
    "chi2_stat, p_val, dof, ex = stats.chi2_contingency(population)\n",
    "print(\"Chi square test : \",p_val,'\\n')"
   ]
  },
  {
   "cell_type": "markdown",
   "id": "VMeSeKGl1goY",
   "metadata": {
    "id": "VMeSeKGl1goY"
   },
   "source": [
    "The \"P-value\" is less than 0.05 for  **\"Chi square test\"** , so we have to reject the null-hypothesis according to these tests. That means population **has a significant affect** on people's vote.\n"
   ]
  },
  {
   "cell_type": "code",
   "execution_count": 19,
   "id": "e92265a0",
   "metadata": {
    "colab": {
     "base_uri": "https://localhost:8080/"
    },
    "id": "e92265a0",
    "outputId": "80d4acf4-7cff-43ba-85d5-6f3c0e223988"
   },
   "outputs": [
    {
     "name": "stdout",
     "output_type": "stream",
     "text": [
      "TV_news data per candidate :\n",
      "     vote  TVnews  Count\n",
      "0    0.0     0.0     94\n",
      "1    0.0     1.0     54\n",
      "2    0.0     2.0     59\n",
      "3    0.0     3.0     70\n",
      "4    0.0     4.0     37\n",
      "5    0.0     5.0     52\n",
      "6    0.0     6.0     13\n",
      "7    0.0     7.0    172\n",
      "8    1.0     0.0     67\n",
      "9    1.0     1.0     46\n",
      "10   1.0     2.0     53\n",
      "11   1.0     3.0     31\n",
      "12   1.0     4.0     29\n",
      "13   1.0     5.0     32\n",
      "14   1.0     6.0     19\n",
      "15   1.0     7.0    116\n"
     ]
    }
   ],
   "source": [
    "# b. TVnews\n",
    "## Null hypothesis --- TVnews has no significant affect on people's vote.\n",
    "tv_news = df.groupby(['vote','TVnews']).size().reset_index(name='Count')\n",
    "print('TV_news data per candidate :\\n',tv_news)"
   ]
  },
  {
   "cell_type": "code",
   "execution_count": 20,
   "id": "fuCk0ZvHu3IG",
   "metadata": {
    "colab": {
     "base_uri": "https://localhost:8080/"
    },
    "id": "fuCk0ZvHu3IG",
    "outputId": "8f1399b3-09fa-4e67-aabd-56aea4dec77b"
   },
   "outputs": [
    {
     "name": "stdout",
     "output_type": "stream",
     "text": [
      "Chi square test :  2.1561275761316735e-06 \n",
      "\n"
     ]
    }
   ],
   "source": [
    "chi2_stat, p_val, dof, ex = stats.chi2_contingency(tv_news)\n",
    "print(\"Chi square test : \",p_val,'\\n')"
   ]
  },
  {
   "cell_type": "markdown",
   "id": "X6HA_vuV3AVI",
   "metadata": {
    "id": "X6HA_vuV3AVI"
   },
   "source": [
    "The \"P-value\" is less than 0.05 for **\"Chi square test\"** so we have to reject the null hypothesis. That means TV_news **does have a significant affect** on votes.\n",
    "\n"
   ]
  },
  {
   "cell_type": "code",
   "execution_count": 21,
   "id": "xTqr4fgbFwnZ",
   "metadata": {
    "colab": {
     "base_uri": "https://localhost:8080/"
    },
    "id": "xTqr4fgbFwnZ",
    "outputId": "2ec22028-45b5-489e-e292-11b8dfc38649"
   },
   "outputs": [
    {
     "name": "stdout",
     "output_type": "stream",
     "text": [
      "Ages data per Candidate : \n",
      "       age  vote  Count\n",
      "0    19.0   0.0      2\n",
      "1    19.0   1.0      1\n",
      "2    20.0   0.0      3\n",
      "3    20.0   1.0      3\n",
      "4    21.0   0.0     10\n",
      "..    ...   ...    ...\n",
      "132  87.0   1.0      3\n",
      "133  88.0   0.0      3\n",
      "134  88.0   1.0      2\n",
      "135  89.0   1.0      1\n",
      "136  91.0   0.0      2\n",
      "\n",
      "[137 rows x 3 columns]\n"
     ]
    }
   ],
   "source": [
    "# c. Age\n",
    "## Null hypothesis --- Age has no affect on people's vote.\n",
    "\n",
    "ages = df.groupby(['age','vote'])[['vote']].size().reset_index(name='Count')\n",
    "print('Ages data per Candidate : \\n', ages)"
   ]
  },
  {
   "cell_type": "code",
   "execution_count": 22,
   "id": "nuzxaFzoGe3Q",
   "metadata": {
    "colab": {
     "base_uri": "https://localhost:8080/"
    },
    "id": "nuzxaFzoGe3Q",
    "outputId": "cd6c2fd3-f9e6-4327-99d9-0e9a80d72406"
   },
   "outputs": [
    {
     "name": "stdout",
     "output_type": "stream",
     "text": [
      "Chi square test :  2.9207650794382065e-43 \n",
      "\n"
     ]
    }
   ],
   "source": [
    "chi2_stat, p_val, dof, ex = stats.chi2_contingency(ages)\n",
    "print(\"Chi square test : \",p_val,'\\n')"
   ]
  },
  {
   "cell_type": "markdown",
   "id": "I3CJEKlmBZlZ",
   "metadata": {
    "id": "I3CJEKlmBZlZ"
   },
   "source": [
    "The P-value is less than 0.05 for \"**Chi square test**\", that means we have to reject the null hypothesis. So Age of the voter **does affect the votes**.\n"
   ]
  },
  {
   "cell_type": "code",
   "execution_count": 23,
   "id": "6kM26LasJaMh",
   "metadata": {
    "colab": {
     "base_uri": "https://localhost:8080/"
    },
    "id": "6kM26LasJaMh",
    "outputId": "35974831-5458-416c-e079-9a02b6e18977"
   },
   "outputs": [
    {
     "name": "stdout",
     "output_type": "stream",
     "text": [
      "Education data per candidate:\n",
      "     vote  educ  Count\n",
      "0    0.0   1.0     10\n",
      "1    0.0   2.0     38\n",
      "2    0.0   3.0    153\n",
      "3    0.0   4.0    106\n",
      "4    0.0   5.0     53\n",
      "5    0.0   6.0    119\n",
      "6    0.0   7.0     72\n",
      "7    1.0   1.0      3\n",
      "8    1.0   2.0     14\n",
      "9    1.0   3.0     95\n",
      "10   1.0   4.0     81\n",
      "11   1.0   5.0     37\n",
      "12   1.0   6.0    108\n",
      "13   1.0   7.0     55\n"
     ]
    }
   ],
   "source": [
    "#d. Education\n",
    "## Null hypothesis --- Education has no affect on people's vote.\n",
    "\n",
    "educ = df.groupby(['vote','educ'])[['vote']].size().reset_index(name='Count')\n",
    "print('Education data per candidate:\\n', educ)"
   ]
  },
  {
   "cell_type": "code",
   "execution_count": 24,
   "id": "XyXE8cXpNycq",
   "metadata": {
    "colab": {
     "base_uri": "https://localhost:8080/"
    },
    "id": "XyXE8cXpNycq",
    "outputId": "a8f5112c-5e66-4b0a-b64e-5e68f890d203"
   },
   "outputs": [
    {
     "name": "stdout",
     "output_type": "stream",
     "text": [
      "Chi square test :  0.00015457551497967468 \n",
      "\n"
     ]
    }
   ],
   "source": [
    "chi2_stat, p_val, dof, ex = stats.chi2_contingency(educ)\n",
    "print(\"Chi square test : \",p_val,'\\n')"
   ]
  },
  {
   "cell_type": "markdown",
   "id": "T_2I9aEoAP1k",
   "metadata": {
    "id": "T_2I9aEoAP1k"
   },
   "source": [
    "The P-value is less than 0.0.5 for **\"Chi square test\"**, that means we have to reject the null hypothesis. So Education **has an affect** on the votes.\n"
   ]
  },
  {
   "cell_type": "code",
   "execution_count": 25,
   "id": "1c1lhlSLOltl",
   "metadata": {
    "colab": {
     "base_uri": "https://localhost:8080/"
    },
    "id": "1c1lhlSLOltl",
    "outputId": "b605eb25-c4d0-49b8-8f90-1e0fe9f0d110"
   },
   "outputs": [
    {
     "name": "stdout",
     "output_type": "stream",
     "text": [
      "Income of people voted per Candidate: \n",
      "     vote  income  Count\n",
      "0    0.0     1.0     16\n",
      "1    0.0     2.0     11\n",
      "2    0.0     3.0     13\n",
      "3    0.0     4.0     14\n",
      "4    0.0     5.0     13\n",
      "5    0.0     6.0      6\n",
      "6    0.0     7.0      8\n",
      "7    0.0     8.0     12\n",
      "8    0.0     9.0      7\n",
      "9    0.0    10.0     13\n",
      "10   0.0    11.0     16\n",
      "11   0.0    12.0     23\n",
      "12   0.0    13.0     16\n",
      "13   0.0    14.0     28\n",
      "14   0.0    15.0     43\n",
      "15   0.0    16.0     40\n",
      "16   0.0    17.0     33\n",
      "17   0.0    18.0     26\n",
      "18   0.0    19.0     32\n",
      "19   0.0    20.0     50\n",
      "20   0.0    21.0     51\n",
      "21   0.0    22.0     27\n",
      "22   0.0    23.0     20\n",
      "23   0.0    24.0     33\n",
      "24   1.0     1.0      3\n",
      "25   1.0     2.0      1\n",
      "26   1.0     3.0      4\n",
      "27   1.0     4.0      5\n",
      "28   1.0     5.0      5\n",
      "29   1.0     6.0      7\n",
      "30   1.0     7.0      3\n",
      "31   1.0     8.0      5\n",
      "32   1.0     9.0      3\n",
      "33   1.0    10.0      2\n",
      "34   1.0    11.0      7\n",
      "35   1.0    12.0     12\n",
      "36   1.0    13.0     10\n",
      "37   1.0    14.0     11\n",
      "38   1.0    15.0     25\n",
      "39   1.0    16.0     30\n",
      "40   1.0    17.0     29\n",
      "41   1.0    18.0     22\n",
      "42   1.0    19.0     19\n",
      "43   1.0    20.0     50\n",
      "44   1.0    21.0     52\n",
      "45   1.0    22.0     26\n",
      "46   1.0    23.0     27\n",
      "47   1.0    24.0     35\n"
     ]
    }
   ],
   "source": [
    "#e. Income\n",
    "## Null hypothesis --- Income has no affect on people's vote.\n",
    "\n",
    "income = df.groupby(['vote','income'])[['income']].size().reset_index(name='Count')\n",
    "print(\"Income of people voted per Candidate: \\n\",income)"
   ]
  },
  {
   "cell_type": "code",
   "execution_count": 26,
   "id": "DEfA7LGLPj5z",
   "metadata": {
    "colab": {
     "base_uri": "https://localhost:8080/"
    },
    "id": "DEfA7LGLPj5z",
    "outputId": "76a490be-4f26-4160-af40-7c66a9046cf9"
   },
   "outputs": [
    {
     "name": "stdout",
     "output_type": "stream",
     "text": [
      "Chi square test :  1.3666842794600438e-05 \n",
      "\n"
     ]
    }
   ],
   "source": [
    "chi2_stat, p_val, dof, ex = stats.chi2_contingency(income)\n",
    "print(\"Chi square test : \",p_val,'\\n')"
   ]
  },
  {
   "cell_type": "markdown",
   "id": "OwnlFL1-Dw2U",
   "metadata": {
    "id": "OwnlFL1-Dw2U"
   },
   "source": [
    "The P-value is less than 0.0.5 for  **\"Chi square test\"**, that means we have to reject the null hypothesis. So Education **does affect** the votes.\n"
   ]
  },
  {
   "cell_type": "markdown",
   "id": "EyYph3YysKhl",
   "metadata": {
    "id": "EyYph3YysKhl"
   },
   "source": [
    "##According to the **Chi-square test**, Population, TV_news, Education, Age and Income has had significant affect on the votes received by the candidates. \n",
    "\n"
   ]
  },
  {
   "cell_type": "markdown",
   "id": "2tz_0oo7mY1z",
   "metadata": {
    "id": "2tz_0oo7mY1z"
   },
   "source": [
    "## Chi-Square Test\n",
    "\n",
    "\n",
    "\n"
   ]
  },
  {
   "cell_type": "code",
   "execution_count": 27,
   "id": "c2a03379",
   "metadata": {
    "id": "c2a03379"
   },
   "outputs": [],
   "source": [
    "## Use Chi-square test of independence and answer the following quesion: \n",
    "## If we assume that people who make less than $50k a year are poor, can we say that poor people favor one candidate over another?"
   ]
  },
  {
   "cell_type": "markdown",
   "id": "P-1J-hWZBgEv",
   "metadata": {
    "id": "P-1J-hWZBgEv"
   },
   "source": [
    "The null-hypothesis is that \"there is no significant relation between poor people and their votes favoring one candidate over another\". \n"
   ]
  },
  {
   "cell_type": "code",
   "execution_count": 28,
   "id": "vB3-4bp5-8ZQ",
   "metadata": {
    "colab": {
     "base_uri": "https://localhost:8080/",
     "height": 223
    },
    "id": "vB3-4bp5-8ZQ",
    "outputId": "2f787190-6a1c-4e3c-a296-5f34fe17d68a"
   },
   "outputs": [
    {
     "name": "stdout",
     "output_type": "stream",
     "text": [
      "(573, 13)\n"
     ]
    },
    {
     "data": {
      "text/html": [
       "<div>\n",
       "<style scoped>\n",
       "    .dataframe tbody tr th:only-of-type {\n",
       "        vertical-align: middle;\n",
       "    }\n",
       "\n",
       "    .dataframe tbody tr th {\n",
       "        vertical-align: top;\n",
       "    }\n",
       "\n",
       "    .dataframe thead th {\n",
       "        text-align: right;\n",
       "    }\n",
       "</style>\n",
       "<table border=\"1\" class=\"dataframe\">\n",
       "  <thead>\n",
       "    <tr style=\"text-align: right;\">\n",
       "      <th></th>\n",
       "      <th>popul</th>\n",
       "      <th>TVnews</th>\n",
       "      <th>selfLR</th>\n",
       "      <th>ClinLR</th>\n",
       "      <th>DoleLR</th>\n",
       "      <th>PID</th>\n",
       "      <th>age</th>\n",
       "      <th>educ</th>\n",
       "      <th>income</th>\n",
       "      <th>vote</th>\n",
       "      <th>logpopul</th>\n",
       "      <th>voted_clinton</th>\n",
       "      <th>voted_dole</th>\n",
       "    </tr>\n",
       "  </thead>\n",
       "  <tbody>\n",
       "    <tr>\n",
       "      <th>0</th>\n",
       "      <td>0.0</td>\n",
       "      <td>7.0</td>\n",
       "      <td>7.0</td>\n",
       "      <td>1.0</td>\n",
       "      <td>6.0</td>\n",
       "      <td>6.0</td>\n",
       "      <td>36.0</td>\n",
       "      <td>3.0</td>\n",
       "      <td>1.0</td>\n",
       "      <td>1.0</td>\n",
       "      <td>-2.302585</td>\n",
       "      <td>False</td>\n",
       "      <td>True</td>\n",
       "    </tr>\n",
       "    <tr>\n",
       "      <th>1</th>\n",
       "      <td>190.0</td>\n",
       "      <td>1.0</td>\n",
       "      <td>3.0</td>\n",
       "      <td>3.0</td>\n",
       "      <td>5.0</td>\n",
       "      <td>1.0</td>\n",
       "      <td>20.0</td>\n",
       "      <td>4.0</td>\n",
       "      <td>1.0</td>\n",
       "      <td>0.0</td>\n",
       "      <td>5.247550</td>\n",
       "      <td>True</td>\n",
       "      <td>False</td>\n",
       "    </tr>\n",
       "    <tr>\n",
       "      <th>2</th>\n",
       "      <td>31.0</td>\n",
       "      <td>7.0</td>\n",
       "      <td>2.0</td>\n",
       "      <td>2.0</td>\n",
       "      <td>6.0</td>\n",
       "      <td>1.0</td>\n",
       "      <td>24.0</td>\n",
       "      <td>6.0</td>\n",
       "      <td>1.0</td>\n",
       "      <td>0.0</td>\n",
       "      <td>3.437208</td>\n",
       "      <td>True</td>\n",
       "      <td>False</td>\n",
       "    </tr>\n",
       "    <tr>\n",
       "      <th>3</th>\n",
       "      <td>83.0</td>\n",
       "      <td>4.0</td>\n",
       "      <td>3.0</td>\n",
       "      <td>4.0</td>\n",
       "      <td>5.0</td>\n",
       "      <td>1.0</td>\n",
       "      <td>28.0</td>\n",
       "      <td>6.0</td>\n",
       "      <td>1.0</td>\n",
       "      <td>0.0</td>\n",
       "      <td>4.420045</td>\n",
       "      <td>True</td>\n",
       "      <td>False</td>\n",
       "    </tr>\n",
       "    <tr>\n",
       "      <th>4</th>\n",
       "      <td>640.0</td>\n",
       "      <td>7.0</td>\n",
       "      <td>5.0</td>\n",
       "      <td>6.0</td>\n",
       "      <td>4.0</td>\n",
       "      <td>0.0</td>\n",
       "      <td>68.0</td>\n",
       "      <td>6.0</td>\n",
       "      <td>1.0</td>\n",
       "      <td>0.0</td>\n",
       "      <td>6.461624</td>\n",
       "      <td>True</td>\n",
       "      <td>False</td>\n",
       "    </tr>\n",
       "  </tbody>\n",
       "</table>\n",
       "</div>"
      ],
      "text/plain": [
       "   popul  TVnews  selfLR  ClinLR  DoleLR  PID   age  educ  income  vote  \\\n",
       "0    0.0     7.0     7.0     1.0     6.0  6.0  36.0   3.0     1.0   1.0   \n",
       "1  190.0     1.0     3.0     3.0     5.0  1.0  20.0   4.0     1.0   0.0   \n",
       "2   31.0     7.0     2.0     2.0     6.0  1.0  24.0   6.0     1.0   0.0   \n",
       "3   83.0     4.0     3.0     4.0     5.0  1.0  28.0   6.0     1.0   0.0   \n",
       "4  640.0     7.0     5.0     6.0     4.0  0.0  68.0   6.0     1.0   0.0   \n",
       "\n",
       "   logpopul  voted_clinton  voted_dole  \n",
       "0 -2.302585          False        True  \n",
       "1  5.247550           True       False  \n",
       "2  3.437208           True       False  \n",
       "3  4.420045           True       False  \n",
       "4  6.461624           True       False  "
      ]
     },
     "execution_count": 28,
     "metadata": {},
     "output_type": "execute_result"
    }
   ],
   "source": [
    "poor_df = df[df['income']<=19]\n",
    "print(poor_df.shape)\n",
    "poor_df.head()"
   ]
  },
  {
   "cell_type": "code",
   "execution_count": 29,
   "id": "PXjYLMSu_cD6",
   "metadata": {
    "colab": {
     "base_uri": "https://localhost:8080/",
     "height": 676
    },
    "id": "PXjYLMSu_cD6",
    "outputId": "b43e2cb7-45d2-42b8-b99e-931aab2ff2f1"
   },
   "outputs": [
    {
     "data": {
      "text/html": [
       "<div>\n",
       "<style scoped>\n",
       "    .dataframe tbody tr th:only-of-type {\n",
       "        vertical-align: middle;\n",
       "    }\n",
       "\n",
       "    .dataframe tbody tr th {\n",
       "        vertical-align: top;\n",
       "    }\n",
       "\n",
       "    .dataframe thead th {\n",
       "        text-align: right;\n",
       "    }\n",
       "</style>\n",
       "<table border=\"1\" class=\"dataframe\">\n",
       "  <thead>\n",
       "    <tr style=\"text-align: right;\">\n",
       "      <th>vote</th>\n",
       "      <th>0.0</th>\n",
       "      <th>1.0</th>\n",
       "    </tr>\n",
       "    <tr>\n",
       "      <th>income</th>\n",
       "      <th></th>\n",
       "      <th></th>\n",
       "    </tr>\n",
       "  </thead>\n",
       "  <tbody>\n",
       "    <tr>\n",
       "      <th>1.0</th>\n",
       "      <td>16</td>\n",
       "      <td>3</td>\n",
       "    </tr>\n",
       "    <tr>\n",
       "      <th>2.0</th>\n",
       "      <td>11</td>\n",
       "      <td>1</td>\n",
       "    </tr>\n",
       "    <tr>\n",
       "      <th>3.0</th>\n",
       "      <td>13</td>\n",
       "      <td>4</td>\n",
       "    </tr>\n",
       "    <tr>\n",
       "      <th>4.0</th>\n",
       "      <td>14</td>\n",
       "      <td>5</td>\n",
       "    </tr>\n",
       "    <tr>\n",
       "      <th>5.0</th>\n",
       "      <td>13</td>\n",
       "      <td>5</td>\n",
       "    </tr>\n",
       "    <tr>\n",
       "      <th>6.0</th>\n",
       "      <td>6</td>\n",
       "      <td>7</td>\n",
       "    </tr>\n",
       "    <tr>\n",
       "      <th>7.0</th>\n",
       "      <td>8</td>\n",
       "      <td>3</td>\n",
       "    </tr>\n",
       "    <tr>\n",
       "      <th>8.0</th>\n",
       "      <td>12</td>\n",
       "      <td>5</td>\n",
       "    </tr>\n",
       "    <tr>\n",
       "      <th>9.0</th>\n",
       "      <td>7</td>\n",
       "      <td>3</td>\n",
       "    </tr>\n",
       "    <tr>\n",
       "      <th>10.0</th>\n",
       "      <td>13</td>\n",
       "      <td>2</td>\n",
       "    </tr>\n",
       "    <tr>\n",
       "      <th>11.0</th>\n",
       "      <td>16</td>\n",
       "      <td>7</td>\n",
       "    </tr>\n",
       "    <tr>\n",
       "      <th>12.0</th>\n",
       "      <td>23</td>\n",
       "      <td>12</td>\n",
       "    </tr>\n",
       "    <tr>\n",
       "      <th>13.0</th>\n",
       "      <td>16</td>\n",
       "      <td>10</td>\n",
       "    </tr>\n",
       "    <tr>\n",
       "      <th>14.0</th>\n",
       "      <td>28</td>\n",
       "      <td>11</td>\n",
       "    </tr>\n",
       "    <tr>\n",
       "      <th>15.0</th>\n",
       "      <td>43</td>\n",
       "      <td>25</td>\n",
       "    </tr>\n",
       "    <tr>\n",
       "      <th>16.0</th>\n",
       "      <td>40</td>\n",
       "      <td>30</td>\n",
       "    </tr>\n",
       "    <tr>\n",
       "      <th>17.0</th>\n",
       "      <td>33</td>\n",
       "      <td>29</td>\n",
       "    </tr>\n",
       "    <tr>\n",
       "      <th>18.0</th>\n",
       "      <td>26</td>\n",
       "      <td>22</td>\n",
       "    </tr>\n",
       "    <tr>\n",
       "      <th>19.0</th>\n",
       "      <td>32</td>\n",
       "      <td>19</td>\n",
       "    </tr>\n",
       "  </tbody>\n",
       "</table>\n",
       "</div>"
      ],
      "text/plain": [
       "vote    0.0  1.0\n",
       "income          \n",
       "1.0      16    3\n",
       "2.0      11    1\n",
       "3.0      13    4\n",
       "4.0      14    5\n",
       "5.0      13    5\n",
       "6.0       6    7\n",
       "7.0       8    3\n",
       "8.0      12    5\n",
       "9.0       7    3\n",
       "10.0     13    2\n",
       "11.0     16    7\n",
       "12.0     23   12\n",
       "13.0     16   10\n",
       "14.0     28   11\n",
       "15.0     43   25\n",
       "16.0     40   30\n",
       "17.0     33   29\n",
       "18.0     26   22\n",
       "19.0     32   19"
      ]
     },
     "execution_count": 29,
     "metadata": {},
     "output_type": "execute_result"
    }
   ],
   "source": [
    "poor_fav = pd.pivot_table(poor_df,index=['income'],columns=['vote'],aggfunc= 'size')\n",
    "poor_fav"
   ]
  },
  {
   "cell_type": "code",
   "execution_count": 30,
   "id": "2ut0UDzT-8b5",
   "metadata": {
    "colab": {
     "base_uri": "https://localhost:8080/"
    },
    "id": "2ut0UDzT-8b5",
    "outputId": "de6f351d-b90d-41da-c009-d4097967db24"
   },
   "outputs": [
    {
     "name": "stdout",
     "output_type": "stream",
     "text": [
      "Chi square value :  23.944293502917763\n",
      "P value :  0.1568613033702197\n",
      "Degrees of Freedom: 18\n"
     ]
    }
   ],
   "source": [
    "chi2_stat, p_val, dof, ex = stats.chi2_contingency(poor_fav, correction=False)\n",
    "\n",
    "print(\"Chi square value : \",chi2_stat)\n",
    "print(\"P value : \",p_val)\n",
    "print(\"Degrees of Freedom:\",dof)"
   ]
  },
  {
   "cell_type": "markdown",
   "id": "ncr6VL-hCmkF",
   "metadata": {
    "id": "ncr6VL-hCmkF"
   },
   "source": [
    "### Since the \"P-value\" is greater than 0.05 we have to accept the null-hypothesis. Therefore we can say that poor people does not favor one candidate over the other."
   ]
  },
  {
   "cell_type": "code",
   "execution_count": 31,
   "id": "2Z8RlvC3czHf",
   "metadata": {
    "colab": {
     "base_uri": "https://localhost:8080/",
     "height": 405
    },
    "id": "2Z8RlvC3czHf",
    "outputId": "6d4cdf2e-34d5-442d-c064-2f9f31849b1b"
   },
   "outputs": [
    {
     "data": {
      "text/plain": [
       "<AxesSubplot:xlabel='income', ylabel='count'>"
      ]
     },
     "execution_count": 31,
     "metadata": {},
     "output_type": "execute_result"
    },
    {
     "data": {
      "image/png": "[encoded data removed]",
      "text/plain": [
       "<Figure size 720x432 with 1 Axes>"
      ]
     },
     "metadata": {
      "needs_background": "light"
     },
     "output_type": "display_data"
    }
   ],
   "source": [
    "plt.figure(figsize=(10,6))\n",
    "sns.set_style(\"whitegrid\")\n",
    "sns.countplot(data=poor_df,x='income', hue='vote', saturation=0.9)"
   ]
  },
  {
   "cell_type": "markdown",
   "id": "Hr0VZoKShwi6",
   "metadata": {
    "id": "Hr0VZoKShwi6"
   },
   "source": [
    "## Fisher's Exact Test"
   ]
  },
  {
   "cell_type": "code",
   "execution_count": 32,
   "id": "HEG90oc1EZcT",
   "metadata": {
    "id": "HEG90oc1EZcT"
   },
   "outputs": [],
   "source": [
    "## Use Fisher's exact test and answer the following quesion: \n",
    "## If we assume that people who are under 40 years are young, can we say that young people favor one candidate over another?"
   ]
  },
  {
   "cell_type": "markdown",
   "id": "8_iqWFcwO47d",
   "metadata": {
    "id": "8_iqWFcwO47d"
   },
   "source": [
    "The null-hypothesis is that \"there is no significant relation between young people and votes got for Clinton and Dole\". The alternate hypothesis is that \"there is a significant relation between these two factors:\"."
   ]
  },
  {
   "cell_type": "code",
   "execution_count": 33,
   "id": "eLy1uMoeEZe1",
   "metadata": {
    "colab": {
     "base_uri": "https://localhost:8080/",
     "height": 206
    },
    "id": "eLy1uMoeEZe1",
    "outputId": "86e16517-9e09-4fd4-e8a6-66f5cfdb8599"
   },
   "outputs": [
    {
     "data": {
      "text/html": [
       "<div>\n",
       "<style scoped>\n",
       "    .dataframe tbody tr th:only-of-type {\n",
       "        vertical-align: middle;\n",
       "    }\n",
       "\n",
       "    .dataframe tbody tr th {\n",
       "        vertical-align: top;\n",
       "    }\n",
       "\n",
       "    .dataframe thead th {\n",
       "        text-align: right;\n",
       "    }\n",
       "</style>\n",
       "<table border=\"1\" class=\"dataframe\">\n",
       "  <thead>\n",
       "    <tr style=\"text-align: right;\">\n",
       "      <th></th>\n",
       "      <th>popul</th>\n",
       "      <th>TVnews</th>\n",
       "      <th>selfLR</th>\n",
       "      <th>ClinLR</th>\n",
       "      <th>DoleLR</th>\n",
       "      <th>PID</th>\n",
       "      <th>age</th>\n",
       "      <th>educ</th>\n",
       "      <th>income</th>\n",
       "      <th>vote</th>\n",
       "      <th>logpopul</th>\n",
       "      <th>voted_clinton</th>\n",
       "      <th>voted_dole</th>\n",
       "    </tr>\n",
       "  </thead>\n",
       "  <tbody>\n",
       "    <tr>\n",
       "      <th>0</th>\n",
       "      <td>0.0</td>\n",
       "      <td>7.0</td>\n",
       "      <td>7.0</td>\n",
       "      <td>1.0</td>\n",
       "      <td>6.0</td>\n",
       "      <td>6.0</td>\n",
       "      <td>36.0</td>\n",
       "      <td>3.0</td>\n",
       "      <td>1.0</td>\n",
       "      <td>1.0</td>\n",
       "      <td>-2.302585</td>\n",
       "      <td>False</td>\n",
       "      <td>True</td>\n",
       "    </tr>\n",
       "    <tr>\n",
       "      <th>1</th>\n",
       "      <td>190.0</td>\n",
       "      <td>1.0</td>\n",
       "      <td>3.0</td>\n",
       "      <td>3.0</td>\n",
       "      <td>5.0</td>\n",
       "      <td>1.0</td>\n",
       "      <td>20.0</td>\n",
       "      <td>4.0</td>\n",
       "      <td>1.0</td>\n",
       "      <td>0.0</td>\n",
       "      <td>5.247550</td>\n",
       "      <td>True</td>\n",
       "      <td>False</td>\n",
       "    </tr>\n",
       "    <tr>\n",
       "      <th>2</th>\n",
       "      <td>31.0</td>\n",
       "      <td>7.0</td>\n",
       "      <td>2.0</td>\n",
       "      <td>2.0</td>\n",
       "      <td>6.0</td>\n",
       "      <td>1.0</td>\n",
       "      <td>24.0</td>\n",
       "      <td>6.0</td>\n",
       "      <td>1.0</td>\n",
       "      <td>0.0</td>\n",
       "      <td>3.437208</td>\n",
       "      <td>True</td>\n",
       "      <td>False</td>\n",
       "    </tr>\n",
       "    <tr>\n",
       "      <th>3</th>\n",
       "      <td>83.0</td>\n",
       "      <td>4.0</td>\n",
       "      <td>3.0</td>\n",
       "      <td>4.0</td>\n",
       "      <td>5.0</td>\n",
       "      <td>1.0</td>\n",
       "      <td>28.0</td>\n",
       "      <td>6.0</td>\n",
       "      <td>1.0</td>\n",
       "      <td>0.0</td>\n",
       "      <td>4.420045</td>\n",
       "      <td>True</td>\n",
       "      <td>False</td>\n",
       "    </tr>\n",
       "    <tr>\n",
       "      <th>5</th>\n",
       "      <td>110.0</td>\n",
       "      <td>3.0</td>\n",
       "      <td>3.0</td>\n",
       "      <td>4.0</td>\n",
       "      <td>6.0</td>\n",
       "      <td>1.0</td>\n",
       "      <td>21.0</td>\n",
       "      <td>4.0</td>\n",
       "      <td>1.0</td>\n",
       "      <td>0.0</td>\n",
       "      <td>4.701389</td>\n",
       "      <td>True</td>\n",
       "      <td>False</td>\n",
       "    </tr>\n",
       "  </tbody>\n",
       "</table>\n",
       "</div>"
      ],
      "text/plain": [
       "   popul  TVnews  selfLR  ClinLR  DoleLR  PID   age  educ  income  vote  \\\n",
       "0    0.0     7.0     7.0     1.0     6.0  6.0  36.0   3.0     1.0   1.0   \n",
       "1  190.0     1.0     3.0     3.0     5.0  1.0  20.0   4.0     1.0   0.0   \n",
       "2   31.0     7.0     2.0     2.0     6.0  1.0  24.0   6.0     1.0   0.0   \n",
       "3   83.0     4.0     3.0     4.0     5.0  1.0  28.0   6.0     1.0   0.0   \n",
       "5  110.0     3.0     3.0     4.0     6.0  1.0  21.0   4.0     1.0   0.0   \n",
       "\n",
       "   logpopul  voted_clinton  voted_dole  \n",
       "0 -2.302585          False        True  \n",
       "1  5.247550           True       False  \n",
       "2  3.437208           True       False  \n",
       "3  4.420045           True       False  \n",
       "5  4.701389           True       False  "
      ]
     },
     "execution_count": 33,
     "metadata": {},
     "output_type": "execute_result"
    }
   ],
   "source": [
    "young_df = df[df['age']<40]\n",
    "young_df.head()"
   ]
  },
  {
   "cell_type": "code",
   "execution_count": 34,
   "id": "wWzTQLLWNhH1",
   "metadata": {
    "colab": {
     "base_uri": "https://localhost:8080/",
     "height": 143
    },
    "id": "wWzTQLLWNhH1",
    "outputId": "fb86236f-d470-49d9-f5a5-e064058ad73a"
   },
   "outputs": [
    {
     "data": {
      "text/html": [
       "<div>\n",
       "<style scoped>\n",
       "    .dataframe tbody tr th:only-of-type {\n",
       "        vertical-align: middle;\n",
       "    }\n",
       "\n",
       "    .dataframe tbody tr th {\n",
       "        vertical-align: top;\n",
       "    }\n",
       "\n",
       "    .dataframe thead th {\n",
       "        text-align: right;\n",
       "    }\n",
       "</style>\n",
       "<table border=\"1\" class=\"dataframe\">\n",
       "  <thead>\n",
       "    <tr style=\"text-align: right;\">\n",
       "      <th>voted_dole</th>\n",
       "      <th>False</th>\n",
       "      <th>True</th>\n",
       "    </tr>\n",
       "    <tr>\n",
       "      <th>voted_clinton</th>\n",
       "      <th></th>\n",
       "      <th></th>\n",
       "    </tr>\n",
       "  </thead>\n",
       "  <tbody>\n",
       "    <tr>\n",
       "      <th>False</th>\n",
       "      <td>0.0</td>\n",
       "      <td>153.0</td>\n",
       "    </tr>\n",
       "    <tr>\n",
       "      <th>True</th>\n",
       "      <td>216.0</td>\n",
       "      <td>0.0</td>\n",
       "    </tr>\n",
       "  </tbody>\n",
       "</table>\n",
       "</div>"
      ],
      "text/plain": [
       "voted_dole     False   True\n",
       "voted_clinton              \n",
       "False            0.0  153.0\n",
       "True           216.0    0.0"
      ]
     },
     "execution_count": 34,
     "metadata": {},
     "output_type": "execute_result"
    }
   ],
   "source": [
    "young_fav = (young_df.groupby(['voted_clinton','voted_dole'])[['age']].count().unstack().droplevel(axis=1, level=0))\n",
    "young_fav = young_fav.fillna(0)\n",
    "young_fav"
   ]
  },
  {
   "cell_type": "code",
   "execution_count": 35,
   "id": "LH8Z3qWoEZkB",
   "metadata": {
    "colab": {
     "base_uri": "https://localhost:8080/"
    },
    "id": "LH8Z3qWoEZkB",
    "outputId": "2396b2e3-e3f1-4626-d8ca-d90e8ce7e1b8"
   },
   "outputs": [
    {
     "name": "stdout",
     "output_type": "stream",
     "text": [
      "P value :  4.39061553015495e-108\n"
     ]
    }
   ],
   "source": [
    "oddsr, p = stats.fisher_exact(young_fav)\n",
    "print(\"P value : \",p)"
   ]
  },
  {
   "cell_type": "markdown",
   "id": "dkGjI3sDOqN7",
   "metadata": {
    "id": "dkGjI3sDOqN7"
   },
   "source": [
    "### Since the \"P-value\" is less than 0.05 we have to reject the null-hypothesis and accept the alternate hypothesis. It means that young people do favor one candidate over the other. In this case Clinton over Dole."
   ]
  },
  {
   "cell_type": "code",
   "execution_count": 36,
   "id": "X8LctXbldahF",
   "metadata": {
    "colab": {
     "base_uri": "https://localhost:8080/",
     "height": 405
    },
    "id": "X8LctXbldahF",
    "outputId": "c8a5ead9-6520-4817-aec4-6f309c62fcca"
   },
   "outputs": [
    {
     "data": {
      "text/plain": [
       "<AxesSubplot:xlabel='age', ylabel='count'>"
      ]
     },
     "execution_count": 36,
     "metadata": {},
     "output_type": "execute_result"
    },
    {
     "data": {
      "image/png": "[encoded data removed]",
      "text/plain": [
       "<Figure size 720x432 with 1 Axes>"
      ]
     },
     "metadata": {},
     "output_type": "display_data"
    }
   ],
   "source": [
    "plt.figure(figsize=(10,6))\n",
    "sns.countplot(data=young_df,x='age', hue='vote', saturation=0.9)"
   ]
  },
  {
   "cell_type": "markdown",
   "id": "qpEmz75dhn3J",
   "metadata": {
    "id": "qpEmz75dhn3J"
   },
   "source": [
    "## Welch's T-test"
   ]
  },
  {
   "cell_type": "code",
   "execution_count": 37,
   "id": "KHXR2ZkLPJvR",
   "metadata": {
    "id": "KHXR2ZkLPJvR"
   },
   "outputs": [],
   "source": [
    "## Use Welch's t-test and answer the following question: \n",
    "## is there a difference in votes between people with a higher education degree (college, MS, or PhD) and without a higher education degree"
   ]
  },
  {
   "cell_type": "code",
   "execution_count": 38,
   "id": "uZHoKrM6PJsl",
   "metadata": {
    "colab": {
     "base_uri": "https://localhost:8080/",
     "height": 300
    },
    "id": "uZHoKrM6PJsl",
    "outputId": "47cbd146-18fb-4f4a-b57b-91255255f2bd"
   },
   "outputs": [
    {
     "data": {
      "text/html": [
       "<div>\n",
       "<style scoped>\n",
       "    .dataframe tbody tr th:only-of-type {\n",
       "        vertical-align: middle;\n",
       "    }\n",
       "\n",
       "    .dataframe tbody tr th {\n",
       "        vertical-align: top;\n",
       "    }\n",
       "\n",
       "    .dataframe thead th {\n",
       "        text-align: right;\n",
       "    }\n",
       "</style>\n",
       "<table border=\"1\" class=\"dataframe\">\n",
       "  <thead>\n",
       "    <tr style=\"text-align: right;\">\n",
       "      <th></th>\n",
       "      <th>count</th>\n",
       "      <th>mean</th>\n",
       "      <th>std</th>\n",
       "      <th>min</th>\n",
       "      <th>25%</th>\n",
       "      <th>50%</th>\n",
       "      <th>75%</th>\n",
       "      <th>max</th>\n",
       "    </tr>\n",
       "    <tr>\n",
       "      <th>educ</th>\n",
       "      <th></th>\n",
       "      <th></th>\n",
       "      <th></th>\n",
       "      <th></th>\n",
       "      <th></th>\n",
       "      <th></th>\n",
       "      <th></th>\n",
       "      <th></th>\n",
       "    </tr>\n",
       "  </thead>\n",
       "  <tbody>\n",
       "    <tr>\n",
       "      <th>1.0</th>\n",
       "      <td>13.0</td>\n",
       "      <td>0.230769</td>\n",
       "      <td>0.438529</td>\n",
       "      <td>0.0</td>\n",
       "      <td>0.0</td>\n",
       "      <td>0.0</td>\n",
       "      <td>0.0</td>\n",
       "      <td>1.0</td>\n",
       "    </tr>\n",
       "    <tr>\n",
       "      <th>2.0</th>\n",
       "      <td>52.0</td>\n",
       "      <td>0.269231</td>\n",
       "      <td>0.447888</td>\n",
       "      <td>0.0</td>\n",
       "      <td>0.0</td>\n",
       "      <td>0.0</td>\n",
       "      <td>1.0</td>\n",
       "      <td>1.0</td>\n",
       "    </tr>\n",
       "    <tr>\n",
       "      <th>3.0</th>\n",
       "      <td>248.0</td>\n",
       "      <td>0.383065</td>\n",
       "      <td>0.487117</td>\n",
       "      <td>0.0</td>\n",
       "      <td>0.0</td>\n",
       "      <td>0.0</td>\n",
       "      <td>1.0</td>\n",
       "      <td>1.0</td>\n",
       "    </tr>\n",
       "    <tr>\n",
       "      <th>4.0</th>\n",
       "      <td>187.0</td>\n",
       "      <td>0.433155</td>\n",
       "      <td>0.496842</td>\n",
       "      <td>0.0</td>\n",
       "      <td>0.0</td>\n",
       "      <td>0.0</td>\n",
       "      <td>1.0</td>\n",
       "      <td>1.0</td>\n",
       "    </tr>\n",
       "    <tr>\n",
       "      <th>5.0</th>\n",
       "      <td>90.0</td>\n",
       "      <td>0.411111</td>\n",
       "      <td>0.494792</td>\n",
       "      <td>0.0</td>\n",
       "      <td>0.0</td>\n",
       "      <td>0.0</td>\n",
       "      <td>1.0</td>\n",
       "      <td>1.0</td>\n",
       "    </tr>\n",
       "    <tr>\n",
       "      <th>6.0</th>\n",
       "      <td>227.0</td>\n",
       "      <td>0.475771</td>\n",
       "      <td>0.500516</td>\n",
       "      <td>0.0</td>\n",
       "      <td>0.0</td>\n",
       "      <td>0.0</td>\n",
       "      <td>1.0</td>\n",
       "      <td>1.0</td>\n",
       "    </tr>\n",
       "    <tr>\n",
       "      <th>7.0</th>\n",
       "      <td>127.0</td>\n",
       "      <td>0.433071</td>\n",
       "      <td>0.497463</td>\n",
       "      <td>0.0</td>\n",
       "      <td>0.0</td>\n",
       "      <td>0.0</td>\n",
       "      <td>1.0</td>\n",
       "      <td>1.0</td>\n",
       "    </tr>\n",
       "  </tbody>\n",
       "</table>\n",
       "</div>"
      ],
      "text/plain": [
       "      count      mean       std  min  25%  50%  75%  max\n",
       "educ                                                    \n",
       "1.0    13.0  0.230769  0.438529  0.0  0.0  0.0  0.0  1.0\n",
       "2.0    52.0  0.269231  0.447888  0.0  0.0  0.0  1.0  1.0\n",
       "3.0   248.0  0.383065  0.487117  0.0  0.0  0.0  1.0  1.0\n",
       "4.0   187.0  0.433155  0.496842  0.0  0.0  0.0  1.0  1.0\n",
       "5.0    90.0  0.411111  0.494792  0.0  0.0  0.0  1.0  1.0\n",
       "6.0   227.0  0.475771  0.500516  0.0  0.0  0.0  1.0  1.0\n",
       "7.0   127.0  0.433071  0.497463  0.0  0.0  0.0  1.0  1.0"
      ]
     },
     "execution_count": 38,
     "metadata": {},
     "output_type": "execute_result"
    }
   ],
   "source": [
    "df.groupby('educ').vote.describe()"
   ]
  },
  {
   "cell_type": "markdown",
   "id": "rHckZ1TuY5f3",
   "metadata": {
    "id": "rHckZ1TuY5f3"
   },
   "source": [
    "The null hypothesis is that there is no signifiant difference in votes by people with higher education and people without higher education. The alternative hypothesis is that there is a significant difference in votes by people with higher education and people without higher education."
   ]
  },
  {
   "cell_type": "code",
   "execution_count": 39,
   "id": "oM09CxCdPJqW",
   "metadata": {
    "colab": {
     "base_uri": "https://localhost:8080/"
    },
    "id": "oM09CxCdPJqW",
    "outputId": "3ff7315a-8a07-45b3-f1e6-b77b0881a7fd"
   },
   "outputs": [
    {
     "name": "stdout",
     "output_type": "stream",
     "text": [
      "P-value is :  0.009412816637933329\n"
     ]
    }
   ],
   "source": [
    "non_higher = df[df.educ <= 3].vote\n",
    "higher = df[df.educ >= 4].vote\n",
    "tstas, pvalue = stats.ttest_ind(non_higher, higher, equal_var=False)\n",
    "print(\"P-value is : \", pvalue)"
   ]
  },
  {
   "cell_type": "markdown",
   "id": "rMATH9CKZbvG",
   "metadata": {
    "id": "rMATH9CKZbvG"
   },
   "source": [
    "### **Since, the \"P-value\" is less than 0.05 we have to reject the null-hypothesis and consider the alternate hypothesis.** It means that there is a difference between the votes of people with higher education and people without higher education."
   ]
  },
  {
   "cell_type": "code",
   "execution_count": 40,
   "id": "hqMz9Mk5gBaZ",
   "metadata": {
    "colab": {
     "base_uri": "https://localhost:8080/",
     "height": 299
    },
    "id": "hqMz9Mk5gBaZ",
    "outputId": "8847c2a3-9394-417e-b504-7e99806adcf3"
   },
   "outputs": [
    {
     "data": {
      "text/plain": [
       "<AxesSubplot:xlabel='educ', ylabel='count'>"
      ]
     },
     "execution_count": 40,
     "metadata": {},
     "output_type": "execute_result"
    },
    {
     "data": {
      "image/png": "[encoded data removed]",
      "text/plain": [
       "<Figure size 576x288 with 1 Axes>"
      ]
     },
     "metadata": {},
     "output_type": "display_data"
    }
   ],
   "source": [
    "plt.figure(figsize=(8,4))\n",
    "sns.countplot(data=df,x='educ', hue='vote', saturation=0.9)"
   ]
  }
 ],
 "metadata": {
  "colab": {
   "collapsed_sections": [],
   "name": "Ravulaparthi_HW05.ipynb",
   "provenance": []
  },
  "kernelspec": {
   "display_name": "Python 3 (ipykernel)",
   "language": "python",
   "name": "python3"
  },
  "language_info": {
   "codemirror_mode": {
    "name": "ipython",
    "version": 3
   },
   "file_extension": ".py",
   "mimetype": "text/x-python",
   "name": "python",
   "nbconvert_exporter": "python",
   "pygments_lexer": "ipython3",
   "version": "3.9.7"
  }
 },
 "nbformat": 4,
 "nbformat_minor": 5
}
