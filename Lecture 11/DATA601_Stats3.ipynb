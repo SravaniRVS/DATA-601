{
  "cells": [
    {
      "cell_type": "code",
      "execution_count": null,
      "metadata": {
        "id": "ajZY6hNkMHph"
      },
      "outputs": [],
      "source": [
        "%matplotlib inline\n",
        "import numpy as np\n",
        "from scipy import stats\n",
        "import pandas as pd\n",
        "import statsmodels.api as sm\n",
        "import statsmodels.formula.api as smf\n",
        "import matplotlib.pyplot as plt\n",
        "import seaborn as sns\n",
        "from statsmodels.formula.api import ols"
      ]
    },
    {
      "cell_type": "markdown",
      "source": [
        "Paper: Ray Fair, \"A Theory of Extramarital Affairs,\" Journal of Political Economy, February, 45-61, 1978.\n",
        "\n",
        "https://fairmodel.econ.yale.edu/rayfair/pdf/1978a200.pdf"
      ],
      "metadata": {
        "id": "fVyWvHvqQa_A"
      }
    },
    {
      "cell_type": "markdown",
      "source": [
        "### DATASET"
      ],
      "metadata": {
        "id": "2U90VBUhQ-mj"
      }
    },
    {
      "cell_type": "code",
      "source": [
        "# We will use the \"Fair\" dataset. Let's check the source and notes\n",
        "print(sm.datasets.fair.SOURCE, sm.datasets.fair.NOTE)"
      ],
      "metadata": {
        "id": "HRhbP677a-nw",
        "colab": {
          "base_uri": "https://localhost:8080/"
        },
        "outputId": "01b1e1d2-4d7b-4fea-ae14-a0641cdc3d8e"
      },
      "execution_count": null,
      "outputs": [
        {
          "output_type": "stream",
          "name": "stdout",
          "text": [
            "\n",
            "Fair, Ray. 1978. \"A Theory of Extramarital Affairs,\" `Journal of Political\n",
            "Economy`, February, 45-61.\n",
            "\n",
            "The data is available at http://fairmodel.econ.yale.edu/rayfair/pdf/2011b.htm\n",
            " ::\n",
            "\n",
            "    Number of observations: 6366\n",
            "    Number of variables: 9\n",
            "    Variable name definitions:\n",
            "\n",
            "        rate_marriage   : How rate marriage, 1 = very poor, 2 = poor, 3 = fair,\n",
            "                        4 = good, 5 = very good\n",
            "        age             : Age\n",
            "        yrs_married     : No. years married. Interval approximations. See\n",
            "                        original paper for detailed explanation.\n",
            "        children        : No. children\n",
            "        religious       : How relgious, 1 = not, 2 = mildly, 3 = fairly,\n",
            "                        4 = strongly\n",
            "        educ            : Level of education, 9 = grade school, 12 = high\n",
            "                        school, 14 = some college, 16 = college graduate,\n",
            "                        17 = some graduate school, 20 = advanced degree\n",
            "        occupation      : 1 = student, 2 = farming, agriculture; semi-skilled,\n",
            "                        or unskilled worker; 3 = white-colloar; 4 = teacher\n",
            "                        counselor social worker, nurse; artist, writers;\n",
            "                        technician, skilled worker, 5 = managerial,\n",
            "                        administrative, business, 6 = professional with\n",
            "                        advanced degree\n",
            "        occupation_husb : Husband's occupation. Same as occupation.\n",
            "        affairs         : measure of time spent in extramarital affairs\n",
            "\n",
            "    See the original paper for more details.\n",
            "\n"
          ]
        }
      ]
    },
    {
      "cell_type": "code",
      "execution_count": null,
      "metadata": {
        "id": "cuTVbj92MHpm"
      },
      "outputs": [],
      "source": [
        "df_fair = sm.datasets.fair.load_pandas().data"
      ]
    },
    {
      "cell_type": "code",
      "source": [
        "df_fair.head()"
      ],
      "metadata": {
        "id": "cAU8yLJAMRUe",
        "colab": {
          "base_uri": "https://localhost:8080/",
          "height": 270
        },
        "outputId": "53f87dcc-4619-4d17-9707-877bdc4457a3"
      },
      "execution_count": null,
      "outputs": [
        {
          "output_type": "execute_result",
          "data": {
            "text/plain": [
              "   rate_marriage   age  yrs_married  children  religious  educ  occupation  \\\n",
              "0            3.0  32.0          9.0       3.0        3.0  17.0         2.0   \n",
              "1            3.0  27.0         13.0       3.0        1.0  14.0         3.0   \n",
              "2            4.0  22.0          2.5       0.0        1.0  16.0         3.0   \n",
              "3            4.0  37.0         16.5       4.0        3.0  16.0         5.0   \n",
              "4            5.0  27.0          9.0       1.0        1.0  14.0         3.0   \n",
              "\n",
              "   occupation_husb   affairs  \n",
              "0              5.0  0.111111  \n",
              "1              4.0  3.230769  \n",
              "2              5.0  1.400000  \n",
              "3              5.0  0.727273  \n",
              "4              4.0  4.666666  "
            ],
            "text/html": [
              "\n",
              "  <div id=\"df-b2a777a2-5b2d-484d-bdbb-cfed6afb65e6\">\n",
              "    <div class=\"colab-df-container\">\n",
              "      <div>\n",
              "<style scoped>\n",
              "    .dataframe tbody tr th:only-of-type {\n",
              "        vertical-align: middle;\n",
              "    }\n",
              "\n",
              "    .dataframe tbody tr th {\n",
              "        vertical-align: top;\n",
              "    }\n",
              "\n",
              "    .dataframe thead th {\n",
              "        text-align: right;\n",
              "    }\n",
              "</style>\n",
              "<table border=\"1\" class=\"dataframe\">\n",
              "  <thead>\n",
              "    <tr style=\"text-align: right;\">\n",
              "      <th></th>\n",
              "      <th>rate_marriage</th>\n",
              "      <th>age</th>\n",
              "      <th>yrs_married</th>\n",
              "      <th>children</th>\n",
              "      <th>religious</th>\n",
              "      <th>educ</th>\n",
              "      <th>occupation</th>\n",
              "      <th>occupation_husb</th>\n",
              "      <th>affairs</th>\n",
              "    </tr>\n",
              "  </thead>\n",
              "  <tbody>\n",
              "    <tr>\n",
              "      <th>0</th>\n",
              "      <td>3.0</td>\n",
              "      <td>32.0</td>\n",
              "      <td>9.0</td>\n",
              "      <td>3.0</td>\n",
              "      <td>3.0</td>\n",
              "      <td>17.0</td>\n",
              "      <td>2.0</td>\n",
              "      <td>5.0</td>\n",
              "      <td>0.111111</td>\n",
              "    </tr>\n",
              "    <tr>\n",
              "      <th>1</th>\n",
              "      <td>3.0</td>\n",
              "      <td>27.0</td>\n",
              "      <td>13.0</td>\n",
              "      <td>3.0</td>\n",
              "      <td>1.0</td>\n",
              "      <td>14.0</td>\n",
              "      <td>3.0</td>\n",
              "      <td>4.0</td>\n",
              "      <td>3.230769</td>\n",
              "    </tr>\n",
              "    <tr>\n",
              "      <th>2</th>\n",
              "      <td>4.0</td>\n",
              "      <td>22.0</td>\n",
              "      <td>2.5</td>\n",
              "      <td>0.0</td>\n",
              "      <td>1.0</td>\n",
              "      <td>16.0</td>\n",
              "      <td>3.0</td>\n",
              "      <td>5.0</td>\n",
              "      <td>1.400000</td>\n",
              "    </tr>\n",
              "    <tr>\n",
              "      <th>3</th>\n",
              "      <td>4.0</td>\n",
              "      <td>37.0</td>\n",
              "      <td>16.5</td>\n",
              "      <td>4.0</td>\n",
              "      <td>3.0</td>\n",
              "      <td>16.0</td>\n",
              "      <td>5.0</td>\n",
              "      <td>5.0</td>\n",
              "      <td>0.727273</td>\n",
              "    </tr>\n",
              "    <tr>\n",
              "      <th>4</th>\n",
              "      <td>5.0</td>\n",
              "      <td>27.0</td>\n",
              "      <td>9.0</td>\n",
              "      <td>1.0</td>\n",
              "      <td>1.0</td>\n",
              "      <td>14.0</td>\n",
              "      <td>3.0</td>\n",
              "      <td>4.0</td>\n",
              "      <td>4.666666</td>\n",
              "    </tr>\n",
              "  </tbody>\n",
              "</table>\n",
              "</div>\n",
              "      <button class=\"colab-df-convert\" onclick=\"convertToInteractive('df-b2a777a2-5b2d-484d-bdbb-cfed6afb65e6')\"\n",
              "              title=\"Convert this dataframe to an interactive table.\"\n",
              "              style=\"display:none;\">\n",
              "        \n",
              "  <svg xmlns=\"http://www.w3.org/2000/svg\" height=\"24px\"viewBox=\"0 0 24 24\"\n",
              "       width=\"24px\">\n",
              "    <path d=\"M0 0h24v24H0V0z\" fill=\"none\"/>\n",
              "    <path d=\"M18.56 5.44l.94 2.06.94-2.06 2.06-.94-2.06-.94-.94-2.06-.94 2.06-2.06.94zm-11 1L8.5 8.5l.94-2.06 2.06-.94-2.06-.94L8.5 2.5l-.94 2.06-2.06.94zm10 10l.94 2.06.94-2.06 2.06-.94-2.06-.94-.94-2.06-.94 2.06-2.06.94z\"/><path d=\"M17.41 7.96l-1.37-1.37c-.4-.4-.92-.59-1.43-.59-.52 0-1.04.2-1.43.59L10.3 9.45l-7.72 7.72c-.78.78-.78 2.05 0 2.83L4 21.41c.39.39.9.59 1.41.59.51 0 1.02-.2 1.41-.59l7.78-7.78 2.81-2.81c.8-.78.8-2.07 0-2.86zM5.41 20L4 18.59l7.72-7.72 1.47 1.35L5.41 20z\"/>\n",
              "  </svg>\n",
              "      </button>\n",
              "      \n",
              "  <style>\n",
              "    .colab-df-container {\n",
              "      display:flex;\n",
              "      flex-wrap:wrap;\n",
              "      gap: 12px;\n",
              "    }\n",
              "\n",
              "    .colab-df-convert {\n",
              "      background-color: #E8F0FE;\n",
              "      border: none;\n",
              "      border-radius: 50%;\n",
              "      cursor: pointer;\n",
              "      display: none;\n",
              "      fill: #1967D2;\n",
              "      height: 32px;\n",
              "      padding: 0 0 0 0;\n",
              "      width: 32px;\n",
              "    }\n",
              "\n",
              "    .colab-df-convert:hover {\n",
              "      background-color: #E2EBFA;\n",
              "      box-shadow: 0px 1px 2px rgba(60, 64, 67, 0.3), 0px 1px 3px 1px rgba(60, 64, 67, 0.15);\n",
              "      fill: #174EA6;\n",
              "    }\n",
              "\n",
              "    [theme=dark] .colab-df-convert {\n",
              "      background-color: #3B4455;\n",
              "      fill: #D2E3FC;\n",
              "    }\n",
              "\n",
              "    [theme=dark] .colab-df-convert:hover {\n",
              "      background-color: #434B5C;\n",
              "      box-shadow: 0px 1px 3px 1px rgba(0, 0, 0, 0.15);\n",
              "      filter: drop-shadow(0px 1px 2px rgba(0, 0, 0, 0.3));\n",
              "      fill: #FFFFFF;\n",
              "    }\n",
              "  </style>\n",
              "\n",
              "      <script>\n",
              "        const buttonEl =\n",
              "          document.querySelector('#df-b2a777a2-5b2d-484d-bdbb-cfed6afb65e6 button.colab-df-convert');\n",
              "        buttonEl.style.display =\n",
              "          google.colab.kernel.accessAllowed ? 'block' : 'none';\n",
              "\n",
              "        async function convertToInteractive(key) {\n",
              "          const element = document.querySelector('#df-b2a777a2-5b2d-484d-bdbb-cfed6afb65e6');\n",
              "          const dataTable =\n",
              "            await google.colab.kernel.invokeFunction('convertToInteractive',\n",
              "                                                     [key], {});\n",
              "          if (!dataTable) return;\n",
              "\n",
              "          const docLinkHtml = 'Like what you see? Visit the ' +\n",
              "            '<a target=\"_blank\" href=https://colab.research.google.com/notebooks/data_table.ipynb>data table notebook</a>'\n",
              "            + ' to learn more about interactive tables.';\n",
              "          element.innerHTML = '';\n",
              "          dataTable['output_type'] = 'display_data';\n",
              "          await google.colab.output.renderOutput(dataTable, element);\n",
              "          const docLink = document.createElement('div');\n",
              "          docLink.innerHTML = docLinkHtml;\n",
              "          element.appendChild(docLink);\n",
              "        }\n",
              "      </script>\n",
              "    </div>\n",
              "  </div>\n",
              "  "
            ]
          },
          "metadata": {},
          "execution_count": 17
        }
      ]
    },
    {
      "cell_type": "code",
      "source": [
        "df_fair.describe()"
      ],
      "metadata": {
        "id": "yUqlSV_6MkVL",
        "colab": {
          "base_uri": "https://localhost:8080/",
          "height": 364
        },
        "outputId": "39c5f8d2-7f52-42fd-a583-78f0a4fd6195"
      },
      "execution_count": null,
      "outputs": [
        {
          "output_type": "execute_result",
          "data": {
            "text/plain": [
              "       rate_marriage          age  yrs_married     children    religious  \\\n",
              "count    6366.000000  6366.000000  6366.000000  6366.000000  6366.000000   \n",
              "mean        4.109645    29.082862     9.009425     1.396874     2.426170   \n",
              "std         0.961430     6.847882     7.280120     1.433471     0.878369   \n",
              "min         1.000000    17.500000     0.500000     0.000000     1.000000   \n",
              "25%         4.000000    22.000000     2.500000     0.000000     2.000000   \n",
              "50%         4.000000    27.000000     6.000000     1.000000     2.000000   \n",
              "75%         5.000000    32.000000    16.500000     2.000000     3.000000   \n",
              "max         5.000000    42.000000    23.000000     5.500000     4.000000   \n",
              "\n",
              "              educ   occupation  occupation_husb      affairs  \n",
              "count  6366.000000  6366.000000      6366.000000  6366.000000  \n",
              "mean     14.209865     3.424128         3.850141     0.705374  \n",
              "std       2.178003     0.942399         1.346435     2.203374  \n",
              "min       9.000000     1.000000         1.000000     0.000000  \n",
              "25%      12.000000     3.000000         3.000000     0.000000  \n",
              "50%      14.000000     3.000000         4.000000     0.000000  \n",
              "75%      16.000000     4.000000         5.000000     0.484848  \n",
              "max      20.000000     6.000000         6.000000    57.599991  "
            ],
            "text/html": [
              "\n",
              "  <div id=\"df-9f265ee7-f039-4740-922f-219070f7e804\">\n",
              "    <div class=\"colab-df-container\">\n",
              "      <div>\n",
              "<style scoped>\n",
              "    .dataframe tbody tr th:only-of-type {\n",
              "        vertical-align: middle;\n",
              "    }\n",
              "\n",
              "    .dataframe tbody tr th {\n",
              "        vertical-align: top;\n",
              "    }\n",
              "\n",
              "    .dataframe thead th {\n",
              "        text-align: right;\n",
              "    }\n",
              "</style>\n",
              "<table border=\"1\" class=\"dataframe\">\n",
              "  <thead>\n",
              "    <tr style=\"text-align: right;\">\n",
              "      <th></th>\n",
              "      <th>rate_marriage</th>\n",
              "      <th>age</th>\n",
              "      <th>yrs_married</th>\n",
              "      <th>children</th>\n",
              "      <th>religious</th>\n",
              "      <th>educ</th>\n",
              "      <th>occupation</th>\n",
              "      <th>occupation_husb</th>\n",
              "      <th>affairs</th>\n",
              "    </tr>\n",
              "  </thead>\n",
              "  <tbody>\n",
              "    <tr>\n",
              "      <th>count</th>\n",
              "      <td>6366.000000</td>\n",
              "      <td>6366.000000</td>\n",
              "      <td>6366.000000</td>\n",
              "      <td>6366.000000</td>\n",
              "      <td>6366.000000</td>\n",
              "      <td>6366.000000</td>\n",
              "      <td>6366.000000</td>\n",
              "      <td>6366.000000</td>\n",
              "      <td>6366.000000</td>\n",
              "    </tr>\n",
              "    <tr>\n",
              "      <th>mean</th>\n",
              "      <td>4.109645</td>\n",
              "      <td>29.082862</td>\n",
              "      <td>9.009425</td>\n",
              "      <td>1.396874</td>\n",
              "      <td>2.426170</td>\n",
              "      <td>14.209865</td>\n",
              "      <td>3.424128</td>\n",
              "      <td>3.850141</td>\n",
              "      <td>0.705374</td>\n",
              "    </tr>\n",
              "    <tr>\n",
              "      <th>std</th>\n",
              "      <td>0.961430</td>\n",
              "      <td>6.847882</td>\n",
              "      <td>7.280120</td>\n",
              "      <td>1.433471</td>\n",
              "      <td>0.878369</td>\n",
              "      <td>2.178003</td>\n",
              "      <td>0.942399</td>\n",
              "      <td>1.346435</td>\n",
              "      <td>2.203374</td>\n",
              "    </tr>\n",
              "    <tr>\n",
              "      <th>min</th>\n",
              "      <td>1.000000</td>\n",
              "      <td>17.500000</td>\n",
              "      <td>0.500000</td>\n",
              "      <td>0.000000</td>\n",
              "      <td>1.000000</td>\n",
              "      <td>9.000000</td>\n",
              "      <td>1.000000</td>\n",
              "      <td>1.000000</td>\n",
              "      <td>0.000000</td>\n",
              "    </tr>\n",
              "    <tr>\n",
              "      <th>25%</th>\n",
              "      <td>4.000000</td>\n",
              "      <td>22.000000</td>\n",
              "      <td>2.500000</td>\n",
              "      <td>0.000000</td>\n",
              "      <td>2.000000</td>\n",
              "      <td>12.000000</td>\n",
              "      <td>3.000000</td>\n",
              "      <td>3.000000</td>\n",
              "      <td>0.000000</td>\n",
              "    </tr>\n",
              "    <tr>\n",
              "      <th>50%</th>\n",
              "      <td>4.000000</td>\n",
              "      <td>27.000000</td>\n",
              "      <td>6.000000</td>\n",
              "      <td>1.000000</td>\n",
              "      <td>2.000000</td>\n",
              "      <td>14.000000</td>\n",
              "      <td>3.000000</td>\n",
              "      <td>4.000000</td>\n",
              "      <td>0.000000</td>\n",
              "    </tr>\n",
              "    <tr>\n",
              "      <th>75%</th>\n",
              "      <td>5.000000</td>\n",
              "      <td>32.000000</td>\n",
              "      <td>16.500000</td>\n",
              "      <td>2.000000</td>\n",
              "      <td>3.000000</td>\n",
              "      <td>16.000000</td>\n",
              "      <td>4.000000</td>\n",
              "      <td>5.000000</td>\n",
              "      <td>0.484848</td>\n",
              "    </tr>\n",
              "    <tr>\n",
              "      <th>max</th>\n",
              "      <td>5.000000</td>\n",
              "      <td>42.000000</td>\n",
              "      <td>23.000000</td>\n",
              "      <td>5.500000</td>\n",
              "      <td>4.000000</td>\n",
              "      <td>20.000000</td>\n",
              "      <td>6.000000</td>\n",
              "      <td>6.000000</td>\n",
              "      <td>57.599991</td>\n",
              "    </tr>\n",
              "  </tbody>\n",
              "</table>\n",
              "</div>\n",
              "      <button class=\"colab-df-convert\" onclick=\"convertToInteractive('df-9f265ee7-f039-4740-922f-219070f7e804')\"\n",
              "              title=\"Convert this dataframe to an interactive table.\"\n",
              "              style=\"display:none;\">\n",
              "        \n",
              "  <svg xmlns=\"http://www.w3.org/2000/svg\" height=\"24px\"viewBox=\"0 0 24 24\"\n",
              "       width=\"24px\">\n",
              "    <path d=\"M0 0h24v24H0V0z\" fill=\"none\"/>\n",
              "    <path d=\"M18.56 5.44l.94 2.06.94-2.06 2.06-.94-2.06-.94-.94-2.06-.94 2.06-2.06.94zm-11 1L8.5 8.5l.94-2.06 2.06-.94-2.06-.94L8.5 2.5l-.94 2.06-2.06.94zm10 10l.94 2.06.94-2.06 2.06-.94-2.06-.94-.94-2.06-.94 2.06-2.06.94z\"/><path d=\"M17.41 7.96l-1.37-1.37c-.4-.4-.92-.59-1.43-.59-.52 0-1.04.2-1.43.59L10.3 9.45l-7.72 7.72c-.78.78-.78 2.05 0 2.83L4 21.41c.39.39.9.59 1.41.59.51 0 1.02-.2 1.41-.59l7.78-7.78 2.81-2.81c.8-.78.8-2.07 0-2.86zM5.41 20L4 18.59l7.72-7.72 1.47 1.35L5.41 20z\"/>\n",
              "  </svg>\n",
              "      </button>\n",
              "      \n",
              "  <style>\n",
              "    .colab-df-container {\n",
              "      display:flex;\n",
              "      flex-wrap:wrap;\n",
              "      gap: 12px;\n",
              "    }\n",
              "\n",
              "    .colab-df-convert {\n",
              "      background-color: #E8F0FE;\n",
              "      border: none;\n",
              "      border-radius: 50%;\n",
              "      cursor: pointer;\n",
              "      display: none;\n",
              "      fill: #1967D2;\n",
              "      height: 32px;\n",
              "      padding: 0 0 0 0;\n",
              "      width: 32px;\n",
              "    }\n",
              "\n",
              "    .colab-df-convert:hover {\n",
              "      background-color: #E2EBFA;\n",
              "      box-shadow: 0px 1px 2px rgba(60, 64, 67, 0.3), 0px 1px 3px 1px rgba(60, 64, 67, 0.15);\n",
              "      fill: #174EA6;\n",
              "    }\n",
              "\n",
              "    [theme=dark] .colab-df-convert {\n",
              "      background-color: #3B4455;\n",
              "      fill: #D2E3FC;\n",
              "    }\n",
              "\n",
              "    [theme=dark] .colab-df-convert:hover {\n",
              "      background-color: #434B5C;\n",
              "      box-shadow: 0px 1px 3px 1px rgba(0, 0, 0, 0.15);\n",
              "      filter: drop-shadow(0px 1px 2px rgba(0, 0, 0, 0.3));\n",
              "      fill: #FFFFFF;\n",
              "    }\n",
              "  </style>\n",
              "\n",
              "      <script>\n",
              "        const buttonEl =\n",
              "          document.querySelector('#df-9f265ee7-f039-4740-922f-219070f7e804 button.colab-df-convert');\n",
              "        buttonEl.style.display =\n",
              "          google.colab.kernel.accessAllowed ? 'block' : 'none';\n",
              "\n",
              "        async function convertToInteractive(key) {\n",
              "          const element = document.querySelector('#df-9f265ee7-f039-4740-922f-219070f7e804');\n",
              "          const dataTable =\n",
              "            await google.colab.kernel.invokeFunction('convertToInteractive',\n",
              "                                                     [key], {});\n",
              "          if (!dataTable) return;\n",
              "\n",
              "          const docLinkHtml = 'Like what you see? Visit the ' +\n",
              "            '<a target=\"_blank\" href=https://colab.research.google.com/notebooks/data_table.ipynb>data table notebook</a>'\n",
              "            + ' to learn more about interactive tables.';\n",
              "          element.innerHTML = '';\n",
              "          dataTable['output_type'] = 'display_data';\n",
              "          await google.colab.output.renderOutput(dataTable, element);\n",
              "          const docLink = document.createElement('div');\n",
              "          docLink.innerHTML = docLinkHtml;\n",
              "          element.appendChild(docLink);\n",
              "        }\n",
              "      </script>\n",
              "    </div>\n",
              "  </div>\n",
              "  "
            ]
          },
          "metadata": {},
          "execution_count": 18
        }
      ]
    },
    {
      "cell_type": "markdown",
      "source": [
        "## Variance, Standard Deviation, Skewness, Covariance, Correlation\n",
        "Mean: \n",
        "$$\\mu(X) = \\mu_x = \\frac{1}{{N}}\\sum\\limits_{i}^{N}{X_i}  $$\n",
        "\n",
        "Variance: A measure of dispersion (how far a set of numbers is spread out from their average value)\n",
        "$$\\mathrm{Var}(X) = \\frac{1}{{N}} \\sum\\limits_{i}^{N}{(X_i – \\mu_x)^2} $$\n",
        "\n",
        "Standard Deviation:\n",
        "$$\\sigma = \\sqrt{\\mathrm{Var}(X)}$$"
      ],
      "metadata": {
        "id": "0TTHDR2keKCo"
      }
    },
    {
      "cell_type": "code",
      "source": [
        "df_fair.var()"
      ],
      "metadata": {
        "id": "xdTHenI8eaAP",
        "colab": {
          "base_uri": "https://localhost:8080/"
        },
        "outputId": "f582e2f7-2ba7-4368-eb94-bfc141db831a"
      },
      "execution_count": null,
      "outputs": [
        {
          "output_type": "execute_result",
          "data": {
            "text/plain": [
              "rate_marriage       0.924347\n",
              "age                46.893486\n",
              "yrs_married        53.000147\n",
              "children            2.054839\n",
              "religious           0.771532\n",
              "educ                4.743695\n",
              "occupation          0.888115\n",
              "occupation_husb     1.812888\n",
              "affairs             4.854856\n",
              "dtype: float64"
            ]
          },
          "metadata": {},
          "execution_count": 19
        }
      ]
    },
    {
      "cell_type": "code",
      "source": [
        "df_fair.std()"
      ],
      "metadata": {
        "id": "s1QoS-Uveap6",
        "colab": {
          "base_uri": "https://localhost:8080/"
        },
        "outputId": "ce00c0f7-cec8-4ed2-dc83-bd4c770a2519"
      },
      "execution_count": null,
      "outputs": [
        {
          "output_type": "execute_result",
          "data": {
            "text/plain": [
              "rate_marriage      0.961430\n",
              "age                6.847882\n",
              "yrs_married        7.280120\n",
              "children           1.433471\n",
              "religious          0.878369\n",
              "educ               2.178003\n",
              "occupation         0.942399\n",
              "occupation_husb    1.346435\n",
              "affairs            2.203374\n",
              "dtype: float64"
            ]
          },
          "metadata": {},
          "execution_count": 20
        }
      ]
    },
    {
      "cell_type": "code",
      "source": [
        "df_fair.std()/df_fair.mean()"
      ],
      "metadata": {
        "id": "dBhudcqgeaxM",
        "colab": {
          "base_uri": "https://localhost:8080/"
        },
        "outputId": "679cb866-d4d2-4bb4-db77-9f8dac040cd6"
      },
      "execution_count": null,
      "outputs": [
        {
          "output_type": "execute_result",
          "data": {
            "text/plain": [
              "rate_marriage      0.233945\n",
              "age                0.235461\n",
              "yrs_married        0.808056\n",
              "children           1.026199\n",
              "religious          0.362039\n",
              "educ               0.153274\n",
              "occupation         0.275223\n",
              "occupation_husb    0.349711\n",
              "affairs            3.123696\n",
              "dtype: float64"
            ]
          },
          "metadata": {},
          "execution_count": 21
        }
      ]
    },
    {
      "cell_type": "markdown",
      "source": [
        "\n",
        "\n",
        "Coefficient of Variation: A relative dispersion of data points in a data series around the mean.\n",
        "$$\\mathrm{CV} = \\frac{\\sigma}{\\mu_x}$$\n",
        "\n",
        "Skewness: A measure of the asymmetry of the probability distribution of a real-valued random variable about its mean.\n",
        "$$\\mu_3 = \\frac{\\sum\\limits_{i}^{N}{(X_i – \\mu_x)^3}}{{(N-1)\\sigma^3}}  $$"
      ],
      "metadata": {
        "id": "I-MTl7y8z5JX"
      }
    },
    {
      "cell_type": "code",
      "source": [
        "df_fair.skew()"
      ],
      "metadata": {
        "id": "qf2ugt5DfDqw",
        "colab": {
          "base_uri": "https://localhost:8080/"
        },
        "outputId": "69617de7-ecc0-44fd-afac-3368c22cedaf"
      },
      "execution_count": null,
      "outputs": [
        {
          "output_type": "execute_result",
          "data": {
            "text/plain": [
              "rate_marriage     -1.009710\n",
              "age                0.576149\n",
              "yrs_married        0.725854\n",
              "children           0.890980\n",
              "religious         -0.028350\n",
              "educ               0.794714\n",
              "occupation         0.343946\n",
              "occupation_husb   -0.380442\n",
              "affairs            8.764859\n",
              "dtype: float64"
            ]
          },
          "metadata": {},
          "execution_count": 22
        }
      ]
    },
    {
      "cell_type": "code",
      "source": [
        "df_fair.hist(figsize=(12,12))\n",
        "plt.show()"
      ],
      "metadata": {
        "id": "G8BfYTWofIW0",
        "colab": {
          "base_uri": "https://localhost:8080/",
          "height": 716
        },
        "outputId": "6bc36f12-4b01-4bb5-baf8-1a36b4bb5fb6"
      },
      "execution_count": null,
      "outputs": [
        {
          "output_type": "display_data",
          "data": {
            "text/plain": [
              "<Figure size 864x864 with 9 Axes>"
            ],
            "image/png": "[encoded data removed]"
          },
          "metadata": {
            "needs_background": "light"
          }
        }
      ]
    },
    {
      "cell_type": "markdown",
      "source": [
        "### Covariance and Correlation\n",
        "Covariance: A measure of the variance between two variables\n",
        "$$\\mathrm{cov}(X, Y) = \\frac{1}{{N}} \\sum\\limits_{i}^{N}{(X_i – \\mu_x)(Y_i – \\mu_y)}$$\n",
        "\n",
        "Correlation: A measure of the strength of a relationship between data\n",
        "$$\\mathrm{r}(X, Y) = \\frac{\\sum\\limits_{i}^{N}{(X_i – \\mu_x)(Y_i – \\mu_y)}}{{\\sqrt{\\sum\\limits_{i}^{N}{(X_i – \\mu_x)^2}\\sum\\limits_{i}^{N}{(Y_i – \\mu_y)^2}}}} $$\n",
        "\n"
      ],
      "metadata": {
        "id": "ALvL7rvwfacq"
      }
    },
    {
      "cell_type": "markdown",
      "source": [
        "### Covariance vs. Correlation\n",
        "- Both measure the relationship and the dependency between two variables.\n",
        "- Covariance indicates the direction of the linear relationship between variables.\n",
        "- Correlation measures both the strength and direction of the linear relationship between two variables.\n",
        "- Correlation values are standardized.\n",
        "- Covariance values are not standardized."
      ],
      "metadata": {
        "id": "ROLRd-Yyz8DX"
      }
    },
    {
      "cell_type": "code",
      "source": [
        "corr_v = df_fair.corr()\n",
        "corr_v.style.background_gradient(cmap='coolwarm')"
      ],
      "metadata": {
        "id": "TlVwQDEZdMR4",
        "colab": {
          "base_uri": "https://localhost:8080/",
          "height": 351
        },
        "outputId": "f981d597-7ae1-475f-c53f-0323bd94301b"
      },
      "execution_count": null,
      "outputs": [
        {
          "output_type": "execute_result",
          "data": {
            "text/plain": [
              "<pandas.io.formats.style.Styler at 0x7fd3b6eb4090>"
            ],
            "text/html": [
              "<style type=\"text/css\">\n",
              "#T_fdc50_row0_col0, #T_fdc50_row1_col1, #T_fdc50_row2_col2, #T_fdc50_row3_col3, #T_fdc50_row4_col4, #T_fdc50_row5_col5, #T_fdc50_row6_col6, #T_fdc50_row7_col7, #T_fdc50_row8_col8 {\n",
              "  background-color: #b40426;\n",
              "  color: #f1f1f1;\n",
              "}\n",
              "#T_fdc50_row0_col1, #T_fdc50_row0_col2, #T_fdc50_row0_col8, #T_fdc50_row3_col5, #T_fdc50_row3_col6, #T_fdc50_row5_col3, #T_fdc50_row8_col0, #T_fdc50_row8_col4, #T_fdc50_row8_col7 {\n",
              "  background-color: #3b4cc0;\n",
              "  color: #f1f1f1;\n",
              "}\n",
              "#T_fdc50_row0_col3 {\n",
              "  background-color: #3d50c3;\n",
              "  color: #f1f1f1;\n",
              "}\n",
              "#T_fdc50_row0_col4 {\n",
              "  background-color: #7597f6;\n",
              "  color: #f1f1f1;\n",
              "}\n",
              "#T_fdc50_row0_col5 {\n",
              "  background-color: #799cf8;\n",
              "  color: #f1f1f1;\n",
              "}\n",
              "#T_fdc50_row0_col6 {\n",
              "  background-color: #4a63d3;\n",
              "  color: #f1f1f1;\n",
              "}\n",
              "#T_fdc50_row0_col7, #T_fdc50_row2_col0, #T_fdc50_row3_col0 {\n",
              "  background-color: #465ecf;\n",
              "  color: #f1f1f1;\n",
              "}\n",
              "#T_fdc50_row1_col0, #T_fdc50_row2_col6 {\n",
              "  background-color: #4b64d5;\n",
              "  color: #f1f1f1;\n",
              "}\n",
              "#T_fdc50_row1_col2, #T_fdc50_row2_col1 {\n",
              "  background-color: #d55042;\n",
              "  color: #f1f1f1;\n",
              "}\n",
              "#T_fdc50_row1_col3 {\n",
              "  background-color: #f7a889;\n",
              "  color: #000000;\n",
              "}\n",
              "#T_fdc50_row1_col4, #T_fdc50_row4_col2 {\n",
              "  background-color: #86a9fc;\n",
              "  color: #f1f1f1;\n",
              "}\n",
              "#T_fdc50_row1_col5, #T_fdc50_row6_col2 {\n",
              "  background-color: #6a8bef;\n",
              "  color: #f1f1f1;\n",
              "}\n",
              "#T_fdc50_row1_col6 {\n",
              "  background-color: #5f7fe8;\n",
              "  color: #f1f1f1;\n",
              "}\n",
              "#T_fdc50_row1_col7, #T_fdc50_row7_col0 {\n",
              "  background-color: #7295f4;\n",
              "  color: #f1f1f1;\n",
              "}\n",
              "#T_fdc50_row1_col8, #T_fdc50_row2_col8 {\n",
              "  background-color: #516ddb;\n",
              "  color: #f1f1f1;\n",
              "}\n",
              "#T_fdc50_row2_col3 {\n",
              "  background-color: #ed8366;\n",
              "  color: #f1f1f1;\n",
              "}\n",
              "#T_fdc50_row2_col4, #T_fdc50_row7_col2 {\n",
              "  background-color: #85a8fc;\n",
              "  color: #f1f1f1;\n",
              "}\n",
              "#T_fdc50_row2_col5 {\n",
              "  background-color: #4358cb;\n",
              "  color: #f1f1f1;\n",
              "}\n",
              "#T_fdc50_row2_col7, #T_fdc50_row6_col4 {\n",
              "  background-color: #6788ee;\n",
              "  color: #f1f1f1;\n",
              "}\n",
              "#T_fdc50_row3_col1 {\n",
              "  background-color: #f7aa8c;\n",
              "  color: #000000;\n",
              "}\n",
              "#T_fdc50_row3_col2 {\n",
              "  background-color: #ee8468;\n",
              "  color: #f1f1f1;\n",
              "}\n",
              "#T_fdc50_row3_col4 {\n",
              "  background-color: #88abfd;\n",
              "  color: #000000;\n",
              "}\n",
              "#T_fdc50_row3_col7 {\n",
              "  background-color: #5977e3;\n",
              "  color: #f1f1f1;\n",
              "}\n",
              "#T_fdc50_row3_col8 {\n",
              "  background-color: #5673e0;\n",
              "  color: #f1f1f1;\n",
              "}\n",
              "#T_fdc50_row4_col0 {\n",
              "  background-color: #81a4fb;\n",
              "  color: #f1f1f1;\n",
              "}\n",
              "#T_fdc50_row4_col1 {\n",
              "  background-color: #84a7fc;\n",
              "  color: #f1f1f1;\n",
              "}\n",
              "#T_fdc50_row4_col3, #T_fdc50_row7_col1 {\n",
              "  background-color: #8caffe;\n",
              "  color: #000000;\n",
              "}\n",
              "#T_fdc50_row4_col5, #T_fdc50_row6_col8 {\n",
              "  background-color: #6b8df0;\n",
              "  color: #f1f1f1;\n",
              "}\n",
              "#T_fdc50_row4_col6 {\n",
              "  background-color: #4961d2;\n",
              "  color: #f1f1f1;\n",
              "}\n",
              "#T_fdc50_row4_col7, #T_fdc50_row5_col2, #T_fdc50_row8_col1, #T_fdc50_row8_col6 {\n",
              "  background-color: #3f53c6;\n",
              "  color: #f1f1f1;\n",
              "}\n",
              "#T_fdc50_row4_col8 {\n",
              "  background-color: #485fd1;\n",
              "  color: #f1f1f1;\n",
              "}\n",
              "#T_fdc50_row5_col0 {\n",
              "  background-color: #82a6fb;\n",
              "  color: #f1f1f1;\n",
              "}\n",
              "#T_fdc50_row5_col1 {\n",
              "  background-color: #6282ea;\n",
              "  color: #f1f1f1;\n",
              "}\n",
              "#T_fdc50_row5_col4, #T_fdc50_row7_col8 {\n",
              "  background-color: #6687ed;\n",
              "  color: #f1f1f1;\n",
              "}\n",
              "#T_fdc50_row5_col6 {\n",
              "  background-color: #bed2f6;\n",
              "  color: #000000;\n",
              "}\n",
              "#T_fdc50_row5_col7, #T_fdc50_row6_col1 {\n",
              "  background-color: #7a9df8;\n",
              "  color: #f1f1f1;\n",
              "}\n",
              "#T_fdc50_row5_col8 {\n",
              "  background-color: #6485ec;\n",
              "  color: #f1f1f1;\n",
              "}\n",
              "#T_fdc50_row6_col0 {\n",
              "  background-color: #7699f6;\n",
              "  color: #f1f1f1;\n",
              "}\n",
              "#T_fdc50_row6_col3 {\n",
              "  background-color: #5d7ce6;\n",
              "  color: #f1f1f1;\n",
              "}\n",
              "#T_fdc50_row6_col5 {\n",
              "  background-color: #d2dbe8;\n",
              "  color: #000000;\n",
              "}\n",
              "#T_fdc50_row6_col7, #T_fdc50_row7_col6 {\n",
              "  background-color: #80a3fa;\n",
              "  color: #f1f1f1;\n",
              "}\n",
              "#T_fdc50_row7_col3 {\n",
              "  background-color: #7b9ff9;\n",
              "  color: #f1f1f1;\n",
              "}\n",
              "#T_fdc50_row7_col4 {\n",
              "  background-color: #5e7de7;\n",
              "  color: #f1f1f1;\n",
              "}\n",
              "#T_fdc50_row7_col5 {\n",
              "  background-color: #9abbff;\n",
              "  color: #000000;\n",
              "}\n",
              "#T_fdc50_row8_col2 {\n",
              "  background-color: #455cce;\n",
              "  color: #f1f1f1;\n",
              "}\n",
              "#T_fdc50_row8_col3 {\n",
              "  background-color: #4e68d8;\n",
              "  color: #f1f1f1;\n",
              "}\n",
              "#T_fdc50_row8_col5 {\n",
              "  background-color: #5b7ae5;\n",
              "  color: #f1f1f1;\n",
              "}\n",
              "</style>\n",
              "<table id=\"T_fdc50_\" class=\"dataframe\">\n",
              "  <thead>\n",
              "    <tr>\n",
              "      <th class=\"blank level0\" >&nbsp;</th>\n",
              "      <th class=\"col_heading level0 col0\" >rate_marriage</th>\n",
              "      <th class=\"col_heading level0 col1\" >age</th>\n",
              "      <th class=\"col_heading level0 col2\" >yrs_married</th>\n",
              "      <th class=\"col_heading level0 col3\" >children</th>\n",
              "      <th class=\"col_heading level0 col4\" >religious</th>\n",
              "      <th class=\"col_heading level0 col5\" >educ</th>\n",
              "      <th class=\"col_heading level0 col6\" >occupation</th>\n",
              "      <th class=\"col_heading level0 col7\" >occupation_husb</th>\n",
              "      <th class=\"col_heading level0 col8\" >affairs</th>\n",
              "    </tr>\n",
              "  </thead>\n",
              "  <tbody>\n",
              "    <tr>\n",
              "      <th id=\"T_fdc50_level0_row0\" class=\"row_heading level0 row0\" >rate_marriage</th>\n",
              "      <td id=\"T_fdc50_row0_col0\" class=\"data row0 col0\" >1.000000</td>\n",
              "      <td id=\"T_fdc50_row0_col1\" class=\"data row0 col1\" >-0.111127</td>\n",
              "      <td id=\"T_fdc50_row0_col2\" class=\"data row0 col2\" >-0.128978</td>\n",
              "      <td id=\"T_fdc50_row0_col3\" class=\"data row0 col3\" >-0.129161</td>\n",
              "      <td id=\"T_fdc50_row0_col4\" class=\"data row0 col4\" >0.078794</td>\n",
              "      <td id=\"T_fdc50_row0_col5\" class=\"data row0 col5\" >0.079869</td>\n",
              "      <td id=\"T_fdc50_row0_col6\" class=\"data row0 col6\" >0.039528</td>\n",
              "      <td id=\"T_fdc50_row0_col7\" class=\"data row0 col7\" >0.027745</td>\n",
              "      <td id=\"T_fdc50_row0_col8\" class=\"data row0 col8\" >-0.178068</td>\n",
              "    </tr>\n",
              "    <tr>\n",
              "      <th id=\"T_fdc50_level0_row1\" class=\"row_heading level0 row1\" >age</th>\n",
              "      <td id=\"T_fdc50_row1_col0\" class=\"data row1 col0\" >-0.111127</td>\n",
              "      <td id=\"T_fdc50_row1_col1\" class=\"data row1 col1\" >1.000000</td>\n",
              "      <td id=\"T_fdc50_row1_col2\" class=\"data row1 col2\" >0.894082</td>\n",
              "      <td id=\"T_fdc50_row1_col3\" class=\"data row1 col3\" >0.673902</td>\n",
              "      <td id=\"T_fdc50_row1_col4\" class=\"data row1 col4\" >0.136598</td>\n",
              "      <td id=\"T_fdc50_row1_col5\" class=\"data row1 col5\" >0.027960</td>\n",
              "      <td id=\"T_fdc50_row1_col6\" class=\"data row1 col6\" >0.106127</td>\n",
              "      <td id=\"T_fdc50_row1_col7\" class=\"data row1 col7\" >0.162567</td>\n",
              "      <td id=\"T_fdc50_row1_col8\" class=\"data row1 col8\" >-0.089964</td>\n",
              "    </tr>\n",
              "    <tr>\n",
              "      <th id=\"T_fdc50_level0_row2\" class=\"row_heading level0 row2\" >yrs_married</th>\n",
              "      <td id=\"T_fdc50_row2_col0\" class=\"data row2 col0\" >-0.128978</td>\n",
              "      <td id=\"T_fdc50_row2_col1\" class=\"data row2 col1\" >0.894082</td>\n",
              "      <td id=\"T_fdc50_row2_col2\" class=\"data row2 col2\" >1.000000</td>\n",
              "      <td id=\"T_fdc50_row2_col3\" class=\"data row2 col3\" >0.772806</td>\n",
              "      <td id=\"T_fdc50_row2_col4\" class=\"data row2 col4\" >0.132683</td>\n",
              "      <td id=\"T_fdc50_row2_col5\" class=\"data row2 col5\" >-0.109058</td>\n",
              "      <td id=\"T_fdc50_row2_col6\" class=\"data row2 col6\" >0.041782</td>\n",
              "      <td id=\"T_fdc50_row2_col7\" class=\"data row2 col7\" >0.128135</td>\n",
              "      <td id=\"T_fdc50_row2_col8\" class=\"data row2 col8\" >-0.087737</td>\n",
              "    </tr>\n",
              "    <tr>\n",
              "      <th id=\"T_fdc50_level0_row3\" class=\"row_heading level0 row3\" >children</th>\n",
              "      <td id=\"T_fdc50_row3_col0\" class=\"data row3 col0\" >-0.129161</td>\n",
              "      <td id=\"T_fdc50_row3_col1\" class=\"data row3 col1\" >0.673902</td>\n",
              "      <td id=\"T_fdc50_row3_col2\" class=\"data row3 col2\" >0.772806</td>\n",
              "      <td id=\"T_fdc50_row3_col3\" class=\"data row3 col3\" >1.000000</td>\n",
              "      <td id=\"T_fdc50_row3_col4\" class=\"data row3 col4\" >0.141845</td>\n",
              "      <td id=\"T_fdc50_row3_col5\" class=\"data row3 col5\" >-0.141918</td>\n",
              "      <td id=\"T_fdc50_row3_col6\" class=\"data row3 col6\" >-0.015068</td>\n",
              "      <td id=\"T_fdc50_row3_col7\" class=\"data row3 col7\" >0.086660</td>\n",
              "      <td id=\"T_fdc50_row3_col8\" class=\"data row3 col8\" >-0.070278</td>\n",
              "    </tr>\n",
              "    <tr>\n",
              "      <th id=\"T_fdc50_level0_row4\" class=\"row_heading level0 row4\" >religious</th>\n",
              "      <td id=\"T_fdc50_row4_col0\" class=\"data row4 col0\" >0.078794</td>\n",
              "      <td id=\"T_fdc50_row4_col1\" class=\"data row4 col1\" >0.136598</td>\n",
              "      <td id=\"T_fdc50_row4_col2\" class=\"data row4 col2\" >0.132683</td>\n",
              "      <td id=\"T_fdc50_row4_col3\" class=\"data row4 col3\" >0.141845</td>\n",
              "      <td id=\"T_fdc50_row4_col4\" class=\"data row4 col4\" >1.000000</td>\n",
              "      <td id=\"T_fdc50_row4_col5\" class=\"data row4 col5\" >0.032245</td>\n",
              "      <td id=\"T_fdc50_row4_col6\" class=\"data row4 col6\" >0.035746</td>\n",
              "      <td id=\"T_fdc50_row4_col7\" class=\"data row4 col7\" >0.004061</td>\n",
              "      <td id=\"T_fdc50_row4_col8\" class=\"data row4 col8\" >-0.125933</td>\n",
              "    </tr>\n",
              "    <tr>\n",
              "      <th id=\"T_fdc50_level0_row5\" class=\"row_heading level0 row5\" >educ</th>\n",
              "      <td id=\"T_fdc50_row5_col0\" class=\"data row5 col0\" >0.079869</td>\n",
              "      <td id=\"T_fdc50_row5_col1\" class=\"data row5 col1\" >0.027960</td>\n",
              "      <td id=\"T_fdc50_row5_col2\" class=\"data row5 col2\" >-0.109058</td>\n",
              "      <td id=\"T_fdc50_row5_col3\" class=\"data row5 col3\" >-0.141918</td>\n",
              "      <td id=\"T_fdc50_row5_col4\" class=\"data row5 col4\" >0.032245</td>\n",
              "      <td id=\"T_fdc50_row5_col5\" class=\"data row5 col5\" >1.000000</td>\n",
              "      <td id=\"T_fdc50_row5_col6\" class=\"data row5 col6\" >0.382286</td>\n",
              "      <td id=\"T_fdc50_row5_col7\" class=\"data row5 col7\" >0.183932</td>\n",
              "      <td id=\"T_fdc50_row5_col8\" class=\"data row5 col8\" >-0.017740</td>\n",
              "    </tr>\n",
              "    <tr>\n",
              "      <th id=\"T_fdc50_level0_row6\" class=\"row_heading level0 row6\" >occupation</th>\n",
              "      <td id=\"T_fdc50_row6_col0\" class=\"data row6 col0\" >0.039528</td>\n",
              "      <td id=\"T_fdc50_row6_col1\" class=\"data row6 col1\" >0.106127</td>\n",
              "      <td id=\"T_fdc50_row6_col2\" class=\"data row6 col2\" >0.041782</td>\n",
              "      <td id=\"T_fdc50_row6_col3\" class=\"data row6 col3\" >-0.015068</td>\n",
              "      <td id=\"T_fdc50_row6_col4\" class=\"data row6 col4\" >0.035746</td>\n",
              "      <td id=\"T_fdc50_row6_col5\" class=\"data row6 col5\" >0.382286</td>\n",
              "      <td id=\"T_fdc50_row6_col6\" class=\"data row6 col6\" >1.000000</td>\n",
              "      <td id=\"T_fdc50_row6_col7\" class=\"data row6 col7\" >0.201156</td>\n",
              "      <td id=\"T_fdc50_row6_col8\" class=\"data row6 col8\" >0.004469</td>\n",
              "    </tr>\n",
              "    <tr>\n",
              "      <th id=\"T_fdc50_level0_row7\" class=\"row_heading level0 row7\" >occupation_husb</th>\n",
              "      <td id=\"T_fdc50_row7_col0\" class=\"data row7 col0\" >0.027745</td>\n",
              "      <td id=\"T_fdc50_row7_col1\" class=\"data row7 col1\" >0.162567</td>\n",
              "      <td id=\"T_fdc50_row7_col2\" class=\"data row7 col2\" >0.128135</td>\n",
              "      <td id=\"T_fdc50_row7_col3\" class=\"data row7 col3\" >0.086660</td>\n",
              "      <td id=\"T_fdc50_row7_col4\" class=\"data row7 col4\" >0.004061</td>\n",
              "      <td id=\"T_fdc50_row7_col5\" class=\"data row7 col5\" >0.183932</td>\n",
              "      <td id=\"T_fdc50_row7_col6\" class=\"data row7 col6\" >0.201156</td>\n",
              "      <td id=\"T_fdc50_row7_col7\" class=\"data row7 col7\" >1.000000</td>\n",
              "      <td id=\"T_fdc50_row7_col8\" class=\"data row7 col8\" >-0.015614</td>\n",
              "    </tr>\n",
              "    <tr>\n",
              "      <th id=\"T_fdc50_level0_row8\" class=\"row_heading level0 row8\" >affairs</th>\n",
              "      <td id=\"T_fdc50_row8_col0\" class=\"data row8 col0\" >-0.178068</td>\n",
              "      <td id=\"T_fdc50_row8_col1\" class=\"data row8 col1\" >-0.089964</td>\n",
              "      <td id=\"T_fdc50_row8_col2\" class=\"data row8 col2\" >-0.087737</td>\n",
              "      <td id=\"T_fdc50_row8_col3\" class=\"data row8 col3\" >-0.070278</td>\n",
              "      <td id=\"T_fdc50_row8_col4\" class=\"data row8 col4\" >-0.125933</td>\n",
              "      <td id=\"T_fdc50_row8_col5\" class=\"data row8 col5\" >-0.017740</td>\n",
              "      <td id=\"T_fdc50_row8_col6\" class=\"data row8 col6\" >0.004469</td>\n",
              "      <td id=\"T_fdc50_row8_col7\" class=\"data row8 col7\" >-0.015614</td>\n",
              "      <td id=\"T_fdc50_row8_col8\" class=\"data row8 col8\" >1.000000</td>\n",
              "    </tr>\n",
              "  </tbody>\n",
              "</table>\n"
            ]
          },
          "metadata": {},
          "execution_count": 24
        }
      ]
    },
    {
      "cell_type": "code",
      "source": [
        "corr_v.style.background_gradient(cmap='magma')"
      ],
      "metadata": {
        "id": "JblYN_DPgHs6"
      },
      "execution_count": null,
      "outputs": []
    },
    {
      "cell_type": "markdown",
      "source": [
        "## Chi-Square Study-1\n",
        "Chi-square test of independence: The hypothesis-testing procedure appropriate when both the independent variable and the dependent variables are categorical.\n",
        "\n",
        "### Does having a poor marriage lead to affairs?\n",
        "\n",
        "Let's create categorical data and add them as two new columns into our dataframe. <br>\n",
        " - Poor Marriage = yes, if rate_marriage <= 2 <br>\n",
        " - Affair = yes, if affair > 0"
      ],
      "metadata": {
        "id": "4gb9QrL_Vttx"
      }
    },
    {
      "cell_type": "code",
      "execution_count": null,
      "metadata": {
        "id": "5Y-cHA0xMHpn",
        "colab": {
          "base_uri": "https://localhost:8080/",
          "height": 487
        },
        "outputId": "e97353c9-ead7-476a-9ea8-ee55a2ddf139"
      },
      "outputs": [
        {
          "output_type": "execute_result",
          "data": {
            "text/plain": [
              "      rate_marriage   age  yrs_married  children  religious  educ  occupation  \\\n",
              "0               3.0  32.0          9.0       3.0        3.0  17.0         2.0   \n",
              "1               3.0  27.0         13.0       3.0        1.0  14.0         3.0   \n",
              "2               4.0  22.0          2.5       0.0        1.0  16.0         3.0   \n",
              "3               4.0  37.0         16.5       4.0        3.0  16.0         5.0   \n",
              "4               5.0  27.0          9.0       1.0        1.0  14.0         3.0   \n",
              "...             ...   ...          ...       ...        ...   ...         ...   \n",
              "6361            5.0  32.0         13.0       2.0        3.0  17.0         4.0   \n",
              "6362            4.0  32.0         13.0       1.0        1.0  16.0         5.0   \n",
              "6363            5.0  22.0          2.5       0.0        2.0  14.0         3.0   \n",
              "6364            5.0  32.0          6.0       1.0        3.0  14.0         3.0   \n",
              "6365            4.0  22.0          2.5       0.0        2.0  16.0         2.0   \n",
              "\n",
              "      occupation_husb   affairs  poor_marriage_yn  affairs_yn  \n",
              "0                 5.0  0.111111             False        True  \n",
              "1                 4.0  3.230769             False        True  \n",
              "2                 5.0  1.400000             False        True  \n",
              "3                 5.0  0.727273             False        True  \n",
              "4                 4.0  4.666666             False        True  \n",
              "...               ...       ...               ...         ...  \n",
              "6361              3.0  0.000000             False       False  \n",
              "6362              5.0  0.000000             False       False  \n",
              "6363              1.0  0.000000             False       False  \n",
              "6364              4.0  0.000000             False       False  \n",
              "6365              4.0  0.000000             False       False  \n",
              "\n",
              "[6366 rows x 11 columns]"
            ],
            "text/html": [
              "\n",
              "  <div id=\"df-29d5be88-7543-49ac-a6fd-4915c6e444ed\">\n",
              "    <div class=\"colab-df-container\">\n",
              "      <div>\n",
              "<style scoped>\n",
              "    .dataframe tbody tr th:only-of-type {\n",
              "        vertical-align: middle;\n",
              "    }\n",
              "\n",
              "    .dataframe tbody tr th {\n",
              "        vertical-align: top;\n",
              "    }\n",
              "\n",
              "    .dataframe thead th {\n",
              "        text-align: right;\n",
              "    }\n",
              "</style>\n",
              "<table border=\"1\" class=\"dataframe\">\n",
              "  <thead>\n",
              "    <tr style=\"text-align: right;\">\n",
              "      <th></th>\n",
              "      <th>rate_marriage</th>\n",
              "      <th>age</th>\n",
              "      <th>yrs_married</th>\n",
              "      <th>children</th>\n",
              "      <th>religious</th>\n",
              "      <th>educ</th>\n",
              "      <th>occupation</th>\n",
              "      <th>occupation_husb</th>\n",
              "      <th>affairs</th>\n",
              "      <th>poor_marriage_yn</th>\n",
              "      <th>affairs_yn</th>\n",
              "    </tr>\n",
              "  </thead>\n",
              "  <tbody>\n",
              "    <tr>\n",
              "      <th>0</th>\n",
              "      <td>3.0</td>\n",
              "      <td>32.0</td>\n",
              "      <td>9.0</td>\n",
              "      <td>3.0</td>\n",
              "      <td>3.0</td>\n",
              "      <td>17.0</td>\n",
              "      <td>2.0</td>\n",
              "      <td>5.0</td>\n",
              "      <td>0.111111</td>\n",
              "      <td>False</td>\n",
              "      <td>True</td>\n",
              "    </tr>\n",
              "    <tr>\n",
              "      <th>1</th>\n",
              "      <td>3.0</td>\n",
              "      <td>27.0</td>\n",
              "      <td>13.0</td>\n",
              "      <td>3.0</td>\n",
              "      <td>1.0</td>\n",
              "      <td>14.0</td>\n",
              "      <td>3.0</td>\n",
              "      <td>4.0</td>\n",
              "      <td>3.230769</td>\n",
              "      <td>False</td>\n",
              "      <td>True</td>\n",
              "    </tr>\n",
              "    <tr>\n",
              "      <th>2</th>\n",
              "      <td>4.0</td>\n",
              "      <td>22.0</td>\n",
              "      <td>2.5</td>\n",
              "      <td>0.0</td>\n",
              "      <td>1.0</td>\n",
              "      <td>16.0</td>\n",
              "      <td>3.0</td>\n",
              "      <td>5.0</td>\n",
              "      <td>1.400000</td>\n",
              "      <td>False</td>\n",
              "      <td>True</td>\n",
              "    </tr>\n",
              "    <tr>\n",
              "      <th>3</th>\n",
              "      <td>4.0</td>\n",
              "      <td>37.0</td>\n",
              "      <td>16.5</td>\n",
              "      <td>4.0</td>\n",
              "      <td>3.0</td>\n",
              "      <td>16.0</td>\n",
              "      <td>5.0</td>\n",
              "      <td>5.0</td>\n",
              "      <td>0.727273</td>\n",
              "      <td>False</td>\n",
              "      <td>True</td>\n",
              "    </tr>\n",
              "    <tr>\n",
              "      <th>4</th>\n",
              "      <td>5.0</td>\n",
              "      <td>27.0</td>\n",
              "      <td>9.0</td>\n",
              "      <td>1.0</td>\n",
              "      <td>1.0</td>\n",
              "      <td>14.0</td>\n",
              "      <td>3.0</td>\n",
              "      <td>4.0</td>\n",
              "      <td>4.666666</td>\n",
              "      <td>False</td>\n",
              "      <td>True</td>\n",
              "    </tr>\n",
              "    <tr>\n",
              "      <th>...</th>\n",
              "      <td>...</td>\n",
              "      <td>...</td>\n",
              "      <td>...</td>\n",
              "      <td>...</td>\n",
              "      <td>...</td>\n",
              "      <td>...</td>\n",
              "      <td>...</td>\n",
              "      <td>...</td>\n",
              "      <td>...</td>\n",
              "      <td>...</td>\n",
              "      <td>...</td>\n",
              "    </tr>\n",
              "    <tr>\n",
              "      <th>6361</th>\n",
              "      <td>5.0</td>\n",
              "      <td>32.0</td>\n",
              "      <td>13.0</td>\n",
              "      <td>2.0</td>\n",
              "      <td>3.0</td>\n",
              "      <td>17.0</td>\n",
              "      <td>4.0</td>\n",
              "      <td>3.0</td>\n",
              "      <td>0.000000</td>\n",
              "      <td>False</td>\n",
              "      <td>False</td>\n",
              "    </tr>\n",
              "    <tr>\n",
              "      <th>6362</th>\n",
              "      <td>4.0</td>\n",
              "      <td>32.0</td>\n",
              "      <td>13.0</td>\n",
              "      <td>1.0</td>\n",
              "      <td>1.0</td>\n",
              "      <td>16.0</td>\n",
              "      <td>5.0</td>\n",
              "      <td>5.0</td>\n",
              "      <td>0.000000</td>\n",
              "      <td>False</td>\n",
              "      <td>False</td>\n",
              "    </tr>\n",
              "    <tr>\n",
              "      <th>6363</th>\n",
              "      <td>5.0</td>\n",
              "      <td>22.0</td>\n",
              "      <td>2.5</td>\n",
              "      <td>0.0</td>\n",
              "      <td>2.0</td>\n",
              "      <td>14.0</td>\n",
              "      <td>3.0</td>\n",
              "      <td>1.0</td>\n",
              "      <td>0.000000</td>\n",
              "      <td>False</td>\n",
              "      <td>False</td>\n",
              "    </tr>\n",
              "    <tr>\n",
              "      <th>6364</th>\n",
              "      <td>5.0</td>\n",
              "      <td>32.0</td>\n",
              "      <td>6.0</td>\n",
              "      <td>1.0</td>\n",
              "      <td>3.0</td>\n",
              "      <td>14.0</td>\n",
              "      <td>3.0</td>\n",
              "      <td>4.0</td>\n",
              "      <td>0.000000</td>\n",
              "      <td>False</td>\n",
              "      <td>False</td>\n",
              "    </tr>\n",
              "    <tr>\n",
              "      <th>6365</th>\n",
              "      <td>4.0</td>\n",
              "      <td>22.0</td>\n",
              "      <td>2.5</td>\n",
              "      <td>0.0</td>\n",
              "      <td>2.0</td>\n",
              "      <td>16.0</td>\n",
              "      <td>2.0</td>\n",
              "      <td>4.0</td>\n",
              "      <td>0.000000</td>\n",
              "      <td>False</td>\n",
              "      <td>False</td>\n",
              "    </tr>\n",
              "  </tbody>\n",
              "</table>\n",
              "<p>6366 rows × 11 columns</p>\n",
              "</div>\n",
              "      <button class=\"colab-df-convert\" onclick=\"convertToInteractive('df-29d5be88-7543-49ac-a6fd-4915c6e444ed')\"\n",
              "              title=\"Convert this dataframe to an interactive table.\"\n",
              "              style=\"display:none;\">\n",
              "        \n",
              "  <svg xmlns=\"http://www.w3.org/2000/svg\" height=\"24px\"viewBox=\"0 0 24 24\"\n",
              "       width=\"24px\">\n",
              "    <path d=\"M0 0h24v24H0V0z\" fill=\"none\"/>\n",
              "    <path d=\"M18.56 5.44l.94 2.06.94-2.06 2.06-.94-2.06-.94-.94-2.06-.94 2.06-2.06.94zm-11 1L8.5 8.5l.94-2.06 2.06-.94-2.06-.94L8.5 2.5l-.94 2.06-2.06.94zm10 10l.94 2.06.94-2.06 2.06-.94-2.06-.94-.94-2.06-.94 2.06-2.06.94z\"/><path d=\"M17.41 7.96l-1.37-1.37c-.4-.4-.92-.59-1.43-.59-.52 0-1.04.2-1.43.59L10.3 9.45l-7.72 7.72c-.78.78-.78 2.05 0 2.83L4 21.41c.39.39.9.59 1.41.59.51 0 1.02-.2 1.41-.59l7.78-7.78 2.81-2.81c.8-.78.8-2.07 0-2.86zM5.41 20L4 18.59l7.72-7.72 1.47 1.35L5.41 20z\"/>\n",
              "  </svg>\n",
              "      </button>\n",
              "      \n",
              "  <style>\n",
              "    .colab-df-container {\n",
              "      display:flex;\n",
              "      flex-wrap:wrap;\n",
              "      gap: 12px;\n",
              "    }\n",
              "\n",
              "    .colab-df-convert {\n",
              "      background-color: #E8F0FE;\n",
              "      border: none;\n",
              "      border-radius: 50%;\n",
              "      cursor: pointer;\n",
              "      display: none;\n",
              "      fill: #1967D2;\n",
              "      height: 32px;\n",
              "      padding: 0 0 0 0;\n",
              "      width: 32px;\n",
              "    }\n",
              "\n",
              "    .colab-df-convert:hover {\n",
              "      background-color: #E2EBFA;\n",
              "      box-shadow: 0px 1px 2px rgba(60, 64, 67, 0.3), 0px 1px 3px 1px rgba(60, 64, 67, 0.15);\n",
              "      fill: #174EA6;\n",
              "    }\n",
              "\n",
              "    [theme=dark] .colab-df-convert {\n",
              "      background-color: #3B4455;\n",
              "      fill: #D2E3FC;\n",
              "    }\n",
              "\n",
              "    [theme=dark] .colab-df-convert:hover {\n",
              "      background-color: #434B5C;\n",
              "      box-shadow: 0px 1px 3px 1px rgba(0, 0, 0, 0.15);\n",
              "      filter: drop-shadow(0px 1px 2px rgba(0, 0, 0, 0.3));\n",
              "      fill: #FFFFFF;\n",
              "    }\n",
              "  </style>\n",
              "\n",
              "      <script>\n",
              "        const buttonEl =\n",
              "          document.querySelector('#df-29d5be88-7543-49ac-a6fd-4915c6e444ed button.colab-df-convert');\n",
              "        buttonEl.style.display =\n",
              "          google.colab.kernel.accessAllowed ? 'block' : 'none';\n",
              "\n",
              "        async function convertToInteractive(key) {\n",
              "          const element = document.querySelector('#df-29d5be88-7543-49ac-a6fd-4915c6e444ed');\n",
              "          const dataTable =\n",
              "            await google.colab.kernel.invokeFunction('convertToInteractive',\n",
              "                                                     [key], {});\n",
              "          if (!dataTable) return;\n",
              "\n",
              "          const docLinkHtml = 'Like what you see? Visit the ' +\n",
              "            '<a target=\"_blank\" href=https://colab.research.google.com/notebooks/data_table.ipynb>data table notebook</a>'\n",
              "            + ' to learn more about interactive tables.';\n",
              "          element.innerHTML = '';\n",
              "          dataTable['output_type'] = 'display_data';\n",
              "          await google.colab.output.renderOutput(dataTable, element);\n",
              "          const docLink = document.createElement('div');\n",
              "          docLink.innerHTML = docLinkHtml;\n",
              "          element.appendChild(docLink);\n",
              "        }\n",
              "      </script>\n",
              "    </div>\n",
              "  </div>\n",
              "  "
            ]
          },
          "metadata": {},
          "execution_count": 29
        }
      ],
      "source": [
        "df_fair_v2 = df_fair.assign(poor_marriage_yn=(df_fair.rate_marriage <= 2), affairs_yn=(df_fair.affairs > 0))\n",
        "df_fair_v2"
      ]
    },
    {
      "cell_type": "code",
      "source": [
        "df_fair_v2.poor_marriage_yn.value_counts()"
      ],
      "metadata": {
        "id": "RhMXPhExMwNy",
        "colab": {
          "base_uri": "https://localhost:8080/"
        },
        "outputId": "1f9455f9-accc-4984-fc5a-d44337bce77f"
      },
      "execution_count": null,
      "outputs": [
        {
          "output_type": "execute_result",
          "data": {
            "text/plain": [
              "False    5919\n",
              "True      447\n",
              "Name: poor_marriage_yn, dtype: int64"
            ]
          },
          "metadata": {},
          "execution_count": 26
        }
      ]
    },
    {
      "cell_type": "code",
      "source": [
        "df_fair_v2.affairs_yn.value_counts()"
      ],
      "metadata": {
        "id": "yPYwyuNQNbxi",
        "colab": {
          "base_uri": "https://localhost:8080/"
        },
        "outputId": "dec480e6-72ea-4c9d-8ecb-81d2a9f78c34"
      },
      "execution_count": null,
      "outputs": [
        {
          "output_type": "execute_result",
          "data": {
            "text/plain": [
              "False    4313\n",
              "True     2053\n",
              "Name: affairs_yn, dtype: int64"
            ]
          },
          "metadata": {},
          "execution_count": 27
        }
      ]
    },
    {
      "cell_type": "code",
      "execution_count": null,
      "metadata": {
        "id": "RfWeWBw5MHpn",
        "colab": {
          "base_uri": "https://localhost:8080/",
          "height": 143
        },
        "outputId": "0d250e82-58ce-4b34-a6bd-3d9e5e7b76fa"
      },
      "outputs": [
        {
          "output_type": "execute_result",
          "data": {
            "text/plain": [
              "affairs_yn        False  True\n",
              "poor_marriage_yn             \n",
              "False              4161  1758\n",
              "True                152   295"
            ],
            "text/html": [
              "\n",
              "  <div id=\"df-94061eb9-3c32-4a80-9d95-2c22e32153dd\">\n",
              "    <div class=\"colab-df-container\">\n",
              "      <div>\n",
              "<style scoped>\n",
              "    .dataframe tbody tr th:only-of-type {\n",
              "        vertical-align: middle;\n",
              "    }\n",
              "\n",
              "    .dataframe tbody tr th {\n",
              "        vertical-align: top;\n",
              "    }\n",
              "\n",
              "    .dataframe thead th {\n",
              "        text-align: right;\n",
              "    }\n",
              "</style>\n",
              "<table border=\"1\" class=\"dataframe\">\n",
              "  <thead>\n",
              "    <tr style=\"text-align: right;\">\n",
              "      <th>affairs_yn</th>\n",
              "      <th>False</th>\n",
              "      <th>True</th>\n",
              "    </tr>\n",
              "    <tr>\n",
              "      <th>poor_marriage_yn</th>\n",
              "      <th></th>\n",
              "      <th></th>\n",
              "    </tr>\n",
              "  </thead>\n",
              "  <tbody>\n",
              "    <tr>\n",
              "      <th>False</th>\n",
              "      <td>4161</td>\n",
              "      <td>1758</td>\n",
              "    </tr>\n",
              "    <tr>\n",
              "      <th>True</th>\n",
              "      <td>152</td>\n",
              "      <td>295</td>\n",
              "    </tr>\n",
              "  </tbody>\n",
              "</table>\n",
              "</div>\n",
              "      <button class=\"colab-df-convert\" onclick=\"convertToInteractive('df-94061eb9-3c32-4a80-9d95-2c22e32153dd')\"\n",
              "              title=\"Convert this dataframe to an interactive table.\"\n",
              "              style=\"display:none;\">\n",
              "        \n",
              "  <svg xmlns=\"http://www.w3.org/2000/svg\" height=\"24px\"viewBox=\"0 0 24 24\"\n",
              "       width=\"24px\">\n",
              "    <path d=\"M0 0h24v24H0V0z\" fill=\"none\"/>\n",
              "    <path d=\"M18.56 5.44l.94 2.06.94-2.06 2.06-.94-2.06-.94-.94-2.06-.94 2.06-2.06.94zm-11 1L8.5 8.5l.94-2.06 2.06-.94-2.06-.94L8.5 2.5l-.94 2.06-2.06.94zm10 10l.94 2.06.94-2.06 2.06-.94-2.06-.94-.94-2.06-.94 2.06-2.06.94z\"/><path d=\"M17.41 7.96l-1.37-1.37c-.4-.4-.92-.59-1.43-.59-.52 0-1.04.2-1.43.59L10.3 9.45l-7.72 7.72c-.78.78-.78 2.05 0 2.83L4 21.41c.39.39.9.59 1.41.59.51 0 1.02-.2 1.41-.59l7.78-7.78 2.81-2.81c.8-.78.8-2.07 0-2.86zM5.41 20L4 18.59l7.72-7.72 1.47 1.35L5.41 20z\"/>\n",
              "  </svg>\n",
              "      </button>\n",
              "      \n",
              "  <style>\n",
              "    .colab-df-container {\n",
              "      display:flex;\n",
              "      flex-wrap:wrap;\n",
              "      gap: 12px;\n",
              "    }\n",
              "\n",
              "    .colab-df-convert {\n",
              "      background-color: #E8F0FE;\n",
              "      border: none;\n",
              "      border-radius: 50%;\n",
              "      cursor: pointer;\n",
              "      display: none;\n",
              "      fill: #1967D2;\n",
              "      height: 32px;\n",
              "      padding: 0 0 0 0;\n",
              "      width: 32px;\n",
              "    }\n",
              "\n",
              "    .colab-df-convert:hover {\n",
              "      background-color: #E2EBFA;\n",
              "      box-shadow: 0px 1px 2px rgba(60, 64, 67, 0.3), 0px 1px 3px 1px rgba(60, 64, 67, 0.15);\n",
              "      fill: #174EA6;\n",
              "    }\n",
              "\n",
              "    [theme=dark] .colab-df-convert {\n",
              "      background-color: #3B4455;\n",
              "      fill: #D2E3FC;\n",
              "    }\n",
              "\n",
              "    [theme=dark] .colab-df-convert:hover {\n",
              "      background-color: #434B5C;\n",
              "      box-shadow: 0px 1px 3px 1px rgba(0, 0, 0, 0.15);\n",
              "      filter: drop-shadow(0px 1px 2px rgba(0, 0, 0, 0.3));\n",
              "      fill: #FFFFFF;\n",
              "    }\n",
              "  </style>\n",
              "\n",
              "      <script>\n",
              "        const buttonEl =\n",
              "          document.querySelector('#df-94061eb9-3c32-4a80-9d95-2c22e32153dd button.colab-df-convert');\n",
              "        buttonEl.style.display =\n",
              "          google.colab.kernel.accessAllowed ? 'block' : 'none';\n",
              "\n",
              "        async function convertToInteractive(key) {\n",
              "          const element = document.querySelector('#df-94061eb9-3c32-4a80-9d95-2c22e32153dd');\n",
              "          const dataTable =\n",
              "            await google.colab.kernel.invokeFunction('convertToInteractive',\n",
              "                                                     [key], {});\n",
              "          if (!dataTable) return;\n",
              "\n",
              "          const docLinkHtml = 'Like what you see? Visit the ' +\n",
              "            '<a target=\"_blank\" href=https://colab.research.google.com/notebooks/data_table.ipynb>data table notebook</a>'\n",
              "            + ' to learn more about interactive tables.';\n",
              "          element.innerHTML = '';\n",
              "          dataTable['output_type'] = 'display_data';\n",
              "          await google.colab.output.renderOutput(dataTable, element);\n",
              "          const docLink = document.createElement('div');\n",
              "          docLink.innerHTML = docLinkHtml;\n",
              "          element.appendChild(docLink);\n",
              "        }\n",
              "      </script>\n",
              "    </div>\n",
              "  </div>\n",
              "  "
            ]
          },
          "metadata": {},
          "execution_count": 28
        }
      ],
      "source": [
        "df = (df_fair_v2.groupby(['poor_marriage_yn', 'affairs_yn'])[['affairs']]\n",
        "      .count().unstack().droplevel(axis=1, level=0))\n",
        "df"
      ]
    },
    {
      "cell_type": "markdown",
      "source": [
        "Note that we know the the numbers of poor marriages, we know the number of affairs but we don't know whether those pieces of data come from the same couples. In other words, these are two independent groups of observations.\n",
        "\n",
        "Hypothesis: Assume the affair proportions are equal among poor marriages and non-poor marriages. In other other our words, null hypothesis is that \"there is no correlation between marriage poornees and having affairs.\n",
        "\n",
        "Let's test it."
      ],
      "metadata": {
        "id": "RdumsG4NS_Fc"
      }
    },
    {
      "cell_type": "code",
      "source": [
        "chi2, p, dof, ex = stats.chi2_contingency(df, correction=False)\n",
        "print('chi2:', chi2)\n",
        "print('p-value:', p)"
      ],
      "metadata": {
        "id": "ncmetvgyOHjK",
        "colab": {
          "base_uri": "https://localhost:8080/"
        },
        "outputId": "cfca6cab-425e-4458-a3f2-4e9fa0173853"
      },
      "execution_count": null,
      "outputs": [
        {
          "output_type": "stream",
          "name": "stdout",
          "text": [
            "chi2: 250.57470442229175\n",
            "p-value: 1.9460298519537103e-56\n"
          ]
        }
      ]
    },
    {
      "cell_type": "markdown",
      "source": [
        "p-value is 0 (in fact, it is a very small number, almost zero). This means that we have to reject the null hypothesis!"
      ],
      "metadata": {
        "id": "ZSQlHS6FUMN0"
      }
    },
    {
      "cell_type": "markdown",
      "source": [
        "In fact, we could come up with the same claim just by looking at the normalized version of df. See below. Affair ratio is 30% among \"non-poor marriages\" and 66% among \"poor marriages\". So they don't have same means!"
      ],
      "metadata": {
        "id": "g9Ri44l5U5nT"
      }
    },
    {
      "cell_type": "code",
      "source": [
        "df_pct = df.apply(axis=1, func=lambda r: r/r.sum())\n",
        "df_pct"
      ],
      "metadata": {
        "id": "4YS7aFwtOVwk",
        "colab": {
          "base_uri": "https://localhost:8080/",
          "height": 143
        },
        "outputId": "653ac62b-0dfa-4c5b-b84b-39876499fc31"
      },
      "execution_count": null,
      "outputs": [
        {
          "output_type": "execute_result",
          "data": {
            "text/plain": [
              "affairs_yn           False      True\n",
              "poor_marriage_yn                    \n",
              "False             0.702990  0.297010\n",
              "True              0.340045  0.659955"
            ],
            "text/html": [
              "\n",
              "  <div id=\"df-2d2d9fb2-8b89-4887-a565-d6074d744fbf\">\n",
              "    <div class=\"colab-df-container\">\n",
              "      <div>\n",
              "<style scoped>\n",
              "    .dataframe tbody tr th:only-of-type {\n",
              "        vertical-align: middle;\n",
              "    }\n",
              "\n",
              "    .dataframe tbody tr th {\n",
              "        vertical-align: top;\n",
              "    }\n",
              "\n",
              "    .dataframe thead th {\n",
              "        text-align: right;\n",
              "    }\n",
              "</style>\n",
              "<table border=\"1\" class=\"dataframe\">\n",
              "  <thead>\n",
              "    <tr style=\"text-align: right;\">\n",
              "      <th>affairs_yn</th>\n",
              "      <th>False</th>\n",
              "      <th>True</th>\n",
              "    </tr>\n",
              "    <tr>\n",
              "      <th>poor_marriage_yn</th>\n",
              "      <th></th>\n",
              "      <th></th>\n",
              "    </tr>\n",
              "  </thead>\n",
              "  <tbody>\n",
              "    <tr>\n",
              "      <th>False</th>\n",
              "      <td>0.702990</td>\n",
              "      <td>0.297010</td>\n",
              "    </tr>\n",
              "    <tr>\n",
              "      <th>True</th>\n",
              "      <td>0.340045</td>\n",
              "      <td>0.659955</td>\n",
              "    </tr>\n",
              "  </tbody>\n",
              "</table>\n",
              "</div>\n",
              "      <button class=\"colab-df-convert\" onclick=\"convertToInteractive('df-2d2d9fb2-8b89-4887-a565-d6074d744fbf')\"\n",
              "              title=\"Convert this dataframe to an interactive table.\"\n",
              "              style=\"display:none;\">\n",
              "        \n",
              "  <svg xmlns=\"http://www.w3.org/2000/svg\" height=\"24px\"viewBox=\"0 0 24 24\"\n",
              "       width=\"24px\">\n",
              "    <path d=\"M0 0h24v24H0V0z\" fill=\"none\"/>\n",
              "    <path d=\"M18.56 5.44l.94 2.06.94-2.06 2.06-.94-2.06-.94-.94-2.06-.94 2.06-2.06.94zm-11 1L8.5 8.5l.94-2.06 2.06-.94-2.06-.94L8.5 2.5l-.94 2.06-2.06.94zm10 10l.94 2.06.94-2.06 2.06-.94-2.06-.94-.94-2.06-.94 2.06-2.06.94z\"/><path d=\"M17.41 7.96l-1.37-1.37c-.4-.4-.92-.59-1.43-.59-.52 0-1.04.2-1.43.59L10.3 9.45l-7.72 7.72c-.78.78-.78 2.05 0 2.83L4 21.41c.39.39.9.59 1.41.59.51 0 1.02-.2 1.41-.59l7.78-7.78 2.81-2.81c.8-.78.8-2.07 0-2.86zM5.41 20L4 18.59l7.72-7.72 1.47 1.35L5.41 20z\"/>\n",
              "  </svg>\n",
              "      </button>\n",
              "      \n",
              "  <style>\n",
              "    .colab-df-container {\n",
              "      display:flex;\n",
              "      flex-wrap:wrap;\n",
              "      gap: 12px;\n",
              "    }\n",
              "\n",
              "    .colab-df-convert {\n",
              "      background-color: #E8F0FE;\n",
              "      border: none;\n",
              "      border-radius: 50%;\n",
              "      cursor: pointer;\n",
              "      display: none;\n",
              "      fill: #1967D2;\n",
              "      height: 32px;\n",
              "      padding: 0 0 0 0;\n",
              "      width: 32px;\n",
              "    }\n",
              "\n",
              "    .colab-df-convert:hover {\n",
              "      background-color: #E2EBFA;\n",
              "      box-shadow: 0px 1px 2px rgba(60, 64, 67, 0.3), 0px 1px 3px 1px rgba(60, 64, 67, 0.15);\n",
              "      fill: #174EA6;\n",
              "    }\n",
              "\n",
              "    [theme=dark] .colab-df-convert {\n",
              "      background-color: #3B4455;\n",
              "      fill: #D2E3FC;\n",
              "    }\n",
              "\n",
              "    [theme=dark] .colab-df-convert:hover {\n",
              "      background-color: #434B5C;\n",
              "      box-shadow: 0px 1px 3px 1px rgba(0, 0, 0, 0.15);\n",
              "      filter: drop-shadow(0px 1px 2px rgba(0, 0, 0, 0.3));\n",
              "      fill: #FFFFFF;\n",
              "    }\n",
              "  </style>\n",
              "\n",
              "      <script>\n",
              "        const buttonEl =\n",
              "          document.querySelector('#df-2d2d9fb2-8b89-4887-a565-d6074d744fbf button.colab-df-convert');\n",
              "        buttonEl.style.display =\n",
              "          google.colab.kernel.accessAllowed ? 'block' : 'none';\n",
              "\n",
              "        async function convertToInteractive(key) {\n",
              "          const element = document.querySelector('#df-2d2d9fb2-8b89-4887-a565-d6074d744fbf');\n",
              "          const dataTable =\n",
              "            await google.colab.kernel.invokeFunction('convertToInteractive',\n",
              "                                                     [key], {});\n",
              "          if (!dataTable) return;\n",
              "\n",
              "          const docLinkHtml = 'Like what you see? Visit the ' +\n",
              "            '<a target=\"_blank\" href=https://colab.research.google.com/notebooks/data_table.ipynb>data table notebook</a>'\n",
              "            + ' to learn more about interactive tables.';\n",
              "          element.innerHTML = '';\n",
              "          dataTable['output_type'] = 'display_data';\n",
              "          await google.colab.output.renderOutput(dataTable, element);\n",
              "          const docLink = document.createElement('div');\n",
              "          docLink.innerHTML = docLinkHtml;\n",
              "          element.appendChild(docLink);\n",
              "        }\n",
              "      </script>\n",
              "    </div>\n",
              "  </div>\n",
              "  "
            ]
          },
          "metadata": {},
          "execution_count": 31
        }
      ]
    },
    {
      "cell_type": "markdown",
      "source": [
        "Let's visualize this with SNS"
      ],
      "metadata": {
        "id": "2fXgEUh3VbRd"
      }
    },
    {
      "cell_type": "code",
      "execution_count": null,
      "metadata": {
        "id": "63mAkVOaMHpp",
        "colab": {
          "base_uri": "https://localhost:8080/",
          "height": 298
        },
        "outputId": "c64fa51d-ded6-460e-bfaf-2b6638ccc616"
      },
      "outputs": [
        {
          "output_type": "execute_result",
          "data": {
            "text/plain": [
              "<matplotlib.axes._subplots.AxesSubplot at 0x7fd3b6eb49d0>"
            ]
          },
          "metadata": {},
          "execution_count": 32
        },
        {
          "output_type": "display_data",
          "data": {
            "text/plain": [
              "<Figure size 432x288 with 1 Axes>"
            ],
            "image/png": "[encoded data removed]"
          },
          "metadata": {
            "needs_background": "light"
          }
        }
      ],
      "source": [
        "sns.countplot(data=df_fair_v2,x='poor_marriage_yn', hue='affairs_yn', saturation=0.9)"
      ]
    },
    {
      "cell_type": "markdown",
      "source": [
        "### Welch's t-test\n",
        "We could have used Welch's t-test to answer the same question.  \n",
        "\n",
        "In this case, we will compare the average affair count among two groups: poor marriages and non-poor marriages!"
      ],
      "metadata": {
        "id": "u33J1Ngkgvud"
      }
    },
    {
      "cell_type": "code",
      "source": [
        "# First, let's check\n",
        "df_fair_v2.groupby('poor_marriage_yn').affairs.describe()"
      ],
      "metadata": {
        "id": "BkomVP_4h9Rf",
        "colab": {
          "base_uri": "https://localhost:8080/",
          "height": 143
        },
        "outputId": "5629375d-fcc7-4b22-f295-e0e1054e0140"
      },
      "execution_count": null,
      "outputs": [
        {
          "output_type": "execute_result",
          "data": {
            "text/plain": [
              "                   count      mean       std  min  25%       50%       75%  \\\n",
              "poor_marriage_yn                                                             \n",
              "False             5919.0  0.643549  2.116982  0.0  0.0  0.000000  0.347826   \n",
              "True               447.0  1.524038  3.015937  0.0  0.0  0.532609  1.507691   \n",
              "\n",
              "                        max  \n",
              "poor_marriage_yn             \n",
              "False             57.599991  \n",
              "True              26.879990  "
            ],
            "text/html": [
              "\n",
              "  <div id=\"df-1d136233-fa3f-419b-a636-b8276e6dbd17\">\n",
              "    <div class=\"colab-df-container\">\n",
              "      <div>\n",
              "<style scoped>\n",
              "    .dataframe tbody tr th:only-of-type {\n",
              "        vertical-align: middle;\n",
              "    }\n",
              "\n",
              "    .dataframe tbody tr th {\n",
              "        vertical-align: top;\n",
              "    }\n",
              "\n",
              "    .dataframe thead th {\n",
              "        text-align: right;\n",
              "    }\n",
              "</style>\n",
              "<table border=\"1\" class=\"dataframe\">\n",
              "  <thead>\n",
              "    <tr style=\"text-align: right;\">\n",
              "      <th></th>\n",
              "      <th>count</th>\n",
              "      <th>mean</th>\n",
              "      <th>std</th>\n",
              "      <th>min</th>\n",
              "      <th>25%</th>\n",
              "      <th>50%</th>\n",
              "      <th>75%</th>\n",
              "      <th>max</th>\n",
              "    </tr>\n",
              "    <tr>\n",
              "      <th>poor_marriage_yn</th>\n",
              "      <th></th>\n",
              "      <th></th>\n",
              "      <th></th>\n",
              "      <th></th>\n",
              "      <th></th>\n",
              "      <th></th>\n",
              "      <th></th>\n",
              "      <th></th>\n",
              "    </tr>\n",
              "  </thead>\n",
              "  <tbody>\n",
              "    <tr>\n",
              "      <th>False</th>\n",
              "      <td>5919.0</td>\n",
              "      <td>0.643549</td>\n",
              "      <td>2.116982</td>\n",
              "      <td>0.0</td>\n",
              "      <td>0.0</td>\n",
              "      <td>0.000000</td>\n",
              "      <td>0.347826</td>\n",
              "      <td>57.599991</td>\n",
              "    </tr>\n",
              "    <tr>\n",
              "      <th>True</th>\n",
              "      <td>447.0</td>\n",
              "      <td>1.524038</td>\n",
              "      <td>3.015937</td>\n",
              "      <td>0.0</td>\n",
              "      <td>0.0</td>\n",
              "      <td>0.532609</td>\n",
              "      <td>1.507691</td>\n",
              "      <td>26.879990</td>\n",
              "    </tr>\n",
              "  </tbody>\n",
              "</table>\n",
              "</div>\n",
              "      <button class=\"colab-df-convert\" onclick=\"convertToInteractive('df-1d136233-fa3f-419b-a636-b8276e6dbd17')\"\n",
              "              title=\"Convert this dataframe to an interactive table.\"\n",
              "              style=\"display:none;\">\n",
              "        \n",
              "  <svg xmlns=\"http://www.w3.org/2000/svg\" height=\"24px\"viewBox=\"0 0 24 24\"\n",
              "       width=\"24px\">\n",
              "    <path d=\"M0 0h24v24H0V0z\" fill=\"none\"/>\n",
              "    <path d=\"M18.56 5.44l.94 2.06.94-2.06 2.06-.94-2.06-.94-.94-2.06-.94 2.06-2.06.94zm-11 1L8.5 8.5l.94-2.06 2.06-.94-2.06-.94L8.5 2.5l-.94 2.06-2.06.94zm10 10l.94 2.06.94-2.06 2.06-.94-2.06-.94-.94-2.06-.94 2.06-2.06.94z\"/><path d=\"M17.41 7.96l-1.37-1.37c-.4-.4-.92-.59-1.43-.59-.52 0-1.04.2-1.43.59L10.3 9.45l-7.72 7.72c-.78.78-.78 2.05 0 2.83L4 21.41c.39.39.9.59 1.41.59.51 0 1.02-.2 1.41-.59l7.78-7.78 2.81-2.81c.8-.78.8-2.07 0-2.86zM5.41 20L4 18.59l7.72-7.72 1.47 1.35L5.41 20z\"/>\n",
              "  </svg>\n",
              "      </button>\n",
              "      \n",
              "  <style>\n",
              "    .colab-df-container {\n",
              "      display:flex;\n",
              "      flex-wrap:wrap;\n",
              "      gap: 12px;\n",
              "    }\n",
              "\n",
              "    .colab-df-convert {\n",
              "      background-color: #E8F0FE;\n",
              "      border: none;\n",
              "      border-radius: 50%;\n",
              "      cursor: pointer;\n",
              "      display: none;\n",
              "      fill: #1967D2;\n",
              "      height: 32px;\n",
              "      padding: 0 0 0 0;\n",
              "      width: 32px;\n",
              "    }\n",
              "\n",
              "    .colab-df-convert:hover {\n",
              "      background-color: #E2EBFA;\n",
              "      box-shadow: 0px 1px 2px rgba(60, 64, 67, 0.3), 0px 1px 3px 1px rgba(60, 64, 67, 0.15);\n",
              "      fill: #174EA6;\n",
              "    }\n",
              "\n",
              "    [theme=dark] .colab-df-convert {\n",
              "      background-color: #3B4455;\n",
              "      fill: #D2E3FC;\n",
              "    }\n",
              "\n",
              "    [theme=dark] .colab-df-convert:hover {\n",
              "      background-color: #434B5C;\n",
              "      box-shadow: 0px 1px 3px 1px rgba(0, 0, 0, 0.15);\n",
              "      filter: drop-shadow(0px 1px 2px rgba(0, 0, 0, 0.3));\n",
              "      fill: #FFFFFF;\n",
              "    }\n",
              "  </style>\n",
              "\n",
              "      <script>\n",
              "        const buttonEl =\n",
              "          document.querySelector('#df-1d136233-fa3f-419b-a636-b8276e6dbd17 button.colab-df-convert');\n",
              "        buttonEl.style.display =\n",
              "          google.colab.kernel.accessAllowed ? 'block' : 'none';\n",
              "\n",
              "        async function convertToInteractive(key) {\n",
              "          const element = document.querySelector('#df-1d136233-fa3f-419b-a636-b8276e6dbd17');\n",
              "          const dataTable =\n",
              "            await google.colab.kernel.invokeFunction('convertToInteractive',\n",
              "                                                     [key], {});\n",
              "          if (!dataTable) return;\n",
              "\n",
              "          const docLinkHtml = 'Like what you see? Visit the ' +\n",
              "            '<a target=\"_blank\" href=https://colab.research.google.com/notebooks/data_table.ipynb>data table notebook</a>'\n",
              "            + ' to learn more about interactive tables.';\n",
              "          element.innerHTML = '';\n",
              "          dataTable['output_type'] = 'display_data';\n",
              "          await google.colab.output.renderOutput(dataTable, element);\n",
              "          const docLink = document.createElement('div');\n",
              "          docLink.innerHTML = docLinkHtml;\n",
              "          element.appendChild(docLink);\n",
              "        }\n",
              "      </script>\n",
              "    </div>\n",
              "  </div>\n",
              "  "
            ]
          },
          "metadata": {},
          "execution_count": 34
        }
      ]
    },
    {
      "cell_type": "markdown",
      "source": [
        "They definitely have very different means!"
      ],
      "metadata": {
        "id": "CFXWjTFnkEJ9"
      }
    },
    {
      "cell_type": "code",
      "source": [
        "# affair counts among poor marriages\n",
        "a = df_fair_v2[df_fair_v2.poor_marriage_yn].affairs\n",
        "# affair counts among non-poor marriages\n",
        "b = df_fair_v2[~df_fair_v2.poor_marriage_yn].affairs"
      ],
      "metadata": {
        "id": "HMhkne2Xg8kb"
      },
      "execution_count": null,
      "outputs": []
    },
    {
      "cell_type": "code",
      "source": [
        "sns.histplot(a, kde=True)"
      ],
      "metadata": {
        "id": "dmK2pWETiSA0",
        "colab": {
          "base_uri": "https://localhost:8080/",
          "height": 297
        },
        "outputId": "a739798c-ba72-4cad-feab-14b79a687a7e"
      },
      "execution_count": null,
      "outputs": [
        {
          "output_type": "execute_result",
          "data": {
            "text/plain": [
              "<matplotlib.axes._subplots.AxesSubplot at 0x7fd3b4a6fd50>"
            ]
          },
          "metadata": {},
          "execution_count": 39
        },
        {
          "output_type": "display_data",
          "data": {
            "text/plain": [
              "<Figure size 432x288 with 1 Axes>"
            ],
            "image/png": "[encoded data removed]"
          },
          "metadata": {
            "needs_background": "light"
          }
        }
      ]
    },
    {
      "cell_type": "code",
      "source": [
        "tstats, pvalue = stats.ttest_ind(a, b, equal_var=False)\n",
        "print(pvalue)"
      ],
      "metadata": {
        "id": "sfaXmPk-iLvb",
        "colab": {
          "base_uri": "https://localhost:8080/"
        },
        "outputId": "d956b2f8-3fcd-4cab-ac32-3dcb2a2fb443"
      },
      "execution_count": null,
      "outputs": [
        {
          "output_type": "stream",
          "name": "stdout",
          "text": [
            "2.7446844166802127e-09\n"
          ]
        }
      ]
    },
    {
      "cell_type": "code",
      "source": [
        "# How to visualize!\n",
        "sns.pointplot(data = df_fair_v2, x='poor_marriage_yn', y='affairs')"
      ],
      "metadata": {
        "id": "Fcn7x6n1kbNV",
        "colab": {
          "base_uri": "https://localhost:8080/",
          "height": 298
        },
        "outputId": "f80aff4e-dc67-4e24-8f3c-3ce96a218f5b"
      },
      "execution_count": null,
      "outputs": [
        {
          "output_type": "execute_result",
          "data": {
            "text/plain": [
              "<matplotlib.axes._subplots.AxesSubplot at 0x7fd3b3f03310>"
            ]
          },
          "metadata": {},
          "execution_count": 41
        },
        {
          "output_type": "display_data",
          "data": {
            "text/plain": [
              "<Figure size 432x288 with 1 Axes>"
            ],
            "image/png": "[encoded data removed]"
          },
          "metadata": {
            "needs_background": "light"
          }
        }
      ]
    },
    {
      "cell_type": "markdown",
      "source": [
        "### Fisher’s Exact Test\n",
        "Fisher’s Exact Test is a statistical test used to determine if the proportions of categories in two group variables significantly differ from each other."
      ],
      "metadata": {
        "id": "dDd9t1Kb0B01"
      }
    },
    {
      "cell_type": "code",
      "source": [
        "oddsr, p = stats.fisher_exact(df, alternative='two-sided')\n",
        "display(oddsr,p)"
      ],
      "metadata": {
        "id": "2uEhc8Pxytxe",
        "colab": {
          "base_uri": "https://localhost:8080/",
          "height": 52
        },
        "outputId": "2fd60d19-687c-4c4f-99fa-99b10da0e27e"
      },
      "execution_count": null,
      "outputs": [
        {
          "output_type": "display_data",
          "data": {
            "text/plain": [
              "4.593643344709897"
            ]
          },
          "metadata": {}
        },
        {
          "output_type": "display_data",
          "data": {
            "text/plain": [
              "4.72822285334006e-52"
            ]
          },
          "metadata": {}
        }
      ]
    },
    {
      "cell_type": "markdown",
      "source": [
        "p-value is less than 0.05, so these two categories are significanty different than each other!"
      ],
      "metadata": {
        "id": "OocT4GMn0OIH"
      }
    },
    {
      "cell_type": "markdown",
      "source": [
        "## Chi-Square Study-2\n",
        "Null Hypothesis: There is no difference among farmers and business people in terms of affair averages.\n",
        "\n",
        "Let's check"
      ],
      "metadata": {
        "id": "8odYU5WiWh2k"
      }
    },
    {
      "cell_type": "code",
      "execution_count": null,
      "metadata": {
        "id": "OvWAGbiFMHpp",
        "colab": {
          "base_uri": "https://localhost:8080/",
          "height": 487
        },
        "outputId": "b1d472ff-4e82-453b-d72e-e0801c69497b"
      },
      "outputs": [
        {
          "output_type": "execute_result",
          "data": {
            "text/plain": [
              "      rate_marriage   age  yrs_married  children  religious  educ  occupation  \\\n",
              "0               3.0  32.0          9.0       3.0        3.0  17.0         2.0   \n",
              "7               5.0  37.0         23.0       5.5        2.0  12.0         2.0   \n",
              "12              3.0  37.0         16.5       5.5        1.0  12.0         2.0   \n",
              "26              2.0  27.0          6.0       2.0        2.0  12.0         2.0   \n",
              "33              4.0  32.0         16.5       5.5        4.0  12.0         2.0   \n",
              "...             ...   ...          ...       ...        ...   ...         ...   \n",
              "6323            4.0  22.0          2.5       0.0        3.0  20.0         6.0   \n",
              "6333            5.0  22.0          0.5       0.0        3.0  14.0         2.0   \n",
              "6334            4.0  22.0          2.5       1.0        3.0  14.0         2.0   \n",
              "6338            5.0  42.0         23.0       2.0        3.0  12.0         2.0   \n",
              "6365            4.0  22.0          2.5       0.0        2.0  16.0         2.0   \n",
              "\n",
              "      occupation_husb   affairs  poor_marriage_yn  affairs_yn  \n",
              "0                 5.0  0.111111             False        True  \n",
              "7                 3.0  1.826086             False        True  \n",
              "12                3.0  0.484848             False        True  \n",
              "26                5.0  0.166667              True        True  \n",
              "33                4.0  0.727273             False        True  \n",
              "...               ...       ...               ...         ...  \n",
              "6323              6.0  0.000000             False       False  \n",
              "6333              2.0  0.000000             False       False  \n",
              "6334              4.0  0.000000             False       False  \n",
              "6338              2.0  0.000000             False       False  \n",
              "6365              4.0  0.000000             False       False  \n",
              "\n",
              "[968 rows x 11 columns]"
            ],
            "text/html": [
              "\n",
              "  <div id=\"df-63bd2b86-2a91-46e7-b12a-bb5c16b93dbc\">\n",
              "    <div class=\"colab-df-container\">\n",
              "      <div>\n",
              "<style scoped>\n",
              "    .dataframe tbody tr th:only-of-type {\n",
              "        vertical-align: middle;\n",
              "    }\n",
              "\n",
              "    .dataframe tbody tr th {\n",
              "        vertical-align: top;\n",
              "    }\n",
              "\n",
              "    .dataframe thead th {\n",
              "        text-align: right;\n",
              "    }\n",
              "</style>\n",
              "<table border=\"1\" class=\"dataframe\">\n",
              "  <thead>\n",
              "    <tr style=\"text-align: right;\">\n",
              "      <th></th>\n",
              "      <th>rate_marriage</th>\n",
              "      <th>age</th>\n",
              "      <th>yrs_married</th>\n",
              "      <th>children</th>\n",
              "      <th>religious</th>\n",
              "      <th>educ</th>\n",
              "      <th>occupation</th>\n",
              "      <th>occupation_husb</th>\n",
              "      <th>affairs</th>\n",
              "      <th>poor_marriage_yn</th>\n",
              "      <th>affairs_yn</th>\n",
              "    </tr>\n",
              "  </thead>\n",
              "  <tbody>\n",
              "    <tr>\n",
              "      <th>0</th>\n",
              "      <td>3.0</td>\n",
              "      <td>32.0</td>\n",
              "      <td>9.0</td>\n",
              "      <td>3.0</td>\n",
              "      <td>3.0</td>\n",
              "      <td>17.0</td>\n",
              "      <td>2.0</td>\n",
              "      <td>5.0</td>\n",
              "      <td>0.111111</td>\n",
              "      <td>False</td>\n",
              "      <td>True</td>\n",
              "    </tr>\n",
              "    <tr>\n",
              "      <th>7</th>\n",
              "      <td>5.0</td>\n",
              "      <td>37.0</td>\n",
              "      <td>23.0</td>\n",
              "      <td>5.5</td>\n",
              "      <td>2.0</td>\n",
              "      <td>12.0</td>\n",
              "      <td>2.0</td>\n",
              "      <td>3.0</td>\n",
              "      <td>1.826086</td>\n",
              "      <td>False</td>\n",
              "      <td>True</td>\n",
              "    </tr>\n",
              "    <tr>\n",
              "      <th>12</th>\n",
              "      <td>3.0</td>\n",
              "      <td>37.0</td>\n",
              "      <td>16.5</td>\n",
              "      <td>5.5</td>\n",
              "      <td>1.0</td>\n",
              "      <td>12.0</td>\n",
              "      <td>2.0</td>\n",
              "      <td>3.0</td>\n",
              "      <td>0.484848</td>\n",
              "      <td>False</td>\n",
              "      <td>True</td>\n",
              "    </tr>\n",
              "    <tr>\n",
              "      <th>26</th>\n",
              "      <td>2.0</td>\n",
              "      <td>27.0</td>\n",
              "      <td>6.0</td>\n",
              "      <td>2.0</td>\n",
              "      <td>2.0</td>\n",
              "      <td>12.0</td>\n",
              "      <td>2.0</td>\n",
              "      <td>5.0</td>\n",
              "      <td>0.166667</td>\n",
              "      <td>True</td>\n",
              "      <td>True</td>\n",
              "    </tr>\n",
              "    <tr>\n",
              "      <th>33</th>\n",
              "      <td>4.0</td>\n",
              "      <td>32.0</td>\n",
              "      <td>16.5</td>\n",
              "      <td>5.5</td>\n",
              "      <td>4.0</td>\n",
              "      <td>12.0</td>\n",
              "      <td>2.0</td>\n",
              "      <td>4.0</td>\n",
              "      <td>0.727273</td>\n",
              "      <td>False</td>\n",
              "      <td>True</td>\n",
              "    </tr>\n",
              "    <tr>\n",
              "      <th>...</th>\n",
              "      <td>...</td>\n",
              "      <td>...</td>\n",
              "      <td>...</td>\n",
              "      <td>...</td>\n",
              "      <td>...</td>\n",
              "      <td>...</td>\n",
              "      <td>...</td>\n",
              "      <td>...</td>\n",
              "      <td>...</td>\n",
              "      <td>...</td>\n",
              "      <td>...</td>\n",
              "    </tr>\n",
              "    <tr>\n",
              "      <th>6323</th>\n",
              "      <td>4.0</td>\n",
              "      <td>22.0</td>\n",
              "      <td>2.5</td>\n",
              "      <td>0.0</td>\n",
              "      <td>3.0</td>\n",
              "      <td>20.0</td>\n",
              "      <td>6.0</td>\n",
              "      <td>6.0</td>\n",
              "      <td>0.000000</td>\n",
              "      <td>False</td>\n",
              "      <td>False</td>\n",
              "    </tr>\n",
              "    <tr>\n",
              "      <th>6333</th>\n",
              "      <td>5.0</td>\n",
              "      <td>22.0</td>\n",
              "      <td>0.5</td>\n",
              "      <td>0.0</td>\n",
              "      <td>3.0</td>\n",
              "      <td>14.0</td>\n",
              "      <td>2.0</td>\n",
              "      <td>2.0</td>\n",
              "      <td>0.000000</td>\n",
              "      <td>False</td>\n",
              "      <td>False</td>\n",
              "    </tr>\n",
              "    <tr>\n",
              "      <th>6334</th>\n",
              "      <td>4.0</td>\n",
              "      <td>22.0</td>\n",
              "      <td>2.5</td>\n",
              "      <td>1.0</td>\n",
              "      <td>3.0</td>\n",
              "      <td>14.0</td>\n",
              "      <td>2.0</td>\n",
              "      <td>4.0</td>\n",
              "      <td>0.000000</td>\n",
              "      <td>False</td>\n",
              "      <td>False</td>\n",
              "    </tr>\n",
              "    <tr>\n",
              "      <th>6338</th>\n",
              "      <td>5.0</td>\n",
              "      <td>42.0</td>\n",
              "      <td>23.0</td>\n",
              "      <td>2.0</td>\n",
              "      <td>3.0</td>\n",
              "      <td>12.0</td>\n",
              "      <td>2.0</td>\n",
              "      <td>2.0</td>\n",
              "      <td>0.000000</td>\n",
              "      <td>False</td>\n",
              "      <td>False</td>\n",
              "    </tr>\n",
              "    <tr>\n",
              "      <th>6365</th>\n",
              "      <td>4.0</td>\n",
              "      <td>22.0</td>\n",
              "      <td>2.5</td>\n",
              "      <td>0.0</td>\n",
              "      <td>2.0</td>\n",
              "      <td>16.0</td>\n",
              "      <td>2.0</td>\n",
              "      <td>4.0</td>\n",
              "      <td>0.000000</td>\n",
              "      <td>False</td>\n",
              "      <td>False</td>\n",
              "    </tr>\n",
              "  </tbody>\n",
              "</table>\n",
              "<p>968 rows × 11 columns</p>\n",
              "</div>\n",
              "      <button class=\"colab-df-convert\" onclick=\"convertToInteractive('df-63bd2b86-2a91-46e7-b12a-bb5c16b93dbc')\"\n",
              "              title=\"Convert this dataframe to an interactive table.\"\n",
              "              style=\"display:none;\">\n",
              "        \n",
              "  <svg xmlns=\"http://www.w3.org/2000/svg\" height=\"24px\"viewBox=\"0 0 24 24\"\n",
              "       width=\"24px\">\n",
              "    <path d=\"M0 0h24v24H0V0z\" fill=\"none\"/>\n",
              "    <path d=\"M18.56 5.44l.94 2.06.94-2.06 2.06-.94-2.06-.94-.94-2.06-.94 2.06-2.06.94zm-11 1L8.5 8.5l.94-2.06 2.06-.94-2.06-.94L8.5 2.5l-.94 2.06-2.06.94zm10 10l.94 2.06.94-2.06 2.06-.94-2.06-.94-.94-2.06-.94 2.06-2.06.94z\"/><path d=\"M17.41 7.96l-1.37-1.37c-.4-.4-.92-.59-1.43-.59-.52 0-1.04.2-1.43.59L10.3 9.45l-7.72 7.72c-.78.78-.78 2.05 0 2.83L4 21.41c.39.39.9.59 1.41.59.51 0 1.02-.2 1.41-.59l7.78-7.78 2.81-2.81c.8-.78.8-2.07 0-2.86zM5.41 20L4 18.59l7.72-7.72 1.47 1.35L5.41 20z\"/>\n",
              "  </svg>\n",
              "      </button>\n",
              "      \n",
              "  <style>\n",
              "    .colab-df-container {\n",
              "      display:flex;\n",
              "      flex-wrap:wrap;\n",
              "      gap: 12px;\n",
              "    }\n",
              "\n",
              "    .colab-df-convert {\n",
              "      background-color: #E8F0FE;\n",
              "      border: none;\n",
              "      border-radius: 50%;\n",
              "      cursor: pointer;\n",
              "      display: none;\n",
              "      fill: #1967D2;\n",
              "      height: 32px;\n",
              "      padding: 0 0 0 0;\n",
              "      width: 32px;\n",
              "    }\n",
              "\n",
              "    .colab-df-convert:hover {\n",
              "      background-color: #E2EBFA;\n",
              "      box-shadow: 0px 1px 2px rgba(60, 64, 67, 0.3), 0px 1px 3px 1px rgba(60, 64, 67, 0.15);\n",
              "      fill: #174EA6;\n",
              "    }\n",
              "\n",
              "    [theme=dark] .colab-df-convert {\n",
              "      background-color: #3B4455;\n",
              "      fill: #D2E3FC;\n",
              "    }\n",
              "\n",
              "    [theme=dark] .colab-df-convert:hover {\n",
              "      background-color: #434B5C;\n",
              "      box-shadow: 0px 1px 3px 1px rgba(0, 0, 0, 0.15);\n",
              "      filter: drop-shadow(0px 1px 2px rgba(0, 0, 0, 0.3));\n",
              "      fill: #FFFFFF;\n",
              "    }\n",
              "  </style>\n",
              "\n",
              "      <script>\n",
              "        const buttonEl =\n",
              "          document.querySelector('#df-63bd2b86-2a91-46e7-b12a-bb5c16b93dbc button.colab-df-convert');\n",
              "        buttonEl.style.display =\n",
              "          google.colab.kernel.accessAllowed ? 'block' : 'none';\n",
              "\n",
              "        async function convertToInteractive(key) {\n",
              "          const element = document.querySelector('#df-63bd2b86-2a91-46e7-b12a-bb5c16b93dbc');\n",
              "          const dataTable =\n",
              "            await google.colab.kernel.invokeFunction('convertToInteractive',\n",
              "                                                     [key], {});\n",
              "          if (!dataTable) return;\n",
              "\n",
              "          const docLinkHtml = 'Like what you see? Visit the ' +\n",
              "            '<a target=\"_blank\" href=https://colab.research.google.com/notebooks/data_table.ipynb>data table notebook</a>'\n",
              "            + ' to learn more about interactive tables.';\n",
              "          element.innerHTML = '';\n",
              "          dataTable['output_type'] = 'display_data';\n",
              "          await google.colab.output.renderOutput(dataTable, element);\n",
              "          const docLink = document.createElement('div');\n",
              "          docLink.innerHTML = docLinkHtml;\n",
              "          element.appendChild(docLink);\n",
              "        }\n",
              "      </script>\n",
              "    </div>\n",
              "  </div>\n",
              "  "
            ]
          },
          "metadata": {},
          "execution_count": 43
        }
      ],
      "source": [
        "df_v3 = df_fair_v2[df_fair_v2.occupation.isin([2, 6])]\n",
        "df_v3"
      ]
    },
    {
      "cell_type": "code",
      "execution_count": null,
      "metadata": {
        "id": "oVnnqip2MHpq",
        "colab": {
          "base_uri": "https://localhost:8080/",
          "height": 143
        },
        "outputId": "f90dcad1-8b96-4694-9094-f41fe93a7b21"
      },
      "outputs": [
        {
          "output_type": "execute_result",
          "data": {
            "text/plain": [
              "affairs_yn  False  True\n",
              "occupation             \n",
              "2.0           607   252\n",
              "6.0            69    40"
            ],
            "text/html": [
              "\n",
              "  <div id=\"df-391ef824-51f5-492a-ae66-44420308c47b\">\n",
              "    <div class=\"colab-df-container\">\n",
              "      <div>\n",
              "<style scoped>\n",
              "    .dataframe tbody tr th:only-of-type {\n",
              "        vertical-align: middle;\n",
              "    }\n",
              "\n",
              "    .dataframe tbody tr th {\n",
              "        vertical-align: top;\n",
              "    }\n",
              "\n",
              "    .dataframe thead th {\n",
              "        text-align: right;\n",
              "    }\n",
              "</style>\n",
              "<table border=\"1\" class=\"dataframe\">\n",
              "  <thead>\n",
              "    <tr style=\"text-align: right;\">\n",
              "      <th>affairs_yn</th>\n",
              "      <th>False</th>\n",
              "      <th>True</th>\n",
              "    </tr>\n",
              "    <tr>\n",
              "      <th>occupation</th>\n",
              "      <th></th>\n",
              "      <th></th>\n",
              "    </tr>\n",
              "  </thead>\n",
              "  <tbody>\n",
              "    <tr>\n",
              "      <th>2.0</th>\n",
              "      <td>607</td>\n",
              "      <td>252</td>\n",
              "    </tr>\n",
              "    <tr>\n",
              "      <th>6.0</th>\n",
              "      <td>69</td>\n",
              "      <td>40</td>\n",
              "    </tr>\n",
              "  </tbody>\n",
              "</table>\n",
              "</div>\n",
              "      <button class=\"colab-df-convert\" onclick=\"convertToInteractive('df-391ef824-51f5-492a-ae66-44420308c47b')\"\n",
              "              title=\"Convert this dataframe to an interactive table.\"\n",
              "              style=\"display:none;\">\n",
              "        \n",
              "  <svg xmlns=\"http://www.w3.org/2000/svg\" height=\"24px\"viewBox=\"0 0 24 24\"\n",
              "       width=\"24px\">\n",
              "    <path d=\"M0 0h24v24H0V0z\" fill=\"none\"/>\n",
              "    <path d=\"M18.56 5.44l.94 2.06.94-2.06 2.06-.94-2.06-.94-.94-2.06-.94 2.06-2.06.94zm-11 1L8.5 8.5l.94-2.06 2.06-.94-2.06-.94L8.5 2.5l-.94 2.06-2.06.94zm10 10l.94 2.06.94-2.06 2.06-.94-2.06-.94-.94-2.06-.94 2.06-2.06.94z\"/><path d=\"M17.41 7.96l-1.37-1.37c-.4-.4-.92-.59-1.43-.59-.52 0-1.04.2-1.43.59L10.3 9.45l-7.72 7.72c-.78.78-.78 2.05 0 2.83L4 21.41c.39.39.9.59 1.41.59.51 0 1.02-.2 1.41-.59l7.78-7.78 2.81-2.81c.8-.78.8-2.07 0-2.86zM5.41 20L4 18.59l7.72-7.72 1.47 1.35L5.41 20z\"/>\n",
              "  </svg>\n",
              "      </button>\n",
              "      \n",
              "  <style>\n",
              "    .colab-df-container {\n",
              "      display:flex;\n",
              "      flex-wrap:wrap;\n",
              "      gap: 12px;\n",
              "    }\n",
              "\n",
              "    .colab-df-convert {\n",
              "      background-color: #E8F0FE;\n",
              "      border: none;\n",
              "      border-radius: 50%;\n",
              "      cursor: pointer;\n",
              "      display: none;\n",
              "      fill: #1967D2;\n",
              "      height: 32px;\n",
              "      padding: 0 0 0 0;\n",
              "      width: 32px;\n",
              "    }\n",
              "\n",
              "    .colab-df-convert:hover {\n",
              "      background-color: #E2EBFA;\n",
              "      box-shadow: 0px 1px 2px rgba(60, 64, 67, 0.3), 0px 1px 3px 1px rgba(60, 64, 67, 0.15);\n",
              "      fill: #174EA6;\n",
              "    }\n",
              "\n",
              "    [theme=dark] .colab-df-convert {\n",
              "      background-color: #3B4455;\n",
              "      fill: #D2E3FC;\n",
              "    }\n",
              "\n",
              "    [theme=dark] .colab-df-convert:hover {\n",
              "      background-color: #434B5C;\n",
              "      box-shadow: 0px 1px 3px 1px rgba(0, 0, 0, 0.15);\n",
              "      filter: drop-shadow(0px 1px 2px rgba(0, 0, 0, 0.3));\n",
              "      fill: #FFFFFF;\n",
              "    }\n",
              "  </style>\n",
              "\n",
              "      <script>\n",
              "        const buttonEl =\n",
              "          document.querySelector('#df-391ef824-51f5-492a-ae66-44420308c47b button.colab-df-convert');\n",
              "        buttonEl.style.display =\n",
              "          google.colab.kernel.accessAllowed ? 'block' : 'none';\n",
              "\n",
              "        async function convertToInteractive(key) {\n",
              "          const element = document.querySelector('#df-391ef824-51f5-492a-ae66-44420308c47b');\n",
              "          const dataTable =\n",
              "            await google.colab.kernel.invokeFunction('convertToInteractive',\n",
              "                                                     [key], {});\n",
              "          if (!dataTable) return;\n",
              "\n",
              "          const docLinkHtml = 'Like what you see? Visit the ' +\n",
              "            '<a target=\"_blank\" href=https://colab.research.google.com/notebooks/data_table.ipynb>data table notebook</a>'\n",
              "            + ' to learn more about interactive tables.';\n",
              "          element.innerHTML = '';\n",
              "          dataTable['output_type'] = 'display_data';\n",
              "          await google.colab.output.renderOutput(dataTable, element);\n",
              "          const docLink = document.createElement('div');\n",
              "          docLink.innerHTML = docLinkHtml;\n",
              "          element.appendChild(docLink);\n",
              "        }\n",
              "      </script>\n",
              "    </div>\n",
              "  </div>\n",
              "  "
            ]
          },
          "metadata": {},
          "execution_count": 46
        }
      ],
      "source": [
        "df_v3_counts = (df_v3.groupby(['occupation', 'affairs_yn'])[['affairs']]\n",
        "      .count().unstack().droplevel(axis=1, level=0))\n",
        "df_v3_counts"
      ]
    },
    {
      "cell_type": "code",
      "source": [
        "chi2, p, dof, ex = stats.chi2_contingency(df_v3_counts, correction=False)\n",
        "print('chi2:', chi2)\n",
        "print('p-value:', p)\n"
      ],
      "metadata": {
        "id": "Ecsb7OokXzR8",
        "colab": {
          "base_uri": "https://localhost:8080/"
        },
        "outputId": "fb4e800d-1271-494b-b4f9-06a1abe827e9"
      },
      "execution_count": null,
      "outputs": [
        {
          "output_type": "stream",
          "name": "stdout",
          "text": [
            "chi2: 2.48780700131057\n",
            "p-value: 0.11473149115255787\n"
          ]
        }
      ]
    },
    {
      "cell_type": "markdown",
      "source": [
        "p-value is bigger than 0.05! So we can't reject the null hypothesis. In other words, they have similar affair characteristics!"
      ],
      "metadata": {
        "id": "IY5Gb6gCfFwn"
      }
    },
    {
      "cell_type": "code",
      "source": [
        "df_v3_counts_normalized = df_v3_counts.apply(axis=1, func=lambda r: r/r.sum())\n",
        "df_v3_counts_normalized"
      ],
      "metadata": {
        "id": "HV28ZC1AXJG_"
      },
      "execution_count": null,
      "outputs": []
    },
    {
      "cell_type": "code",
      "execution_count": null,
      "metadata": {
        "id": "aoSRy9j3MHpr"
      },
      "outputs": [],
      "source": [
        "sns.countplot(data=df_v3, x='occupation', hue='affairs_yn', saturation=0.5)"
      ]
    },
    {
      "cell_type": "markdown",
      "source": [
        "### Fisher's exact test\n"
      ],
      "metadata": {
        "id": "sS166cAfyV1n"
      }
    },
    {
      "cell_type": "code",
      "source": [
        "oddsr, p = stats.fisher_exact(df_v3_counts, alternative='two-sided')\n",
        "display(oddsr,p)"
      ],
      "metadata": {
        "id": "UR0CRhkPwork",
        "colab": {
          "base_uri": "https://localhost:8080/",
          "height": 52
        },
        "outputId": "07b39ad5-0a01-4ac7-d8ab-119bfcebbec9"
      },
      "execution_count": null,
      "outputs": [
        {
          "output_type": "display_data",
          "data": {
            "text/plain": [
              "1.3963653094087878"
            ]
          },
          "metadata": {}
        },
        {
          "output_type": "display_data",
          "data": {
            "text/plain": [
              "0.1215293693021629"
            ]
          },
          "metadata": {}
        }
      ]
    },
    {
      "cell_type": "markdown",
      "source": [
        "p-value is larger than 0.05. So these two categories are not significantly different than each other!"
      ],
      "metadata": {
        "id": "l35sv0FB0vAZ"
      }
    },
    {
      "cell_type": "markdown",
      "source": [
        "### Welch's t-test version"
      ],
      "metadata": {
        "id": "wNB9cjIUlDdJ"
      }
    },
    {
      "cell_type": "code",
      "source": [
        "df_fair_v2.groupby('occupation').affairs.describe()"
      ],
      "metadata": {
        "id": "IML2AdthlLB0",
        "colab": {
          "base_uri": "https://localhost:8080/",
          "height": 269
        },
        "outputId": "d1895382-f2fd-4a0f-bc08-5c3ee8223e95"
      },
      "execution_count": null,
      "outputs": [
        {
          "output_type": "execute_result",
          "data": {
            "text/plain": [
              "             count      mean       std  min  25%  50%       75%        max\n",
              "occupation                                                                \n",
              "1.0           41.0  0.426014  1.399035  0.0  0.0  0.0  0.000000   7.839996\n",
              "2.0          859.0  0.719556  2.375644  0.0  0.0  0.0  0.212121  26.879990\n",
              "3.0         2783.0  0.755248  2.305594  0.0  0.0  0.0  0.583333  57.599991\n",
              "4.0         1834.0  0.555920  2.008865  0.0  0.0  0.0  0.076923  38.399994\n",
              "5.0          740.0  0.815209  1.853575  0.0  0.0  0.0  0.742424  16.799988\n",
              "6.0          109.0  1.194300  3.291040  0.0  0.0  0.0  1.400000  26.879990"
            ],
            "text/html": [
              "\n",
              "  <div id=\"df-f4818b5d-04d5-4801-8161-a6c4fc6fad83\">\n",
              "    <div class=\"colab-df-container\">\n",
              "      <div>\n",
              "<style scoped>\n",
              "    .dataframe tbody tr th:only-of-type {\n",
              "        vertical-align: middle;\n",
              "    }\n",
              "\n",
              "    .dataframe tbody tr th {\n",
              "        vertical-align: top;\n",
              "    }\n",
              "\n",
              "    .dataframe thead th {\n",
              "        text-align: right;\n",
              "    }\n",
              "</style>\n",
              "<table border=\"1\" class=\"dataframe\">\n",
              "  <thead>\n",
              "    <tr style=\"text-align: right;\">\n",
              "      <th></th>\n",
              "      <th>count</th>\n",
              "      <th>mean</th>\n",
              "      <th>std</th>\n",
              "      <th>min</th>\n",
              "      <th>25%</th>\n",
              "      <th>50%</th>\n",
              "      <th>75%</th>\n",
              "      <th>max</th>\n",
              "    </tr>\n",
              "    <tr>\n",
              "      <th>occupation</th>\n",
              "      <th></th>\n",
              "      <th></th>\n",
              "      <th></th>\n",
              "      <th></th>\n",
              "      <th></th>\n",
              "      <th></th>\n",
              "      <th></th>\n",
              "      <th></th>\n",
              "    </tr>\n",
              "  </thead>\n",
              "  <tbody>\n",
              "    <tr>\n",
              "      <th>1.0</th>\n",
              "      <td>41.0</td>\n",
              "      <td>0.426014</td>\n",
              "      <td>1.399035</td>\n",
              "      <td>0.0</td>\n",
              "      <td>0.0</td>\n",
              "      <td>0.0</td>\n",
              "      <td>0.000000</td>\n",
              "      <td>7.839996</td>\n",
              "    </tr>\n",
              "    <tr>\n",
              "      <th>2.0</th>\n",
              "      <td>859.0</td>\n",
              "      <td>0.719556</td>\n",
              "      <td>2.375644</td>\n",
              "      <td>0.0</td>\n",
              "      <td>0.0</td>\n",
              "      <td>0.0</td>\n",
              "      <td>0.212121</td>\n",
              "      <td>26.879990</td>\n",
              "    </tr>\n",
              "    <tr>\n",
              "      <th>3.0</th>\n",
              "      <td>2783.0</td>\n",
              "      <td>0.755248</td>\n",
              "      <td>2.305594</td>\n",
              "      <td>0.0</td>\n",
              "      <td>0.0</td>\n",
              "      <td>0.0</td>\n",
              "      <td>0.583333</td>\n",
              "      <td>57.599991</td>\n",
              "    </tr>\n",
              "    <tr>\n",
              "      <th>4.0</th>\n",
              "      <td>1834.0</td>\n",
              "      <td>0.555920</td>\n",
              "      <td>2.008865</td>\n",
              "      <td>0.0</td>\n",
              "      <td>0.0</td>\n",
              "      <td>0.0</td>\n",
              "      <td>0.076923</td>\n",
              "      <td>38.399994</td>\n",
              "    </tr>\n",
              "    <tr>\n",
              "      <th>5.0</th>\n",
              "      <td>740.0</td>\n",
              "      <td>0.815209</td>\n",
              "      <td>1.853575</td>\n",
              "      <td>0.0</td>\n",
              "      <td>0.0</td>\n",
              "      <td>0.0</td>\n",
              "      <td>0.742424</td>\n",
              "      <td>16.799988</td>\n",
              "    </tr>\n",
              "    <tr>\n",
              "      <th>6.0</th>\n",
              "      <td>109.0</td>\n",
              "      <td>1.194300</td>\n",
              "      <td>3.291040</td>\n",
              "      <td>0.0</td>\n",
              "      <td>0.0</td>\n",
              "      <td>0.0</td>\n",
              "      <td>1.400000</td>\n",
              "      <td>26.879990</td>\n",
              "    </tr>\n",
              "  </tbody>\n",
              "</table>\n",
              "</div>\n",
              "      <button class=\"colab-df-convert\" onclick=\"convertToInteractive('df-f4818b5d-04d5-4801-8161-a6c4fc6fad83')\"\n",
              "              title=\"Convert this dataframe to an interactive table.\"\n",
              "              style=\"display:none;\">\n",
              "        \n",
              "  <svg xmlns=\"http://www.w3.org/2000/svg\" height=\"24px\"viewBox=\"0 0 24 24\"\n",
              "       width=\"24px\">\n",
              "    <path d=\"M0 0h24v24H0V0z\" fill=\"none\"/>\n",
              "    <path d=\"M18.56 5.44l.94 2.06.94-2.06 2.06-.94-2.06-.94-.94-2.06-.94 2.06-2.06.94zm-11 1L8.5 8.5l.94-2.06 2.06-.94-2.06-.94L8.5 2.5l-.94 2.06-2.06.94zm10 10l.94 2.06.94-2.06 2.06-.94-2.06-.94-.94-2.06-.94 2.06-2.06.94z\"/><path d=\"M17.41 7.96l-1.37-1.37c-.4-.4-.92-.59-1.43-.59-.52 0-1.04.2-1.43.59L10.3 9.45l-7.72 7.72c-.78.78-.78 2.05 0 2.83L4 21.41c.39.39.9.59 1.41.59.51 0 1.02-.2 1.41-.59l7.78-7.78 2.81-2.81c.8-.78.8-2.07 0-2.86zM5.41 20L4 18.59l7.72-7.72 1.47 1.35L5.41 20z\"/>\n",
              "  </svg>\n",
              "      </button>\n",
              "      \n",
              "  <style>\n",
              "    .colab-df-container {\n",
              "      display:flex;\n",
              "      flex-wrap:wrap;\n",
              "      gap: 12px;\n",
              "    }\n",
              "\n",
              "    .colab-df-convert {\n",
              "      background-color: #E8F0FE;\n",
              "      border: none;\n",
              "      border-radius: 50%;\n",
              "      cursor: pointer;\n",
              "      display: none;\n",
              "      fill: #1967D2;\n",
              "      height: 32px;\n",
              "      padding: 0 0 0 0;\n",
              "      width: 32px;\n",
              "    }\n",
              "\n",
              "    .colab-df-convert:hover {\n",
              "      background-color: #E2EBFA;\n",
              "      box-shadow: 0px 1px 2px rgba(60, 64, 67, 0.3), 0px 1px 3px 1px rgba(60, 64, 67, 0.15);\n",
              "      fill: #174EA6;\n",
              "    }\n",
              "\n",
              "    [theme=dark] .colab-df-convert {\n",
              "      background-color: #3B4455;\n",
              "      fill: #D2E3FC;\n",
              "    }\n",
              "\n",
              "    [theme=dark] .colab-df-convert:hover {\n",
              "      background-color: #434B5C;\n",
              "      box-shadow: 0px 1px 3px 1px rgba(0, 0, 0, 0.15);\n",
              "      filter: drop-shadow(0px 1px 2px rgba(0, 0, 0, 0.3));\n",
              "      fill: #FFFFFF;\n",
              "    }\n",
              "  </style>\n",
              "\n",
              "      <script>\n",
              "        const buttonEl =\n",
              "          document.querySelector('#df-f4818b5d-04d5-4801-8161-a6c4fc6fad83 button.colab-df-convert');\n",
              "        buttonEl.style.display =\n",
              "          google.colab.kernel.accessAllowed ? 'block' : 'none';\n",
              "\n",
              "        async function convertToInteractive(key) {\n",
              "          const element = document.querySelector('#df-f4818b5d-04d5-4801-8161-a6c4fc6fad83');\n",
              "          const dataTable =\n",
              "            await google.colab.kernel.invokeFunction('convertToInteractive',\n",
              "                                                     [key], {});\n",
              "          if (!dataTable) return;\n",
              "\n",
              "          const docLinkHtml = 'Like what you see? Visit the ' +\n",
              "            '<a target=\"_blank\" href=https://colab.research.google.com/notebooks/data_table.ipynb>data table notebook</a>'\n",
              "            + ' to learn more about interactive tables.';\n",
              "          element.innerHTML = '';\n",
              "          dataTable['output_type'] = 'display_data';\n",
              "          await google.colab.output.renderOutput(dataTable, element);\n",
              "          const docLink = document.createElement('div');\n",
              "          docLink.innerHTML = docLinkHtml;\n",
              "          element.appendChild(docLink);\n",
              "        }\n",
              "      </script>\n",
              "    </div>\n",
              "  </div>\n",
              "  "
            ]
          },
          "metadata": {},
          "execution_count": 49
        }
      ]
    },
    {
      "cell_type": "code",
      "source": [
        "a = df_fair_v2[df_fair_v2.occupation == 2].affairs\n",
        "b = df_fair_v2[df_fair_v2.occupation == 6].affairs\n",
        "tstas, pvalue = stats.ttest_ind(a, b, equal_var=False)\n",
        "print(pvalue)"
      ],
      "metadata": {
        "id": "rUGv33SdeVyB",
        "colab": {
          "base_uri": "https://localhost:8080/"
        },
        "outputId": "7d68e7d2-6fc3-4419-8663-cd7f9d3da499"
      },
      "execution_count": null,
      "outputs": [
        {
          "output_type": "stream",
          "name": "stdout",
          "text": [
            "0.14723018394566767\n"
          ]
        }
      ]
    },
    {
      "cell_type": "code",
      "source": [
        "sns.pointplot(df_fair_v2.occupation, y=df_fair_v2.affairs)"
      ],
      "metadata": {
        "id": "MalpPJ-QlkcH",
        "colab": {
          "base_uri": "https://localhost:8080/",
          "height": 352
        },
        "outputId": "22da3afc-91e4-43b3-b9d8-5adb2c59b300"
      },
      "execution_count": null,
      "outputs": [
        {
          "output_type": "stream",
          "name": "stderr",
          "text": [
            "/usr/local/lib/python3.7/dist-packages/seaborn/_decorators.py:43: FutureWarning: Pass the following variable as a keyword arg: x. From version 0.12, the only valid positional argument will be `data`, and passing other arguments without an explicit keyword will result in an error or misinterpretation.\n",
            "  FutureWarning\n"
          ]
        },
        {
          "output_type": "execute_result",
          "data": {
            "text/plain": [
              "<matplotlib.axes._subplots.AxesSubplot at 0x7fd3b3bd8e10>"
            ]
          },
          "metadata": {},
          "execution_count": 54
        },
        {
          "output_type": "display_data",
          "data": {
            "text/plain": [
              "<Figure size 432x288 with 1 Axes>"
            ],
            "image/png": "[encoded data removed]"
          },
          "metadata": {
            "needs_background": "light"
          }
        }
      ]
    },
    {
      "cell_type": "markdown",
      "source": [
        "### Welch's t-test vs. Student's t-test\n",
        "Student's t-test assumes the two populations have the same variance! If you know this is true, then you can do the student's t-test, i.e. `stats.ttest_ind(a, b)`\n",
        "\n",
        "However, most of the time, this is not true and we have to do the Welch's t-test, i.e. `stats.ttest_ind(a, b, equal_var=False)`"
      ],
      "metadata": {
        "id": "-qHODdwRrGMV"
      }
    },
    {
      "cell_type": "code",
      "source": [
        "# stats.norm.rvs creates normal continuous random variables.\n",
        "# The location (loc) keyword specifies the mean.\n",
        "# The scale (scale) keyword specifies the standard deviation.\n",
        "\n",
        "# Let's create two sample sets with the same mean and scale but different sizes\n",
        "group_ctl = stats.norm.rvs(loc=120, scale=5, size=1000)\n",
        "group_exp = stats.norm.rvs(loc=120, scale=5, size=20) "
      ],
      "metadata": {
        "id": "zcuXZvnoltNc"
      },
      "execution_count": null,
      "outputs": []
    },
    {
      "cell_type": "code",
      "source": [
        "name_pvalue_pairs = [\n",
        "    (\"Student's t-test\", stats.ttest_ind(group_ctl, group_exp).pvalue),\n",
        "    (\"Welch's t-test\", stats.ttest_ind(group_ctl, group_exp, equal_var=False).pvalue)]\n",
        "name_pvalue_pairs.sort(key=lambda x: x[1])\n",
        "\n",
        "for name, p_value in name_pvalue_pairs:\n",
        "    print(f'{name:26} {p_value:.4f}  {p_value < 0.05}')"
      ],
      "metadata": {
        "id": "1QTZcgHBtjRk",
        "colab": {
          "base_uri": "https://localhost:8080/"
        },
        "outputId": "d4933fa5-596c-4e03-8604-5e4436665c21"
      },
      "execution_count": null,
      "outputs": [
        {
          "output_type": "stream",
          "name": "stdout",
          "text": [
            "Welch's t-test             0.0977  False\n",
            "Student's t-test           0.2135  False\n"
          ]
        }
      ]
    },
    {
      "cell_type": "markdown",
      "source": [
        "Play with the cell above by changing sizes and try to observe when test scores get closer to each other!"
      ],
      "metadata": {
        "id": "h_xdWn9WuaK5"
      }
    },
    {
      "cell_type": "markdown",
      "source": [
        "## Wilcoxon Signed-Rank Test\n",
        "The WSR test is a non-parametric statistical hypothesis test used either \n",
        " - to test the location of a set of samples or \n",
        " - to compare the locations of two populations using a set of matched samples.\n",
        "\n",
        "If $X_{1}$ and $X_{2}$ are IID F-distributed random variables, define $F^{(2)}$ to be the cumulative distribution function of $\\tfrac{1}{2}(X_{1}+X_{2})$. Set \n",
        "\n",
        "$p_{2}=\\Pr({\\tfrac {1}{2}}(X_{1}+X_{2})>0)=1-F^{(2)}(0))$\n",
        "\n",
        "Assume that $F$ is continuous. The one-sample Wilcoxon signed-rank sum test is a test for the following null hypothesis against one of the following alternative hypotheses\n",
        "\n",
        "Null hypothesis H0\n",
        "$${p_{2}={\\tfrac {1}{2}}}{p_{2}={\\tfrac {1}{2}}}$$\n",
        "One-sided alternative hypothesis H1\n",
        "$${p_{2}>{\\tfrac {1}{2}}}{p_{2}>{\\tfrac {1}{2}}}.$$\n",
        "One-sided alternative hypothesis H2\n",
        "$${p_{2}<{\\tfrac {1}{2}}}{p_{2}<{\\tfrac {1}{2}}}.$$\n",
        "Two-sided alternative hypothesis H3\n",
        "$${p_{2}\\neq {\\tfrac {1}{2}}}{p_{2}\\neq {\\tfrac {1}{2}}}$$.\n",
        "\n",
        "\n"
      ],
      "metadata": {
        "id": "o7gbyY8x1Jge"
      }
    },
    {
      "cell_type": "markdown",
      "source": [
        "### Additional Tests"
      ],
      "metadata": {
        "id": "ZYXB-ZSIvCel"
      }
    },
    {
      "cell_type": "code",
      "source": [
        "# now create two different groups\n",
        "group_ctl = stats.norm.rvs(loc=120, scale=5, size=100)\n",
        "group_exp = group_ctl + stats.norm.rvs(loc=1, scale=1, size=100)"
      ],
      "metadata": {
        "id": "zGVV8GnVtu67"
      },
      "execution_count": null,
      "outputs": []
    },
    {
      "cell_type": "code",
      "source": [
        "sns.histplot(group_ctl, fill=False)\n",
        "sns.histplot(group_exp, fill=False)"
      ],
      "metadata": {
        "id": "FWbG7ybmvk9y",
        "colab": {
          "base_uri": "https://localhost:8080/",
          "height": 283
        },
        "outputId": "a071065f-e078-4fae-9489-7dda70591a0f"
      },
      "execution_count": null,
      "outputs": [
        {
          "output_type": "execute_result",
          "data": {
            "text/plain": [
              "<matplotlib.axes._subplots.AxesSubplot at 0x7fd3b3b51690>"
            ]
          },
          "metadata": {},
          "execution_count": 60
        },
        {
          "output_type": "display_data",
          "data": {
            "text/plain": [
              "<Figure size 432x288 with 1 Axes>"
            ],
            "image/png": "[encoded data removed]"
          },
          "metadata": {
            "needs_background": "light"
          }
        }
      ]
    },
    {
      "cell_type": "code",
      "source": [
        "name_pvalue_pairs = [\n",
        "    (\"Student's t-test\", stats.ttest_ind(group_ctl, group_exp).pvalue),\n",
        "    (\"Welch's t-test\", stats.ttest_ind(group_ctl, group_exp, equal_var=False).pvalue),\n",
        "    (\"Paired Student's t-rest\", stats.ttest_rel(group_ctl, group_exp).pvalue),\n",
        "    ('Mann–Whitney U test', stats.mannwhitneyu(group_ctl, group_exp).pvalue),\n",
        "    ('Wilcoxon signed-rank test', stats.wilcoxon(group_ctl, group_exp).pvalue),\n",
        "]\n",
        "name_pvalue_pairs.sort(key=lambda x: x[1])\n",
        "\n",
        "for name, p_value in name_pvalue_pairs:\n",
        "    print(f'{name:26} {p_value:.4f}  {p_value < 0.05}')"
      ],
      "metadata": {
        "id": "0myUDWc0vPtn",
        "colab": {
          "base_uri": "https://localhost:8080/"
        },
        "outputId": "d5c21f70-ec27-4b2d-c6f2-853c00b6389b"
      },
      "execution_count": null,
      "outputs": [
        {
          "output_type": "stream",
          "name": "stdout",
          "text": [
            "Paired Student's t-rest    0.0000  True\n",
            "Wilcoxon signed-rank test  0.0000  True\n",
            "Mann–Whitney U test        0.0479  True\n",
            "Student's t-test           0.0907  False\n",
            "Welch's t-test             0.0907  False\n"
          ]
        }
      ]
    },
    {
      "cell_type": "markdown",
      "source": [
        "## ANOVA\n",
        "What is ANOVA (ANalysis Of VAriance)?\n",
        " - ANOVA test used to compare the means of more than 2 groups (t-test can be used to compare 2 groups)\n",
        " - Groups mean differences inferred by analyzing variances\n",
        "ANOVA uses variance-based F test to check the group mean equality. Sometimes, ANOVA F test is also called omnibus test as it tests non-specific null hypothesis i.e. all group means are equal\n",
        " - Main types: One-way (one factor) and two-way (two factors) ANOVA (factor is an independent variable)\n",
        " - It is also called univariate ANOVA as there is only one dependent variable in the model. MANOVA is used when there are multiple dependent variables in the dataset. If there is an additional continuous independent variable in the model, then ANCOVA is used.\n",
        " - If you have repeated measurements for treatments or time on same subjects, you should use Repeated Measure ANOVA"
      ],
      "metadata": {
        "id": "CULzcX7Jg6MK"
      }
    },
    {
      "cell_type": "markdown",
      "source": [
        "### ANOVA Hypotheses Test\n",
        "Null hypothesis: Groups means are equal (no variation in means of groups)\n",
        " - $H_0$: $\\mu_1 = \\mu_2 = \\cdots \\mu_p$\n",
        " - $H_A$: At least, one group mean is different from other groups, i..e. All $\\mu$'s are not equal. <br>\n",
        "\n",
        "The null hypothesis is tested using the omnibus test (F test) for all groups, which is further followed by post-hoc test to see individual group differences."
      ],
      "metadata": {
        "id": "rm1x_IF8iC8w"
      }
    },
    {
      "cell_type": "markdown",
      "source": [
        "### ANOVA Assumptions\n",
        " - Residuals (experimental error) are approximately normally distributed (Shapiro-Wilks test or histogram)\n",
        " - homoscedasticity or Homogeneity of variances (variances are equal between treatment groups) (Levene’s, Bartlett’s, or Brown-Forsythe test)\n",
        " - Observations are sampled independently from each other (no relation in observations between the groups and within the groups) i.e., each subject should have only one response\n",
        " - The dependent variable should be continuous. If the dependent variable is ordinal or rank (e.g. Likert item data), it is more likely to violate the assumptions of normality and homogeneity of variances. If these assumptions are violated, you should consider the non-parametric tests (e.g. Mann-Whitney U test, Kruskal-Wallis test).\n",
        "\n",
        "ANOVA is a powerful method when the assumptions of normality and homogeneity of variances are valid. ANOVA is less powerful (little effect on type I error), if the assumption of normality is violated while variances are equal.**bold text**"
      ],
      "metadata": {
        "id": "Gk0Hutinixgo"
      }
    },
    {
      "cell_type": "markdown",
      "source": [
        "### How ANOVA works?\n",
        " - Check sample sizes: equal number of observation in each group\n",
        " - Calculate Mean Square for each group (MS) (SS of group/level-1); level-1 is a degrees of freedom (df) for a group\n",
        " - Calculate Mean Square error (MSE) (SS error/df of residuals)\n",
        " - Calculate F value (MS of group/MSE)\n",
        " - Calculate p value based on F value and degrees of freedom (df) "
      ],
      "metadata": {
        "id": "IoujmkD0jBaD"
      }
    },
    {
      "cell_type": "code",
      "source": [
        "anova_array = [[25,\t45, 30,\t54],\n",
        "               [30,\t55,\t29,\t60],\n",
        "               [28,\t29,\t33,\t51],\n",
        "               [36,\t56,\t37,\t62],\n",
        "               [29,\t40,\t27,\t73]]"
      ],
      "metadata": {
        "id": "kqM0urpxjAaB"
      },
      "execution_count": null,
      "outputs": []
    },
    {
      "cell_type": "code",
      "source": [
        "df = pd.DataFrame(anova_array, columns =['A', 'B', 'C','D'])"
      ],
      "metadata": {
        "id": "Ljc-824JvUu3"
      },
      "execution_count": null,
      "outputs": []
    },
    {
      "cell_type": "code",
      "source": [
        "# reshape the d dataframe suitable for statsmodels package \n",
        "df_melt = pd.melt(df.reset_index(), id_vars=['index'], value_vars=['A', 'B', 'C', 'D'])\n",
        "# replace column names\n",
        "df_melt.columns = ['index', 'treatments', 'value']"
      ],
      "metadata": {
        "id": "MkqZLxydllEY"
      },
      "execution_count": null,
      "outputs": []
    },
    {
      "cell_type": "code",
      "source": [
        "df_melt"
      ],
      "metadata": {
        "id": "9bE-bTwKlYsA"
      },
      "execution_count": null,
      "outputs": []
    },
    {
      "cell_type": "code",
      "source": [
        "sns.boxplot(x='treatments', y='value', data=df_melt, color='#99c2a2')\n",
        "sns.swarmplot(x=\"treatments\", y=\"value\", data=df_melt, color='#7d0013')\n",
        "plt.show()"
      ],
      "metadata": {
        "id": "IHQMp4ewk27Q"
      },
      "execution_count": null,
      "outputs": []
    },
    {
      "cell_type": "code",
      "source": [
        "# stats f_oneway functions takes the groups as input and returns ANOVA F and p value\n",
        "fvalue, pvalue = stats.f_oneway(df['A'], df['B'], df['C'], df['D'])\n",
        "print(fvalue, pvalue)"
      ],
      "metadata": {
        "id": "yBAuRfb0lhl2"
      },
      "execution_count": null,
      "outputs": []
    },
    {
      "cell_type": "markdown",
      "source": [
        "The p value obtained from ANOVA analysis is significant (p < 0.05), and therefore, we conclude that there are significant differences among treatments.\n",
        "\n",
        "Note on F value: F value is inversely related to p value and higher F value (greater than F critical value) indicates a significant p value."
      ],
      "metadata": {
        "id": "2uDXAwLfmcbS"
      }
    },
    {
      "cell_type": "code",
      "source": [
        "# Ordinary Least Squares (OLS) model\n",
        "model = ols('value ~ C(treatments)', data=df_melt).fit()\n",
        "anova_table = sm.stats.anova_lm(model, typ=2)\n",
        "anova_table"
      ],
      "metadata": {
        "id": "zNZLhxvxl3mI"
      },
      "execution_count": null,
      "outputs": []
    },
    {
      "cell_type": "markdown",
      "source": [
        "From ANOVA analysis, we know that treatment differences are statistically significant, but ANOVA does not tell which treatments are significantly different from each other. To know the pairs of significant different treatments, we will perform multiple pairwise comparison (post hoc comparison) analysis for all unplanned comparison using Tukey’s honestly significantly differenced (HSD) test."
      ],
      "metadata": {
        "id": "zmauTsUvmrnI"
      }
    },
    {
      "cell_type": "code",
      "source": [
        "!pip install bioinfokit"
      ],
      "metadata": {
        "id": "e5WWxjV-m4i8"
      },
      "execution_count": null,
      "outputs": []
    },
    {
      "cell_type": "code",
      "source": [
        "from bioinfokit.analys import stat\n",
        "# perform multiple pairwise comparison (Tukey's HSD)\n",
        "# unequal sample size data, tukey_hsd uses Tukey-Kramer test\n",
        "res = stat()\n",
        "res.tukey_hsd(df=df_melt, res_var='value', xfac_var='treatments', anova_model='value ~ C(treatments)')\n",
        "res.tukey_summary"
      ],
      "metadata": {
        "id": "a7oxBoE1l-_5"
      },
      "execution_count": null,
      "outputs": []
    },
    {
      "cell_type": "markdown",
      "source": [
        "Above results from Tukey’s HSD suggests that except A-C, all other pairwise comparisons for treatments rejects null hypothesis (p < 0.05) and indicates statistical significant differences."
      ],
      "metadata": {
        "id": "MtxSfGNRnAij"
      }
    },
    {
      "cell_type": "code",
      "source": [
        "# res.anova_std_residuals are standardized residuals obtained from ANOVA (check above)\n",
        "sm.qqplot(res.anova_std_residuals, line='45')\n",
        "plt.xlabel(\"Theoretical Quantiles\")\n",
        "plt.ylabel(\"Standardized Residuals\")\n",
        "plt.show()"
      ],
      "metadata": {
        "id": "5A7mjOuVm0d7"
      },
      "execution_count": null,
      "outputs": []
    },
    {
      "cell_type": "markdown",
      "source": [
        "As the standardized residuals lie around the 45-degree line, it suggests that the residuals are approximately normally distributed.\n",
        "\n",
        "Let's check"
      ],
      "metadata": {
        "id": "xy8gUY8ZnRY-"
      }
    },
    {
      "cell_type": "code",
      "source": [
        "# histogram\n",
        "plt.hist(res.anova_model_out.resid, bins='auto', histtype='bar', ec='k') \n",
        "plt.xlabel(\"Residuals\")\n",
        "plt.ylabel('Frequency')\n",
        "plt.show()"
      ],
      "metadata": {
        "id": "vQi10-OznIuG"
      },
      "execution_count": null,
      "outputs": []
    },
    {
      "cell_type": "markdown",
      "source": [
        "Shapiro-Wilk test can be used to check the normal distribution of residuals. Null hypothesis: data is drawn from normal distribution."
      ],
      "metadata": {
        "id": "dG61UDgDnZU6"
      }
    },
    {
      "cell_type": "code",
      "source": [
        "w, pvalue = stats.shapiro(model.resid)\n",
        "print(w, pvalue)"
      ],
      "metadata": {
        "id": "x6X4-9lcnKkh"
      },
      "execution_count": null,
      "outputs": []
    },
    {
      "cell_type": "markdown",
      "source": [
        "As the p value is non significant, we fail to reject null hypothesis and conclude that data is drawn from normal distribution."
      ],
      "metadata": {
        "id": "u3UkOGTZnd7h"
      }
    },
    {
      "cell_type": "markdown",
      "source": [
        "As the data is drawn from normal distribution, use Bartlett’s test to check the Homogeneity of variances. Null hypothesis: samples from populations have equal variances."
      ],
      "metadata": {
        "id": "kaJnSy8DnhQ3"
      }
    },
    {
      "cell_type": "code",
      "source": [
        "w, pvalue = stats.bartlett(df['A'], df['B'], df['C'], df['D'])\n",
        "print(w, pvalue)"
      ],
      "metadata": {
        "id": "DEL6g1BRnbV9"
      },
      "execution_count": null,
      "outputs": []
    },
    {
      "cell_type": "markdown",
      "source": [
        "As the p value (0.12) is non significant, we fail to reject null hypothesis and conclude that treatments have equal variances."
      ],
      "metadata": {
        "id": "OpUqOy98nqNb"
      }
    },
    {
      "cell_type": "markdown",
      "source": [
        "Levene’s test can be used to check the Homogeneity of variances when the data is not drawn from normal distribution."
      ],
      "metadata": {
        "id": "64GFexxHnuGc"
      }
    },
    {
      "cell_type": "code",
      "source": [
        "from bioinfokit.analys import stat \n",
        "res = stat()\n",
        "res.levene(df=df_melt, res_var='value', xfac_var='treatments')\n",
        "res.levene_summary"
      ],
      "metadata": {
        "id": "9rNXJI7pnkdQ"
      },
      "execution_count": null,
      "outputs": []
    },
    {
      "cell_type": "code",
      "source": [
        ""
      ],
      "metadata": {
        "id": "EMQDoWBYnycM"
      },
      "execution_count": null,
      "outputs": []
    }
  ],
  "metadata": {
    "kernelspec": {
      "display_name": "Python 3",
      "name": "python3"
    },
    "language_info": {
      "name": "python"
    },
    "toc": {
      "base_numbering": 1,
      "nav_menu": {},
      "number_sections": true,
      "sideBar": true,
      "skip_h1_title": false,
      "title_cell": "Table of Contents",
      "title_sidebar": "Contents",
      "toc_cell": false,
      "toc_position": {},
      "toc_section_display": true,
      "toc_window_display": false
    },
    "colab": {
      "name": "DATA601_Stats3.ipynb",
      "provenance": [],
      "collapsed_sections": []
    }
  },
  "nbformat": 4,
  "nbformat_minor": 0
}