{
  "nbformat": 4,
  "nbformat_minor": 0,
  "metadata": {
    "colab": {
      "name": "W3-DataTransformations-I-Readings.ipynb",
      "provenance": [],
      "collapsed_sections": []
    },
    "kernelspec": {
      "name": "python3",
      "display_name": "Python 3"
    },
    "language_info": {
      "name": "python"
    }
  },
  "cells": [
    {
      "cell_type": "markdown",
      "metadata": {
        "id": "dvcqqdQrleIj"
      },
      "source": [
        "[Google Cloud - What is ETL?](https://cloud.google.com/learn/what-is-etl)\n",
        "\n",
        "Ask yourself as you read:\n",
        "\n",
        "- What is ETL?\n",
        "- What are the challenges of today that modern ETL tools should address?\n",
        "- Define extraction, transformation and loading.\n",
        "- What are the ETL use cases and explain each of them."
      ]
    },
    {
      "cell_type": "markdown",
      "metadata": {
        "id": "uCab_7LsDqtc"
      },
      "source": [
        "[Stitchdata - Data Transformation](https://www.stitchdata.com/resources/data-transformation/)\n",
        "\n",
        "As you are reading as yourself the following questions:\n",
        "\n",
        "- What is data transformations?\n",
        "\n",
        "- What are the different types of data transformations?\n",
        "\n",
        "- What are the benefits of data transformation?\n",
        "\n",
        "- What are the challenges of data transformation?\n",
        "\n"
      ]
    },
    {
      "cell_type": "markdown",
      "metadata": {
        "id": "5DTg8jbFm8fx"
      },
      "source": [
        "[Pandas Documentation](https://pandas.pydata.org/pandas-docs/stable/getting_started/overview.html): Sections: Package Overview, Data Structures,Mutability and Copying Data.\n",
        "\n",
        "Ask yourself as you read:\n",
        "\n",
        "- What Pandas provides?\n",
        "- What kind of data can pandas deal with?\n",
        "- What are the strenghts of pandas library?\n",
        "- What are the reasons that they created two different data structures (Series and Data Frames)?\n",
        "- What is mutable mean?\n",
        "- What is their policy on changing the original data?"
      ]
    },
    {
      "cell_type": "markdown",
      "metadata": {
        "id": "-AC1MYVfD6hn"
      },
      "source": [
        "Optional Resources\n",
        "\n",
        "[talend.com -- data transformation defined](https://www.talend.com/resources/data-transformation-defined/)"
      ]
    },
    {
      "cell_type": "code",
      "metadata": {
        "id": "S_7U6h2YjwU1"
      },
      "source": [
        ""
      ],
      "execution_count": null,
      "outputs": []
    }
  ]
}