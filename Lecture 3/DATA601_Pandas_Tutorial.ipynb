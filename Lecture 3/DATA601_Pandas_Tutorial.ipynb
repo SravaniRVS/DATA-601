{
  "nbformat": 4,
  "nbformat_minor": 0,
  "metadata": {
    "kernelspec": {
      "display_name": "Python 3",
      "language": "python",
      "name": "python3"
    },
    "language_info": {
      "codemirror_mode": {
        "name": "ipython",
        "version": 3
      },
      "file_extension": ".py",
      "mimetype": "text/x-python",
      "name": "python",
      "nbconvert_exporter": "python",
      "pygments_lexer": "ipython3",
      "version": "3.8.8"
    },
    "colab": {
      "name": "DATA601Lecture04_Pandas_Tutorial.ipynb",
      "provenance": [],
      "collapsed_sections": []
    }
  },
  "cells": [
    {
      "cell_type": "markdown",
      "metadata": {
        "id": "7uW7xvnwdWgV"
      },
      "source": [
        "## Introduction to Pandas\n",
        "### What's pandas?\n",
        " - Pandas is an open source library providing high-performance, easy-to-use data structures and data analysis tools for the Python programming language. <br>\n",
        " - Pandas is part of the Anaconda distribution and can be installed with Anaconda (e.g. <code> conda install pandas </code>) or via pip (<code> pip install pandas</code>) <br>\n",
        " - When working with tabular data, such as data stored in spreadsheets or databases, pandas is the right tool (assuming not so large files). <br>\n",
        "pandas help us to explore, clean, and process our data. <br>\n",
        " - In pandas, a data table is called a DataFrame.  <br>\n",
        "<img src=\"https://pandas.pydata.org/pandas-docs/stable/_images/01_table_dataframe.svg\" width=\"600\">\n",
        "\n",
        " - pandas supports the integration with many file formats or data sources out of the box (csv, excel, sql, json, parquet,…). Importing data from each of these data sources is provided by function with the prefix <span style=\"color: red;\">read_*</span>. Similarly, the <span style=\"color: red;\">to_*</span> methods are used to store data <br> [e.g. <code> sales = pd.read_csv(\"sales_data.csv\" </code>) ] <br>\n",
        "<img src=\"https://pandas.pydata.org/pandas-docs/stable/_images/02_io_readwrite.svg\" width=\"800\">\n",
        "\n",
        "Before working with different datasets, let's learn the basics."
      ]
    },
    {
      "cell_type": "markdown",
      "metadata": {
        "tags": [],
        "id": "EMOh5XbQdWgZ"
      },
      "source": [
        "<b> Note: </b> Make sure that you have/installed pandas and openpyxl before we proceed <br>.\n",
        "Once again, you can use the terminal <br>\n",
        "<code> conda install pandas </code> <br>\n",
        "and <br>\n",
        "<code> conda install -c anaconda openpyxl </code> \n",
        "<br>\n",
        "If you don't use conda, then <br>\n",
        "<code> pip install pandas  </code> <br>\n",
        "<code> pip install openpyxl </code> \n",
        "<br>\n",
        "<b> Note: </b> We will work on time series / date functionality later. <br>\n",
        "In the meantime, you can start learning about them at <br>\n",
        "https://pandas.pydata.org/docs/user_guide/timeseries.html <br>\n",
        "https://pandas.pydata.org/docs/user_guide/timeseries.html#timeseries-offset-aliases"
      ]
    },
    {
      "cell_type": "code",
      "metadata": {
        "id": "2HIo-Y5DdWgZ"
      },
      "source": [
        "import pandas as pd\n",
        "import numpy as np"
      ],
      "execution_count": 1,
      "outputs": []
    },
    {
      "cell_type": "markdown",
      "metadata": {
        "id": "QH5mWui0dWga"
      },
      "source": [
        "### Object Creation"
      ]
    },
    {
      "cell_type": "code",
      "metadata": {
        "id": "_VDQV-YxdWga"
      },
      "source": [
        "# Creating a Series by passing a list of values, \n",
        "# letting pandas create a default integer index:\n",
        "s = pd.Series([1, 3, 5, np.nan, 6, 8])"
      ],
      "execution_count": 2,
      "outputs": []
    },
    {
      "cell_type": "code",
      "metadata": {
        "id": "EIs9NX35dWgb",
        "colab": {
          "base_uri": "https://localhost:8080/"
        },
        "outputId": "870a8ed5-ecc4-4059-e211-5fe7292eebda"
      },
      "source": [
        "s"
      ],
      "execution_count": 3,
      "outputs": [
        {
          "output_type": "execute_result",
          "data": {
            "text/plain": [
              "0    1.0\n",
              "1    3.0\n",
              "2    5.0\n",
              "3    NaN\n",
              "4    6.0\n",
              "5    8.0\n",
              "dtype: float64"
            ]
          },
          "metadata": {},
          "execution_count": 3
        }
      ]
    },
    {
      "cell_type": "code",
      "metadata": {
        "id": "Ge9uUHgcdWgb"
      },
      "source": [
        "# Creating a DataFrame by passing a NumPy array, with a datetime index and labeled columns:\n",
        "dates = pd.date_range('20190101', periods=6)"
      ],
      "execution_count": 4,
      "outputs": []
    },
    {
      "cell_type": "code",
      "metadata": {
        "id": "lEas3OuEdWgc",
        "colab": {
          "base_uri": "https://localhost:8080/"
        },
        "outputId": "5351b26b-2430-4b16-903c-74b3de3a91fb"
      },
      "source": [
        "dates"
      ],
      "execution_count": 5,
      "outputs": [
        {
          "output_type": "execute_result",
          "data": {
            "text/plain": [
              "DatetimeIndex(['2019-01-01', '2019-01-02', '2019-01-03', '2019-01-04',\n",
              "               '2019-01-05', '2019-01-06'],\n",
              "              dtype='datetime64[ns]', freq='D')"
            ]
          },
          "metadata": {},
          "execution_count": 5
        }
      ]
    },
    {
      "cell_type": "markdown",
      "metadata": {
        "id": "6HkQXvmxdWgd"
      },
      "source": [
        "Let's use dates as our index"
      ]
    },
    {
      "cell_type": "code",
      "metadata": {
        "id": "EPlW0EsbdWgd"
      },
      "source": [
        "df = pd.DataFrame(np.random.randn(6, 4), index=dates, columns=list('ABCD'))"
      ],
      "execution_count": 6,
      "outputs": []
    },
    {
      "cell_type": "code",
      "metadata": {
        "id": "9oht2oQgdWgd",
        "colab": {
          "base_uri": "https://localhost:8080/",
          "height": 235
        },
        "outputId": "845501cb-2024-4feb-8331-7c0b2616f5d6"
      },
      "source": [
        "df"
      ],
      "execution_count": 7,
      "outputs": [
        {
          "output_type": "execute_result",
          "data": {
            "text/html": [
              "<div>\n",
              "<style scoped>\n",
              "    .dataframe tbody tr th:only-of-type {\n",
              "        vertical-align: middle;\n",
              "    }\n",
              "\n",
              "    .dataframe tbody tr th {\n",
              "        vertical-align: top;\n",
              "    }\n",
              "\n",
              "    .dataframe thead th {\n",
              "        text-align: right;\n",
              "    }\n",
              "</style>\n",
              "<table border=\"1\" class=\"dataframe\">\n",
              "  <thead>\n",
              "    <tr style=\"text-align: right;\">\n",
              "      <th></th>\n",
              "      <th>A</th>\n",
              "      <th>B</th>\n",
              "      <th>C</th>\n",
              "      <th>D</th>\n",
              "    </tr>\n",
              "  </thead>\n",
              "  <tbody>\n",
              "    <tr>\n",
              "      <th>2019-01-01</th>\n",
              "      <td>1.103761</td>\n",
              "      <td>-1.917416</td>\n",
              "      <td>0.488894</td>\n",
              "      <td>1.273638</td>\n",
              "    </tr>\n",
              "    <tr>\n",
              "      <th>2019-01-02</th>\n",
              "      <td>2.497894</td>\n",
              "      <td>-0.478629</td>\n",
              "      <td>-0.565984</td>\n",
              "      <td>1.218096</td>\n",
              "    </tr>\n",
              "    <tr>\n",
              "      <th>2019-01-03</th>\n",
              "      <td>1.255214</td>\n",
              "      <td>-1.456333</td>\n",
              "      <td>1.014926</td>\n",
              "      <td>0.237944</td>\n",
              "    </tr>\n",
              "    <tr>\n",
              "      <th>2019-01-04</th>\n",
              "      <td>-1.832498</td>\n",
              "      <td>-1.050849</td>\n",
              "      <td>-0.018245</td>\n",
              "      <td>0.473519</td>\n",
              "    </tr>\n",
              "    <tr>\n",
              "      <th>2019-01-05</th>\n",
              "      <td>-0.557086</td>\n",
              "      <td>0.773183</td>\n",
              "      <td>-0.245014</td>\n",
              "      <td>-0.173704</td>\n",
              "    </tr>\n",
              "    <tr>\n",
              "      <th>2019-01-06</th>\n",
              "      <td>0.115841</td>\n",
              "      <td>-1.989157</td>\n",
              "      <td>-0.200159</td>\n",
              "      <td>-0.943184</td>\n",
              "    </tr>\n",
              "  </tbody>\n",
              "</table>\n",
              "</div>"
            ],
            "text/plain": [
              "                   A         B         C         D\n",
              "2019-01-01  1.103761 -1.917416  0.488894  1.273638\n",
              "2019-01-02  2.497894 -0.478629 -0.565984  1.218096\n",
              "2019-01-03  1.255214 -1.456333  1.014926  0.237944\n",
              "2019-01-04 -1.832498 -1.050849 -0.018245  0.473519\n",
              "2019-01-05 -0.557086  0.773183 -0.245014 -0.173704\n",
              "2019-01-06  0.115841 -1.989157 -0.200159 -0.943184"
            ]
          },
          "metadata": {},
          "execution_count": 7
        }
      ]
    },
    {
      "cell_type": "code",
      "metadata": {
        "id": "q_lMItBWdWge"
      },
      "source": [
        "# Creating a DataFrame by passing a dict of objects that can be converted to series-like.\n",
        "df2 = pd.DataFrame({'A': 1.,\n",
        "                    'B': pd.Timestamp('20130102'),\n",
        "                    'C': pd.Series(1, index=list(range(4)), dtype='float32'),\n",
        "                    'D': np.array([3] * 4, dtype='int32'),\n",
        "                    'E': pd.Categorical([\"test\", \"train\", \"test\", \"train\"]),\n",
        "                    'F': 'foo'})"
      ],
      "execution_count": 8,
      "outputs": []
    },
    {
      "cell_type": "code",
      "metadata": {
        "id": "yY-Cb3zgdWge",
        "colab": {
          "base_uri": "https://localhost:8080/",
          "height": 173
        },
        "outputId": "3a272280-65ac-4f4f-82da-1848a002f6b9"
      },
      "source": [
        "df2"
      ],
      "execution_count": 9,
      "outputs": [
        {
          "output_type": "execute_result",
          "data": {
            "text/html": [
              "<div>\n",
              "<style scoped>\n",
              "    .dataframe tbody tr th:only-of-type {\n",
              "        vertical-align: middle;\n",
              "    }\n",
              "\n",
              "    .dataframe tbody tr th {\n",
              "        vertical-align: top;\n",
              "    }\n",
              "\n",
              "    .dataframe thead th {\n",
              "        text-align: right;\n",
              "    }\n",
              "</style>\n",
              "<table border=\"1\" class=\"dataframe\">\n",
              "  <thead>\n",
              "    <tr style=\"text-align: right;\">\n",
              "      <th></th>\n",
              "      <th>A</th>\n",
              "      <th>B</th>\n",
              "      <th>C</th>\n",
              "      <th>D</th>\n",
              "      <th>E</th>\n",
              "      <th>F</th>\n",
              "    </tr>\n",
              "  </thead>\n",
              "  <tbody>\n",
              "    <tr>\n",
              "      <th>0</th>\n",
              "      <td>1.0</td>\n",
              "      <td>2013-01-02</td>\n",
              "      <td>1.0</td>\n",
              "      <td>3</td>\n",
              "      <td>test</td>\n",
              "      <td>foo</td>\n",
              "    </tr>\n",
              "    <tr>\n",
              "      <th>1</th>\n",
              "      <td>1.0</td>\n",
              "      <td>2013-01-02</td>\n",
              "      <td>1.0</td>\n",
              "      <td>3</td>\n",
              "      <td>train</td>\n",
              "      <td>foo</td>\n",
              "    </tr>\n",
              "    <tr>\n",
              "      <th>2</th>\n",
              "      <td>1.0</td>\n",
              "      <td>2013-01-02</td>\n",
              "      <td>1.0</td>\n",
              "      <td>3</td>\n",
              "      <td>test</td>\n",
              "      <td>foo</td>\n",
              "    </tr>\n",
              "    <tr>\n",
              "      <th>3</th>\n",
              "      <td>1.0</td>\n",
              "      <td>2013-01-02</td>\n",
              "      <td>1.0</td>\n",
              "      <td>3</td>\n",
              "      <td>train</td>\n",
              "      <td>foo</td>\n",
              "    </tr>\n",
              "  </tbody>\n",
              "</table>\n",
              "</div>"
            ],
            "text/plain": [
              "     A          B    C  D      E    F\n",
              "0  1.0 2013-01-02  1.0  3   test  foo\n",
              "1  1.0 2013-01-02  1.0  3  train  foo\n",
              "2  1.0 2013-01-02  1.0  3   test  foo\n",
              "3  1.0 2013-01-02  1.0  3  train  foo"
            ]
          },
          "metadata": {},
          "execution_count": 9
        }
      ]
    },
    {
      "cell_type": "code",
      "metadata": {
        "id": "ew-dmrMIdWge",
        "colab": {
          "base_uri": "https://localhost:8080/"
        },
        "outputId": "9f421ef7-f40b-4557-c69f-4c49c8dbf256"
      },
      "source": [
        "# The columns of the resulting DataFrame have different dtypes.\n",
        "df2.dtypes"
      ],
      "execution_count": 10,
      "outputs": [
        {
          "output_type": "execute_result",
          "data": {
            "text/plain": [
              "A           float64\n",
              "B    datetime64[ns]\n",
              "C           float32\n",
              "D             int32\n",
              "E          category\n",
              "F            object\n",
              "dtype: object"
            ]
          },
          "metadata": {},
          "execution_count": 10
        }
      ]
    },
    {
      "cell_type": "markdown",
      "metadata": {
        "id": "YXMHocNLdWgf"
      },
      "source": [
        "### Viewing Data"
      ]
    },
    {
      "cell_type": "code",
      "metadata": {
        "id": "Ka-VywEFdWgf",
        "colab": {
          "base_uri": "https://localhost:8080/",
          "height": 204
        },
        "outputId": "471a3212-dd7b-495b-cc82-25c17526d2bf"
      },
      "source": [
        "# Here is how to view the top rows of the frame:\n",
        "df.head()"
      ],
      "execution_count": 11,
      "outputs": [
        {
          "output_type": "execute_result",
          "data": {
            "text/html": [
              "<div>\n",
              "<style scoped>\n",
              "    .dataframe tbody tr th:only-of-type {\n",
              "        vertical-align: middle;\n",
              "    }\n",
              "\n",
              "    .dataframe tbody tr th {\n",
              "        vertical-align: top;\n",
              "    }\n",
              "\n",
              "    .dataframe thead th {\n",
              "        text-align: right;\n",
              "    }\n",
              "</style>\n",
              "<table border=\"1\" class=\"dataframe\">\n",
              "  <thead>\n",
              "    <tr style=\"text-align: right;\">\n",
              "      <th></th>\n",
              "      <th>A</th>\n",
              "      <th>B</th>\n",
              "      <th>C</th>\n",
              "      <th>D</th>\n",
              "    </tr>\n",
              "  </thead>\n",
              "  <tbody>\n",
              "    <tr>\n",
              "      <th>2019-01-01</th>\n",
              "      <td>1.103761</td>\n",
              "      <td>-1.917416</td>\n",
              "      <td>0.488894</td>\n",
              "      <td>1.273638</td>\n",
              "    </tr>\n",
              "    <tr>\n",
              "      <th>2019-01-02</th>\n",
              "      <td>2.497894</td>\n",
              "      <td>-0.478629</td>\n",
              "      <td>-0.565984</td>\n",
              "      <td>1.218096</td>\n",
              "    </tr>\n",
              "    <tr>\n",
              "      <th>2019-01-03</th>\n",
              "      <td>1.255214</td>\n",
              "      <td>-1.456333</td>\n",
              "      <td>1.014926</td>\n",
              "      <td>0.237944</td>\n",
              "    </tr>\n",
              "    <tr>\n",
              "      <th>2019-01-04</th>\n",
              "      <td>-1.832498</td>\n",
              "      <td>-1.050849</td>\n",
              "      <td>-0.018245</td>\n",
              "      <td>0.473519</td>\n",
              "    </tr>\n",
              "    <tr>\n",
              "      <th>2019-01-05</th>\n",
              "      <td>-0.557086</td>\n",
              "      <td>0.773183</td>\n",
              "      <td>-0.245014</td>\n",
              "      <td>-0.173704</td>\n",
              "    </tr>\n",
              "  </tbody>\n",
              "</table>\n",
              "</div>"
            ],
            "text/plain": [
              "                   A         B         C         D\n",
              "2019-01-01  1.103761 -1.917416  0.488894  1.273638\n",
              "2019-01-02  2.497894 -0.478629 -0.565984  1.218096\n",
              "2019-01-03  1.255214 -1.456333  1.014926  0.237944\n",
              "2019-01-04 -1.832498 -1.050849 -0.018245  0.473519\n",
              "2019-01-05 -0.557086  0.773183 -0.245014 -0.173704"
            ]
          },
          "metadata": {},
          "execution_count": 11
        }
      ]
    },
    {
      "cell_type": "code",
      "metadata": {
        "id": "bQME9xrvdWgf",
        "colab": {
          "base_uri": "https://localhost:8080/",
          "height": 142
        },
        "outputId": "2c046837-3596-4110-9a3f-04e472917350"
      },
      "source": [
        "# or\n",
        "df.head(3)"
      ],
      "execution_count": 12,
      "outputs": [
        {
          "output_type": "execute_result",
          "data": {
            "text/html": [
              "<div>\n",
              "<style scoped>\n",
              "    .dataframe tbody tr th:only-of-type {\n",
              "        vertical-align: middle;\n",
              "    }\n",
              "\n",
              "    .dataframe tbody tr th {\n",
              "        vertical-align: top;\n",
              "    }\n",
              "\n",
              "    .dataframe thead th {\n",
              "        text-align: right;\n",
              "    }\n",
              "</style>\n",
              "<table border=\"1\" class=\"dataframe\">\n",
              "  <thead>\n",
              "    <tr style=\"text-align: right;\">\n",
              "      <th></th>\n",
              "      <th>A</th>\n",
              "      <th>B</th>\n",
              "      <th>C</th>\n",
              "      <th>D</th>\n",
              "    </tr>\n",
              "  </thead>\n",
              "  <tbody>\n",
              "    <tr>\n",
              "      <th>2019-01-01</th>\n",
              "      <td>1.103761</td>\n",
              "      <td>-1.917416</td>\n",
              "      <td>0.488894</td>\n",
              "      <td>1.273638</td>\n",
              "    </tr>\n",
              "    <tr>\n",
              "      <th>2019-01-02</th>\n",
              "      <td>2.497894</td>\n",
              "      <td>-0.478629</td>\n",
              "      <td>-0.565984</td>\n",
              "      <td>1.218096</td>\n",
              "    </tr>\n",
              "    <tr>\n",
              "      <th>2019-01-03</th>\n",
              "      <td>1.255214</td>\n",
              "      <td>-1.456333</td>\n",
              "      <td>1.014926</td>\n",
              "      <td>0.237944</td>\n",
              "    </tr>\n",
              "  </tbody>\n",
              "</table>\n",
              "</div>"
            ],
            "text/plain": [
              "                   A         B         C         D\n",
              "2019-01-01  1.103761 -1.917416  0.488894  1.273638\n",
              "2019-01-02  2.497894 -0.478629 -0.565984  1.218096\n",
              "2019-01-03  1.255214 -1.456333  1.014926  0.237944"
            ]
          },
          "metadata": {},
          "execution_count": 12
        }
      ]
    },
    {
      "cell_type": "code",
      "metadata": {
        "id": "J2Fw3imWdWgf",
        "colab": {
          "base_uri": "https://localhost:8080/",
          "height": 111
        },
        "outputId": "2328613f-a5d4-4f3f-b405-ed627b3ac58b"
      },
      "source": [
        "# Here is how to view the bottom rows of the frame:\n",
        "df.tail(2)"
      ],
      "execution_count": 13,
      "outputs": [
        {
          "output_type": "execute_result",
          "data": {
            "text/html": [
              "<div>\n",
              "<style scoped>\n",
              "    .dataframe tbody tr th:only-of-type {\n",
              "        vertical-align: middle;\n",
              "    }\n",
              "\n",
              "    .dataframe tbody tr th {\n",
              "        vertical-align: top;\n",
              "    }\n",
              "\n",
              "    .dataframe thead th {\n",
              "        text-align: right;\n",
              "    }\n",
              "</style>\n",
              "<table border=\"1\" class=\"dataframe\">\n",
              "  <thead>\n",
              "    <tr style=\"text-align: right;\">\n",
              "      <th></th>\n",
              "      <th>A</th>\n",
              "      <th>B</th>\n",
              "      <th>C</th>\n",
              "      <th>D</th>\n",
              "    </tr>\n",
              "  </thead>\n",
              "  <tbody>\n",
              "    <tr>\n",
              "      <th>2019-01-05</th>\n",
              "      <td>-0.557086</td>\n",
              "      <td>0.773183</td>\n",
              "      <td>-0.245014</td>\n",
              "      <td>-0.173704</td>\n",
              "    </tr>\n",
              "    <tr>\n",
              "      <th>2019-01-06</th>\n",
              "      <td>0.115841</td>\n",
              "      <td>-1.989157</td>\n",
              "      <td>-0.200159</td>\n",
              "      <td>-0.943184</td>\n",
              "    </tr>\n",
              "  </tbody>\n",
              "</table>\n",
              "</div>"
            ],
            "text/plain": [
              "                   A         B         C         D\n",
              "2019-01-05 -0.557086  0.773183 -0.245014 -0.173704\n",
              "2019-01-06  0.115841 -1.989157 -0.200159 -0.943184"
            ]
          },
          "metadata": {},
          "execution_count": 13
        }
      ]
    },
    {
      "cell_type": "code",
      "metadata": {
        "id": "67eGJmOjdWgg",
        "colab": {
          "base_uri": "https://localhost:8080/"
        },
        "outputId": "9c69cc18-25e4-438d-c9a7-554ae8a88860"
      },
      "source": [
        "# Display the index\n",
        "df.index"
      ],
      "execution_count": 14,
      "outputs": [
        {
          "output_type": "execute_result",
          "data": {
            "text/plain": [
              "DatetimeIndex(['2019-01-01', '2019-01-02', '2019-01-03', '2019-01-04',\n",
              "               '2019-01-05', '2019-01-06'],\n",
              "              dtype='datetime64[ns]', freq='D')"
            ]
          },
          "metadata": {},
          "execution_count": 14
        }
      ]
    },
    {
      "cell_type": "code",
      "metadata": {
        "id": "pix_ueCOdWgg",
        "colab": {
          "base_uri": "https://localhost:8080/"
        },
        "outputId": "1245875f-bfa7-4db4-bc49-81977e398838"
      },
      "source": [
        "# Display the columns\n",
        "df.columns"
      ],
      "execution_count": 15,
      "outputs": [
        {
          "output_type": "execute_result",
          "data": {
            "text/plain": [
              "Index(['A', 'B', 'C', 'D'], dtype='object')"
            ]
          },
          "metadata": {},
          "execution_count": 15
        }
      ]
    },
    {
      "cell_type": "code",
      "metadata": {
        "id": "QWgC0V4fdWgg",
        "colab": {
          "base_uri": "https://localhost:8080/"
        },
        "outputId": "20d36add-31c7-4ce5-a01c-bcc64de2e829"
      },
      "source": [
        "# DataFrame.values gives a NumPy representation of the underlying data\n",
        "df.values"
      ],
      "execution_count": 16,
      "outputs": [
        {
          "output_type": "execute_result",
          "data": {
            "text/plain": [
              "array([[ 1.10376107, -1.91741564,  0.4888942 ,  1.27363768],\n",
              "       [ 2.4978942 , -0.47862921, -0.56598405,  1.21809602],\n",
              "       [ 1.25521413, -1.45633329,  1.01492605,  0.23794412],\n",
              "       [-1.83249846, -1.05084949, -0.01824498,  0.47351894],\n",
              "       [-0.55708601,  0.77318286, -0.24501382, -0.17370369],\n",
              "       [ 0.11584062, -1.98915748, -0.20015938, -0.94318402]])"
            ]
          },
          "metadata": {},
          "execution_count": 16
        }
      ]
    },
    {
      "cell_type": "code",
      "metadata": {
        "id": "kvcJJw9NdWgg"
      },
      "source": [
        "# note that DataFrame.values does not include the index or column labels in the output."
      ],
      "execution_count": 17,
      "outputs": []
    },
    {
      "cell_type": "code",
      "metadata": {
        "id": "wIvOaMxZdWgh",
        "colab": {
          "base_uri": "https://localhost:8080/",
          "height": 297
        },
        "outputId": "e92632a3-2c58-4ea4-bbc2-4f635310cb5e"
      },
      "source": [
        "# describe() shows a quick statistic summary of your data:\n",
        "df.describe()"
      ],
      "execution_count": 18,
      "outputs": [
        {
          "output_type": "execute_result",
          "data": {
            "text/html": [
              "<div>\n",
              "<style scoped>\n",
              "    .dataframe tbody tr th:only-of-type {\n",
              "        vertical-align: middle;\n",
              "    }\n",
              "\n",
              "    .dataframe tbody tr th {\n",
              "        vertical-align: top;\n",
              "    }\n",
              "\n",
              "    .dataframe thead th {\n",
              "        text-align: right;\n",
              "    }\n",
              "</style>\n",
              "<table border=\"1\" class=\"dataframe\">\n",
              "  <thead>\n",
              "    <tr style=\"text-align: right;\">\n",
              "      <th></th>\n",
              "      <th>A</th>\n",
              "      <th>B</th>\n",
              "      <th>C</th>\n",
              "      <th>D</th>\n",
              "    </tr>\n",
              "  </thead>\n",
              "  <tbody>\n",
              "    <tr>\n",
              "      <th>count</th>\n",
              "      <td>6.000000</td>\n",
              "      <td>6.000000</td>\n",
              "      <td>6.000000</td>\n",
              "      <td>6.000000</td>\n",
              "    </tr>\n",
              "    <tr>\n",
              "      <th>mean</th>\n",
              "      <td>0.430521</td>\n",
              "      <td>-1.019867</td>\n",
              "      <td>0.079070</td>\n",
              "      <td>0.347718</td>\n",
              "    </tr>\n",
              "    <tr>\n",
              "      <th>std</th>\n",
              "      <td>1.523355</td>\n",
              "      <td>1.043508</td>\n",
              "      <td>0.574865</td>\n",
              "      <td>0.846294</td>\n",
              "    </tr>\n",
              "    <tr>\n",
              "      <th>min</th>\n",
              "      <td>-1.832498</td>\n",
              "      <td>-1.989157</td>\n",
              "      <td>-0.565984</td>\n",
              "      <td>-0.943184</td>\n",
              "    </tr>\n",
              "    <tr>\n",
              "      <th>25%</th>\n",
              "      <td>-0.388854</td>\n",
              "      <td>-1.802145</td>\n",
              "      <td>-0.233800</td>\n",
              "      <td>-0.070792</td>\n",
              "    </tr>\n",
              "    <tr>\n",
              "      <th>50%</th>\n",
              "      <td>0.609801</td>\n",
              "      <td>-1.253591</td>\n",
              "      <td>-0.109202</td>\n",
              "      <td>0.355732</td>\n",
              "    </tr>\n",
              "    <tr>\n",
              "      <th>75%</th>\n",
              "      <td>1.217351</td>\n",
              "      <td>-0.621684</td>\n",
              "      <td>0.362109</td>\n",
              "      <td>1.031952</td>\n",
              "    </tr>\n",
              "    <tr>\n",
              "      <th>max</th>\n",
              "      <td>2.497894</td>\n",
              "      <td>0.773183</td>\n",
              "      <td>1.014926</td>\n",
              "      <td>1.273638</td>\n",
              "    </tr>\n",
              "  </tbody>\n",
              "</table>\n",
              "</div>"
            ],
            "text/plain": [
              "              A         B         C         D\n",
              "count  6.000000  6.000000  6.000000  6.000000\n",
              "mean   0.430521 -1.019867  0.079070  0.347718\n",
              "std    1.523355  1.043508  0.574865  0.846294\n",
              "min   -1.832498 -1.989157 -0.565984 -0.943184\n",
              "25%   -0.388854 -1.802145 -0.233800 -0.070792\n",
              "50%    0.609801 -1.253591 -0.109202  0.355732\n",
              "75%    1.217351 -0.621684  0.362109  1.031952\n",
              "max    2.497894  0.773183  1.014926  1.273638"
            ]
          },
          "metadata": {},
          "execution_count": 18
        }
      ]
    },
    {
      "cell_type": "code",
      "metadata": {
        "id": "HQno06RedWgh",
        "colab": {
          "base_uri": "https://localhost:8080/",
          "height": 173
        },
        "outputId": "a2a99561-c355-433c-e920-2110ac522545"
      },
      "source": [
        "# Transposing your data:\n",
        "df.T"
      ],
      "execution_count": 19,
      "outputs": [
        {
          "output_type": "execute_result",
          "data": {
            "text/html": [
              "<div>\n",
              "<style scoped>\n",
              "    .dataframe tbody tr th:only-of-type {\n",
              "        vertical-align: middle;\n",
              "    }\n",
              "\n",
              "    .dataframe tbody tr th {\n",
              "        vertical-align: top;\n",
              "    }\n",
              "\n",
              "    .dataframe thead th {\n",
              "        text-align: right;\n",
              "    }\n",
              "</style>\n",
              "<table border=\"1\" class=\"dataframe\">\n",
              "  <thead>\n",
              "    <tr style=\"text-align: right;\">\n",
              "      <th></th>\n",
              "      <th>2019-01-01</th>\n",
              "      <th>2019-01-02</th>\n",
              "      <th>2019-01-03</th>\n",
              "      <th>2019-01-04</th>\n",
              "      <th>2019-01-05</th>\n",
              "      <th>2019-01-06</th>\n",
              "    </tr>\n",
              "  </thead>\n",
              "  <tbody>\n",
              "    <tr>\n",
              "      <th>A</th>\n",
              "      <td>1.103761</td>\n",
              "      <td>2.497894</td>\n",
              "      <td>1.255214</td>\n",
              "      <td>-1.832498</td>\n",
              "      <td>-0.557086</td>\n",
              "      <td>0.115841</td>\n",
              "    </tr>\n",
              "    <tr>\n",
              "      <th>B</th>\n",
              "      <td>-1.917416</td>\n",
              "      <td>-0.478629</td>\n",
              "      <td>-1.456333</td>\n",
              "      <td>-1.050849</td>\n",
              "      <td>0.773183</td>\n",
              "      <td>-1.989157</td>\n",
              "    </tr>\n",
              "    <tr>\n",
              "      <th>C</th>\n",
              "      <td>0.488894</td>\n",
              "      <td>-0.565984</td>\n",
              "      <td>1.014926</td>\n",
              "      <td>-0.018245</td>\n",
              "      <td>-0.245014</td>\n",
              "      <td>-0.200159</td>\n",
              "    </tr>\n",
              "    <tr>\n",
              "      <th>D</th>\n",
              "      <td>1.273638</td>\n",
              "      <td>1.218096</td>\n",
              "      <td>0.237944</td>\n",
              "      <td>0.473519</td>\n",
              "      <td>-0.173704</td>\n",
              "      <td>-0.943184</td>\n",
              "    </tr>\n",
              "  </tbody>\n",
              "</table>\n",
              "</div>"
            ],
            "text/plain": [
              "   2019-01-01  2019-01-02  2019-01-03  2019-01-04  2019-01-05  2019-01-06\n",
              "A    1.103761    2.497894    1.255214   -1.832498   -0.557086    0.115841\n",
              "B   -1.917416   -0.478629   -1.456333   -1.050849    0.773183   -1.989157\n",
              "C    0.488894   -0.565984    1.014926   -0.018245   -0.245014   -0.200159\n",
              "D    1.273638    1.218096    0.237944    0.473519   -0.173704   -0.943184"
            ]
          },
          "metadata": {},
          "execution_count": 19
        }
      ]
    },
    {
      "cell_type": "code",
      "metadata": {
        "id": "02OFzToedWgh",
        "colab": {
          "base_uri": "https://localhost:8080/",
          "height": 235
        },
        "outputId": "5168f964-2e38-400a-fdc8-1bc78893a5a9"
      },
      "source": [
        "# Sorting by an axis:\n",
        "df.sort_index(axis=1, ascending=False)"
      ],
      "execution_count": 20,
      "outputs": [
        {
          "output_type": "execute_result",
          "data": {
            "text/html": [
              "<div>\n",
              "<style scoped>\n",
              "    .dataframe tbody tr th:only-of-type {\n",
              "        vertical-align: middle;\n",
              "    }\n",
              "\n",
              "    .dataframe tbody tr th {\n",
              "        vertical-align: top;\n",
              "    }\n",
              "\n",
              "    .dataframe thead th {\n",
              "        text-align: right;\n",
              "    }\n",
              "</style>\n",
              "<table border=\"1\" class=\"dataframe\">\n",
              "  <thead>\n",
              "    <tr style=\"text-align: right;\">\n",
              "      <th></th>\n",
              "      <th>D</th>\n",
              "      <th>C</th>\n",
              "      <th>B</th>\n",
              "      <th>A</th>\n",
              "    </tr>\n",
              "  </thead>\n",
              "  <tbody>\n",
              "    <tr>\n",
              "      <th>2019-01-01</th>\n",
              "      <td>1.273638</td>\n",
              "      <td>0.488894</td>\n",
              "      <td>-1.917416</td>\n",
              "      <td>1.103761</td>\n",
              "    </tr>\n",
              "    <tr>\n",
              "      <th>2019-01-02</th>\n",
              "      <td>1.218096</td>\n",
              "      <td>-0.565984</td>\n",
              "      <td>-0.478629</td>\n",
              "      <td>2.497894</td>\n",
              "    </tr>\n",
              "    <tr>\n",
              "      <th>2019-01-03</th>\n",
              "      <td>0.237944</td>\n",
              "      <td>1.014926</td>\n",
              "      <td>-1.456333</td>\n",
              "      <td>1.255214</td>\n",
              "    </tr>\n",
              "    <tr>\n",
              "      <th>2019-01-04</th>\n",
              "      <td>0.473519</td>\n",
              "      <td>-0.018245</td>\n",
              "      <td>-1.050849</td>\n",
              "      <td>-1.832498</td>\n",
              "    </tr>\n",
              "    <tr>\n",
              "      <th>2019-01-05</th>\n",
              "      <td>-0.173704</td>\n",
              "      <td>-0.245014</td>\n",
              "      <td>0.773183</td>\n",
              "      <td>-0.557086</td>\n",
              "    </tr>\n",
              "    <tr>\n",
              "      <th>2019-01-06</th>\n",
              "      <td>-0.943184</td>\n",
              "      <td>-0.200159</td>\n",
              "      <td>-1.989157</td>\n",
              "      <td>0.115841</td>\n",
              "    </tr>\n",
              "  </tbody>\n",
              "</table>\n",
              "</div>"
            ],
            "text/plain": [
              "                   D         C         B         A\n",
              "2019-01-01  1.273638  0.488894 -1.917416  1.103761\n",
              "2019-01-02  1.218096 -0.565984 -0.478629  2.497894\n",
              "2019-01-03  0.237944  1.014926 -1.456333  1.255214\n",
              "2019-01-04  0.473519 -0.018245 -1.050849 -1.832498\n",
              "2019-01-05 -0.173704 -0.245014  0.773183 -0.557086\n",
              "2019-01-06 -0.943184 -0.200159 -1.989157  0.115841"
            ]
          },
          "metadata": {},
          "execution_count": 20
        }
      ]
    },
    {
      "cell_type": "code",
      "metadata": {
        "id": "M2ktQiCAdWgh",
        "colab": {
          "base_uri": "https://localhost:8080/",
          "height": 235
        },
        "outputId": "65411afc-1fbd-474a-8638-a6a834e94355"
      },
      "source": [
        "# Sorting by values\n",
        "df.sort_values(by='B')"
      ],
      "execution_count": 21,
      "outputs": [
        {
          "output_type": "execute_result",
          "data": {
            "text/html": [
              "<div>\n",
              "<style scoped>\n",
              "    .dataframe tbody tr th:only-of-type {\n",
              "        vertical-align: middle;\n",
              "    }\n",
              "\n",
              "    .dataframe tbody tr th {\n",
              "        vertical-align: top;\n",
              "    }\n",
              "\n",
              "    .dataframe thead th {\n",
              "        text-align: right;\n",
              "    }\n",
              "</style>\n",
              "<table border=\"1\" class=\"dataframe\">\n",
              "  <thead>\n",
              "    <tr style=\"text-align: right;\">\n",
              "      <th></th>\n",
              "      <th>A</th>\n",
              "      <th>B</th>\n",
              "      <th>C</th>\n",
              "      <th>D</th>\n",
              "    </tr>\n",
              "  </thead>\n",
              "  <tbody>\n",
              "    <tr>\n",
              "      <th>2019-01-06</th>\n",
              "      <td>0.115841</td>\n",
              "      <td>-1.989157</td>\n",
              "      <td>-0.200159</td>\n",
              "      <td>-0.943184</td>\n",
              "    </tr>\n",
              "    <tr>\n",
              "      <th>2019-01-01</th>\n",
              "      <td>1.103761</td>\n",
              "      <td>-1.917416</td>\n",
              "      <td>0.488894</td>\n",
              "      <td>1.273638</td>\n",
              "    </tr>\n",
              "    <tr>\n",
              "      <th>2019-01-03</th>\n",
              "      <td>1.255214</td>\n",
              "      <td>-1.456333</td>\n",
              "      <td>1.014926</td>\n",
              "      <td>0.237944</td>\n",
              "    </tr>\n",
              "    <tr>\n",
              "      <th>2019-01-04</th>\n",
              "      <td>-1.832498</td>\n",
              "      <td>-1.050849</td>\n",
              "      <td>-0.018245</td>\n",
              "      <td>0.473519</td>\n",
              "    </tr>\n",
              "    <tr>\n",
              "      <th>2019-01-02</th>\n",
              "      <td>2.497894</td>\n",
              "      <td>-0.478629</td>\n",
              "      <td>-0.565984</td>\n",
              "      <td>1.218096</td>\n",
              "    </tr>\n",
              "    <tr>\n",
              "      <th>2019-01-05</th>\n",
              "      <td>-0.557086</td>\n",
              "      <td>0.773183</td>\n",
              "      <td>-0.245014</td>\n",
              "      <td>-0.173704</td>\n",
              "    </tr>\n",
              "  </tbody>\n",
              "</table>\n",
              "</div>"
            ],
            "text/plain": [
              "                   A         B         C         D\n",
              "2019-01-06  0.115841 -1.989157 -0.200159 -0.943184\n",
              "2019-01-01  1.103761 -1.917416  0.488894  1.273638\n",
              "2019-01-03  1.255214 -1.456333  1.014926  0.237944\n",
              "2019-01-04 -1.832498 -1.050849 -0.018245  0.473519\n",
              "2019-01-02  2.497894 -0.478629 -0.565984  1.218096\n",
              "2019-01-05 -0.557086  0.773183 -0.245014 -0.173704"
            ]
          },
          "metadata": {},
          "execution_count": 21
        }
      ]
    },
    {
      "cell_type": "markdown",
      "metadata": {
        "id": "Dauzk9JOdWgi"
      },
      "source": [
        "### SELECTION"
      ]
    },
    {
      "cell_type": "code",
      "metadata": {
        "id": "ZtEPKq_ldWgi",
        "colab": {
          "base_uri": "https://localhost:8080/"
        },
        "outputId": "b84090e5-81e6-4577-c628-56b9c9fcf6bf"
      },
      "source": [
        "# Selecting a single column, which yields a Series, equivalent to df.A:\n",
        "df['A']"
      ],
      "execution_count": 22,
      "outputs": [
        {
          "output_type": "execute_result",
          "data": {
            "text/plain": [
              "2019-01-01    1.103761\n",
              "2019-01-02    2.497894\n",
              "2019-01-03    1.255214\n",
              "2019-01-04   -1.832498\n",
              "2019-01-05   -0.557086\n",
              "2019-01-06    0.115841\n",
              "Freq: D, Name: A, dtype: float64"
            ]
          },
          "metadata": {},
          "execution_count": 22
        }
      ]
    },
    {
      "cell_type": "code",
      "metadata": {
        "id": "xym0v042dWgi",
        "colab": {
          "base_uri": "https://localhost:8080/"
        },
        "outputId": "b7320c76-9d4f-4391-dd4c-d58222aacd54"
      },
      "source": [
        "df.A"
      ],
      "execution_count": 23,
      "outputs": [
        {
          "output_type": "execute_result",
          "data": {
            "text/plain": [
              "2019-01-01    1.103761\n",
              "2019-01-02    2.497894\n",
              "2019-01-03    1.255214\n",
              "2019-01-04   -1.832498\n",
              "2019-01-05   -0.557086\n",
              "2019-01-06    0.115841\n",
              "Freq: D, Name: A, dtype: float64"
            ]
          },
          "metadata": {},
          "execution_count": 23
        }
      ]
    },
    {
      "cell_type": "code",
      "metadata": {
        "id": "ktcTAaJrdWgi",
        "colab": {
          "base_uri": "https://localhost:8080/",
          "height": 142
        },
        "outputId": "9c0281a7-e159-4258-b7f4-052a9be61e8f"
      },
      "source": [
        "# Selecting via [], which slices the rows.\n",
        "df[0:3]"
      ],
      "execution_count": 24,
      "outputs": [
        {
          "output_type": "execute_result",
          "data": {
            "text/html": [
              "<div>\n",
              "<style scoped>\n",
              "    .dataframe tbody tr th:only-of-type {\n",
              "        vertical-align: middle;\n",
              "    }\n",
              "\n",
              "    .dataframe tbody tr th {\n",
              "        vertical-align: top;\n",
              "    }\n",
              "\n",
              "    .dataframe thead th {\n",
              "        text-align: right;\n",
              "    }\n",
              "</style>\n",
              "<table border=\"1\" class=\"dataframe\">\n",
              "  <thead>\n",
              "    <tr style=\"text-align: right;\">\n",
              "      <th></th>\n",
              "      <th>A</th>\n",
              "      <th>B</th>\n",
              "      <th>C</th>\n",
              "      <th>D</th>\n",
              "    </tr>\n",
              "  </thead>\n",
              "  <tbody>\n",
              "    <tr>\n",
              "      <th>2019-01-01</th>\n",
              "      <td>1.103761</td>\n",
              "      <td>-1.917416</td>\n",
              "      <td>0.488894</td>\n",
              "      <td>1.273638</td>\n",
              "    </tr>\n",
              "    <tr>\n",
              "      <th>2019-01-02</th>\n",
              "      <td>2.497894</td>\n",
              "      <td>-0.478629</td>\n",
              "      <td>-0.565984</td>\n",
              "      <td>1.218096</td>\n",
              "    </tr>\n",
              "    <tr>\n",
              "      <th>2019-01-03</th>\n",
              "      <td>1.255214</td>\n",
              "      <td>-1.456333</td>\n",
              "      <td>1.014926</td>\n",
              "      <td>0.237944</td>\n",
              "    </tr>\n",
              "  </tbody>\n",
              "</table>\n",
              "</div>"
            ],
            "text/plain": [
              "                   A         B         C         D\n",
              "2019-01-01  1.103761 -1.917416  0.488894  1.273638\n",
              "2019-01-02  2.497894 -0.478629 -0.565984  1.218096\n",
              "2019-01-03  1.255214 -1.456333  1.014926  0.237944"
            ]
          },
          "metadata": {},
          "execution_count": 24
        }
      ]
    },
    {
      "cell_type": "code",
      "metadata": {
        "id": "A04RkrFVdWgi",
        "colab": {
          "base_uri": "https://localhost:8080/",
          "height": 142
        },
        "outputId": "83f18e70-8906-4c19-e908-f5f183c9e265"
      },
      "source": [
        "df['20190102':'20190104']"
      ],
      "execution_count": 25,
      "outputs": [
        {
          "output_type": "execute_result",
          "data": {
            "text/html": [
              "<div>\n",
              "<style scoped>\n",
              "    .dataframe tbody tr th:only-of-type {\n",
              "        vertical-align: middle;\n",
              "    }\n",
              "\n",
              "    .dataframe tbody tr th {\n",
              "        vertical-align: top;\n",
              "    }\n",
              "\n",
              "    .dataframe thead th {\n",
              "        text-align: right;\n",
              "    }\n",
              "</style>\n",
              "<table border=\"1\" class=\"dataframe\">\n",
              "  <thead>\n",
              "    <tr style=\"text-align: right;\">\n",
              "      <th></th>\n",
              "      <th>A</th>\n",
              "      <th>B</th>\n",
              "      <th>C</th>\n",
              "      <th>D</th>\n",
              "    </tr>\n",
              "  </thead>\n",
              "  <tbody>\n",
              "    <tr>\n",
              "      <th>2019-01-02</th>\n",
              "      <td>2.497894</td>\n",
              "      <td>-0.478629</td>\n",
              "      <td>-0.565984</td>\n",
              "      <td>1.218096</td>\n",
              "    </tr>\n",
              "    <tr>\n",
              "      <th>2019-01-03</th>\n",
              "      <td>1.255214</td>\n",
              "      <td>-1.456333</td>\n",
              "      <td>1.014926</td>\n",
              "      <td>0.237944</td>\n",
              "    </tr>\n",
              "    <tr>\n",
              "      <th>2019-01-04</th>\n",
              "      <td>-1.832498</td>\n",
              "      <td>-1.050849</td>\n",
              "      <td>-0.018245</td>\n",
              "      <td>0.473519</td>\n",
              "    </tr>\n",
              "  </tbody>\n",
              "</table>\n",
              "</div>"
            ],
            "text/plain": [
              "                   A         B         C         D\n",
              "2019-01-02  2.497894 -0.478629 -0.565984  1.218096\n",
              "2019-01-03  1.255214 -1.456333  1.014926  0.237944\n",
              "2019-01-04 -1.832498 -1.050849 -0.018245  0.473519"
            ]
          },
          "metadata": {},
          "execution_count": 25
        }
      ]
    },
    {
      "cell_type": "markdown",
      "metadata": {
        "id": "pQ0QxX3idWgi"
      },
      "source": [
        "#### Selection by Label"
      ]
    },
    {
      "cell_type": "code",
      "metadata": {
        "id": "RKGBcKqudWgi",
        "colab": {
          "base_uri": "https://localhost:8080/"
        },
        "outputId": "e1d6f0da-0ed9-4e13-8e19-96aa0022386b"
      },
      "source": [
        "# For getting a cross section using a label:\n",
        "df.loc[dates[0]]"
      ],
      "execution_count": 26,
      "outputs": [
        {
          "output_type": "execute_result",
          "data": {
            "text/plain": [
              "A    1.103761\n",
              "B   -1.917416\n",
              "C    0.488894\n",
              "D    1.273638\n",
              "Name: 2019-01-01 00:00:00, dtype: float64"
            ]
          },
          "metadata": {},
          "execution_count": 26
        }
      ]
    },
    {
      "cell_type": "code",
      "metadata": {
        "id": "3AoNRWuzdWgj",
        "colab": {
          "base_uri": "https://localhost:8080/",
          "height": 235
        },
        "outputId": "b1702f7c-f102-4acf-c8d2-a3bb9135dcae"
      },
      "source": [
        "# Selecting on a multi-axis by label:\n",
        "df.loc[:, ['A', 'B']]"
      ],
      "execution_count": 27,
      "outputs": [
        {
          "output_type": "execute_result",
          "data": {
            "text/html": [
              "<div>\n",
              "<style scoped>\n",
              "    .dataframe tbody tr th:only-of-type {\n",
              "        vertical-align: middle;\n",
              "    }\n",
              "\n",
              "    .dataframe tbody tr th {\n",
              "        vertical-align: top;\n",
              "    }\n",
              "\n",
              "    .dataframe thead th {\n",
              "        text-align: right;\n",
              "    }\n",
              "</style>\n",
              "<table border=\"1\" class=\"dataframe\">\n",
              "  <thead>\n",
              "    <tr style=\"text-align: right;\">\n",
              "      <th></th>\n",
              "      <th>A</th>\n",
              "      <th>B</th>\n",
              "    </tr>\n",
              "  </thead>\n",
              "  <tbody>\n",
              "    <tr>\n",
              "      <th>2019-01-01</th>\n",
              "      <td>1.103761</td>\n",
              "      <td>-1.917416</td>\n",
              "    </tr>\n",
              "    <tr>\n",
              "      <th>2019-01-02</th>\n",
              "      <td>2.497894</td>\n",
              "      <td>-0.478629</td>\n",
              "    </tr>\n",
              "    <tr>\n",
              "      <th>2019-01-03</th>\n",
              "      <td>1.255214</td>\n",
              "      <td>-1.456333</td>\n",
              "    </tr>\n",
              "    <tr>\n",
              "      <th>2019-01-04</th>\n",
              "      <td>-1.832498</td>\n",
              "      <td>-1.050849</td>\n",
              "    </tr>\n",
              "    <tr>\n",
              "      <th>2019-01-05</th>\n",
              "      <td>-0.557086</td>\n",
              "      <td>0.773183</td>\n",
              "    </tr>\n",
              "    <tr>\n",
              "      <th>2019-01-06</th>\n",
              "      <td>0.115841</td>\n",
              "      <td>-1.989157</td>\n",
              "    </tr>\n",
              "  </tbody>\n",
              "</table>\n",
              "</div>"
            ],
            "text/plain": [
              "                   A         B\n",
              "2019-01-01  1.103761 -1.917416\n",
              "2019-01-02  2.497894 -0.478629\n",
              "2019-01-03  1.255214 -1.456333\n",
              "2019-01-04 -1.832498 -1.050849\n",
              "2019-01-05 -0.557086  0.773183\n",
              "2019-01-06  0.115841 -1.989157"
            ]
          },
          "metadata": {},
          "execution_count": 27
        }
      ]
    },
    {
      "cell_type": "code",
      "metadata": {
        "id": "JoAuz3LYdWgj",
        "colab": {
          "base_uri": "https://localhost:8080/",
          "height": 142
        },
        "outputId": "f3f0be80-a39e-47c4-b4a8-1d69a55abfb2"
      },
      "source": [
        "# Showing label slicing, both endpoints are included:\n",
        "df.loc['20190102':'20190104', ['A', 'B']]"
      ],
      "execution_count": 28,
      "outputs": [
        {
          "output_type": "execute_result",
          "data": {
            "text/html": [
              "<div>\n",
              "<style scoped>\n",
              "    .dataframe tbody tr th:only-of-type {\n",
              "        vertical-align: middle;\n",
              "    }\n",
              "\n",
              "    .dataframe tbody tr th {\n",
              "        vertical-align: top;\n",
              "    }\n",
              "\n",
              "    .dataframe thead th {\n",
              "        text-align: right;\n",
              "    }\n",
              "</style>\n",
              "<table border=\"1\" class=\"dataframe\">\n",
              "  <thead>\n",
              "    <tr style=\"text-align: right;\">\n",
              "      <th></th>\n",
              "      <th>A</th>\n",
              "      <th>B</th>\n",
              "    </tr>\n",
              "  </thead>\n",
              "  <tbody>\n",
              "    <tr>\n",
              "      <th>2019-01-02</th>\n",
              "      <td>2.497894</td>\n",
              "      <td>-0.478629</td>\n",
              "    </tr>\n",
              "    <tr>\n",
              "      <th>2019-01-03</th>\n",
              "      <td>1.255214</td>\n",
              "      <td>-1.456333</td>\n",
              "    </tr>\n",
              "    <tr>\n",
              "      <th>2019-01-04</th>\n",
              "      <td>-1.832498</td>\n",
              "      <td>-1.050849</td>\n",
              "    </tr>\n",
              "  </tbody>\n",
              "</table>\n",
              "</div>"
            ],
            "text/plain": [
              "                   A         B\n",
              "2019-01-02  2.497894 -0.478629\n",
              "2019-01-03  1.255214 -1.456333\n",
              "2019-01-04 -1.832498 -1.050849"
            ]
          },
          "metadata": {},
          "execution_count": 28
        }
      ]
    },
    {
      "cell_type": "code",
      "metadata": {
        "id": "_IlqM4UJdWgj",
        "colab": {
          "base_uri": "https://localhost:8080/"
        },
        "outputId": "b3716dd1-6161-4324-e1e6-5847ddd38378"
      },
      "source": [
        "# Reduction in the dimensions of the returned object:\n",
        "df.loc['20190102', ['A', 'B']]"
      ],
      "execution_count": 29,
      "outputs": [
        {
          "output_type": "execute_result",
          "data": {
            "text/plain": [
              "A    2.497894\n",
              "B   -0.478629\n",
              "Name: 2019-01-02 00:00:00, dtype: float64"
            ]
          },
          "metadata": {},
          "execution_count": 29
        }
      ]
    },
    {
      "cell_type": "code",
      "metadata": {
        "id": "4rxjY_6mdWgj",
        "colab": {
          "base_uri": "https://localhost:8080/"
        },
        "outputId": "1d7a0655-b8c6-4a0c-edde-1b5e44f337c7"
      },
      "source": [
        "# For getting a scalar value:\n",
        "df.loc[dates[0], 'A']"
      ],
      "execution_count": 30,
      "outputs": [
        {
          "output_type": "execute_result",
          "data": {
            "text/plain": [
              "1.1037610661369883"
            ]
          },
          "metadata": {},
          "execution_count": 30
        }
      ]
    },
    {
      "cell_type": "code",
      "metadata": {
        "id": "1AIb6MnodWgj",
        "colab": {
          "base_uri": "https://localhost:8080/"
        },
        "outputId": "609837fd-5cbf-43ae-b959-26edfc6183d4"
      },
      "source": [
        "# For getting fast access to a scalar (equivalent to the prior method):\n",
        "df.at[dates[0], 'A']"
      ],
      "execution_count": 31,
      "outputs": [
        {
          "output_type": "execute_result",
          "data": {
            "text/plain": [
              "1.1037610661369883"
            ]
          },
          "metadata": {},
          "execution_count": 31
        }
      ]
    },
    {
      "cell_type": "markdown",
      "metadata": {
        "id": "ekB3h3p2dWgj"
      },
      "source": [
        "#### Selection by Position"
      ]
    },
    {
      "cell_type": "code",
      "metadata": {
        "id": "JLEDPsWHdWgk",
        "colab": {
          "base_uri": "https://localhost:8080/"
        },
        "outputId": "71bb2c2c-719d-425b-8b38-589dd637b997"
      },
      "source": [
        "# Select via the position of the passed integers:\n",
        "df.iloc[3]"
      ],
      "execution_count": 32,
      "outputs": [
        {
          "output_type": "execute_result",
          "data": {
            "text/plain": [
              "A   -1.832498\n",
              "B   -1.050849\n",
              "C   -0.018245\n",
              "D    0.473519\n",
              "Name: 2019-01-04 00:00:00, dtype: float64"
            ]
          },
          "metadata": {},
          "execution_count": 32
        }
      ]
    },
    {
      "cell_type": "code",
      "metadata": {
        "id": "3rB_9K92dWgk",
        "colab": {
          "base_uri": "https://localhost:8080/",
          "height": 111
        },
        "outputId": "8ead3ba5-b438-4a83-ae54-e8310b2ddc36"
      },
      "source": [
        "# By integer slices, acting similar to numpy/python:\n",
        "df.iloc[3:5, 0:2]"
      ],
      "execution_count": 33,
      "outputs": [
        {
          "output_type": "execute_result",
          "data": {
            "text/html": [
              "<div>\n",
              "<style scoped>\n",
              "    .dataframe tbody tr th:only-of-type {\n",
              "        vertical-align: middle;\n",
              "    }\n",
              "\n",
              "    .dataframe tbody tr th {\n",
              "        vertical-align: top;\n",
              "    }\n",
              "\n",
              "    .dataframe thead th {\n",
              "        text-align: right;\n",
              "    }\n",
              "</style>\n",
              "<table border=\"1\" class=\"dataframe\">\n",
              "  <thead>\n",
              "    <tr style=\"text-align: right;\">\n",
              "      <th></th>\n",
              "      <th>A</th>\n",
              "      <th>B</th>\n",
              "    </tr>\n",
              "  </thead>\n",
              "  <tbody>\n",
              "    <tr>\n",
              "      <th>2019-01-04</th>\n",
              "      <td>-1.832498</td>\n",
              "      <td>-1.050849</td>\n",
              "    </tr>\n",
              "    <tr>\n",
              "      <th>2019-01-05</th>\n",
              "      <td>-0.557086</td>\n",
              "      <td>0.773183</td>\n",
              "    </tr>\n",
              "  </tbody>\n",
              "</table>\n",
              "</div>"
            ],
            "text/plain": [
              "                   A         B\n",
              "2019-01-04 -1.832498 -1.050849\n",
              "2019-01-05 -0.557086  0.773183"
            ]
          },
          "metadata": {},
          "execution_count": 33
        }
      ]
    },
    {
      "cell_type": "code",
      "metadata": {
        "id": "OPxrRCBKdWgk",
        "colab": {
          "base_uri": "https://localhost:8080/",
          "height": 142
        },
        "outputId": "0bec7eef-a26f-423d-d9f4-15d632e5d541"
      },
      "source": [
        "# By lists of integer position locations, similar to the numpy/python style:\n",
        "df.iloc[[1, 2, 4], [0, 2]]"
      ],
      "execution_count": 34,
      "outputs": [
        {
          "output_type": "execute_result",
          "data": {
            "text/html": [
              "<div>\n",
              "<style scoped>\n",
              "    .dataframe tbody tr th:only-of-type {\n",
              "        vertical-align: middle;\n",
              "    }\n",
              "\n",
              "    .dataframe tbody tr th {\n",
              "        vertical-align: top;\n",
              "    }\n",
              "\n",
              "    .dataframe thead th {\n",
              "        text-align: right;\n",
              "    }\n",
              "</style>\n",
              "<table border=\"1\" class=\"dataframe\">\n",
              "  <thead>\n",
              "    <tr style=\"text-align: right;\">\n",
              "      <th></th>\n",
              "      <th>A</th>\n",
              "      <th>C</th>\n",
              "    </tr>\n",
              "  </thead>\n",
              "  <tbody>\n",
              "    <tr>\n",
              "      <th>2019-01-02</th>\n",
              "      <td>2.497894</td>\n",
              "      <td>-0.565984</td>\n",
              "    </tr>\n",
              "    <tr>\n",
              "      <th>2019-01-03</th>\n",
              "      <td>1.255214</td>\n",
              "      <td>1.014926</td>\n",
              "    </tr>\n",
              "    <tr>\n",
              "      <th>2019-01-05</th>\n",
              "      <td>-0.557086</td>\n",
              "      <td>-0.245014</td>\n",
              "    </tr>\n",
              "  </tbody>\n",
              "</table>\n",
              "</div>"
            ],
            "text/plain": [
              "                   A         C\n",
              "2019-01-02  2.497894 -0.565984\n",
              "2019-01-03  1.255214  1.014926\n",
              "2019-01-05 -0.557086 -0.245014"
            ]
          },
          "metadata": {},
          "execution_count": 34
        }
      ]
    },
    {
      "cell_type": "code",
      "metadata": {
        "id": "opX_PRaYdWgk",
        "colab": {
          "base_uri": "https://localhost:8080/",
          "height": 111
        },
        "outputId": "1e7d53c4-efa2-484a-c0ec-419c30d437d6"
      },
      "source": [
        "# For slicing rows explicitly:\n",
        "df.iloc[1:3, :]"
      ],
      "execution_count": 35,
      "outputs": [
        {
          "output_type": "execute_result",
          "data": {
            "text/html": [
              "<div>\n",
              "<style scoped>\n",
              "    .dataframe tbody tr th:only-of-type {\n",
              "        vertical-align: middle;\n",
              "    }\n",
              "\n",
              "    .dataframe tbody tr th {\n",
              "        vertical-align: top;\n",
              "    }\n",
              "\n",
              "    .dataframe thead th {\n",
              "        text-align: right;\n",
              "    }\n",
              "</style>\n",
              "<table border=\"1\" class=\"dataframe\">\n",
              "  <thead>\n",
              "    <tr style=\"text-align: right;\">\n",
              "      <th></th>\n",
              "      <th>A</th>\n",
              "      <th>B</th>\n",
              "      <th>C</th>\n",
              "      <th>D</th>\n",
              "    </tr>\n",
              "  </thead>\n",
              "  <tbody>\n",
              "    <tr>\n",
              "      <th>2019-01-02</th>\n",
              "      <td>2.497894</td>\n",
              "      <td>-0.478629</td>\n",
              "      <td>-0.565984</td>\n",
              "      <td>1.218096</td>\n",
              "    </tr>\n",
              "    <tr>\n",
              "      <th>2019-01-03</th>\n",
              "      <td>1.255214</td>\n",
              "      <td>-1.456333</td>\n",
              "      <td>1.014926</td>\n",
              "      <td>0.237944</td>\n",
              "    </tr>\n",
              "  </tbody>\n",
              "</table>\n",
              "</div>"
            ],
            "text/plain": [
              "                   A         B         C         D\n",
              "2019-01-02  2.497894 -0.478629 -0.565984  1.218096\n",
              "2019-01-03  1.255214 -1.456333  1.014926  0.237944"
            ]
          },
          "metadata": {},
          "execution_count": 35
        }
      ]
    },
    {
      "cell_type": "code",
      "metadata": {
        "id": "4iWBUrhBdWgk",
        "colab": {
          "base_uri": "https://localhost:8080/",
          "height": 235
        },
        "outputId": "82e648ea-d442-4826-d704-35acca98c933"
      },
      "source": [
        "# For slicing columns explicitly:\n",
        "df.iloc[:, 1:3]"
      ],
      "execution_count": 36,
      "outputs": [
        {
          "output_type": "execute_result",
          "data": {
            "text/html": [
              "<div>\n",
              "<style scoped>\n",
              "    .dataframe tbody tr th:only-of-type {\n",
              "        vertical-align: middle;\n",
              "    }\n",
              "\n",
              "    .dataframe tbody tr th {\n",
              "        vertical-align: top;\n",
              "    }\n",
              "\n",
              "    .dataframe thead th {\n",
              "        text-align: right;\n",
              "    }\n",
              "</style>\n",
              "<table border=\"1\" class=\"dataframe\">\n",
              "  <thead>\n",
              "    <tr style=\"text-align: right;\">\n",
              "      <th></th>\n",
              "      <th>B</th>\n",
              "      <th>C</th>\n",
              "    </tr>\n",
              "  </thead>\n",
              "  <tbody>\n",
              "    <tr>\n",
              "      <th>2019-01-01</th>\n",
              "      <td>-1.917416</td>\n",
              "      <td>0.488894</td>\n",
              "    </tr>\n",
              "    <tr>\n",
              "      <th>2019-01-02</th>\n",
              "      <td>-0.478629</td>\n",
              "      <td>-0.565984</td>\n",
              "    </tr>\n",
              "    <tr>\n",
              "      <th>2019-01-03</th>\n",
              "      <td>-1.456333</td>\n",
              "      <td>1.014926</td>\n",
              "    </tr>\n",
              "    <tr>\n",
              "      <th>2019-01-04</th>\n",
              "      <td>-1.050849</td>\n",
              "      <td>-0.018245</td>\n",
              "    </tr>\n",
              "    <tr>\n",
              "      <th>2019-01-05</th>\n",
              "      <td>0.773183</td>\n",
              "      <td>-0.245014</td>\n",
              "    </tr>\n",
              "    <tr>\n",
              "      <th>2019-01-06</th>\n",
              "      <td>-1.989157</td>\n",
              "      <td>-0.200159</td>\n",
              "    </tr>\n",
              "  </tbody>\n",
              "</table>\n",
              "</div>"
            ],
            "text/plain": [
              "                   B         C\n",
              "2019-01-01 -1.917416  0.488894\n",
              "2019-01-02 -0.478629 -0.565984\n",
              "2019-01-03 -1.456333  1.014926\n",
              "2019-01-04 -1.050849 -0.018245\n",
              "2019-01-05  0.773183 -0.245014\n",
              "2019-01-06 -1.989157 -0.200159"
            ]
          },
          "metadata": {},
          "execution_count": 36
        }
      ]
    },
    {
      "cell_type": "code",
      "metadata": {
        "id": "YvRyQ7-4dWgl",
        "colab": {
          "base_uri": "https://localhost:8080/"
        },
        "outputId": "286f7a93-20f7-4a03-bbd7-4c48b5d2fbcc"
      },
      "source": [
        "# For getting a value explicitly:\n",
        "df.iloc[1, 1]"
      ],
      "execution_count": 37,
      "outputs": [
        {
          "output_type": "execute_result",
          "data": {
            "text/plain": [
              "-0.47862921272087844"
            ]
          },
          "metadata": {},
          "execution_count": 37
        }
      ]
    },
    {
      "cell_type": "code",
      "metadata": {
        "id": "dUe8RQhNdWgl",
        "colab": {
          "base_uri": "https://localhost:8080/"
        },
        "outputId": "40bf38ff-32da-4b8a-a533-d481031e7620"
      },
      "source": [
        "# For getting fast access to a scalar (equivalent to the prior method):\n",
        "df.iat[1, 1]"
      ],
      "execution_count": 38,
      "outputs": [
        {
          "output_type": "execute_result",
          "data": {
            "text/plain": [
              "-0.47862921272087844"
            ]
          },
          "metadata": {},
          "execution_count": 38
        }
      ]
    },
    {
      "cell_type": "markdown",
      "metadata": {
        "id": "YdyWNYY8dWgl"
      },
      "source": [
        "### Boolean Indexing"
      ]
    },
    {
      "cell_type": "code",
      "metadata": {
        "id": "BfIgqefHdWgl",
        "colab": {
          "base_uri": "https://localhost:8080/",
          "height": 173
        },
        "outputId": "38abc62b-425c-4023-9be6-92eb433312d7"
      },
      "source": [
        "# Using a single column’s values to select data.\n",
        "df[df.A > 0]"
      ],
      "execution_count": 39,
      "outputs": [
        {
          "output_type": "execute_result",
          "data": {
            "text/html": [
              "<div>\n",
              "<style scoped>\n",
              "    .dataframe tbody tr th:only-of-type {\n",
              "        vertical-align: middle;\n",
              "    }\n",
              "\n",
              "    .dataframe tbody tr th {\n",
              "        vertical-align: top;\n",
              "    }\n",
              "\n",
              "    .dataframe thead th {\n",
              "        text-align: right;\n",
              "    }\n",
              "</style>\n",
              "<table border=\"1\" class=\"dataframe\">\n",
              "  <thead>\n",
              "    <tr style=\"text-align: right;\">\n",
              "      <th></th>\n",
              "      <th>A</th>\n",
              "      <th>B</th>\n",
              "      <th>C</th>\n",
              "      <th>D</th>\n",
              "    </tr>\n",
              "  </thead>\n",
              "  <tbody>\n",
              "    <tr>\n",
              "      <th>2019-01-01</th>\n",
              "      <td>1.103761</td>\n",
              "      <td>-1.917416</td>\n",
              "      <td>0.488894</td>\n",
              "      <td>1.273638</td>\n",
              "    </tr>\n",
              "    <tr>\n",
              "      <th>2019-01-02</th>\n",
              "      <td>2.497894</td>\n",
              "      <td>-0.478629</td>\n",
              "      <td>-0.565984</td>\n",
              "      <td>1.218096</td>\n",
              "    </tr>\n",
              "    <tr>\n",
              "      <th>2019-01-03</th>\n",
              "      <td>1.255214</td>\n",
              "      <td>-1.456333</td>\n",
              "      <td>1.014926</td>\n",
              "      <td>0.237944</td>\n",
              "    </tr>\n",
              "    <tr>\n",
              "      <th>2019-01-06</th>\n",
              "      <td>0.115841</td>\n",
              "      <td>-1.989157</td>\n",
              "      <td>-0.200159</td>\n",
              "      <td>-0.943184</td>\n",
              "    </tr>\n",
              "  </tbody>\n",
              "</table>\n",
              "</div>"
            ],
            "text/plain": [
              "                   A         B         C         D\n",
              "2019-01-01  1.103761 -1.917416  0.488894  1.273638\n",
              "2019-01-02  2.497894 -0.478629 -0.565984  1.218096\n",
              "2019-01-03  1.255214 -1.456333  1.014926  0.237944\n",
              "2019-01-06  0.115841 -1.989157 -0.200159 -0.943184"
            ]
          },
          "metadata": {},
          "execution_count": 39
        }
      ]
    },
    {
      "cell_type": "code",
      "metadata": {
        "id": "KwN3zrNvdWgl",
        "colab": {
          "base_uri": "https://localhost:8080/",
          "height": 235
        },
        "outputId": "7443c9ba-189f-4451-942d-9f511f54d4e2"
      },
      "source": [
        "# Selecting values from a DataFrame where a boolean condition is met\n",
        "df[df > 0]"
      ],
      "execution_count": 40,
      "outputs": [
        {
          "output_type": "execute_result",
          "data": {
            "text/html": [
              "<div>\n",
              "<style scoped>\n",
              "    .dataframe tbody tr th:only-of-type {\n",
              "        vertical-align: middle;\n",
              "    }\n",
              "\n",
              "    .dataframe tbody tr th {\n",
              "        vertical-align: top;\n",
              "    }\n",
              "\n",
              "    .dataframe thead th {\n",
              "        text-align: right;\n",
              "    }\n",
              "</style>\n",
              "<table border=\"1\" class=\"dataframe\">\n",
              "  <thead>\n",
              "    <tr style=\"text-align: right;\">\n",
              "      <th></th>\n",
              "      <th>A</th>\n",
              "      <th>B</th>\n",
              "      <th>C</th>\n",
              "      <th>D</th>\n",
              "    </tr>\n",
              "  </thead>\n",
              "  <tbody>\n",
              "    <tr>\n",
              "      <th>2019-01-01</th>\n",
              "      <td>1.103761</td>\n",
              "      <td>NaN</td>\n",
              "      <td>0.488894</td>\n",
              "      <td>1.273638</td>\n",
              "    </tr>\n",
              "    <tr>\n",
              "      <th>2019-01-02</th>\n",
              "      <td>2.497894</td>\n",
              "      <td>NaN</td>\n",
              "      <td>NaN</td>\n",
              "      <td>1.218096</td>\n",
              "    </tr>\n",
              "    <tr>\n",
              "      <th>2019-01-03</th>\n",
              "      <td>1.255214</td>\n",
              "      <td>NaN</td>\n",
              "      <td>1.014926</td>\n",
              "      <td>0.237944</td>\n",
              "    </tr>\n",
              "    <tr>\n",
              "      <th>2019-01-04</th>\n",
              "      <td>NaN</td>\n",
              "      <td>NaN</td>\n",
              "      <td>NaN</td>\n",
              "      <td>0.473519</td>\n",
              "    </tr>\n",
              "    <tr>\n",
              "      <th>2019-01-05</th>\n",
              "      <td>NaN</td>\n",
              "      <td>0.773183</td>\n",
              "      <td>NaN</td>\n",
              "      <td>NaN</td>\n",
              "    </tr>\n",
              "    <tr>\n",
              "      <th>2019-01-06</th>\n",
              "      <td>0.115841</td>\n",
              "      <td>NaN</td>\n",
              "      <td>NaN</td>\n",
              "      <td>NaN</td>\n",
              "    </tr>\n",
              "  </tbody>\n",
              "</table>\n",
              "</div>"
            ],
            "text/plain": [
              "                   A         B         C         D\n",
              "2019-01-01  1.103761       NaN  0.488894  1.273638\n",
              "2019-01-02  2.497894       NaN       NaN  1.218096\n",
              "2019-01-03  1.255214       NaN  1.014926  0.237944\n",
              "2019-01-04       NaN       NaN       NaN  0.473519\n",
              "2019-01-05       NaN  0.773183       NaN       NaN\n",
              "2019-01-06  0.115841       NaN       NaN       NaN"
            ]
          },
          "metadata": {},
          "execution_count": 40
        }
      ]
    },
    {
      "cell_type": "code",
      "metadata": {
        "id": "uLcHTqnzdWgl",
        "colab": {
          "base_uri": "https://localhost:8080/",
          "height": 235
        },
        "outputId": "e01c7d55-fa7d-4172-8235-054a36285979"
      },
      "source": [
        "# Using the isin() method for filtering:\n",
        "df2 = df.copy()\n",
        "df2['E'] = ['one', 'one', 'two', 'three', 'four', 'three']\n",
        "df2"
      ],
      "execution_count": 41,
      "outputs": [
        {
          "output_type": "execute_result",
          "data": {
            "text/html": [
              "<div>\n",
              "<style scoped>\n",
              "    .dataframe tbody tr th:only-of-type {\n",
              "        vertical-align: middle;\n",
              "    }\n",
              "\n",
              "    .dataframe tbody tr th {\n",
              "        vertical-align: top;\n",
              "    }\n",
              "\n",
              "    .dataframe thead th {\n",
              "        text-align: right;\n",
              "    }\n",
              "</style>\n",
              "<table border=\"1\" class=\"dataframe\">\n",
              "  <thead>\n",
              "    <tr style=\"text-align: right;\">\n",
              "      <th></th>\n",
              "      <th>A</th>\n",
              "      <th>B</th>\n",
              "      <th>C</th>\n",
              "      <th>D</th>\n",
              "      <th>E</th>\n",
              "    </tr>\n",
              "  </thead>\n",
              "  <tbody>\n",
              "    <tr>\n",
              "      <th>2019-01-01</th>\n",
              "      <td>1.103761</td>\n",
              "      <td>-1.917416</td>\n",
              "      <td>0.488894</td>\n",
              "      <td>1.273638</td>\n",
              "      <td>one</td>\n",
              "    </tr>\n",
              "    <tr>\n",
              "      <th>2019-01-02</th>\n",
              "      <td>2.497894</td>\n",
              "      <td>-0.478629</td>\n",
              "      <td>-0.565984</td>\n",
              "      <td>1.218096</td>\n",
              "      <td>one</td>\n",
              "    </tr>\n",
              "    <tr>\n",
              "      <th>2019-01-03</th>\n",
              "      <td>1.255214</td>\n",
              "      <td>-1.456333</td>\n",
              "      <td>1.014926</td>\n",
              "      <td>0.237944</td>\n",
              "      <td>two</td>\n",
              "    </tr>\n",
              "    <tr>\n",
              "      <th>2019-01-04</th>\n",
              "      <td>-1.832498</td>\n",
              "      <td>-1.050849</td>\n",
              "      <td>-0.018245</td>\n",
              "      <td>0.473519</td>\n",
              "      <td>three</td>\n",
              "    </tr>\n",
              "    <tr>\n",
              "      <th>2019-01-05</th>\n",
              "      <td>-0.557086</td>\n",
              "      <td>0.773183</td>\n",
              "      <td>-0.245014</td>\n",
              "      <td>-0.173704</td>\n",
              "      <td>four</td>\n",
              "    </tr>\n",
              "    <tr>\n",
              "      <th>2019-01-06</th>\n",
              "      <td>0.115841</td>\n",
              "      <td>-1.989157</td>\n",
              "      <td>-0.200159</td>\n",
              "      <td>-0.943184</td>\n",
              "      <td>three</td>\n",
              "    </tr>\n",
              "  </tbody>\n",
              "</table>\n",
              "</div>"
            ],
            "text/plain": [
              "                   A         B         C         D      E\n",
              "2019-01-01  1.103761 -1.917416  0.488894  1.273638    one\n",
              "2019-01-02  2.497894 -0.478629 -0.565984  1.218096    one\n",
              "2019-01-03  1.255214 -1.456333  1.014926  0.237944    two\n",
              "2019-01-04 -1.832498 -1.050849 -0.018245  0.473519  three\n",
              "2019-01-05 -0.557086  0.773183 -0.245014 -0.173704   four\n",
              "2019-01-06  0.115841 -1.989157 -0.200159 -0.943184  three"
            ]
          },
          "metadata": {},
          "execution_count": 41
        }
      ]
    },
    {
      "cell_type": "code",
      "metadata": {
        "id": "Dnmu7p3RdWgl",
        "colab": {
          "base_uri": "https://localhost:8080/",
          "height": 111
        },
        "outputId": "94ed3499-7b9b-48b6-b672-f519c97be3c4"
      },
      "source": [
        "df2[df2['E'].isin(['two', 'four'])]"
      ],
      "execution_count": 42,
      "outputs": [
        {
          "output_type": "execute_result",
          "data": {
            "text/html": [
              "<div>\n",
              "<style scoped>\n",
              "    .dataframe tbody tr th:only-of-type {\n",
              "        vertical-align: middle;\n",
              "    }\n",
              "\n",
              "    .dataframe tbody tr th {\n",
              "        vertical-align: top;\n",
              "    }\n",
              "\n",
              "    .dataframe thead th {\n",
              "        text-align: right;\n",
              "    }\n",
              "</style>\n",
              "<table border=\"1\" class=\"dataframe\">\n",
              "  <thead>\n",
              "    <tr style=\"text-align: right;\">\n",
              "      <th></th>\n",
              "      <th>A</th>\n",
              "      <th>B</th>\n",
              "      <th>C</th>\n",
              "      <th>D</th>\n",
              "      <th>E</th>\n",
              "    </tr>\n",
              "  </thead>\n",
              "  <tbody>\n",
              "    <tr>\n",
              "      <th>2019-01-03</th>\n",
              "      <td>1.255214</td>\n",
              "      <td>-1.456333</td>\n",
              "      <td>1.014926</td>\n",
              "      <td>0.237944</td>\n",
              "      <td>two</td>\n",
              "    </tr>\n",
              "    <tr>\n",
              "      <th>2019-01-05</th>\n",
              "      <td>-0.557086</td>\n",
              "      <td>0.773183</td>\n",
              "      <td>-0.245014</td>\n",
              "      <td>-0.173704</td>\n",
              "      <td>four</td>\n",
              "    </tr>\n",
              "  </tbody>\n",
              "</table>\n",
              "</div>"
            ],
            "text/plain": [
              "                   A         B         C         D     E\n",
              "2019-01-03  1.255214 -1.456333  1.014926  0.237944   two\n",
              "2019-01-05 -0.557086  0.773183 -0.245014 -0.173704  four"
            ]
          },
          "metadata": {},
          "execution_count": 42
        }
      ]
    },
    {
      "cell_type": "markdown",
      "metadata": {
        "id": "ZiBOeUYUdWgm"
      },
      "source": [
        "###  Setting"
      ]
    },
    {
      "cell_type": "code",
      "metadata": {
        "id": "dVqZPeJadWgm",
        "colab": {
          "base_uri": "https://localhost:8080/"
        },
        "outputId": "14a6fde5-d5cd-4537-bd0a-032c95c8f47a"
      },
      "source": [
        "s1 = pd.Series([1, 2, 3, 4, 5, 6], index=pd.date_range('20190102', periods=6))\n",
        "s1"
      ],
      "execution_count": 43,
      "outputs": [
        {
          "output_type": "execute_result",
          "data": {
            "text/plain": [
              "2019-01-02    1\n",
              "2019-01-03    2\n",
              "2019-01-04    3\n",
              "2019-01-05    4\n",
              "2019-01-06    5\n",
              "2019-01-07    6\n",
              "Freq: D, dtype: int64"
            ]
          },
          "metadata": {},
          "execution_count": 43
        }
      ]
    },
    {
      "cell_type": "code",
      "metadata": {
        "id": "d0RSAnamdWgm"
      },
      "source": [
        "df['F'] = s1"
      ],
      "execution_count": 44,
      "outputs": []
    },
    {
      "cell_type": "code",
      "metadata": {
        "id": "Ph-_lgELdWgm",
        "colab": {
          "base_uri": "https://localhost:8080/",
          "height": 419
        },
        "outputId": "64e3d525-4a34-4c26-c92c-a559b1612c13"
      },
      "source": [
        "# note that our original index starts at the 1st day of the month\n",
        "# however s1 starts at the 2nd day of the month\n",
        "df"
      ],
      "execution_count": 115,
      "outputs": [
        {
          "output_type": "execute_result",
          "data": {
            "text/html": [
              "<div>\n",
              "<style scoped>\n",
              "    .dataframe tbody tr th:only-of-type {\n",
              "        vertical-align: middle;\n",
              "    }\n",
              "\n",
              "    .dataframe tbody tr th {\n",
              "        vertical-align: top;\n",
              "    }\n",
              "\n",
              "    .dataframe thead th {\n",
              "        text-align: right;\n",
              "    }\n",
              "</style>\n",
              "<table border=\"1\" class=\"dataframe\">\n",
              "  <thead>\n",
              "    <tr style=\"text-align: right;\">\n",
              "      <th></th>\n",
              "      <th>A</th>\n",
              "      <th>B</th>\n",
              "      <th>C</th>\n",
              "      <th>D</th>\n",
              "    </tr>\n",
              "  </thead>\n",
              "  <tbody>\n",
              "    <tr>\n",
              "      <th>2000-01-01</th>\n",
              "      <td>-0.442150</td>\n",
              "      <td>-2.135448</td>\n",
              "      <td>-0.591369</td>\n",
              "      <td>-1.004904</td>\n",
              "    </tr>\n",
              "    <tr>\n",
              "      <th>2000-01-02</th>\n",
              "      <td>-0.774816</td>\n",
              "      <td>-2.184616</td>\n",
              "      <td>-1.284013</td>\n",
              "      <td>-0.888850</td>\n",
              "    </tr>\n",
              "    <tr>\n",
              "      <th>2000-01-03</th>\n",
              "      <td>-0.895905</td>\n",
              "      <td>-2.524869</td>\n",
              "      <td>0.825653</td>\n",
              "      <td>-0.179890</td>\n",
              "    </tr>\n",
              "    <tr>\n",
              "      <th>2000-01-04</th>\n",
              "      <td>-0.661406</td>\n",
              "      <td>-3.753354</td>\n",
              "      <td>3.039028</td>\n",
              "      <td>-2.002017</td>\n",
              "    </tr>\n",
              "    <tr>\n",
              "      <th>2000-01-05</th>\n",
              "      <td>0.211379</td>\n",
              "      <td>-3.944276</td>\n",
              "      <td>3.279754</td>\n",
              "      <td>-2.107158</td>\n",
              "    </tr>\n",
              "    <tr>\n",
              "      <th>...</th>\n",
              "      <td>...</td>\n",
              "      <td>...</td>\n",
              "      <td>...</td>\n",
              "      <td>...</td>\n",
              "    </tr>\n",
              "    <tr>\n",
              "      <th>2009-12-24</th>\n",
              "      <td>-80.968010</td>\n",
              "      <td>-118.857738</td>\n",
              "      <td>-96.457217</td>\n",
              "      <td>-104.689315</td>\n",
              "    </tr>\n",
              "    <tr>\n",
              "      <th>2009-12-25</th>\n",
              "      <td>-81.094116</td>\n",
              "      <td>-120.239313</td>\n",
              "      <td>-98.398297</td>\n",
              "      <td>-104.870969</td>\n",
              "    </tr>\n",
              "    <tr>\n",
              "      <th>2009-12-26</th>\n",
              "      <td>-82.979169</td>\n",
              "      <td>-119.768505</td>\n",
              "      <td>-96.451579</td>\n",
              "      <td>-103.002068</td>\n",
              "    </tr>\n",
              "    <tr>\n",
              "      <th>2009-12-27</th>\n",
              "      <td>-83.913927</td>\n",
              "      <td>-119.346361</td>\n",
              "      <td>-98.518743</td>\n",
              "      <td>-102.827600</td>\n",
              "    </tr>\n",
              "    <tr>\n",
              "      <th>2009-12-28</th>\n",
              "      <td>-84.183971</td>\n",
              "      <td>-119.357229</td>\n",
              "      <td>-99.415860</td>\n",
              "      <td>-102.032121</td>\n",
              "    </tr>\n",
              "  </tbody>\n",
              "</table>\n",
              "<p>3650 rows × 4 columns</p>\n",
              "</div>"
            ],
            "text/plain": [
              "                    A           B          C           D\n",
              "2000-01-01  -0.442150   -2.135448  -0.591369   -1.004904\n",
              "2000-01-02  -0.774816   -2.184616  -1.284013   -0.888850\n",
              "2000-01-03  -0.895905   -2.524869   0.825653   -0.179890\n",
              "2000-01-04  -0.661406   -3.753354   3.039028   -2.002017\n",
              "2000-01-05   0.211379   -3.944276   3.279754   -2.107158\n",
              "...               ...         ...        ...         ...\n",
              "2009-12-24 -80.968010 -118.857738 -96.457217 -104.689315\n",
              "2009-12-25 -81.094116 -120.239313 -98.398297 -104.870969\n",
              "2009-12-26 -82.979169 -119.768505 -96.451579 -103.002068\n",
              "2009-12-27 -83.913927 -119.346361 -98.518743 -102.827600\n",
              "2009-12-28 -84.183971 -119.357229 -99.415860 -102.032121\n",
              "\n",
              "[3650 rows x 4 columns]"
            ]
          },
          "metadata": {},
          "execution_count": 115
        }
      ]
    },
    {
      "cell_type": "code",
      "metadata": {
        "id": "hyb2r9DPdWgm",
        "colab": {
          "base_uri": "https://localhost:8080/",
          "height": 235
        },
        "outputId": "fe9469fc-53b1-4ddf-e5a5-eaeed9386c89"
      },
      "source": [
        "# Setting values by label:\n",
        "df.at[dates[0], 'A'] = 0\n",
        "# or df.iat[0, 1] = 0\n",
        "df"
      ],
      "execution_count": 46,
      "outputs": [
        {
          "output_type": "execute_result",
          "data": {
            "text/html": [
              "<div>\n",
              "<style scoped>\n",
              "    .dataframe tbody tr th:only-of-type {\n",
              "        vertical-align: middle;\n",
              "    }\n",
              "\n",
              "    .dataframe tbody tr th {\n",
              "        vertical-align: top;\n",
              "    }\n",
              "\n",
              "    .dataframe thead th {\n",
              "        text-align: right;\n",
              "    }\n",
              "</style>\n",
              "<table border=\"1\" class=\"dataframe\">\n",
              "  <thead>\n",
              "    <tr style=\"text-align: right;\">\n",
              "      <th></th>\n",
              "      <th>A</th>\n",
              "      <th>B</th>\n",
              "      <th>C</th>\n",
              "      <th>D</th>\n",
              "      <th>F</th>\n",
              "    </tr>\n",
              "  </thead>\n",
              "  <tbody>\n",
              "    <tr>\n",
              "      <th>2019-01-01</th>\n",
              "      <td>0.000000</td>\n",
              "      <td>-1.917416</td>\n",
              "      <td>0.488894</td>\n",
              "      <td>1.273638</td>\n",
              "      <td>NaN</td>\n",
              "    </tr>\n",
              "    <tr>\n",
              "      <th>2019-01-02</th>\n",
              "      <td>2.497894</td>\n",
              "      <td>-0.478629</td>\n",
              "      <td>-0.565984</td>\n",
              "      <td>1.218096</td>\n",
              "      <td>1.0</td>\n",
              "    </tr>\n",
              "    <tr>\n",
              "      <th>2019-01-03</th>\n",
              "      <td>1.255214</td>\n",
              "      <td>-1.456333</td>\n",
              "      <td>1.014926</td>\n",
              "      <td>0.237944</td>\n",
              "      <td>2.0</td>\n",
              "    </tr>\n",
              "    <tr>\n",
              "      <th>2019-01-04</th>\n",
              "      <td>-1.832498</td>\n",
              "      <td>-1.050849</td>\n",
              "      <td>-0.018245</td>\n",
              "      <td>0.473519</td>\n",
              "      <td>3.0</td>\n",
              "    </tr>\n",
              "    <tr>\n",
              "      <th>2019-01-05</th>\n",
              "      <td>-0.557086</td>\n",
              "      <td>0.773183</td>\n",
              "      <td>-0.245014</td>\n",
              "      <td>-0.173704</td>\n",
              "      <td>4.0</td>\n",
              "    </tr>\n",
              "    <tr>\n",
              "      <th>2019-01-06</th>\n",
              "      <td>0.115841</td>\n",
              "      <td>-1.989157</td>\n",
              "      <td>-0.200159</td>\n",
              "      <td>-0.943184</td>\n",
              "      <td>5.0</td>\n",
              "    </tr>\n",
              "  </tbody>\n",
              "</table>\n",
              "</div>"
            ],
            "text/plain": [
              "                   A         B         C         D    F\n",
              "2019-01-01  0.000000 -1.917416  0.488894  1.273638  NaN\n",
              "2019-01-02  2.497894 -0.478629 -0.565984  1.218096  1.0\n",
              "2019-01-03  1.255214 -1.456333  1.014926  0.237944  2.0\n",
              "2019-01-04 -1.832498 -1.050849 -0.018245  0.473519  3.0\n",
              "2019-01-05 -0.557086  0.773183 -0.245014 -0.173704  4.0\n",
              "2019-01-06  0.115841 -1.989157 -0.200159 -0.943184  5.0"
            ]
          },
          "metadata": {},
          "execution_count": 46
        }
      ]
    },
    {
      "cell_type": "code",
      "metadata": {
        "id": "mSpiyw7xdWgm",
        "colab": {
          "base_uri": "https://localhost:8080/",
          "height": 235
        },
        "outputId": "a6b5bb2e-6e2a-41fe-c665-e4b0afaa333a"
      },
      "source": [
        "# Setting by assigning with a NumPy array:\n",
        "df.loc[:, 'D'] = np.array([5] * len(df))\n",
        "df"
      ],
      "execution_count": 47,
      "outputs": [
        {
          "output_type": "execute_result",
          "data": {
            "text/html": [
              "<div>\n",
              "<style scoped>\n",
              "    .dataframe tbody tr th:only-of-type {\n",
              "        vertical-align: middle;\n",
              "    }\n",
              "\n",
              "    .dataframe tbody tr th {\n",
              "        vertical-align: top;\n",
              "    }\n",
              "\n",
              "    .dataframe thead th {\n",
              "        text-align: right;\n",
              "    }\n",
              "</style>\n",
              "<table border=\"1\" class=\"dataframe\">\n",
              "  <thead>\n",
              "    <tr style=\"text-align: right;\">\n",
              "      <th></th>\n",
              "      <th>A</th>\n",
              "      <th>B</th>\n",
              "      <th>C</th>\n",
              "      <th>D</th>\n",
              "      <th>F</th>\n",
              "    </tr>\n",
              "  </thead>\n",
              "  <tbody>\n",
              "    <tr>\n",
              "      <th>2019-01-01</th>\n",
              "      <td>0.000000</td>\n",
              "      <td>-1.917416</td>\n",
              "      <td>0.488894</td>\n",
              "      <td>5</td>\n",
              "      <td>NaN</td>\n",
              "    </tr>\n",
              "    <tr>\n",
              "      <th>2019-01-02</th>\n",
              "      <td>2.497894</td>\n",
              "      <td>-0.478629</td>\n",
              "      <td>-0.565984</td>\n",
              "      <td>5</td>\n",
              "      <td>1.0</td>\n",
              "    </tr>\n",
              "    <tr>\n",
              "      <th>2019-01-03</th>\n",
              "      <td>1.255214</td>\n",
              "      <td>-1.456333</td>\n",
              "      <td>1.014926</td>\n",
              "      <td>5</td>\n",
              "      <td>2.0</td>\n",
              "    </tr>\n",
              "    <tr>\n",
              "      <th>2019-01-04</th>\n",
              "      <td>-1.832498</td>\n",
              "      <td>-1.050849</td>\n",
              "      <td>-0.018245</td>\n",
              "      <td>5</td>\n",
              "      <td>3.0</td>\n",
              "    </tr>\n",
              "    <tr>\n",
              "      <th>2019-01-05</th>\n",
              "      <td>-0.557086</td>\n",
              "      <td>0.773183</td>\n",
              "      <td>-0.245014</td>\n",
              "      <td>5</td>\n",
              "      <td>4.0</td>\n",
              "    </tr>\n",
              "    <tr>\n",
              "      <th>2019-01-06</th>\n",
              "      <td>0.115841</td>\n",
              "      <td>-1.989157</td>\n",
              "      <td>-0.200159</td>\n",
              "      <td>5</td>\n",
              "      <td>5.0</td>\n",
              "    </tr>\n",
              "  </tbody>\n",
              "</table>\n",
              "</div>"
            ],
            "text/plain": [
              "                   A         B         C  D    F\n",
              "2019-01-01  0.000000 -1.917416  0.488894  5  NaN\n",
              "2019-01-02  2.497894 -0.478629 -0.565984  5  1.0\n",
              "2019-01-03  1.255214 -1.456333  1.014926  5  2.0\n",
              "2019-01-04 -1.832498 -1.050849 -0.018245  5  3.0\n",
              "2019-01-05 -0.557086  0.773183 -0.245014  5  4.0\n",
              "2019-01-06  0.115841 -1.989157 -0.200159  5  5.0"
            ]
          },
          "metadata": {},
          "execution_count": 47
        }
      ]
    },
    {
      "cell_type": "markdown",
      "metadata": {
        "id": "KwFvHR5KdWgm"
      },
      "source": [
        "## MISSING DATA\n",
        "pandas primarily uses the value np.nan to represent missing data. It is by default not included in computations."
      ]
    },
    {
      "cell_type": "code",
      "metadata": {
        "id": "U-JAOlAwdWgm",
        "colab": {
          "base_uri": "https://localhost:8080/",
          "height": 173
        },
        "outputId": "e62aa49b-32b2-47e2-9919-b8ece1a0492b"
      },
      "source": [
        "# Reindexing allows you to change/add/delete the index on a specified axis. \n",
        "# This returns a copy of the data.\n",
        "df1 = df.reindex(index=dates[0:4], columns=list(df.columns) + ['E'])\n",
        "df1"
      ],
      "execution_count": 48,
      "outputs": [
        {
          "output_type": "execute_result",
          "data": {
            "text/html": [
              "<div>\n",
              "<style scoped>\n",
              "    .dataframe tbody tr th:only-of-type {\n",
              "        vertical-align: middle;\n",
              "    }\n",
              "\n",
              "    .dataframe tbody tr th {\n",
              "        vertical-align: top;\n",
              "    }\n",
              "\n",
              "    .dataframe thead th {\n",
              "        text-align: right;\n",
              "    }\n",
              "</style>\n",
              "<table border=\"1\" class=\"dataframe\">\n",
              "  <thead>\n",
              "    <tr style=\"text-align: right;\">\n",
              "      <th></th>\n",
              "      <th>A</th>\n",
              "      <th>B</th>\n",
              "      <th>C</th>\n",
              "      <th>D</th>\n",
              "      <th>F</th>\n",
              "      <th>E</th>\n",
              "    </tr>\n",
              "  </thead>\n",
              "  <tbody>\n",
              "    <tr>\n",
              "      <th>2019-01-01</th>\n",
              "      <td>0.000000</td>\n",
              "      <td>-1.917416</td>\n",
              "      <td>0.488894</td>\n",
              "      <td>5</td>\n",
              "      <td>NaN</td>\n",
              "      <td>NaN</td>\n",
              "    </tr>\n",
              "    <tr>\n",
              "      <th>2019-01-02</th>\n",
              "      <td>2.497894</td>\n",
              "      <td>-0.478629</td>\n",
              "      <td>-0.565984</td>\n",
              "      <td>5</td>\n",
              "      <td>1.0</td>\n",
              "      <td>NaN</td>\n",
              "    </tr>\n",
              "    <tr>\n",
              "      <th>2019-01-03</th>\n",
              "      <td>1.255214</td>\n",
              "      <td>-1.456333</td>\n",
              "      <td>1.014926</td>\n",
              "      <td>5</td>\n",
              "      <td>2.0</td>\n",
              "      <td>NaN</td>\n",
              "    </tr>\n",
              "    <tr>\n",
              "      <th>2019-01-04</th>\n",
              "      <td>-1.832498</td>\n",
              "      <td>-1.050849</td>\n",
              "      <td>-0.018245</td>\n",
              "      <td>5</td>\n",
              "      <td>3.0</td>\n",
              "      <td>NaN</td>\n",
              "    </tr>\n",
              "  </tbody>\n",
              "</table>\n",
              "</div>"
            ],
            "text/plain": [
              "                   A         B         C  D    F   E\n",
              "2019-01-01  0.000000 -1.917416  0.488894  5  NaN NaN\n",
              "2019-01-02  2.497894 -0.478629 -0.565984  5  1.0 NaN\n",
              "2019-01-03  1.255214 -1.456333  1.014926  5  2.0 NaN\n",
              "2019-01-04 -1.832498 -1.050849 -0.018245  5  3.0 NaN"
            ]
          },
          "metadata": {},
          "execution_count": 48
        }
      ]
    },
    {
      "cell_type": "code",
      "metadata": {
        "id": "2qpcc3uQdWgn",
        "colab": {
          "base_uri": "https://localhost:8080/",
          "height": 173
        },
        "outputId": "5a3a84eb-c14e-4b68-9373-ef59c295c936"
      },
      "source": [
        "df1.loc[dates[0]:dates[1], 'E'] = 1\n",
        "df1"
      ],
      "execution_count": 49,
      "outputs": [
        {
          "output_type": "execute_result",
          "data": {
            "text/html": [
              "<div>\n",
              "<style scoped>\n",
              "    .dataframe tbody tr th:only-of-type {\n",
              "        vertical-align: middle;\n",
              "    }\n",
              "\n",
              "    .dataframe tbody tr th {\n",
              "        vertical-align: top;\n",
              "    }\n",
              "\n",
              "    .dataframe thead th {\n",
              "        text-align: right;\n",
              "    }\n",
              "</style>\n",
              "<table border=\"1\" class=\"dataframe\">\n",
              "  <thead>\n",
              "    <tr style=\"text-align: right;\">\n",
              "      <th></th>\n",
              "      <th>A</th>\n",
              "      <th>B</th>\n",
              "      <th>C</th>\n",
              "      <th>D</th>\n",
              "      <th>F</th>\n",
              "      <th>E</th>\n",
              "    </tr>\n",
              "  </thead>\n",
              "  <tbody>\n",
              "    <tr>\n",
              "      <th>2019-01-01</th>\n",
              "      <td>0.000000</td>\n",
              "      <td>-1.917416</td>\n",
              "      <td>0.488894</td>\n",
              "      <td>5</td>\n",
              "      <td>NaN</td>\n",
              "      <td>1.0</td>\n",
              "    </tr>\n",
              "    <tr>\n",
              "      <th>2019-01-02</th>\n",
              "      <td>2.497894</td>\n",
              "      <td>-0.478629</td>\n",
              "      <td>-0.565984</td>\n",
              "      <td>5</td>\n",
              "      <td>1.0</td>\n",
              "      <td>1.0</td>\n",
              "    </tr>\n",
              "    <tr>\n",
              "      <th>2019-01-03</th>\n",
              "      <td>1.255214</td>\n",
              "      <td>-1.456333</td>\n",
              "      <td>1.014926</td>\n",
              "      <td>5</td>\n",
              "      <td>2.0</td>\n",
              "      <td>NaN</td>\n",
              "    </tr>\n",
              "    <tr>\n",
              "      <th>2019-01-04</th>\n",
              "      <td>-1.832498</td>\n",
              "      <td>-1.050849</td>\n",
              "      <td>-0.018245</td>\n",
              "      <td>5</td>\n",
              "      <td>3.0</td>\n",
              "      <td>NaN</td>\n",
              "    </tr>\n",
              "  </tbody>\n",
              "</table>\n",
              "</div>"
            ],
            "text/plain": [
              "                   A         B         C  D    F    E\n",
              "2019-01-01  0.000000 -1.917416  0.488894  5  NaN  1.0\n",
              "2019-01-02  2.497894 -0.478629 -0.565984  5  1.0  1.0\n",
              "2019-01-03  1.255214 -1.456333  1.014926  5  2.0  NaN\n",
              "2019-01-04 -1.832498 -1.050849 -0.018245  5  3.0  NaN"
            ]
          },
          "metadata": {},
          "execution_count": 49
        }
      ]
    },
    {
      "cell_type": "code",
      "metadata": {
        "id": "CuHDsDiHdWgn",
        "colab": {
          "base_uri": "https://localhost:8080/",
          "height": 80
        },
        "outputId": "40d112cc-33ea-4f73-91d9-faaa38a80d9d"
      },
      "source": [
        "# To drop any rows that have missing data.\n",
        "df1.dropna(how='any')"
      ],
      "execution_count": 50,
      "outputs": [
        {
          "output_type": "execute_result",
          "data": {
            "text/html": [
              "<div>\n",
              "<style scoped>\n",
              "    .dataframe tbody tr th:only-of-type {\n",
              "        vertical-align: middle;\n",
              "    }\n",
              "\n",
              "    .dataframe tbody tr th {\n",
              "        vertical-align: top;\n",
              "    }\n",
              "\n",
              "    .dataframe thead th {\n",
              "        text-align: right;\n",
              "    }\n",
              "</style>\n",
              "<table border=\"1\" class=\"dataframe\">\n",
              "  <thead>\n",
              "    <tr style=\"text-align: right;\">\n",
              "      <th></th>\n",
              "      <th>A</th>\n",
              "      <th>B</th>\n",
              "      <th>C</th>\n",
              "      <th>D</th>\n",
              "      <th>F</th>\n",
              "      <th>E</th>\n",
              "    </tr>\n",
              "  </thead>\n",
              "  <tbody>\n",
              "    <tr>\n",
              "      <th>2019-01-02</th>\n",
              "      <td>2.497894</td>\n",
              "      <td>-0.478629</td>\n",
              "      <td>-0.565984</td>\n",
              "      <td>5</td>\n",
              "      <td>1.0</td>\n",
              "      <td>1.0</td>\n",
              "    </tr>\n",
              "  </tbody>\n",
              "</table>\n",
              "</div>"
            ],
            "text/plain": [
              "                   A         B         C  D    F    E\n",
              "2019-01-02  2.497894 -0.478629 -0.565984  5  1.0  1.0"
            ]
          },
          "metadata": {},
          "execution_count": 50
        }
      ]
    },
    {
      "cell_type": "code",
      "metadata": {
        "id": "G1LbIw2FdWgn",
        "colab": {
          "base_uri": "https://localhost:8080/",
          "height": 173
        },
        "outputId": "afd90a74-8be1-4e5f-bf3e-ca511cd357da"
      },
      "source": [
        "# Filling missing data.\n",
        "df1.fillna(value=5)"
      ],
      "execution_count": 51,
      "outputs": [
        {
          "output_type": "execute_result",
          "data": {
            "text/html": [
              "<div>\n",
              "<style scoped>\n",
              "    .dataframe tbody tr th:only-of-type {\n",
              "        vertical-align: middle;\n",
              "    }\n",
              "\n",
              "    .dataframe tbody tr th {\n",
              "        vertical-align: top;\n",
              "    }\n",
              "\n",
              "    .dataframe thead th {\n",
              "        text-align: right;\n",
              "    }\n",
              "</style>\n",
              "<table border=\"1\" class=\"dataframe\">\n",
              "  <thead>\n",
              "    <tr style=\"text-align: right;\">\n",
              "      <th></th>\n",
              "      <th>A</th>\n",
              "      <th>B</th>\n",
              "      <th>C</th>\n",
              "      <th>D</th>\n",
              "      <th>F</th>\n",
              "      <th>E</th>\n",
              "    </tr>\n",
              "  </thead>\n",
              "  <tbody>\n",
              "    <tr>\n",
              "      <th>2019-01-01</th>\n",
              "      <td>0.000000</td>\n",
              "      <td>-1.917416</td>\n",
              "      <td>0.488894</td>\n",
              "      <td>5</td>\n",
              "      <td>5.0</td>\n",
              "      <td>1.0</td>\n",
              "    </tr>\n",
              "    <tr>\n",
              "      <th>2019-01-02</th>\n",
              "      <td>2.497894</td>\n",
              "      <td>-0.478629</td>\n",
              "      <td>-0.565984</td>\n",
              "      <td>5</td>\n",
              "      <td>1.0</td>\n",
              "      <td>1.0</td>\n",
              "    </tr>\n",
              "    <tr>\n",
              "      <th>2019-01-03</th>\n",
              "      <td>1.255214</td>\n",
              "      <td>-1.456333</td>\n",
              "      <td>1.014926</td>\n",
              "      <td>5</td>\n",
              "      <td>2.0</td>\n",
              "      <td>5.0</td>\n",
              "    </tr>\n",
              "    <tr>\n",
              "      <th>2019-01-04</th>\n",
              "      <td>-1.832498</td>\n",
              "      <td>-1.050849</td>\n",
              "      <td>-0.018245</td>\n",
              "      <td>5</td>\n",
              "      <td>3.0</td>\n",
              "      <td>5.0</td>\n",
              "    </tr>\n",
              "  </tbody>\n",
              "</table>\n",
              "</div>"
            ],
            "text/plain": [
              "                   A         B         C  D    F    E\n",
              "2019-01-01  0.000000 -1.917416  0.488894  5  5.0  1.0\n",
              "2019-01-02  2.497894 -0.478629 -0.565984  5  1.0  1.0\n",
              "2019-01-03  1.255214 -1.456333  1.014926  5  2.0  5.0\n",
              "2019-01-04 -1.832498 -1.050849 -0.018245  5  3.0  5.0"
            ]
          },
          "metadata": {},
          "execution_count": 51
        }
      ]
    },
    {
      "cell_type": "code",
      "metadata": {
        "id": "iNR9bxq9dWgn",
        "colab": {
          "base_uri": "https://localhost:8080/",
          "height": 173
        },
        "outputId": "ee95218d-64dd-41f4-85fc-3bad6a21a031"
      },
      "source": [
        "# To get the boolean mask where values are nan.\n",
        "pd.isna(df1)"
      ],
      "execution_count": 52,
      "outputs": [
        {
          "output_type": "execute_result",
          "data": {
            "text/html": [
              "<div>\n",
              "<style scoped>\n",
              "    .dataframe tbody tr th:only-of-type {\n",
              "        vertical-align: middle;\n",
              "    }\n",
              "\n",
              "    .dataframe tbody tr th {\n",
              "        vertical-align: top;\n",
              "    }\n",
              "\n",
              "    .dataframe thead th {\n",
              "        text-align: right;\n",
              "    }\n",
              "</style>\n",
              "<table border=\"1\" class=\"dataframe\">\n",
              "  <thead>\n",
              "    <tr style=\"text-align: right;\">\n",
              "      <th></th>\n",
              "      <th>A</th>\n",
              "      <th>B</th>\n",
              "      <th>C</th>\n",
              "      <th>D</th>\n",
              "      <th>F</th>\n",
              "      <th>E</th>\n",
              "    </tr>\n",
              "  </thead>\n",
              "  <tbody>\n",
              "    <tr>\n",
              "      <th>2019-01-01</th>\n",
              "      <td>False</td>\n",
              "      <td>False</td>\n",
              "      <td>False</td>\n",
              "      <td>False</td>\n",
              "      <td>True</td>\n",
              "      <td>False</td>\n",
              "    </tr>\n",
              "    <tr>\n",
              "      <th>2019-01-02</th>\n",
              "      <td>False</td>\n",
              "      <td>False</td>\n",
              "      <td>False</td>\n",
              "      <td>False</td>\n",
              "      <td>False</td>\n",
              "      <td>False</td>\n",
              "    </tr>\n",
              "    <tr>\n",
              "      <th>2019-01-03</th>\n",
              "      <td>False</td>\n",
              "      <td>False</td>\n",
              "      <td>False</td>\n",
              "      <td>False</td>\n",
              "      <td>False</td>\n",
              "      <td>True</td>\n",
              "    </tr>\n",
              "    <tr>\n",
              "      <th>2019-01-04</th>\n",
              "      <td>False</td>\n",
              "      <td>False</td>\n",
              "      <td>False</td>\n",
              "      <td>False</td>\n",
              "      <td>False</td>\n",
              "      <td>True</td>\n",
              "    </tr>\n",
              "  </tbody>\n",
              "</table>\n",
              "</div>"
            ],
            "text/plain": [
              "                A      B      C      D      F      E\n",
              "2019-01-01  False  False  False  False   True  False\n",
              "2019-01-02  False  False  False  False  False  False\n",
              "2019-01-03  False  False  False  False  False   True\n",
              "2019-01-04  False  False  False  False  False   True"
            ]
          },
          "metadata": {},
          "execution_count": 52
        }
      ]
    },
    {
      "cell_type": "markdown",
      "metadata": {
        "id": "MQC5phbxdWgn"
      },
      "source": [
        "## Operations"
      ]
    },
    {
      "cell_type": "markdown",
      "metadata": {
        "id": "0uPXuz3VdWgn"
      },
      "source": [
        "### Statistics"
      ]
    },
    {
      "cell_type": "code",
      "metadata": {
        "id": "yEMhu92GdWgn",
        "colab": {
          "base_uri": "https://localhost:8080/"
        },
        "outputId": "4d7f4fa4-feb4-4ed5-8152-99debb1c0fff"
      },
      "source": [
        "# Performing a descriptive statistic:\n",
        "# average of columns\n",
        "df.mean()"
      ],
      "execution_count": 53,
      "outputs": [
        {
          "output_type": "execute_result",
          "data": {
            "text/plain": [
              "A    0.246561\n",
              "B   -1.019867\n",
              "C    0.079070\n",
              "D    5.000000\n",
              "F    3.000000\n",
              "dtype: float64"
            ]
          },
          "metadata": {},
          "execution_count": 53
        }
      ]
    },
    {
      "cell_type": "code",
      "metadata": {
        "id": "eyZ10rS1dWgn",
        "colab": {
          "base_uri": "https://localhost:8080/"
        },
        "outputId": "1a1520dc-643a-499c-e478-00bb03410808"
      },
      "source": [
        "# average of rows (simply by setting axis to 1)\n",
        "df.mean(1)"
      ],
      "execution_count": 54,
      "outputs": [
        {
          "output_type": "execute_result",
          "data": {
            "text/plain": [
              "2019-01-01    0.892870\n",
              "2019-01-02    1.490656\n",
              "2019-01-03    1.562761\n",
              "2019-01-04    1.019681\n",
              "2019-01-05    1.794217\n",
              "2019-01-06    1.585305\n",
              "Freq: D, dtype: float64"
            ]
          },
          "metadata": {},
          "execution_count": 54
        }
      ]
    },
    {
      "cell_type": "code",
      "metadata": {
        "id": "ORy4BjT4dWgo",
        "colab": {
          "base_uri": "https://localhost:8080/"
        },
        "outputId": "e4a23efc-80f9-47a8-dcad-1cfb610bc396"
      },
      "source": [
        "# Operating with objects that have different dimensionality and need alignment. \n",
        "# In addition, pandas automatically broadcasts along the specified dimension.\n",
        "dates = pd.date_range('20190101', periods=6)\n",
        "s = pd.Series([1, 3, 5, np.nan, 6, 8], index=dates).shift(2)\n",
        "s"
      ],
      "execution_count": 55,
      "outputs": [
        {
          "output_type": "execute_result",
          "data": {
            "text/plain": [
              "2019-01-01    NaN\n",
              "2019-01-02    NaN\n",
              "2019-01-03    1.0\n",
              "2019-01-04    3.0\n",
              "2019-01-05    5.0\n",
              "2019-01-06    NaN\n",
              "Freq: D, dtype: float64"
            ]
          },
          "metadata": {},
          "execution_count": 55
        }
      ]
    },
    {
      "cell_type": "code",
      "metadata": {
        "id": "yHR2bR75dWgo"
      },
      "source": [
        "# Above, when we shift index, 1st month becomes 3 month, 2nd month becomes 4th, etc.\n",
        "# but since we don't have 7th and 8th months in our index, when they are shifted,\n",
        "# 1st and 2nd elements become NaN"
      ],
      "execution_count": 56,
      "outputs": []
    },
    {
      "cell_type": "code",
      "metadata": {
        "id": "tGCSLvEwdWgo",
        "colab": {
          "base_uri": "https://localhost:8080/",
          "height": 235
        },
        "outputId": "6ba2ac4c-a14e-4627-da06-653d25ef744a"
      },
      "source": [
        "# dataframe.sub: Subtraction of dataframe and other, element-wise (binary operator sub).\n",
        "df.sub(s, axis='index')"
      ],
      "execution_count": 57,
      "outputs": [
        {
          "output_type": "execute_result",
          "data": {
            "text/html": [
              "<div>\n",
              "<style scoped>\n",
              "    .dataframe tbody tr th:only-of-type {\n",
              "        vertical-align: middle;\n",
              "    }\n",
              "\n",
              "    .dataframe tbody tr th {\n",
              "        vertical-align: top;\n",
              "    }\n",
              "\n",
              "    .dataframe thead th {\n",
              "        text-align: right;\n",
              "    }\n",
              "</style>\n",
              "<table border=\"1\" class=\"dataframe\">\n",
              "  <thead>\n",
              "    <tr style=\"text-align: right;\">\n",
              "      <th></th>\n",
              "      <th>A</th>\n",
              "      <th>B</th>\n",
              "      <th>C</th>\n",
              "      <th>D</th>\n",
              "      <th>F</th>\n",
              "    </tr>\n",
              "  </thead>\n",
              "  <tbody>\n",
              "    <tr>\n",
              "      <th>2019-01-01</th>\n",
              "      <td>NaN</td>\n",
              "      <td>NaN</td>\n",
              "      <td>NaN</td>\n",
              "      <td>NaN</td>\n",
              "      <td>NaN</td>\n",
              "    </tr>\n",
              "    <tr>\n",
              "      <th>2019-01-02</th>\n",
              "      <td>NaN</td>\n",
              "      <td>NaN</td>\n",
              "      <td>NaN</td>\n",
              "      <td>NaN</td>\n",
              "      <td>NaN</td>\n",
              "    </tr>\n",
              "    <tr>\n",
              "      <th>2019-01-03</th>\n",
              "      <td>0.255214</td>\n",
              "      <td>-2.456333</td>\n",
              "      <td>0.014926</td>\n",
              "      <td>4.0</td>\n",
              "      <td>1.0</td>\n",
              "    </tr>\n",
              "    <tr>\n",
              "      <th>2019-01-04</th>\n",
              "      <td>-4.832498</td>\n",
              "      <td>-4.050849</td>\n",
              "      <td>-3.018245</td>\n",
              "      <td>2.0</td>\n",
              "      <td>0.0</td>\n",
              "    </tr>\n",
              "    <tr>\n",
              "      <th>2019-01-05</th>\n",
              "      <td>-5.557086</td>\n",
              "      <td>-4.226817</td>\n",
              "      <td>-5.245014</td>\n",
              "      <td>0.0</td>\n",
              "      <td>-1.0</td>\n",
              "    </tr>\n",
              "    <tr>\n",
              "      <th>2019-01-06</th>\n",
              "      <td>NaN</td>\n",
              "      <td>NaN</td>\n",
              "      <td>NaN</td>\n",
              "      <td>NaN</td>\n",
              "      <td>NaN</td>\n",
              "    </tr>\n",
              "  </tbody>\n",
              "</table>\n",
              "</div>"
            ],
            "text/plain": [
              "                   A         B         C    D    F\n",
              "2019-01-01       NaN       NaN       NaN  NaN  NaN\n",
              "2019-01-02       NaN       NaN       NaN  NaN  NaN\n",
              "2019-01-03  0.255214 -2.456333  0.014926  4.0  1.0\n",
              "2019-01-04 -4.832498 -4.050849 -3.018245  2.0  0.0\n",
              "2019-01-05 -5.557086 -4.226817 -5.245014  0.0 -1.0\n",
              "2019-01-06       NaN       NaN       NaN  NaN  NaN"
            ]
          },
          "metadata": {},
          "execution_count": 57
        }
      ]
    },
    {
      "cell_type": "markdown",
      "metadata": {
        "id": "fs4BY58QdWgo"
      },
      "source": [
        "### Apply"
      ]
    },
    {
      "cell_type": "code",
      "metadata": {
        "id": "IjaOAnQQdWgo",
        "colab": {
          "base_uri": "https://localhost:8080/",
          "height": 235
        },
        "outputId": "80684f6b-a4dd-473f-c4b8-5fb0324df968"
      },
      "source": [
        "df"
      ],
      "execution_count": 58,
      "outputs": [
        {
          "output_type": "execute_result",
          "data": {
            "text/html": [
              "<div>\n",
              "<style scoped>\n",
              "    .dataframe tbody tr th:only-of-type {\n",
              "        vertical-align: middle;\n",
              "    }\n",
              "\n",
              "    .dataframe tbody tr th {\n",
              "        vertical-align: top;\n",
              "    }\n",
              "\n",
              "    .dataframe thead th {\n",
              "        text-align: right;\n",
              "    }\n",
              "</style>\n",
              "<table border=\"1\" class=\"dataframe\">\n",
              "  <thead>\n",
              "    <tr style=\"text-align: right;\">\n",
              "      <th></th>\n",
              "      <th>A</th>\n",
              "      <th>B</th>\n",
              "      <th>C</th>\n",
              "      <th>D</th>\n",
              "      <th>F</th>\n",
              "    </tr>\n",
              "  </thead>\n",
              "  <tbody>\n",
              "    <tr>\n",
              "      <th>2019-01-01</th>\n",
              "      <td>0.000000</td>\n",
              "      <td>-1.917416</td>\n",
              "      <td>0.488894</td>\n",
              "      <td>5</td>\n",
              "      <td>NaN</td>\n",
              "    </tr>\n",
              "    <tr>\n",
              "      <th>2019-01-02</th>\n",
              "      <td>2.497894</td>\n",
              "      <td>-0.478629</td>\n",
              "      <td>-0.565984</td>\n",
              "      <td>5</td>\n",
              "      <td>1.0</td>\n",
              "    </tr>\n",
              "    <tr>\n",
              "      <th>2019-01-03</th>\n",
              "      <td>1.255214</td>\n",
              "      <td>-1.456333</td>\n",
              "      <td>1.014926</td>\n",
              "      <td>5</td>\n",
              "      <td>2.0</td>\n",
              "    </tr>\n",
              "    <tr>\n",
              "      <th>2019-01-04</th>\n",
              "      <td>-1.832498</td>\n",
              "      <td>-1.050849</td>\n",
              "      <td>-0.018245</td>\n",
              "      <td>5</td>\n",
              "      <td>3.0</td>\n",
              "    </tr>\n",
              "    <tr>\n",
              "      <th>2019-01-05</th>\n",
              "      <td>-0.557086</td>\n",
              "      <td>0.773183</td>\n",
              "      <td>-0.245014</td>\n",
              "      <td>5</td>\n",
              "      <td>4.0</td>\n",
              "    </tr>\n",
              "    <tr>\n",
              "      <th>2019-01-06</th>\n",
              "      <td>0.115841</td>\n",
              "      <td>-1.989157</td>\n",
              "      <td>-0.200159</td>\n",
              "      <td>5</td>\n",
              "      <td>5.0</td>\n",
              "    </tr>\n",
              "  </tbody>\n",
              "</table>\n",
              "</div>"
            ],
            "text/plain": [
              "                   A         B         C  D    F\n",
              "2019-01-01  0.000000 -1.917416  0.488894  5  NaN\n",
              "2019-01-02  2.497894 -0.478629 -0.565984  5  1.0\n",
              "2019-01-03  1.255214 -1.456333  1.014926  5  2.0\n",
              "2019-01-04 -1.832498 -1.050849 -0.018245  5  3.0\n",
              "2019-01-05 -0.557086  0.773183 -0.245014  5  4.0\n",
              "2019-01-06  0.115841 -1.989157 -0.200159  5  5.0"
            ]
          },
          "metadata": {},
          "execution_count": 58
        }
      ]
    },
    {
      "cell_type": "code",
      "metadata": {
        "id": "xXcyNO8JdWgo",
        "colab": {
          "base_uri": "https://localhost:8080/",
          "height": 235
        },
        "outputId": "5ce07fce-f43c-40f2-fd65-db568ecc2d54"
      },
      "source": [
        "# dataframe.cumsum returns cumulative sum over a DataFrame or Series axis.\n",
        "#\n",
        "# cumulative sum over columns\n",
        "df.apply(np.cumsum)"
      ],
      "execution_count": 59,
      "outputs": [
        {
          "output_type": "execute_result",
          "data": {
            "text/html": [
              "<div>\n",
              "<style scoped>\n",
              "    .dataframe tbody tr th:only-of-type {\n",
              "        vertical-align: middle;\n",
              "    }\n",
              "\n",
              "    .dataframe tbody tr th {\n",
              "        vertical-align: top;\n",
              "    }\n",
              "\n",
              "    .dataframe thead th {\n",
              "        text-align: right;\n",
              "    }\n",
              "</style>\n",
              "<table border=\"1\" class=\"dataframe\">\n",
              "  <thead>\n",
              "    <tr style=\"text-align: right;\">\n",
              "      <th></th>\n",
              "      <th>A</th>\n",
              "      <th>B</th>\n",
              "      <th>C</th>\n",
              "      <th>D</th>\n",
              "      <th>F</th>\n",
              "    </tr>\n",
              "  </thead>\n",
              "  <tbody>\n",
              "    <tr>\n",
              "      <th>2019-01-01</th>\n",
              "      <td>0.000000</td>\n",
              "      <td>-1.917416</td>\n",
              "      <td>0.488894</td>\n",
              "      <td>5</td>\n",
              "      <td>NaN</td>\n",
              "    </tr>\n",
              "    <tr>\n",
              "      <th>2019-01-02</th>\n",
              "      <td>2.497894</td>\n",
              "      <td>-2.396045</td>\n",
              "      <td>-0.077090</td>\n",
              "      <td>10</td>\n",
              "      <td>1.0</td>\n",
              "    </tr>\n",
              "    <tr>\n",
              "      <th>2019-01-03</th>\n",
              "      <td>3.753108</td>\n",
              "      <td>-3.852378</td>\n",
              "      <td>0.937836</td>\n",
              "      <td>15</td>\n",
              "      <td>3.0</td>\n",
              "    </tr>\n",
              "    <tr>\n",
              "      <th>2019-01-04</th>\n",
              "      <td>1.920610</td>\n",
              "      <td>-4.903228</td>\n",
              "      <td>0.919591</td>\n",
              "      <td>20</td>\n",
              "      <td>6.0</td>\n",
              "    </tr>\n",
              "    <tr>\n",
              "      <th>2019-01-05</th>\n",
              "      <td>1.363524</td>\n",
              "      <td>-4.130045</td>\n",
              "      <td>0.674577</td>\n",
              "      <td>25</td>\n",
              "      <td>10.0</td>\n",
              "    </tr>\n",
              "    <tr>\n",
              "      <th>2019-01-06</th>\n",
              "      <td>1.479364</td>\n",
              "      <td>-6.119202</td>\n",
              "      <td>0.474418</td>\n",
              "      <td>30</td>\n",
              "      <td>15.0</td>\n",
              "    </tr>\n",
              "  </tbody>\n",
              "</table>\n",
              "</div>"
            ],
            "text/plain": [
              "                   A         B         C   D     F\n",
              "2019-01-01  0.000000 -1.917416  0.488894   5   NaN\n",
              "2019-01-02  2.497894 -2.396045 -0.077090  10   1.0\n",
              "2019-01-03  3.753108 -3.852378  0.937836  15   3.0\n",
              "2019-01-04  1.920610 -4.903228  0.919591  20   6.0\n",
              "2019-01-05  1.363524 -4.130045  0.674577  25  10.0\n",
              "2019-01-06  1.479364 -6.119202  0.474418  30  15.0"
            ]
          },
          "metadata": {},
          "execution_count": 59
        }
      ]
    },
    {
      "cell_type": "code",
      "metadata": {
        "id": "peyCO1RRdWgo",
        "colab": {
          "base_uri": "https://localhost:8080/"
        },
        "outputId": "71bf7035-a6f8-41e6-ca89-7c3d5680f571"
      },
      "source": [
        "# finding range manually is also easy\n",
        "df.apply(lambda x: x.max() - x.min())"
      ],
      "execution_count": 60,
      "outputs": [
        {
          "output_type": "execute_result",
          "data": {
            "text/plain": [
              "A    4.330393\n",
              "B    2.762340\n",
              "C    1.580910\n",
              "D    0.000000\n",
              "F    4.000000\n",
              "dtype: float64"
            ]
          },
          "metadata": {},
          "execution_count": 60
        }
      ]
    },
    {
      "cell_type": "markdown",
      "metadata": {
        "id": "T-4y22yjdWgo"
      },
      "source": [
        "## MERGING\n",
        "pandas provides various facilities for easily combining together Series, DataFrame, and Panel objects with various kinds of set logic for the indexes and relational algebra functionality in the case of join / merge-type operations."
      ]
    },
    {
      "cell_type": "markdown",
      "metadata": {
        "id": "uyZj0rd2dWgp"
      },
      "source": [
        "#### CONCAT"
      ]
    },
    {
      "cell_type": "code",
      "metadata": {
        "id": "Nk_Gq5aMdWgp",
        "colab": {
          "base_uri": "https://localhost:8080/",
          "height": 235
        },
        "outputId": "6897c099-ee37-4731-f2b8-252e1c8070bb"
      },
      "source": [
        "df = pd.DataFrame(np.random.randn(6, 6))\n",
        "df"
      ],
      "execution_count": 61,
      "outputs": [
        {
          "output_type": "execute_result",
          "data": {
            "text/html": [
              "<div>\n",
              "<style scoped>\n",
              "    .dataframe tbody tr th:only-of-type {\n",
              "        vertical-align: middle;\n",
              "    }\n",
              "\n",
              "    .dataframe tbody tr th {\n",
              "        vertical-align: top;\n",
              "    }\n",
              "\n",
              "    .dataframe thead th {\n",
              "        text-align: right;\n",
              "    }\n",
              "</style>\n",
              "<table border=\"1\" class=\"dataframe\">\n",
              "  <thead>\n",
              "    <tr style=\"text-align: right;\">\n",
              "      <th></th>\n",
              "      <th>0</th>\n",
              "      <th>1</th>\n",
              "      <th>2</th>\n",
              "      <th>3</th>\n",
              "      <th>4</th>\n",
              "      <th>5</th>\n",
              "    </tr>\n",
              "  </thead>\n",
              "  <tbody>\n",
              "    <tr>\n",
              "      <th>0</th>\n",
              "      <td>1.157394</td>\n",
              "      <td>1.134585</td>\n",
              "      <td>-1.152600</td>\n",
              "      <td>-0.843783</td>\n",
              "      <td>-0.157722</td>\n",
              "      <td>0.745696</td>\n",
              "    </tr>\n",
              "    <tr>\n",
              "      <th>1</th>\n",
              "      <td>1.203213</td>\n",
              "      <td>0.496359</td>\n",
              "      <td>-2.167705</td>\n",
              "      <td>0.118344</td>\n",
              "      <td>0.514243</td>\n",
              "      <td>-0.018592</td>\n",
              "    </tr>\n",
              "    <tr>\n",
              "      <th>2</th>\n",
              "      <td>-0.145599</td>\n",
              "      <td>-0.334205</td>\n",
              "      <td>-1.642520</td>\n",
              "      <td>-0.046148</td>\n",
              "      <td>-0.048598</td>\n",
              "      <td>-0.188201</td>\n",
              "    </tr>\n",
              "    <tr>\n",
              "      <th>3</th>\n",
              "      <td>0.911614</td>\n",
              "      <td>-0.923217</td>\n",
              "      <td>-0.153263</td>\n",
              "      <td>1.533372</td>\n",
              "      <td>0.190634</td>\n",
              "      <td>-0.559474</td>\n",
              "    </tr>\n",
              "    <tr>\n",
              "      <th>4</th>\n",
              "      <td>-1.235399</td>\n",
              "      <td>-2.074842</td>\n",
              "      <td>0.246854</td>\n",
              "      <td>-0.200151</td>\n",
              "      <td>0.097416</td>\n",
              "      <td>-0.503555</td>\n",
              "    </tr>\n",
              "    <tr>\n",
              "      <th>5</th>\n",
              "      <td>-0.942867</td>\n",
              "      <td>-0.633983</td>\n",
              "      <td>-0.404423</td>\n",
              "      <td>0.371753</td>\n",
              "      <td>0.120950</td>\n",
              "      <td>-0.359726</td>\n",
              "    </tr>\n",
              "  </tbody>\n",
              "</table>\n",
              "</div>"
            ],
            "text/plain": [
              "          0         1         2         3         4         5\n",
              "0  1.157394  1.134585 -1.152600 -0.843783 -0.157722  0.745696\n",
              "1  1.203213  0.496359 -2.167705  0.118344  0.514243 -0.018592\n",
              "2 -0.145599 -0.334205 -1.642520 -0.046148 -0.048598 -0.188201\n",
              "3  0.911614 -0.923217 -0.153263  1.533372  0.190634 -0.559474\n",
              "4 -1.235399 -2.074842  0.246854 -0.200151  0.097416 -0.503555\n",
              "5 -0.942867 -0.633983 -0.404423  0.371753  0.120950 -0.359726"
            ]
          },
          "metadata": {},
          "execution_count": 61
        }
      ]
    },
    {
      "cell_type": "code",
      "metadata": {
        "id": "MFIpKl6-dWgp",
        "colab": {
          "base_uri": "https://localhost:8080/"
        },
        "outputId": "fe1985f2-31bc-4edd-de5a-c93fd4da51c6"
      },
      "source": [
        "# break it into pieces\n",
        "pieces = [df[:2], df[4:6]]\n",
        "pieces"
      ],
      "execution_count": 62,
      "outputs": [
        {
          "output_type": "execute_result",
          "data": {
            "text/plain": [
              "[          0         1         2         3         4         5\n",
              " 0  1.157394  1.134585 -1.152600 -0.843783 -0.157722  0.745696\n",
              " 1  1.203213  0.496359 -2.167705  0.118344  0.514243 -0.018592,\n",
              "           0         1         2         3         4         5\n",
              " 4 -1.235399 -2.074842  0.246854 -0.200151  0.097416 -0.503555\n",
              " 5 -0.942867 -0.633983 -0.404423  0.371753  0.120950 -0.359726]"
            ]
          },
          "metadata": {},
          "execution_count": 62
        }
      ]
    },
    {
      "cell_type": "code",
      "metadata": {
        "id": "2ssy7emadWgp",
        "colab": {
          "base_uri": "https://localhost:8080/",
          "height": 173
        },
        "outputId": "75ebd717-8264-4de9-80ec-48fc91206b04"
      },
      "source": [
        "pd.concat(pieces)"
      ],
      "execution_count": 63,
      "outputs": [
        {
          "output_type": "execute_result",
          "data": {
            "text/html": [
              "<div>\n",
              "<style scoped>\n",
              "    .dataframe tbody tr th:only-of-type {\n",
              "        vertical-align: middle;\n",
              "    }\n",
              "\n",
              "    .dataframe tbody tr th {\n",
              "        vertical-align: top;\n",
              "    }\n",
              "\n",
              "    .dataframe thead th {\n",
              "        text-align: right;\n",
              "    }\n",
              "</style>\n",
              "<table border=\"1\" class=\"dataframe\">\n",
              "  <thead>\n",
              "    <tr style=\"text-align: right;\">\n",
              "      <th></th>\n",
              "      <th>0</th>\n",
              "      <th>1</th>\n",
              "      <th>2</th>\n",
              "      <th>3</th>\n",
              "      <th>4</th>\n",
              "      <th>5</th>\n",
              "    </tr>\n",
              "  </thead>\n",
              "  <tbody>\n",
              "    <tr>\n",
              "      <th>0</th>\n",
              "      <td>1.157394</td>\n",
              "      <td>1.134585</td>\n",
              "      <td>-1.152600</td>\n",
              "      <td>-0.843783</td>\n",
              "      <td>-0.157722</td>\n",
              "      <td>0.745696</td>\n",
              "    </tr>\n",
              "    <tr>\n",
              "      <th>1</th>\n",
              "      <td>1.203213</td>\n",
              "      <td>0.496359</td>\n",
              "      <td>-2.167705</td>\n",
              "      <td>0.118344</td>\n",
              "      <td>0.514243</td>\n",
              "      <td>-0.018592</td>\n",
              "    </tr>\n",
              "    <tr>\n",
              "      <th>4</th>\n",
              "      <td>-1.235399</td>\n",
              "      <td>-2.074842</td>\n",
              "      <td>0.246854</td>\n",
              "      <td>-0.200151</td>\n",
              "      <td>0.097416</td>\n",
              "      <td>-0.503555</td>\n",
              "    </tr>\n",
              "    <tr>\n",
              "      <th>5</th>\n",
              "      <td>-0.942867</td>\n",
              "      <td>-0.633983</td>\n",
              "      <td>-0.404423</td>\n",
              "      <td>0.371753</td>\n",
              "      <td>0.120950</td>\n",
              "      <td>-0.359726</td>\n",
              "    </tr>\n",
              "  </tbody>\n",
              "</table>\n",
              "</div>"
            ],
            "text/plain": [
              "          0         1         2         3         4         5\n",
              "0  1.157394  1.134585 -1.152600 -0.843783 -0.157722  0.745696\n",
              "1  1.203213  0.496359 -2.167705  0.118344  0.514243 -0.018592\n",
              "4 -1.235399 -2.074842  0.246854 -0.200151  0.097416 -0.503555\n",
              "5 -0.942867 -0.633983 -0.404423  0.371753  0.120950 -0.359726"
            ]
          },
          "metadata": {},
          "execution_count": 63
        }
      ]
    },
    {
      "cell_type": "markdown",
      "metadata": {
        "id": "crc8JsDMdWgp"
      },
      "source": [
        "#### JOIN\n",
        "SQL style merges"
      ]
    },
    {
      "cell_type": "code",
      "metadata": {
        "id": "8NqJoVGddWgp",
        "colab": {
          "base_uri": "https://localhost:8080/",
          "height": 111
        },
        "outputId": "0f139c97-6e47-42bc-dc13-20b479925892"
      },
      "source": [
        "width = pd.DataFrame({'Model': ['Levis501', 'Levis550'], 'Width': [30, 32]})\n",
        "width"
      ],
      "execution_count": 64,
      "outputs": [
        {
          "output_type": "execute_result",
          "data": {
            "text/html": [
              "<div>\n",
              "<style scoped>\n",
              "    .dataframe tbody tr th:only-of-type {\n",
              "        vertical-align: middle;\n",
              "    }\n",
              "\n",
              "    .dataframe tbody tr th {\n",
              "        vertical-align: top;\n",
              "    }\n",
              "\n",
              "    .dataframe thead th {\n",
              "        text-align: right;\n",
              "    }\n",
              "</style>\n",
              "<table border=\"1\" class=\"dataframe\">\n",
              "  <thead>\n",
              "    <tr style=\"text-align: right;\">\n",
              "      <th></th>\n",
              "      <th>Model</th>\n",
              "      <th>Width</th>\n",
              "    </tr>\n",
              "  </thead>\n",
              "  <tbody>\n",
              "    <tr>\n",
              "      <th>0</th>\n",
              "      <td>Levis501</td>\n",
              "      <td>30</td>\n",
              "    </tr>\n",
              "    <tr>\n",
              "      <th>1</th>\n",
              "      <td>Levis550</td>\n",
              "      <td>32</td>\n",
              "    </tr>\n",
              "  </tbody>\n",
              "</table>\n",
              "</div>"
            ],
            "text/plain": [
              "      Model  Width\n",
              "0  Levis501     30\n",
              "1  Levis550     32"
            ]
          },
          "metadata": {},
          "execution_count": 64
        }
      ]
    },
    {
      "cell_type": "code",
      "metadata": {
        "id": "raEW2siDdWgp",
        "colab": {
          "base_uri": "https://localhost:8080/",
          "height": 111
        },
        "outputId": "e9423cfb-6da4-49ef-f031-ffdde906524b"
      },
      "source": [
        "length = pd.DataFrame({'Model': ['Levis501', 'Levis550'], 'Length': [28, 34]})\n",
        "length"
      ],
      "execution_count": 65,
      "outputs": [
        {
          "output_type": "execute_result",
          "data": {
            "text/html": [
              "<div>\n",
              "<style scoped>\n",
              "    .dataframe tbody tr th:only-of-type {\n",
              "        vertical-align: middle;\n",
              "    }\n",
              "\n",
              "    .dataframe tbody tr th {\n",
              "        vertical-align: top;\n",
              "    }\n",
              "\n",
              "    .dataframe thead th {\n",
              "        text-align: right;\n",
              "    }\n",
              "</style>\n",
              "<table border=\"1\" class=\"dataframe\">\n",
              "  <thead>\n",
              "    <tr style=\"text-align: right;\">\n",
              "      <th></th>\n",
              "      <th>Model</th>\n",
              "      <th>Length</th>\n",
              "    </tr>\n",
              "  </thead>\n",
              "  <tbody>\n",
              "    <tr>\n",
              "      <th>0</th>\n",
              "      <td>Levis501</td>\n",
              "      <td>28</td>\n",
              "    </tr>\n",
              "    <tr>\n",
              "      <th>1</th>\n",
              "      <td>Levis550</td>\n",
              "      <td>34</td>\n",
              "    </tr>\n",
              "  </tbody>\n",
              "</table>\n",
              "</div>"
            ],
            "text/plain": [
              "      Model  Length\n",
              "0  Levis501      28\n",
              "1  Levis550      34"
            ]
          },
          "metadata": {},
          "execution_count": 65
        }
      ]
    },
    {
      "cell_type": "code",
      "metadata": {
        "id": "7iLkr52adWgp",
        "colab": {
          "base_uri": "https://localhost:8080/",
          "height": 111
        },
        "outputId": "607397b9-34f6-4429-a57f-cbbb6c991bdc"
      },
      "source": [
        "pd.merge(width, length, on='Model')"
      ],
      "execution_count": 66,
      "outputs": [
        {
          "output_type": "execute_result",
          "data": {
            "text/html": [
              "<div>\n",
              "<style scoped>\n",
              "    .dataframe tbody tr th:only-of-type {\n",
              "        vertical-align: middle;\n",
              "    }\n",
              "\n",
              "    .dataframe tbody tr th {\n",
              "        vertical-align: top;\n",
              "    }\n",
              "\n",
              "    .dataframe thead th {\n",
              "        text-align: right;\n",
              "    }\n",
              "</style>\n",
              "<table border=\"1\" class=\"dataframe\">\n",
              "  <thead>\n",
              "    <tr style=\"text-align: right;\">\n",
              "      <th></th>\n",
              "      <th>Model</th>\n",
              "      <th>Width</th>\n",
              "      <th>Length</th>\n",
              "    </tr>\n",
              "  </thead>\n",
              "  <tbody>\n",
              "    <tr>\n",
              "      <th>0</th>\n",
              "      <td>Levis501</td>\n",
              "      <td>30</td>\n",
              "      <td>28</td>\n",
              "    </tr>\n",
              "    <tr>\n",
              "      <th>1</th>\n",
              "      <td>Levis550</td>\n",
              "      <td>32</td>\n",
              "      <td>34</td>\n",
              "    </tr>\n",
              "  </tbody>\n",
              "</table>\n",
              "</div>"
            ],
            "text/plain": [
              "      Model  Width  Length\n",
              "0  Levis501     30      28\n",
              "1  Levis550     32      34"
            ]
          },
          "metadata": {},
          "execution_count": 66
        }
      ]
    },
    {
      "cell_type": "markdown",
      "metadata": {
        "id": "y8_2KhSZdWgq"
      },
      "source": [
        "### APPEND"
      ]
    },
    {
      "cell_type": "code",
      "metadata": {
        "id": "7Z60byVsdWgq",
        "colab": {
          "base_uri": "https://localhost:8080/",
          "height": 297
        },
        "outputId": "7a337c15-ca7f-41ee-c781-0b43cf643531"
      },
      "source": [
        "# Append rows to a dataframe\n",
        "df = pd.DataFrame(np.random.randn(8, 4), columns=['A', 'B', 'C', 'D'])\n",
        "df"
      ],
      "execution_count": 68,
      "outputs": [
        {
          "output_type": "execute_result",
          "data": {
            "text/html": [
              "<div>\n",
              "<style scoped>\n",
              "    .dataframe tbody tr th:only-of-type {\n",
              "        vertical-align: middle;\n",
              "    }\n",
              "\n",
              "    .dataframe tbody tr th {\n",
              "        vertical-align: top;\n",
              "    }\n",
              "\n",
              "    .dataframe thead th {\n",
              "        text-align: right;\n",
              "    }\n",
              "</style>\n",
              "<table border=\"1\" class=\"dataframe\">\n",
              "  <thead>\n",
              "    <tr style=\"text-align: right;\">\n",
              "      <th></th>\n",
              "      <th>A</th>\n",
              "      <th>B</th>\n",
              "      <th>C</th>\n",
              "      <th>D</th>\n",
              "    </tr>\n",
              "  </thead>\n",
              "  <tbody>\n",
              "    <tr>\n",
              "      <th>0</th>\n",
              "      <td>-0.792653</td>\n",
              "      <td>-0.707900</td>\n",
              "      <td>-2.300423</td>\n",
              "      <td>-0.574571</td>\n",
              "    </tr>\n",
              "    <tr>\n",
              "      <th>1</th>\n",
              "      <td>-1.048441</td>\n",
              "      <td>-1.012457</td>\n",
              "      <td>-0.507079</td>\n",
              "      <td>1.350628</td>\n",
              "    </tr>\n",
              "    <tr>\n",
              "      <th>2</th>\n",
              "      <td>0.342399</td>\n",
              "      <td>-1.455259</td>\n",
              "      <td>-0.302403</td>\n",
              "      <td>0.738905</td>\n",
              "    </tr>\n",
              "    <tr>\n",
              "      <th>3</th>\n",
              "      <td>0.191240</td>\n",
              "      <td>1.671856</td>\n",
              "      <td>-0.521487</td>\n",
              "      <td>0.493502</td>\n",
              "    </tr>\n",
              "    <tr>\n",
              "      <th>4</th>\n",
              "      <td>-0.840968</td>\n",
              "      <td>-0.223983</td>\n",
              "      <td>2.387919</td>\n",
              "      <td>0.692257</td>\n",
              "    </tr>\n",
              "    <tr>\n",
              "      <th>5</th>\n",
              "      <td>-0.384381</td>\n",
              "      <td>-2.720600</td>\n",
              "      <td>1.242095</td>\n",
              "      <td>-0.565100</td>\n",
              "    </tr>\n",
              "    <tr>\n",
              "      <th>6</th>\n",
              "      <td>-0.294183</td>\n",
              "      <td>0.460387</td>\n",
              "      <td>0.652860</td>\n",
              "      <td>-1.713828</td>\n",
              "    </tr>\n",
              "    <tr>\n",
              "      <th>7</th>\n",
              "      <td>0.042110</td>\n",
              "      <td>-0.545682</td>\n",
              "      <td>-1.006446</td>\n",
              "      <td>0.666848</td>\n",
              "    </tr>\n",
              "  </tbody>\n",
              "</table>\n",
              "</div>"
            ],
            "text/plain": [
              "          A         B         C         D\n",
              "0 -0.792653 -0.707900 -2.300423 -0.574571\n",
              "1 -1.048441 -1.012457 -0.507079  1.350628\n",
              "2  0.342399 -1.455259 -0.302403  0.738905\n",
              "3  0.191240  1.671856 -0.521487  0.493502\n",
              "4 -0.840968 -0.223983  2.387919  0.692257\n",
              "5 -0.384381 -2.720600  1.242095 -0.565100\n",
              "6 -0.294183  0.460387  0.652860 -1.713828\n",
              "7  0.042110 -0.545682 -1.006446  0.666848"
            ]
          },
          "metadata": {},
          "execution_count": 68
        }
      ]
    },
    {
      "cell_type": "code",
      "metadata": {
        "id": "_8ZA-ULadWgq",
        "colab": {
          "base_uri": "https://localhost:8080/",
          "height": 328
        },
        "outputId": "c76f0a85-648a-4f7b-cec2-0c69db8338b4"
      },
      "source": [
        "# Let's add 4th row to the end \n",
        "s = df.iloc[3]\n",
        "df.append(s, ignore_index=True)"
      ],
      "execution_count": 69,
      "outputs": [
        {
          "output_type": "execute_result",
          "data": {
            "text/html": [
              "<div>\n",
              "<style scoped>\n",
              "    .dataframe tbody tr th:only-of-type {\n",
              "        vertical-align: middle;\n",
              "    }\n",
              "\n",
              "    .dataframe tbody tr th {\n",
              "        vertical-align: top;\n",
              "    }\n",
              "\n",
              "    .dataframe thead th {\n",
              "        text-align: right;\n",
              "    }\n",
              "</style>\n",
              "<table border=\"1\" class=\"dataframe\">\n",
              "  <thead>\n",
              "    <tr style=\"text-align: right;\">\n",
              "      <th></th>\n",
              "      <th>A</th>\n",
              "      <th>B</th>\n",
              "      <th>C</th>\n",
              "      <th>D</th>\n",
              "    </tr>\n",
              "  </thead>\n",
              "  <tbody>\n",
              "    <tr>\n",
              "      <th>0</th>\n",
              "      <td>-0.792653</td>\n",
              "      <td>-0.707900</td>\n",
              "      <td>-2.300423</td>\n",
              "      <td>-0.574571</td>\n",
              "    </tr>\n",
              "    <tr>\n",
              "      <th>1</th>\n",
              "      <td>-1.048441</td>\n",
              "      <td>-1.012457</td>\n",
              "      <td>-0.507079</td>\n",
              "      <td>1.350628</td>\n",
              "    </tr>\n",
              "    <tr>\n",
              "      <th>2</th>\n",
              "      <td>0.342399</td>\n",
              "      <td>-1.455259</td>\n",
              "      <td>-0.302403</td>\n",
              "      <td>0.738905</td>\n",
              "    </tr>\n",
              "    <tr>\n",
              "      <th>3</th>\n",
              "      <td>0.191240</td>\n",
              "      <td>1.671856</td>\n",
              "      <td>-0.521487</td>\n",
              "      <td>0.493502</td>\n",
              "    </tr>\n",
              "    <tr>\n",
              "      <th>4</th>\n",
              "      <td>-0.840968</td>\n",
              "      <td>-0.223983</td>\n",
              "      <td>2.387919</td>\n",
              "      <td>0.692257</td>\n",
              "    </tr>\n",
              "    <tr>\n",
              "      <th>5</th>\n",
              "      <td>-0.384381</td>\n",
              "      <td>-2.720600</td>\n",
              "      <td>1.242095</td>\n",
              "      <td>-0.565100</td>\n",
              "    </tr>\n",
              "    <tr>\n",
              "      <th>6</th>\n",
              "      <td>-0.294183</td>\n",
              "      <td>0.460387</td>\n",
              "      <td>0.652860</td>\n",
              "      <td>-1.713828</td>\n",
              "    </tr>\n",
              "    <tr>\n",
              "      <th>7</th>\n",
              "      <td>0.042110</td>\n",
              "      <td>-0.545682</td>\n",
              "      <td>-1.006446</td>\n",
              "      <td>0.666848</td>\n",
              "    </tr>\n",
              "    <tr>\n",
              "      <th>8</th>\n",
              "      <td>0.191240</td>\n",
              "      <td>1.671856</td>\n",
              "      <td>-0.521487</td>\n",
              "      <td>0.493502</td>\n",
              "    </tr>\n",
              "  </tbody>\n",
              "</table>\n",
              "</div>"
            ],
            "text/plain": [
              "          A         B         C         D\n",
              "0 -0.792653 -0.707900 -2.300423 -0.574571\n",
              "1 -1.048441 -1.012457 -0.507079  1.350628\n",
              "2  0.342399 -1.455259 -0.302403  0.738905\n",
              "3  0.191240  1.671856 -0.521487  0.493502\n",
              "4 -0.840968 -0.223983  2.387919  0.692257\n",
              "5 -0.384381 -2.720600  1.242095 -0.565100\n",
              "6 -0.294183  0.460387  0.652860 -1.713828\n",
              "7  0.042110 -0.545682 -1.006446  0.666848\n",
              "8  0.191240  1.671856 -0.521487  0.493502"
            ]
          },
          "metadata": {},
          "execution_count": 69
        }
      ]
    },
    {
      "cell_type": "markdown",
      "metadata": {
        "id": "TQYc1hytdWgq"
      },
      "source": [
        "## GROUPING"
      ]
    },
    {
      "cell_type": "code",
      "metadata": {
        "id": "7r0f_dr_dWgq"
      },
      "source": [
        "# By “group by” we are referring to a process involving one or more of the following steps:\n",
        "# (a) Splitting the data into groups based on some criteria\n",
        "# (b) Applying a function to each group independently\n",
        "# (c) Combining the results into a data structure"
      ],
      "execution_count": 70,
      "outputs": []
    },
    {
      "cell_type": "code",
      "metadata": {
        "id": "puFxdHUhdWgq",
        "colab": {
          "base_uri": "https://localhost:8080/",
          "height": 297
        },
        "outputId": "7dee2600-ef0c-4c50-fa03-9a90f9ea2aaf"
      },
      "source": [
        "df = pd.DataFrame({'A': ['foo', 'bar', 'foo', 'bar',\n",
        "                         'foo', 'bar', 'foo', 'foo'],\n",
        "                   'B': ['one', 'one', 'two', 'three',\n",
        "                         'two', 'two', 'one', 'three'],\n",
        "                   'C': np.random.randn(8),\n",
        "                   'D': np.random.randn(8)})\n",
        "df"
      ],
      "execution_count": 71,
      "outputs": [
        {
          "output_type": "execute_result",
          "data": {
            "text/html": [
              "<div>\n",
              "<style scoped>\n",
              "    .dataframe tbody tr th:only-of-type {\n",
              "        vertical-align: middle;\n",
              "    }\n",
              "\n",
              "    .dataframe tbody tr th {\n",
              "        vertical-align: top;\n",
              "    }\n",
              "\n",
              "    .dataframe thead th {\n",
              "        text-align: right;\n",
              "    }\n",
              "</style>\n",
              "<table border=\"1\" class=\"dataframe\">\n",
              "  <thead>\n",
              "    <tr style=\"text-align: right;\">\n",
              "      <th></th>\n",
              "      <th>A</th>\n",
              "      <th>B</th>\n",
              "      <th>C</th>\n",
              "      <th>D</th>\n",
              "    </tr>\n",
              "  </thead>\n",
              "  <tbody>\n",
              "    <tr>\n",
              "      <th>0</th>\n",
              "      <td>foo</td>\n",
              "      <td>one</td>\n",
              "      <td>-0.219195</td>\n",
              "      <td>-0.019970</td>\n",
              "    </tr>\n",
              "    <tr>\n",
              "      <th>1</th>\n",
              "      <td>bar</td>\n",
              "      <td>one</td>\n",
              "      <td>0.453341</td>\n",
              "      <td>-2.059058</td>\n",
              "    </tr>\n",
              "    <tr>\n",
              "      <th>2</th>\n",
              "      <td>foo</td>\n",
              "      <td>two</td>\n",
              "      <td>-0.381324</td>\n",
              "      <td>0.802101</td>\n",
              "    </tr>\n",
              "    <tr>\n",
              "      <th>3</th>\n",
              "      <td>bar</td>\n",
              "      <td>three</td>\n",
              "      <td>0.143510</td>\n",
              "      <td>-0.655933</td>\n",
              "    </tr>\n",
              "    <tr>\n",
              "      <th>4</th>\n",
              "      <td>foo</td>\n",
              "      <td>two</td>\n",
              "      <td>0.624297</td>\n",
              "      <td>-0.170874</td>\n",
              "    </tr>\n",
              "    <tr>\n",
              "      <th>5</th>\n",
              "      <td>bar</td>\n",
              "      <td>two</td>\n",
              "      <td>-0.132553</td>\n",
              "      <td>0.581925</td>\n",
              "    </tr>\n",
              "    <tr>\n",
              "      <th>6</th>\n",
              "      <td>foo</td>\n",
              "      <td>one</td>\n",
              "      <td>1.540323</td>\n",
              "      <td>-0.231079</td>\n",
              "    </tr>\n",
              "    <tr>\n",
              "      <th>7</th>\n",
              "      <td>foo</td>\n",
              "      <td>three</td>\n",
              "      <td>1.167929</td>\n",
              "      <td>-0.362614</td>\n",
              "    </tr>\n",
              "  </tbody>\n",
              "</table>\n",
              "</div>"
            ],
            "text/plain": [
              "     A      B         C         D\n",
              "0  foo    one -0.219195 -0.019970\n",
              "1  bar    one  0.453341 -2.059058\n",
              "2  foo    two -0.381324  0.802101\n",
              "3  bar  three  0.143510 -0.655933\n",
              "4  foo    two  0.624297 -0.170874\n",
              "5  bar    two -0.132553  0.581925\n",
              "6  foo    one  1.540323 -0.231079\n",
              "7  foo  three  1.167929 -0.362614"
            ]
          },
          "metadata": {},
          "execution_count": 71
        }
      ]
    },
    {
      "cell_type": "code",
      "metadata": {
        "id": "jPm8QLwEdWgq",
        "colab": {
          "base_uri": "https://localhost:8080/",
          "height": 142
        },
        "outputId": "23609988-b96c-482a-f571-4ef39d32c94d"
      },
      "source": [
        "# Grouping and then applying the sum() function to the resulting groups.\n",
        "df.groupby('A').sum()"
      ],
      "execution_count": 72,
      "outputs": [
        {
          "output_type": "execute_result",
          "data": {
            "text/html": [
              "<div>\n",
              "<style scoped>\n",
              "    .dataframe tbody tr th:only-of-type {\n",
              "        vertical-align: middle;\n",
              "    }\n",
              "\n",
              "    .dataframe tbody tr th {\n",
              "        vertical-align: top;\n",
              "    }\n",
              "\n",
              "    .dataframe thead th {\n",
              "        text-align: right;\n",
              "    }\n",
              "</style>\n",
              "<table border=\"1\" class=\"dataframe\">\n",
              "  <thead>\n",
              "    <tr style=\"text-align: right;\">\n",
              "      <th></th>\n",
              "      <th>C</th>\n",
              "      <th>D</th>\n",
              "    </tr>\n",
              "    <tr>\n",
              "      <th>A</th>\n",
              "      <th></th>\n",
              "      <th></th>\n",
              "    </tr>\n",
              "  </thead>\n",
              "  <tbody>\n",
              "    <tr>\n",
              "      <th>bar</th>\n",
              "      <td>0.464299</td>\n",
              "      <td>-2.133066</td>\n",
              "    </tr>\n",
              "    <tr>\n",
              "      <th>foo</th>\n",
              "      <td>2.732030</td>\n",
              "      <td>0.017564</td>\n",
              "    </tr>\n",
              "  </tbody>\n",
              "</table>\n",
              "</div>"
            ],
            "text/plain": [
              "            C         D\n",
              "A                      \n",
              "bar  0.464299 -2.133066\n",
              "foo  2.732030  0.017564"
            ]
          },
          "metadata": {},
          "execution_count": 72
        }
      ]
    },
    {
      "cell_type": "code",
      "metadata": {
        "id": "-DiowhnZdWgr",
        "colab": {
          "base_uri": "https://localhost:8080/",
          "height": 266
        },
        "outputId": "e280efc5-0714-4a5c-ebd8-ab9ef5a4b1ce"
      },
      "source": [
        "# Grouping by multiple columns forms a hierarchical index,\n",
        "# and again we can apply the sum function.\n",
        "df.groupby(['A', 'B']).sum()"
      ],
      "execution_count": 73,
      "outputs": [
        {
          "output_type": "execute_result",
          "data": {
            "text/html": [
              "<div>\n",
              "<style scoped>\n",
              "    .dataframe tbody tr th:only-of-type {\n",
              "        vertical-align: middle;\n",
              "    }\n",
              "\n",
              "    .dataframe tbody tr th {\n",
              "        vertical-align: top;\n",
              "    }\n",
              "\n",
              "    .dataframe thead th {\n",
              "        text-align: right;\n",
              "    }\n",
              "</style>\n",
              "<table border=\"1\" class=\"dataframe\">\n",
              "  <thead>\n",
              "    <tr style=\"text-align: right;\">\n",
              "      <th></th>\n",
              "      <th></th>\n",
              "      <th>C</th>\n",
              "      <th>D</th>\n",
              "    </tr>\n",
              "    <tr>\n",
              "      <th>A</th>\n",
              "      <th>B</th>\n",
              "      <th></th>\n",
              "      <th></th>\n",
              "    </tr>\n",
              "  </thead>\n",
              "  <tbody>\n",
              "    <tr>\n",
              "      <th rowspan=\"3\" valign=\"top\">bar</th>\n",
              "      <th>one</th>\n",
              "      <td>0.453341</td>\n",
              "      <td>-2.059058</td>\n",
              "    </tr>\n",
              "    <tr>\n",
              "      <th>three</th>\n",
              "      <td>0.143510</td>\n",
              "      <td>-0.655933</td>\n",
              "    </tr>\n",
              "    <tr>\n",
              "      <th>two</th>\n",
              "      <td>-0.132553</td>\n",
              "      <td>0.581925</td>\n",
              "    </tr>\n",
              "    <tr>\n",
              "      <th rowspan=\"3\" valign=\"top\">foo</th>\n",
              "      <th>one</th>\n",
              "      <td>1.321128</td>\n",
              "      <td>-0.251049</td>\n",
              "    </tr>\n",
              "    <tr>\n",
              "      <th>three</th>\n",
              "      <td>1.167929</td>\n",
              "      <td>-0.362614</td>\n",
              "    </tr>\n",
              "    <tr>\n",
              "      <th>two</th>\n",
              "      <td>0.242972</td>\n",
              "      <td>0.631227</td>\n",
              "    </tr>\n",
              "  </tbody>\n",
              "</table>\n",
              "</div>"
            ],
            "text/plain": [
              "                  C         D\n",
              "A   B                        \n",
              "bar one    0.453341 -2.059058\n",
              "    three  0.143510 -0.655933\n",
              "    two   -0.132553  0.581925\n",
              "foo one    1.321128 -0.251049\n",
              "    three  1.167929 -0.362614\n",
              "    two    0.242972  0.631227"
            ]
          },
          "metadata": {},
          "execution_count": 73
        }
      ]
    },
    {
      "cell_type": "markdown",
      "metadata": {
        "id": "XQ2ke92UdWgr"
      },
      "source": [
        "## Reshaping"
      ]
    },
    {
      "cell_type": "code",
      "metadata": {
        "id": "4WUYMsfHdWgr",
        "colab": {
          "base_uri": "https://localhost:8080/"
        },
        "outputId": "e79fcdda-b515-444d-e8c2-ffec7e24be25"
      },
      "source": [
        "tuples = list(zip(*[['bar', 'bar', 'baz', 'baz',\n",
        "                     'foo', 'foo', 'qux', 'qux'],\n",
        "                    ['one', 'two', 'one', 'two',\n",
        "                     'one', 'two', 'one', 'two']]))\n",
        "print(tuples)"
      ],
      "execution_count": 74,
      "outputs": [
        {
          "output_type": "stream",
          "name": "stdout",
          "text": [
            "[('bar', 'one'), ('bar', 'two'), ('baz', 'one'), ('baz', 'two'), ('foo', 'one'), ('foo', 'two'), ('qux', 'one'), ('qux', 'two')]\n"
          ]
        }
      ]
    },
    {
      "cell_type": "code",
      "metadata": {
        "id": "z1HhS_AMdWgr",
        "colab": {
          "base_uri": "https://localhost:8080/",
          "height": 328
        },
        "outputId": "ab90b734-084e-4ae4-8938-000040a883ca"
      },
      "source": [
        "index = pd.MultiIndex.from_tuples(tuples, names=['first', 'second'])\n",
        "df = pd.DataFrame(np.random.randn(8, 2), index=index, columns=['A', 'B'])\n",
        "df"
      ],
      "execution_count": 75,
      "outputs": [
        {
          "output_type": "execute_result",
          "data": {
            "text/html": [
              "<div>\n",
              "<style scoped>\n",
              "    .dataframe tbody tr th:only-of-type {\n",
              "        vertical-align: middle;\n",
              "    }\n",
              "\n",
              "    .dataframe tbody tr th {\n",
              "        vertical-align: top;\n",
              "    }\n",
              "\n",
              "    .dataframe thead th {\n",
              "        text-align: right;\n",
              "    }\n",
              "</style>\n",
              "<table border=\"1\" class=\"dataframe\">\n",
              "  <thead>\n",
              "    <tr style=\"text-align: right;\">\n",
              "      <th></th>\n",
              "      <th></th>\n",
              "      <th>A</th>\n",
              "      <th>B</th>\n",
              "    </tr>\n",
              "    <tr>\n",
              "      <th>first</th>\n",
              "      <th>second</th>\n",
              "      <th></th>\n",
              "      <th></th>\n",
              "    </tr>\n",
              "  </thead>\n",
              "  <tbody>\n",
              "    <tr>\n",
              "      <th rowspan=\"2\" valign=\"top\">bar</th>\n",
              "      <th>one</th>\n",
              "      <td>-1.113269</td>\n",
              "      <td>-0.068776</td>\n",
              "    </tr>\n",
              "    <tr>\n",
              "      <th>two</th>\n",
              "      <td>1.477455</td>\n",
              "      <td>-0.236609</td>\n",
              "    </tr>\n",
              "    <tr>\n",
              "      <th rowspan=\"2\" valign=\"top\">baz</th>\n",
              "      <th>one</th>\n",
              "      <td>0.032848</td>\n",
              "      <td>1.090074</td>\n",
              "    </tr>\n",
              "    <tr>\n",
              "      <th>two</th>\n",
              "      <td>-0.717777</td>\n",
              "      <td>0.142281</td>\n",
              "    </tr>\n",
              "    <tr>\n",
              "      <th rowspan=\"2\" valign=\"top\">foo</th>\n",
              "      <th>one</th>\n",
              "      <td>-1.547704</td>\n",
              "      <td>0.133610</td>\n",
              "    </tr>\n",
              "    <tr>\n",
              "      <th>two</th>\n",
              "      <td>-0.713054</td>\n",
              "      <td>-0.286330</td>\n",
              "    </tr>\n",
              "    <tr>\n",
              "      <th rowspan=\"2\" valign=\"top\">qux</th>\n",
              "      <th>one</th>\n",
              "      <td>-1.594735</td>\n",
              "      <td>-0.964757</td>\n",
              "    </tr>\n",
              "    <tr>\n",
              "      <th>two</th>\n",
              "      <td>0.699305</td>\n",
              "      <td>-1.216097</td>\n",
              "    </tr>\n",
              "  </tbody>\n",
              "</table>\n",
              "</div>"
            ],
            "text/plain": [
              "                     A         B\n",
              "first second                    \n",
              "bar   one    -1.113269 -0.068776\n",
              "      two     1.477455 -0.236609\n",
              "baz   one     0.032848  1.090074\n",
              "      two    -0.717777  0.142281\n",
              "foo   one    -1.547704  0.133610\n",
              "      two    -0.713054 -0.286330\n",
              "qux   one    -1.594735 -0.964757\n",
              "      two     0.699305 -1.216097"
            ]
          },
          "metadata": {},
          "execution_count": 75
        }
      ]
    },
    {
      "cell_type": "code",
      "metadata": {
        "id": "uZbi5BT0dWgr",
        "colab": {
          "base_uri": "https://localhost:8080/",
          "height": 204
        },
        "outputId": "30a66ff3-459f-44cc-bd5f-e89647edfb2c"
      },
      "source": [
        "df2 = df[:4]\n",
        "df2"
      ],
      "execution_count": 76,
      "outputs": [
        {
          "output_type": "execute_result",
          "data": {
            "text/html": [
              "<div>\n",
              "<style scoped>\n",
              "    .dataframe tbody tr th:only-of-type {\n",
              "        vertical-align: middle;\n",
              "    }\n",
              "\n",
              "    .dataframe tbody tr th {\n",
              "        vertical-align: top;\n",
              "    }\n",
              "\n",
              "    .dataframe thead th {\n",
              "        text-align: right;\n",
              "    }\n",
              "</style>\n",
              "<table border=\"1\" class=\"dataframe\">\n",
              "  <thead>\n",
              "    <tr style=\"text-align: right;\">\n",
              "      <th></th>\n",
              "      <th></th>\n",
              "      <th>A</th>\n",
              "      <th>B</th>\n",
              "    </tr>\n",
              "    <tr>\n",
              "      <th>first</th>\n",
              "      <th>second</th>\n",
              "      <th></th>\n",
              "      <th></th>\n",
              "    </tr>\n",
              "  </thead>\n",
              "  <tbody>\n",
              "    <tr>\n",
              "      <th rowspan=\"2\" valign=\"top\">bar</th>\n",
              "      <th>one</th>\n",
              "      <td>-1.113269</td>\n",
              "      <td>-0.068776</td>\n",
              "    </tr>\n",
              "    <tr>\n",
              "      <th>two</th>\n",
              "      <td>1.477455</td>\n",
              "      <td>-0.236609</td>\n",
              "    </tr>\n",
              "    <tr>\n",
              "      <th rowspan=\"2\" valign=\"top\">baz</th>\n",
              "      <th>one</th>\n",
              "      <td>0.032848</td>\n",
              "      <td>1.090074</td>\n",
              "    </tr>\n",
              "    <tr>\n",
              "      <th>two</th>\n",
              "      <td>-0.717777</td>\n",
              "      <td>0.142281</td>\n",
              "    </tr>\n",
              "  </tbody>\n",
              "</table>\n",
              "</div>"
            ],
            "text/plain": [
              "                     A         B\n",
              "first second                    \n",
              "bar   one    -1.113269 -0.068776\n",
              "      two     1.477455 -0.236609\n",
              "baz   one     0.032848  1.090074\n",
              "      two    -0.717777  0.142281"
            ]
          },
          "metadata": {},
          "execution_count": 76
        }
      ]
    },
    {
      "cell_type": "markdown",
      "metadata": {
        "id": "iS555rWgdWgr"
      },
      "source": [
        "#### STACK"
      ]
    },
    {
      "cell_type": "code",
      "metadata": {
        "id": "Y_zgqE_bdWgr",
        "colab": {
          "base_uri": "https://localhost:8080/"
        },
        "outputId": "27f9cb0e-54d1-46fd-a09b-18f3206be935"
      },
      "source": [
        "# The stack() method “compresses” a level in the DataFrame’s columns.\n",
        "stacked = df2.stack()\n",
        "stacked"
      ],
      "execution_count": 77,
      "outputs": [
        {
          "output_type": "execute_result",
          "data": {
            "text/plain": [
              "first  second   \n",
              "bar    one     A   -1.113269\n",
              "               B   -0.068776\n",
              "       two     A    1.477455\n",
              "               B   -0.236609\n",
              "baz    one     A    0.032848\n",
              "               B    1.090074\n",
              "       two     A   -0.717777\n",
              "               B    0.142281\n",
              "dtype: float64"
            ]
          },
          "metadata": {},
          "execution_count": 77
        }
      ]
    },
    {
      "cell_type": "code",
      "metadata": {
        "id": "ViJDEoWudWgr",
        "colab": {
          "base_uri": "https://localhost:8080/",
          "height": 204
        },
        "outputId": "5c6467a2-d056-4233-b7b5-0bc9d4335557"
      },
      "source": [
        "# With a “stacked” DataFrame or Series (having a MultiIndex as the index), \n",
        "# the inverse operation of stack() is unstack(), which by default unstacks the last level:\n",
        "stacked.unstack()"
      ],
      "execution_count": 78,
      "outputs": [
        {
          "output_type": "execute_result",
          "data": {
            "text/html": [
              "<div>\n",
              "<style scoped>\n",
              "    .dataframe tbody tr th:only-of-type {\n",
              "        vertical-align: middle;\n",
              "    }\n",
              "\n",
              "    .dataframe tbody tr th {\n",
              "        vertical-align: top;\n",
              "    }\n",
              "\n",
              "    .dataframe thead th {\n",
              "        text-align: right;\n",
              "    }\n",
              "</style>\n",
              "<table border=\"1\" class=\"dataframe\">\n",
              "  <thead>\n",
              "    <tr style=\"text-align: right;\">\n",
              "      <th></th>\n",
              "      <th></th>\n",
              "      <th>A</th>\n",
              "      <th>B</th>\n",
              "    </tr>\n",
              "    <tr>\n",
              "      <th>first</th>\n",
              "      <th>second</th>\n",
              "      <th></th>\n",
              "      <th></th>\n",
              "    </tr>\n",
              "  </thead>\n",
              "  <tbody>\n",
              "    <tr>\n",
              "      <th rowspan=\"2\" valign=\"top\">bar</th>\n",
              "      <th>one</th>\n",
              "      <td>-1.113269</td>\n",
              "      <td>-0.068776</td>\n",
              "    </tr>\n",
              "    <tr>\n",
              "      <th>two</th>\n",
              "      <td>1.477455</td>\n",
              "      <td>-0.236609</td>\n",
              "    </tr>\n",
              "    <tr>\n",
              "      <th rowspan=\"2\" valign=\"top\">baz</th>\n",
              "      <th>one</th>\n",
              "      <td>0.032848</td>\n",
              "      <td>1.090074</td>\n",
              "    </tr>\n",
              "    <tr>\n",
              "      <th>two</th>\n",
              "      <td>-0.717777</td>\n",
              "      <td>0.142281</td>\n",
              "    </tr>\n",
              "  </tbody>\n",
              "</table>\n",
              "</div>"
            ],
            "text/plain": [
              "                     A         B\n",
              "first second                    \n",
              "bar   one    -1.113269 -0.068776\n",
              "      two     1.477455 -0.236609\n",
              "baz   one     0.032848  1.090074\n",
              "      two    -0.717777  0.142281"
            ]
          },
          "metadata": {},
          "execution_count": 78
        }
      ]
    },
    {
      "cell_type": "code",
      "metadata": {
        "id": "862ajx7hdWgs",
        "colab": {
          "base_uri": "https://localhost:8080/",
          "height": 204
        },
        "outputId": "0651f671-820e-46e8-ce49-ad1b6d8c7e20"
      },
      "source": [
        "stacked.unstack(1)"
      ],
      "execution_count": 79,
      "outputs": [
        {
          "output_type": "execute_result",
          "data": {
            "text/html": [
              "<div>\n",
              "<style scoped>\n",
              "    .dataframe tbody tr th:only-of-type {\n",
              "        vertical-align: middle;\n",
              "    }\n",
              "\n",
              "    .dataframe tbody tr th {\n",
              "        vertical-align: top;\n",
              "    }\n",
              "\n",
              "    .dataframe thead th {\n",
              "        text-align: right;\n",
              "    }\n",
              "</style>\n",
              "<table border=\"1\" class=\"dataframe\">\n",
              "  <thead>\n",
              "    <tr style=\"text-align: right;\">\n",
              "      <th></th>\n",
              "      <th>second</th>\n",
              "      <th>one</th>\n",
              "      <th>two</th>\n",
              "    </tr>\n",
              "    <tr>\n",
              "      <th>first</th>\n",
              "      <th></th>\n",
              "      <th></th>\n",
              "      <th></th>\n",
              "    </tr>\n",
              "  </thead>\n",
              "  <tbody>\n",
              "    <tr>\n",
              "      <th rowspan=\"2\" valign=\"top\">bar</th>\n",
              "      <th>A</th>\n",
              "      <td>-1.113269</td>\n",
              "      <td>1.477455</td>\n",
              "    </tr>\n",
              "    <tr>\n",
              "      <th>B</th>\n",
              "      <td>-0.068776</td>\n",
              "      <td>-0.236609</td>\n",
              "    </tr>\n",
              "    <tr>\n",
              "      <th rowspan=\"2\" valign=\"top\">baz</th>\n",
              "      <th>A</th>\n",
              "      <td>0.032848</td>\n",
              "      <td>-0.717777</td>\n",
              "    </tr>\n",
              "    <tr>\n",
              "      <th>B</th>\n",
              "      <td>1.090074</td>\n",
              "      <td>0.142281</td>\n",
              "    </tr>\n",
              "  </tbody>\n",
              "</table>\n",
              "</div>"
            ],
            "text/plain": [
              "second        one       two\n",
              "first                      \n",
              "bar   A -1.113269  1.477455\n",
              "      B -0.068776 -0.236609\n",
              "baz   A  0.032848 -0.717777\n",
              "      B  1.090074  0.142281"
            ]
          },
          "metadata": {},
          "execution_count": 79
        }
      ]
    },
    {
      "cell_type": "code",
      "metadata": {
        "id": "QYbcX9gtdWgs",
        "colab": {
          "base_uri": "https://localhost:8080/",
          "height": 204
        },
        "outputId": "0849e368-0caf-4701-a888-81be6531d53a"
      },
      "source": [
        "# Remember df2\n",
        "df2"
      ],
      "execution_count": 80,
      "outputs": [
        {
          "output_type": "execute_result",
          "data": {
            "text/html": [
              "<div>\n",
              "<style scoped>\n",
              "    .dataframe tbody tr th:only-of-type {\n",
              "        vertical-align: middle;\n",
              "    }\n",
              "\n",
              "    .dataframe tbody tr th {\n",
              "        vertical-align: top;\n",
              "    }\n",
              "\n",
              "    .dataframe thead th {\n",
              "        text-align: right;\n",
              "    }\n",
              "</style>\n",
              "<table border=\"1\" class=\"dataframe\">\n",
              "  <thead>\n",
              "    <tr style=\"text-align: right;\">\n",
              "      <th></th>\n",
              "      <th></th>\n",
              "      <th>A</th>\n",
              "      <th>B</th>\n",
              "    </tr>\n",
              "    <tr>\n",
              "      <th>first</th>\n",
              "      <th>second</th>\n",
              "      <th></th>\n",
              "      <th></th>\n",
              "    </tr>\n",
              "  </thead>\n",
              "  <tbody>\n",
              "    <tr>\n",
              "      <th rowspan=\"2\" valign=\"top\">bar</th>\n",
              "      <th>one</th>\n",
              "      <td>-1.113269</td>\n",
              "      <td>-0.068776</td>\n",
              "    </tr>\n",
              "    <tr>\n",
              "      <th>two</th>\n",
              "      <td>1.477455</td>\n",
              "      <td>-0.236609</td>\n",
              "    </tr>\n",
              "    <tr>\n",
              "      <th rowspan=\"2\" valign=\"top\">baz</th>\n",
              "      <th>one</th>\n",
              "      <td>0.032848</td>\n",
              "      <td>1.090074</td>\n",
              "    </tr>\n",
              "    <tr>\n",
              "      <th>two</th>\n",
              "      <td>-0.717777</td>\n",
              "      <td>0.142281</td>\n",
              "    </tr>\n",
              "  </tbody>\n",
              "</table>\n",
              "</div>"
            ],
            "text/plain": [
              "                     A         B\n",
              "first second                    \n",
              "bar   one    -1.113269 -0.068776\n",
              "      two     1.477455 -0.236609\n",
              "baz   one     0.032848  1.090074\n",
              "      two    -0.717777  0.142281"
            ]
          },
          "metadata": {},
          "execution_count": 80
        }
      ]
    },
    {
      "cell_type": "code",
      "metadata": {
        "id": "MTrW-_KTdWgs",
        "colab": {
          "base_uri": "https://localhost:8080/",
          "height": 204
        },
        "outputId": "88770193-8fb7-4a95-ed80-7d5e18bb1d58"
      },
      "source": [
        "stacked.unstack(0)"
      ],
      "execution_count": 81,
      "outputs": [
        {
          "output_type": "execute_result",
          "data": {
            "text/html": [
              "<div>\n",
              "<style scoped>\n",
              "    .dataframe tbody tr th:only-of-type {\n",
              "        vertical-align: middle;\n",
              "    }\n",
              "\n",
              "    .dataframe tbody tr th {\n",
              "        vertical-align: top;\n",
              "    }\n",
              "\n",
              "    .dataframe thead th {\n",
              "        text-align: right;\n",
              "    }\n",
              "</style>\n",
              "<table border=\"1\" class=\"dataframe\">\n",
              "  <thead>\n",
              "    <tr style=\"text-align: right;\">\n",
              "      <th></th>\n",
              "      <th>first</th>\n",
              "      <th>bar</th>\n",
              "      <th>baz</th>\n",
              "    </tr>\n",
              "    <tr>\n",
              "      <th>second</th>\n",
              "      <th></th>\n",
              "      <th></th>\n",
              "      <th></th>\n",
              "    </tr>\n",
              "  </thead>\n",
              "  <tbody>\n",
              "    <tr>\n",
              "      <th rowspan=\"2\" valign=\"top\">one</th>\n",
              "      <th>A</th>\n",
              "      <td>-1.113269</td>\n",
              "      <td>0.032848</td>\n",
              "    </tr>\n",
              "    <tr>\n",
              "      <th>B</th>\n",
              "      <td>-0.068776</td>\n",
              "      <td>1.090074</td>\n",
              "    </tr>\n",
              "    <tr>\n",
              "      <th rowspan=\"2\" valign=\"top\">two</th>\n",
              "      <th>A</th>\n",
              "      <td>1.477455</td>\n",
              "      <td>-0.717777</td>\n",
              "    </tr>\n",
              "    <tr>\n",
              "      <th>B</th>\n",
              "      <td>-0.236609</td>\n",
              "      <td>0.142281</td>\n",
              "    </tr>\n",
              "  </tbody>\n",
              "</table>\n",
              "</div>"
            ],
            "text/plain": [
              "first          bar       baz\n",
              "second                      \n",
              "one    A -1.113269  0.032848\n",
              "       B -0.068776  1.090074\n",
              "two    A  1.477455 -0.717777\n",
              "       B -0.236609  0.142281"
            ]
          },
          "metadata": {},
          "execution_count": 81
        }
      ]
    },
    {
      "cell_type": "markdown",
      "metadata": {
        "id": "-_E3w61pdWgs"
      },
      "source": [
        "### PIVOT TABLES"
      ]
    },
    {
      "cell_type": "code",
      "metadata": {
        "id": "ogHjVnGCdWgs",
        "colab": {
          "base_uri": "https://localhost:8080/",
          "height": 421
        },
        "outputId": "54c53cea-f3df-4777-aada-d8df582643dc"
      },
      "source": [
        "df = pd.DataFrame({'A': ['one', 'one', 'two', 'three'] * 3,\n",
        "                   'B': ['A', 'B', 'C'] * 4,\n",
        "                   'C': ['foo', 'foo', 'foo', 'bar', 'bar', 'bar'] * 2,\n",
        "                   'D': np.random.randn(12),\n",
        "                   'E': np.random.randn(12)})\n",
        "df"
      ],
      "execution_count": 82,
      "outputs": [
        {
          "output_type": "execute_result",
          "data": {
            "text/html": [
              "<div>\n",
              "<style scoped>\n",
              "    .dataframe tbody tr th:only-of-type {\n",
              "        vertical-align: middle;\n",
              "    }\n",
              "\n",
              "    .dataframe tbody tr th {\n",
              "        vertical-align: top;\n",
              "    }\n",
              "\n",
              "    .dataframe thead th {\n",
              "        text-align: right;\n",
              "    }\n",
              "</style>\n",
              "<table border=\"1\" class=\"dataframe\">\n",
              "  <thead>\n",
              "    <tr style=\"text-align: right;\">\n",
              "      <th></th>\n",
              "      <th>A</th>\n",
              "      <th>B</th>\n",
              "      <th>C</th>\n",
              "      <th>D</th>\n",
              "      <th>E</th>\n",
              "    </tr>\n",
              "  </thead>\n",
              "  <tbody>\n",
              "    <tr>\n",
              "      <th>0</th>\n",
              "      <td>one</td>\n",
              "      <td>A</td>\n",
              "      <td>foo</td>\n",
              "      <td>1.760605</td>\n",
              "      <td>0.254174</td>\n",
              "    </tr>\n",
              "    <tr>\n",
              "      <th>1</th>\n",
              "      <td>one</td>\n",
              "      <td>B</td>\n",
              "      <td>foo</td>\n",
              "      <td>-0.411400</td>\n",
              "      <td>0.464432</td>\n",
              "    </tr>\n",
              "    <tr>\n",
              "      <th>2</th>\n",
              "      <td>two</td>\n",
              "      <td>C</td>\n",
              "      <td>foo</td>\n",
              "      <td>-0.153910</td>\n",
              "      <td>0.866336</td>\n",
              "    </tr>\n",
              "    <tr>\n",
              "      <th>3</th>\n",
              "      <td>three</td>\n",
              "      <td>A</td>\n",
              "      <td>bar</td>\n",
              "      <td>-0.521082</td>\n",
              "      <td>-0.036613</td>\n",
              "    </tr>\n",
              "    <tr>\n",
              "      <th>4</th>\n",
              "      <td>one</td>\n",
              "      <td>B</td>\n",
              "      <td>bar</td>\n",
              "      <td>-0.198266</td>\n",
              "      <td>0.085389</td>\n",
              "    </tr>\n",
              "    <tr>\n",
              "      <th>5</th>\n",
              "      <td>one</td>\n",
              "      <td>C</td>\n",
              "      <td>bar</td>\n",
              "      <td>-1.149835</td>\n",
              "      <td>-1.123252</td>\n",
              "    </tr>\n",
              "    <tr>\n",
              "      <th>6</th>\n",
              "      <td>two</td>\n",
              "      <td>A</td>\n",
              "      <td>foo</td>\n",
              "      <td>-0.887690</td>\n",
              "      <td>-0.585031</td>\n",
              "    </tr>\n",
              "    <tr>\n",
              "      <th>7</th>\n",
              "      <td>three</td>\n",
              "      <td>B</td>\n",
              "      <td>foo</td>\n",
              "      <td>0.004679</td>\n",
              "      <td>0.002484</td>\n",
              "    </tr>\n",
              "    <tr>\n",
              "      <th>8</th>\n",
              "      <td>one</td>\n",
              "      <td>C</td>\n",
              "      <td>foo</td>\n",
              "      <td>0.317806</td>\n",
              "      <td>0.672639</td>\n",
              "    </tr>\n",
              "    <tr>\n",
              "      <th>9</th>\n",
              "      <td>one</td>\n",
              "      <td>A</td>\n",
              "      <td>bar</td>\n",
              "      <td>-0.066600</td>\n",
              "      <td>0.583792</td>\n",
              "    </tr>\n",
              "    <tr>\n",
              "      <th>10</th>\n",
              "      <td>two</td>\n",
              "      <td>B</td>\n",
              "      <td>bar</td>\n",
              "      <td>-1.962035</td>\n",
              "      <td>-0.147992</td>\n",
              "    </tr>\n",
              "    <tr>\n",
              "      <th>11</th>\n",
              "      <td>three</td>\n",
              "      <td>C</td>\n",
              "      <td>bar</td>\n",
              "      <td>-1.248121</td>\n",
              "      <td>-0.870312</td>\n",
              "    </tr>\n",
              "  </tbody>\n",
              "</table>\n",
              "</div>"
            ],
            "text/plain": [
              "        A  B    C         D         E\n",
              "0     one  A  foo  1.760605  0.254174\n",
              "1     one  B  foo -0.411400  0.464432\n",
              "2     two  C  foo -0.153910  0.866336\n",
              "3   three  A  bar -0.521082 -0.036613\n",
              "4     one  B  bar -0.198266  0.085389\n",
              "5     one  C  bar -1.149835 -1.123252\n",
              "6     two  A  foo -0.887690 -0.585031\n",
              "7   three  B  foo  0.004679  0.002484\n",
              "8     one  C  foo  0.317806  0.672639\n",
              "9     one  A  bar -0.066600  0.583792\n",
              "10    two  B  bar -1.962035 -0.147992\n",
              "11  three  C  bar -1.248121 -0.870312"
            ]
          },
          "metadata": {},
          "execution_count": 82
        }
      ]
    },
    {
      "cell_type": "code",
      "metadata": {
        "id": "WsY9yVwbdWgs",
        "colab": {
          "base_uri": "https://localhost:8080/",
          "height": 359
        },
        "outputId": "61bc3891-4902-4ccf-ac95-15297ae28a37"
      },
      "source": [
        "# We can produce pivot tables from this data very easily:\n",
        "pd.pivot_table(df, values='D', index=['A', 'B'], columns=['C'])"
      ],
      "execution_count": 83,
      "outputs": [
        {
          "output_type": "execute_result",
          "data": {
            "text/html": [
              "<div>\n",
              "<style scoped>\n",
              "    .dataframe tbody tr th:only-of-type {\n",
              "        vertical-align: middle;\n",
              "    }\n",
              "\n",
              "    .dataframe tbody tr th {\n",
              "        vertical-align: top;\n",
              "    }\n",
              "\n",
              "    .dataframe thead th {\n",
              "        text-align: right;\n",
              "    }\n",
              "</style>\n",
              "<table border=\"1\" class=\"dataframe\">\n",
              "  <thead>\n",
              "    <tr style=\"text-align: right;\">\n",
              "      <th></th>\n",
              "      <th>C</th>\n",
              "      <th>bar</th>\n",
              "      <th>foo</th>\n",
              "    </tr>\n",
              "    <tr>\n",
              "      <th>A</th>\n",
              "      <th>B</th>\n",
              "      <th></th>\n",
              "      <th></th>\n",
              "    </tr>\n",
              "  </thead>\n",
              "  <tbody>\n",
              "    <tr>\n",
              "      <th rowspan=\"3\" valign=\"top\">one</th>\n",
              "      <th>A</th>\n",
              "      <td>-0.066600</td>\n",
              "      <td>1.760605</td>\n",
              "    </tr>\n",
              "    <tr>\n",
              "      <th>B</th>\n",
              "      <td>-0.198266</td>\n",
              "      <td>-0.411400</td>\n",
              "    </tr>\n",
              "    <tr>\n",
              "      <th>C</th>\n",
              "      <td>-1.149835</td>\n",
              "      <td>0.317806</td>\n",
              "    </tr>\n",
              "    <tr>\n",
              "      <th rowspan=\"3\" valign=\"top\">three</th>\n",
              "      <th>A</th>\n",
              "      <td>-0.521082</td>\n",
              "      <td>NaN</td>\n",
              "    </tr>\n",
              "    <tr>\n",
              "      <th>B</th>\n",
              "      <td>NaN</td>\n",
              "      <td>0.004679</td>\n",
              "    </tr>\n",
              "    <tr>\n",
              "      <th>C</th>\n",
              "      <td>-1.248121</td>\n",
              "      <td>NaN</td>\n",
              "    </tr>\n",
              "    <tr>\n",
              "      <th rowspan=\"3\" valign=\"top\">two</th>\n",
              "      <th>A</th>\n",
              "      <td>NaN</td>\n",
              "      <td>-0.887690</td>\n",
              "    </tr>\n",
              "    <tr>\n",
              "      <th>B</th>\n",
              "      <td>-1.962035</td>\n",
              "      <td>NaN</td>\n",
              "    </tr>\n",
              "    <tr>\n",
              "      <th>C</th>\n",
              "      <td>NaN</td>\n",
              "      <td>-0.153910</td>\n",
              "    </tr>\n",
              "  </tbody>\n",
              "</table>\n",
              "</div>"
            ],
            "text/plain": [
              "C             bar       foo\n",
              "A     B                    \n",
              "one   A -0.066600  1.760605\n",
              "      B -0.198266 -0.411400\n",
              "      C -1.149835  0.317806\n",
              "three A -0.521082       NaN\n",
              "      B       NaN  0.004679\n",
              "      C -1.248121       NaN\n",
              "two   A       NaN -0.887690\n",
              "      B -1.962035       NaN\n",
              "      C       NaN -0.153910"
            ]
          },
          "metadata": {},
          "execution_count": 83
        }
      ]
    },
    {
      "cell_type": "code",
      "metadata": {
        "id": "2Oj6SmS1_JV9"
      },
      "source": [
        "# Example 2\n",
        "df = pd.DataFrame({\n",
        "    'A': ['A','B','AB','0']*3,\n",
        "    'B': np.random.randn(12),\n",
        "    'C': ['Male','Male','Male','Female','Female','Female']*2,\n",
        "    'D': np.random.randint(1940,2001,12)})  \n",
        "df['B'] = df['B'].apply(lambda x: 1 if np.random.randn() > 0 else -1)"
      ],
      "execution_count": 84,
      "outputs": []
    },
    {
      "cell_type": "code",
      "metadata": {
        "id": "y3ud8Haa_M2q",
        "colab": {
          "base_uri": "https://localhost:8080/",
          "height": 421
        },
        "outputId": "e0fa2e25-63d8-4f0f-c41a-571509e6fc6e"
      },
      "source": [
        "df"
      ],
      "execution_count": 85,
      "outputs": [
        {
          "output_type": "execute_result",
          "data": {
            "text/html": [
              "<div>\n",
              "<style scoped>\n",
              "    .dataframe tbody tr th:only-of-type {\n",
              "        vertical-align: middle;\n",
              "    }\n",
              "\n",
              "    .dataframe tbody tr th {\n",
              "        vertical-align: top;\n",
              "    }\n",
              "\n",
              "    .dataframe thead th {\n",
              "        text-align: right;\n",
              "    }\n",
              "</style>\n",
              "<table border=\"1\" class=\"dataframe\">\n",
              "  <thead>\n",
              "    <tr style=\"text-align: right;\">\n",
              "      <th></th>\n",
              "      <th>A</th>\n",
              "      <th>B</th>\n",
              "      <th>C</th>\n",
              "      <th>D</th>\n",
              "    </tr>\n",
              "  </thead>\n",
              "  <tbody>\n",
              "    <tr>\n",
              "      <th>0</th>\n",
              "      <td>A</td>\n",
              "      <td>-1</td>\n",
              "      <td>Male</td>\n",
              "      <td>1941</td>\n",
              "    </tr>\n",
              "    <tr>\n",
              "      <th>1</th>\n",
              "      <td>B</td>\n",
              "      <td>1</td>\n",
              "      <td>Male</td>\n",
              "      <td>1980</td>\n",
              "    </tr>\n",
              "    <tr>\n",
              "      <th>2</th>\n",
              "      <td>AB</td>\n",
              "      <td>-1</td>\n",
              "      <td>Male</td>\n",
              "      <td>1970</td>\n",
              "    </tr>\n",
              "    <tr>\n",
              "      <th>3</th>\n",
              "      <td>0</td>\n",
              "      <td>1</td>\n",
              "      <td>Female</td>\n",
              "      <td>1982</td>\n",
              "    </tr>\n",
              "    <tr>\n",
              "      <th>4</th>\n",
              "      <td>A</td>\n",
              "      <td>1</td>\n",
              "      <td>Female</td>\n",
              "      <td>1947</td>\n",
              "    </tr>\n",
              "    <tr>\n",
              "      <th>5</th>\n",
              "      <td>B</td>\n",
              "      <td>-1</td>\n",
              "      <td>Female</td>\n",
              "      <td>1992</td>\n",
              "    </tr>\n",
              "    <tr>\n",
              "      <th>6</th>\n",
              "      <td>AB</td>\n",
              "      <td>-1</td>\n",
              "      <td>Male</td>\n",
              "      <td>1995</td>\n",
              "    </tr>\n",
              "    <tr>\n",
              "      <th>7</th>\n",
              "      <td>0</td>\n",
              "      <td>1</td>\n",
              "      <td>Male</td>\n",
              "      <td>1962</td>\n",
              "    </tr>\n",
              "    <tr>\n",
              "      <th>8</th>\n",
              "      <td>A</td>\n",
              "      <td>1</td>\n",
              "      <td>Male</td>\n",
              "      <td>1962</td>\n",
              "    </tr>\n",
              "    <tr>\n",
              "      <th>9</th>\n",
              "      <td>B</td>\n",
              "      <td>1</td>\n",
              "      <td>Female</td>\n",
              "      <td>1949</td>\n",
              "    </tr>\n",
              "    <tr>\n",
              "      <th>10</th>\n",
              "      <td>AB</td>\n",
              "      <td>-1</td>\n",
              "      <td>Female</td>\n",
              "      <td>1983</td>\n",
              "    </tr>\n",
              "    <tr>\n",
              "      <th>11</th>\n",
              "      <td>0</td>\n",
              "      <td>1</td>\n",
              "      <td>Female</td>\n",
              "      <td>1945</td>\n",
              "    </tr>\n",
              "  </tbody>\n",
              "</table>\n",
              "</div>"
            ],
            "text/plain": [
              "     A  B       C     D\n",
              "0    A -1    Male  1941\n",
              "1    B  1    Male  1980\n",
              "2   AB -1    Male  1970\n",
              "3    0  1  Female  1982\n",
              "4    A  1  Female  1947\n",
              "5    B -1  Female  1992\n",
              "6   AB -1    Male  1995\n",
              "7    0  1    Male  1962\n",
              "8    A  1    Male  1962\n",
              "9    B  1  Female  1949\n",
              "10  AB -1  Female  1983\n",
              "11   0  1  Female  1945"
            ]
          },
          "metadata": {},
          "execution_count": 85
        }
      ]
    },
    {
      "cell_type": "code",
      "metadata": {
        "id": "9UyhmEIz_PCu",
        "colab": {
          "base_uri": "https://localhost:8080/",
          "height": 266
        },
        "outputId": "33f37c10-b92d-4ec4-bf5c-0399fe601479"
      },
      "source": [
        "pd.pivot_table(df,values='D',index=['A','B'], columns=['C'])"
      ],
      "execution_count": 86,
      "outputs": [
        {
          "output_type": "execute_result",
          "data": {
            "text/html": [
              "<div>\n",
              "<style scoped>\n",
              "    .dataframe tbody tr th:only-of-type {\n",
              "        vertical-align: middle;\n",
              "    }\n",
              "\n",
              "    .dataframe tbody tr th {\n",
              "        vertical-align: top;\n",
              "    }\n",
              "\n",
              "    .dataframe thead th {\n",
              "        text-align: right;\n",
              "    }\n",
              "</style>\n",
              "<table border=\"1\" class=\"dataframe\">\n",
              "  <thead>\n",
              "    <tr style=\"text-align: right;\">\n",
              "      <th></th>\n",
              "      <th>C</th>\n",
              "      <th>Female</th>\n",
              "      <th>Male</th>\n",
              "    </tr>\n",
              "    <tr>\n",
              "      <th>A</th>\n",
              "      <th>B</th>\n",
              "      <th></th>\n",
              "      <th></th>\n",
              "    </tr>\n",
              "  </thead>\n",
              "  <tbody>\n",
              "    <tr>\n",
              "      <th>0</th>\n",
              "      <th>1</th>\n",
              "      <td>1963.5</td>\n",
              "      <td>1962.0</td>\n",
              "    </tr>\n",
              "    <tr>\n",
              "      <th rowspan=\"2\" valign=\"top\">A</th>\n",
              "      <th>-1</th>\n",
              "      <td>NaN</td>\n",
              "      <td>1941.0</td>\n",
              "    </tr>\n",
              "    <tr>\n",
              "      <th>1</th>\n",
              "      <td>1947.0</td>\n",
              "      <td>1962.0</td>\n",
              "    </tr>\n",
              "    <tr>\n",
              "      <th>AB</th>\n",
              "      <th>-1</th>\n",
              "      <td>1983.0</td>\n",
              "      <td>1982.5</td>\n",
              "    </tr>\n",
              "    <tr>\n",
              "      <th rowspan=\"2\" valign=\"top\">B</th>\n",
              "      <th>-1</th>\n",
              "      <td>1992.0</td>\n",
              "      <td>NaN</td>\n",
              "    </tr>\n",
              "    <tr>\n",
              "      <th>1</th>\n",
              "      <td>1949.0</td>\n",
              "      <td>1980.0</td>\n",
              "    </tr>\n",
              "  </tbody>\n",
              "</table>\n",
              "</div>"
            ],
            "text/plain": [
              "C      Female    Male\n",
              "A  B                 \n",
              "0   1  1963.5  1962.0\n",
              "A  -1     NaN  1941.0\n",
              "    1  1947.0  1962.0\n",
              "AB -1  1983.0  1982.5\n",
              "B  -1  1992.0     NaN\n",
              "    1  1949.0  1980.0"
            ]
          },
          "metadata": {},
          "execution_count": 86
        }
      ]
    },
    {
      "cell_type": "markdown",
      "metadata": {
        "id": "RLyYKI7vdWgw"
      },
      "source": [
        "## GETTING DATA IN/OUT"
      ]
    },
    {
      "cell_type": "markdown",
      "metadata": {
        "id": "EY9fr45idWgw"
      },
      "source": [
        "### CSV"
      ]
    },
    {
      "cell_type": "code",
      "metadata": {
        "id": "ZRagi3AcdWgw"
      },
      "source": [
        "# Writing to a csv file\n",
        "df.to_csv('foo.csv')"
      ],
      "execution_count": 110,
      "outputs": []
    },
    {
      "cell_type": "code",
      "metadata": {
        "id": "4jUQdQxzdWgw",
        "colab": {
          "base_uri": "https://localhost:8080/",
          "height": 419
        },
        "outputId": "173e26b9-b532-43ca-972c-801f3ef33f38"
      },
      "source": [
        "# Reading from a csv file.\n",
        "pd.read_csv('foo.csv')"
      ],
      "execution_count": 111,
      "outputs": [
        {
          "output_type": "execute_result",
          "data": {
            "text/html": [
              "<div>\n",
              "<style scoped>\n",
              "    .dataframe tbody tr th:only-of-type {\n",
              "        vertical-align: middle;\n",
              "    }\n",
              "\n",
              "    .dataframe tbody tr th {\n",
              "        vertical-align: top;\n",
              "    }\n",
              "\n",
              "    .dataframe thead th {\n",
              "        text-align: right;\n",
              "    }\n",
              "</style>\n",
              "<table border=\"1\" class=\"dataframe\">\n",
              "  <thead>\n",
              "    <tr style=\"text-align: right;\">\n",
              "      <th></th>\n",
              "      <th>Unnamed: 0</th>\n",
              "      <th>A</th>\n",
              "      <th>B</th>\n",
              "      <th>C</th>\n",
              "      <th>D</th>\n",
              "    </tr>\n",
              "  </thead>\n",
              "  <tbody>\n",
              "    <tr>\n",
              "      <th>0</th>\n",
              "      <td>2000-01-01</td>\n",
              "      <td>-0.442150</td>\n",
              "      <td>-2.135448</td>\n",
              "      <td>-0.591369</td>\n",
              "      <td>-1.004904</td>\n",
              "    </tr>\n",
              "    <tr>\n",
              "      <th>1</th>\n",
              "      <td>2000-01-02</td>\n",
              "      <td>-0.774816</td>\n",
              "      <td>-2.184616</td>\n",
              "      <td>-1.284013</td>\n",
              "      <td>-0.888850</td>\n",
              "    </tr>\n",
              "    <tr>\n",
              "      <th>2</th>\n",
              "      <td>2000-01-03</td>\n",
              "      <td>-0.895905</td>\n",
              "      <td>-2.524869</td>\n",
              "      <td>0.825653</td>\n",
              "      <td>-0.179890</td>\n",
              "    </tr>\n",
              "    <tr>\n",
              "      <th>3</th>\n",
              "      <td>2000-01-04</td>\n",
              "      <td>-0.661406</td>\n",
              "      <td>-3.753354</td>\n",
              "      <td>3.039028</td>\n",
              "      <td>-2.002017</td>\n",
              "    </tr>\n",
              "    <tr>\n",
              "      <th>4</th>\n",
              "      <td>2000-01-05</td>\n",
              "      <td>0.211379</td>\n",
              "      <td>-3.944276</td>\n",
              "      <td>3.279754</td>\n",
              "      <td>-2.107158</td>\n",
              "    </tr>\n",
              "    <tr>\n",
              "      <th>...</th>\n",
              "      <td>...</td>\n",
              "      <td>...</td>\n",
              "      <td>...</td>\n",
              "      <td>...</td>\n",
              "      <td>...</td>\n",
              "    </tr>\n",
              "    <tr>\n",
              "      <th>3645</th>\n",
              "      <td>2009-12-24</td>\n",
              "      <td>-80.968010</td>\n",
              "      <td>-118.857738</td>\n",
              "      <td>-96.457217</td>\n",
              "      <td>-104.689315</td>\n",
              "    </tr>\n",
              "    <tr>\n",
              "      <th>3646</th>\n",
              "      <td>2009-12-25</td>\n",
              "      <td>-81.094116</td>\n",
              "      <td>-120.239313</td>\n",
              "      <td>-98.398297</td>\n",
              "      <td>-104.870969</td>\n",
              "    </tr>\n",
              "    <tr>\n",
              "      <th>3647</th>\n",
              "      <td>2009-12-26</td>\n",
              "      <td>-82.979169</td>\n",
              "      <td>-119.768505</td>\n",
              "      <td>-96.451579</td>\n",
              "      <td>-103.002068</td>\n",
              "    </tr>\n",
              "    <tr>\n",
              "      <th>3648</th>\n",
              "      <td>2009-12-27</td>\n",
              "      <td>-83.913927</td>\n",
              "      <td>-119.346361</td>\n",
              "      <td>-98.518743</td>\n",
              "      <td>-102.827600</td>\n",
              "    </tr>\n",
              "    <tr>\n",
              "      <th>3649</th>\n",
              "      <td>2009-12-28</td>\n",
              "      <td>-84.183971</td>\n",
              "      <td>-119.357229</td>\n",
              "      <td>-99.415860</td>\n",
              "      <td>-102.032121</td>\n",
              "    </tr>\n",
              "  </tbody>\n",
              "</table>\n",
              "<p>3650 rows × 5 columns</p>\n",
              "</div>"
            ],
            "text/plain": [
              "      Unnamed: 0          A           B          C           D\n",
              "0     2000-01-01  -0.442150   -2.135448  -0.591369   -1.004904\n",
              "1     2000-01-02  -0.774816   -2.184616  -1.284013   -0.888850\n",
              "2     2000-01-03  -0.895905   -2.524869   0.825653   -0.179890\n",
              "3     2000-01-04  -0.661406   -3.753354   3.039028   -2.002017\n",
              "4     2000-01-05   0.211379   -3.944276   3.279754   -2.107158\n",
              "...          ...        ...         ...        ...         ...\n",
              "3645  2009-12-24 -80.968010 -118.857738 -96.457217 -104.689315\n",
              "3646  2009-12-25 -81.094116 -120.239313 -98.398297 -104.870969\n",
              "3647  2009-12-26 -82.979169 -119.768505 -96.451579 -103.002068\n",
              "3648  2009-12-27 -83.913927 -119.346361 -98.518743 -102.827600\n",
              "3649  2009-12-28 -84.183971 -119.357229 -99.415860 -102.032121\n",
              "\n",
              "[3650 rows x 5 columns]"
            ]
          },
          "metadata": {},
          "execution_count": 111
        }
      ]
    },
    {
      "cell_type": "markdown",
      "metadata": {
        "id": "Vpybmm8LdWgw"
      },
      "source": [
        "### Excel"
      ]
    },
    {
      "cell_type": "code",
      "metadata": {
        "id": "0j0bZQmhdWgw"
      },
      "source": [
        "# Writing to an excel file.\n",
        "df.to_excel('foo.xlsx', sheet_name='Sheet1')"
      ],
      "execution_count": 112,
      "outputs": []
    },
    {
      "cell_type": "code",
      "metadata": {
        "id": "cJHr77G4dWgx",
        "colab": {
          "base_uri": "https://localhost:8080/",
          "height": 419
        },
        "outputId": "8e7f2cab-4545-4dbc-f160-c23bacc5efd4"
      },
      "source": [
        "# Reading from an excel file.\n",
        "pd.read_excel('foo.xlsx', 'Sheet1', index_col=None, na_values=['NA'])"
      ],
      "execution_count": 113,
      "outputs": [
        {
          "output_type": "execute_result",
          "data": {
            "text/html": [
              "<div>\n",
              "<style scoped>\n",
              "    .dataframe tbody tr th:only-of-type {\n",
              "        vertical-align: middle;\n",
              "    }\n",
              "\n",
              "    .dataframe tbody tr th {\n",
              "        vertical-align: top;\n",
              "    }\n",
              "\n",
              "    .dataframe thead th {\n",
              "        text-align: right;\n",
              "    }\n",
              "</style>\n",
              "<table border=\"1\" class=\"dataframe\">\n",
              "  <thead>\n",
              "    <tr style=\"text-align: right;\">\n",
              "      <th></th>\n",
              "      <th>Unnamed: 0</th>\n",
              "      <th>A</th>\n",
              "      <th>B</th>\n",
              "      <th>C</th>\n",
              "      <th>D</th>\n",
              "    </tr>\n",
              "  </thead>\n",
              "  <tbody>\n",
              "    <tr>\n",
              "      <th>0</th>\n",
              "      <td>2000-01-01</td>\n",
              "      <td>-0.442150</td>\n",
              "      <td>-2.135448</td>\n",
              "      <td>-0.591369</td>\n",
              "      <td>-1.004904</td>\n",
              "    </tr>\n",
              "    <tr>\n",
              "      <th>1</th>\n",
              "      <td>2000-01-02</td>\n",
              "      <td>-0.774816</td>\n",
              "      <td>-2.184616</td>\n",
              "      <td>-1.284013</td>\n",
              "      <td>-0.888850</td>\n",
              "    </tr>\n",
              "    <tr>\n",
              "      <th>2</th>\n",
              "      <td>2000-01-03</td>\n",
              "      <td>-0.895905</td>\n",
              "      <td>-2.524869</td>\n",
              "      <td>0.825653</td>\n",
              "      <td>-0.179890</td>\n",
              "    </tr>\n",
              "    <tr>\n",
              "      <th>3</th>\n",
              "      <td>2000-01-04</td>\n",
              "      <td>-0.661406</td>\n",
              "      <td>-3.753354</td>\n",
              "      <td>3.039028</td>\n",
              "      <td>-2.002017</td>\n",
              "    </tr>\n",
              "    <tr>\n",
              "      <th>4</th>\n",
              "      <td>2000-01-05</td>\n",
              "      <td>0.211379</td>\n",
              "      <td>-3.944276</td>\n",
              "      <td>3.279754</td>\n",
              "      <td>-2.107158</td>\n",
              "    </tr>\n",
              "    <tr>\n",
              "      <th>...</th>\n",
              "      <td>...</td>\n",
              "      <td>...</td>\n",
              "      <td>...</td>\n",
              "      <td>...</td>\n",
              "      <td>...</td>\n",
              "    </tr>\n",
              "    <tr>\n",
              "      <th>3645</th>\n",
              "      <td>2009-12-24</td>\n",
              "      <td>-80.968010</td>\n",
              "      <td>-118.857738</td>\n",
              "      <td>-96.457217</td>\n",
              "      <td>-104.689315</td>\n",
              "    </tr>\n",
              "    <tr>\n",
              "      <th>3646</th>\n",
              "      <td>2009-12-25</td>\n",
              "      <td>-81.094116</td>\n",
              "      <td>-120.239313</td>\n",
              "      <td>-98.398297</td>\n",
              "      <td>-104.870969</td>\n",
              "    </tr>\n",
              "    <tr>\n",
              "      <th>3647</th>\n",
              "      <td>2009-12-26</td>\n",
              "      <td>-82.979169</td>\n",
              "      <td>-119.768505</td>\n",
              "      <td>-96.451579</td>\n",
              "      <td>-103.002068</td>\n",
              "    </tr>\n",
              "    <tr>\n",
              "      <th>3648</th>\n",
              "      <td>2009-12-27</td>\n",
              "      <td>-83.913927</td>\n",
              "      <td>-119.346361</td>\n",
              "      <td>-98.518743</td>\n",
              "      <td>-102.827600</td>\n",
              "    </tr>\n",
              "    <tr>\n",
              "      <th>3649</th>\n",
              "      <td>2009-12-28</td>\n",
              "      <td>-84.183971</td>\n",
              "      <td>-119.357229</td>\n",
              "      <td>-99.415860</td>\n",
              "      <td>-102.032121</td>\n",
              "    </tr>\n",
              "  </tbody>\n",
              "</table>\n",
              "<p>3650 rows × 5 columns</p>\n",
              "</div>"
            ],
            "text/plain": [
              "     Unnamed: 0          A           B          C           D\n",
              "0    2000-01-01  -0.442150   -2.135448  -0.591369   -1.004904\n",
              "1    2000-01-02  -0.774816   -2.184616  -1.284013   -0.888850\n",
              "2    2000-01-03  -0.895905   -2.524869   0.825653   -0.179890\n",
              "3    2000-01-04  -0.661406   -3.753354   3.039028   -2.002017\n",
              "4    2000-01-05   0.211379   -3.944276   3.279754   -2.107158\n",
              "...         ...        ...         ...        ...         ...\n",
              "3645 2009-12-24 -80.968010 -118.857738 -96.457217 -104.689315\n",
              "3646 2009-12-25 -81.094116 -120.239313 -98.398297 -104.870969\n",
              "3647 2009-12-26 -82.979169 -119.768505 -96.451579 -103.002068\n",
              "3648 2009-12-27 -83.913927 -119.346361 -98.518743 -102.827600\n",
              "3649 2009-12-28 -84.183971 -119.357229 -99.415860 -102.032121\n",
              "\n",
              "[3650 rows x 5 columns]"
            ]
          },
          "metadata": {},
          "execution_count": 113
        }
      ]
    }
  ]
}