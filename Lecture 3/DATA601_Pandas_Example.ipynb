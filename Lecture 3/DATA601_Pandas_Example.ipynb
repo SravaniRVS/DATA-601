{
  "nbformat": 4,
  "nbformat_minor": 0,
  "metadata": {
    "kernelspec": {
      "display_name": "Python 3",
      "language": "python",
      "name": "python3"
    },
    "language_info": {
      "codemirror_mode": {
        "name": "ipython",
        "version": 3
      },
      "file_extension": ".py",
      "mimetype": "text/x-python",
      "name": "python",
      "nbconvert_exporter": "python",
      "pygments_lexer": "ipython3",
      "version": "3.8.8"
    },
    "colab": {
      "name": "DATA601Lecture04_Pandas_Example.ipynb",
      "provenance": [],
      "collapsed_sections": []
    }
  },
  "cells": [
    {
      "cell_type": "code",
      "metadata": {
        "id": "zbkZ1A8hcEj8",
        "colab": {
          "base_uri": "https://localhost:8080/"
        },
        "outputId": "f250ecf1-cfc0-482b-ef6c-f2c8d76ade0d"
      },
      "source": [
        "import pandas\n",
        "print('Pandas',pandas.__version__)"
      ],
      "execution_count": 1,
      "outputs": [
        {
          "output_type": "stream",
          "name": "stdout",
          "text": [
            "Pandas 1.1.5\n"
          ]
        }
      ]
    },
    {
      "cell_type": "code",
      "metadata": {
        "id": "HOrAypc-cEkA",
        "colab": {
          "base_uri": "https://localhost:8080/"
        },
        "outputId": "1d4dc773-b130-4921-a163-74ddf0948c14"
      },
      "source": [
        "# local file ==> df = pandas.read_csv('sample_dataset.csv')\n",
        "url = 'https://raw.githubusercontent.com/simsekergun/DATA601/main/2021Fall/datasets/sample_dataset.csv'\n",
        "df = pandas.read_csv(url)\n",
        "print(df.head(5))"
      ],
      "execution_count": 2,
      "outputs": [
        {
          "output_type": "stream",
          "name": "stdout",
          "text": [
            "  This data set is created from other datasets by selecting some random columns.  ... Unnamed: 16\n",
            "0                                               Date                              ...        Type\n",
            "1                                            10/5/13                              ...           1\n",
            "2                                            10/9/13                              ...           1\n",
            "3                                            12/5/13                              ...           1\n",
            "4                                             1/2/14                              ...           1\n",
            "\n",
            "[5 rows x 17 columns]\n"
          ]
        }
      ]
    },
    {
      "cell_type": "code",
      "metadata": {
        "id": "u8N-WI54cEkA"
      },
      "source": [
        "# If you get an error message simply because the CSV file was large\n",
        "# try reading that csv with the following command\n",
        "df = pandas.read_csv(url, low_memory=False)"
      ],
      "execution_count": 3,
      "outputs": []
    },
    {
      "cell_type": "code",
      "metadata": {
        "id": "PKFADydRcEkB",
        "colab": {
          "base_uri": "https://localhost:8080/"
        },
        "outputId": "a710f4d3-d658-48ef-960a-b1e47e4dd369"
      },
      "source": [
        "# dimensions of the dataset\n",
        "df.shape"
      ],
      "execution_count": 4,
      "outputs": [
        {
          "output_type": "execute_result",
          "data": {
            "text/plain": [
              "(18, 17)"
            ]
          },
          "metadata": {},
          "execution_count": 4
        }
      ]
    },
    {
      "cell_type": "code",
      "metadata": {
        "id": "N5jHkuy9cEkB",
        "colab": {
          "base_uri": "https://localhost:8080/",
          "height": 547
        },
        "outputId": "4f2b1cfb-d252-43db-aad3-2ca9a71df33a"
      },
      "source": [
        "# let's look at the first rows \n",
        "df.head()"
      ],
      "execution_count": 5,
      "outputs": [
        {
          "output_type": "execute_result",
          "data": {
            "text/html": [
              "<div>\n",
              "<style scoped>\n",
              "    .dataframe tbody tr th:only-of-type {\n",
              "        vertical-align: middle;\n",
              "    }\n",
              "\n",
              "    .dataframe tbody tr th {\n",
              "        vertical-align: top;\n",
              "    }\n",
              "\n",
              "    .dataframe thead th {\n",
              "        text-align: right;\n",
              "    }\n",
              "</style>\n",
              "<table border=\"1\" class=\"dataframe\">\n",
              "  <thead>\n",
              "    <tr style=\"text-align: right;\">\n",
              "      <th></th>\n",
              "      <th>This data set is created from other datasets by selecting some random columns.</th>\n",
              "      <th>Unnamed: 1</th>\n",
              "      <th>Unnamed: 2</th>\n",
              "      <th>Unnamed: 3</th>\n",
              "      <th>Unnamed: 4</th>\n",
              "      <th>Unnamed: 5</th>\n",
              "      <th>Unnamed: 6</th>\n",
              "      <th>Unnamed: 7</th>\n",
              "      <th>Unnamed: 8</th>\n",
              "      <th>Unnamed: 9</th>\n",
              "      <th>Unnamed: 10</th>\n",
              "      <th>Unnamed: 11</th>\n",
              "      <th>Unnamed: 12</th>\n",
              "      <th>Unnamed: 13</th>\n",
              "      <th>Unnamed: 14</th>\n",
              "      <th>Unnamed: 15</th>\n",
              "      <th>Unnamed: 16</th>\n",
              "    </tr>\n",
              "  </thead>\n",
              "  <tbody>\n",
              "    <tr>\n",
              "      <th>0</th>\n",
              "      <td>Date</td>\n",
              "      <td>Time</td>\n",
              "      <td>FirstName</td>\n",
              "      <td>LastName</td>\n",
              "      <td>Sex</td>\n",
              "      <td>Favourite Artist</td>\n",
              "      <td>NaN</td>\n",
              "      <td>Fav. Park Location</td>\n",
              "      <td>Home Address (Street)</td>\n",
              "      <td>Region</td>\n",
              "      <td>\"City\"</td>\n",
              "      <td>\"State\"</td>\n",
              "      <td>\"Age\"</td>\n",
              "      <td>\"Weight\"</td>\n",
              "      <td>\"BMI\"</td>\n",
              "      <td>Complete</td>\n",
              "      <td>Type</td>\n",
              "    </tr>\n",
              "    <tr>\n",
              "      <th>1</th>\n",
              "      <td>10/5/13</td>\n",
              "      <td>7:30 AM</td>\n",
              "      <td>John</td>\n",
              "      <td>Doe</td>\n",
              "      <td>M</td>\n",
              "      <td>\"Jack Nicholson\"</td>\n",
              "      <td>NaN</td>\n",
              "      <td>(40.9099922695, -73.2632063245)</td>\n",
              "      <td>3526 HIGH ST</td>\n",
              "      <td>9</td>\n",
              "      <td>\"Youngstown\"</td>\n",
              "      <td>OH</td>\n",
              "      <td>60</td>\n",
              "      <td>59</td>\n",
              "      <td>22.02</td>\n",
              "      <td>85.50%</td>\n",
              "      <td>1</td>\n",
              "    </tr>\n",
              "    <tr>\n",
              "      <th>2</th>\n",
              "      <td>10/9/13</td>\n",
              "      <td>8:00 AM</td>\n",
              "      <td>Jack</td>\n",
              "      <td>McGinnis</td>\n",
              "      <td>M</td>\n",
              "      <td>\"Roberto Benigni\"</td>\n",
              "      <td>NaN</td>\n",
              "      <td>(40.9099922695, -73.2632063245)</td>\n",
              "      <td>51 OMAHA CT</td>\n",
              "      <td>9</td>\n",
              "      <td>\"Yankton\"</td>\n",
              "      <td>SD</td>\n",
              "      <td>12</td>\n",
              "      <td>86</td>\n",
              "      <td>19.7</td>\n",
              "      <td>85.50%</td>\n",
              "      <td>1</td>\n",
              "    </tr>\n",
              "    <tr>\n",
              "      <th>3</th>\n",
              "      <td>12/5/13</td>\n",
              "      <td>8:30 AM</td>\n",
              "      <td>John \"Da Man\"</td>\n",
              "      <td>Repici</td>\n",
              "      <td>M</td>\n",
              "      <td>\"Kevin Spacey\"</td>\n",
              "      <td>NaN</td>\n",
              "      <td>(40.9099922695, -73.2632063245)</td>\n",
              "      <td>2796 BRANCH ST</td>\n",
              "      <td>9</td>\n",
              "      <td>\"Yakima\"</td>\n",
              "      <td>WA</td>\n",
              "      <td>41</td>\n",
              "      <td>69</td>\n",
              "      <td>24.09</td>\n",
              "      <td>73%</td>\n",
              "      <td>1</td>\n",
              "    </tr>\n",
              "    <tr>\n",
              "      <th>4</th>\n",
              "      <td>1/2/14</td>\n",
              "      <td>9:00 AM</td>\n",
              "      <td>Stephen</td>\n",
              "      <td>Tyler</td>\n",
              "      <td>M</td>\n",
              "      <td>\"Russell Crowe\"</td>\n",
              "      <td>NaN</td>\n",
              "      <td>(43.3616709338, -76.4360441829)</td>\n",
              "      <td>2805 JANETTE WAY</td>\n",
              "      <td>5</td>\n",
              "      <td>\"Worcester\"</td>\n",
              "      <td>MA</td>\n",
              "      <td>22</td>\n",
              "      <td>88</td>\n",
              "      <td>26.97</td>\n",
              "      <td>27%</td>\n",
              "      <td>1</td>\n",
              "    </tr>\n",
              "  </tbody>\n",
              "</table>\n",
              "</div>"
            ],
            "text/plain": [
              "  This data set is created from other datasets by selecting some random columns.  ... Unnamed: 16\n",
              "0                                               Date                              ...        Type\n",
              "1                                            10/5/13                              ...           1\n",
              "2                                            10/9/13                              ...           1\n",
              "3                                            12/5/13                              ...           1\n",
              "4                                             1/2/14                              ...           1\n",
              "\n",
              "[5 rows x 17 columns]"
            ]
          },
          "metadata": {},
          "execution_count": 5
        }
      ]
    },
    {
      "cell_type": "code",
      "metadata": {
        "id": "OOXfbxVkcEkC"
      },
      "source": [
        "# the first line is a comment. we need to skip data row.\n",
        "df = pandas.read_csv(url, skiprows=1, low_memory=False)"
      ],
      "execution_count": 6,
      "outputs": []
    },
    {
      "cell_type": "code",
      "metadata": {
        "id": "0f1cmVX7cEkC",
        "colab": {
          "base_uri": "https://localhost:8080/"
        },
        "outputId": "36a1c269-9550-4a57-b5fe-d03fb733d6b7"
      },
      "source": [
        "df.shape"
      ],
      "execution_count": 7,
      "outputs": [
        {
          "output_type": "execute_result",
          "data": {
            "text/plain": [
              "(17, 17)"
            ]
          },
          "metadata": {},
          "execution_count": 7
        }
      ]
    },
    {
      "cell_type": "code",
      "metadata": {
        "id": "XSqIJvaQcEkD",
        "colab": {
          "base_uri": "https://localhost:8080/",
          "height": 394
        },
        "outputId": "a3a8f279-aa06-405e-cbb8-207847e6b89b"
      },
      "source": [
        "df.head()"
      ],
      "execution_count": 8,
      "outputs": [
        {
          "output_type": "execute_result",
          "data": {
            "text/html": [
              "<div>\n",
              "<style scoped>\n",
              "    .dataframe tbody tr th:only-of-type {\n",
              "        vertical-align: middle;\n",
              "    }\n",
              "\n",
              "    .dataframe tbody tr th {\n",
              "        vertical-align: top;\n",
              "    }\n",
              "\n",
              "    .dataframe thead th {\n",
              "        text-align: right;\n",
              "    }\n",
              "</style>\n",
              "<table border=\"1\" class=\"dataframe\">\n",
              "  <thead>\n",
              "    <tr style=\"text-align: right;\">\n",
              "      <th></th>\n",
              "      <th>Date</th>\n",
              "      <th>Time</th>\n",
              "      <th>FirstName</th>\n",
              "      <th>LastName</th>\n",
              "      <th>Sex</th>\n",
              "      <th>Favourite Artist</th>\n",
              "      <th>Unnamed: 6</th>\n",
              "      <th>Fav. Park Location</th>\n",
              "      <th>Home Address (Street)</th>\n",
              "      <th>Region</th>\n",
              "      <th>\"City\"</th>\n",
              "      <th>\"State\"</th>\n",
              "      <th>\"Age\"</th>\n",
              "      <th>\"Weight\"</th>\n",
              "      <th>\"BMI\"</th>\n",
              "      <th>Complete</th>\n",
              "      <th>Type</th>\n",
              "    </tr>\n",
              "  </thead>\n",
              "  <tbody>\n",
              "    <tr>\n",
              "      <th>0</th>\n",
              "      <td>10/5/13</td>\n",
              "      <td>7:30 AM</td>\n",
              "      <td>John</td>\n",
              "      <td>Doe</td>\n",
              "      <td>M</td>\n",
              "      <td>\"Jack Nicholson\"</td>\n",
              "      <td>NaN</td>\n",
              "      <td>(40.9099922695, -73.2632063245)</td>\n",
              "      <td>3526 HIGH ST</td>\n",
              "      <td>9.0</td>\n",
              "      <td>\"Youngstown\"</td>\n",
              "      <td>OH</td>\n",
              "      <td>60.0</td>\n",
              "      <td>59.0</td>\n",
              "      <td>22.02</td>\n",
              "      <td>85.50%</td>\n",
              "      <td>1.0</td>\n",
              "    </tr>\n",
              "    <tr>\n",
              "      <th>1</th>\n",
              "      <td>10/9/13</td>\n",
              "      <td>8:00 AM</td>\n",
              "      <td>Jack</td>\n",
              "      <td>McGinnis</td>\n",
              "      <td>M</td>\n",
              "      <td>\"Roberto Benigni\"</td>\n",
              "      <td>NaN</td>\n",
              "      <td>(40.9099922695, -73.2632063245)</td>\n",
              "      <td>51 OMAHA CT</td>\n",
              "      <td>9.0</td>\n",
              "      <td>\"Yankton\"</td>\n",
              "      <td>SD</td>\n",
              "      <td>12.0</td>\n",
              "      <td>86.0</td>\n",
              "      <td>19.70</td>\n",
              "      <td>85.50%</td>\n",
              "      <td>1.0</td>\n",
              "    </tr>\n",
              "    <tr>\n",
              "      <th>2</th>\n",
              "      <td>12/5/13</td>\n",
              "      <td>8:30 AM</td>\n",
              "      <td>John \"Da Man\"</td>\n",
              "      <td>Repici</td>\n",
              "      <td>M</td>\n",
              "      <td>\"Kevin Spacey\"</td>\n",
              "      <td>NaN</td>\n",
              "      <td>(40.9099922695, -73.2632063245)</td>\n",
              "      <td>2796 BRANCH ST</td>\n",
              "      <td>9.0</td>\n",
              "      <td>\"Yakima\"</td>\n",
              "      <td>WA</td>\n",
              "      <td>41.0</td>\n",
              "      <td>69.0</td>\n",
              "      <td>24.09</td>\n",
              "      <td>73%</td>\n",
              "      <td>1.0</td>\n",
              "    </tr>\n",
              "    <tr>\n",
              "      <th>3</th>\n",
              "      <td>1/2/14</td>\n",
              "      <td>9:00 AM</td>\n",
              "      <td>Stephen</td>\n",
              "      <td>Tyler</td>\n",
              "      <td>M</td>\n",
              "      <td>\"Russell Crowe\"</td>\n",
              "      <td>NaN</td>\n",
              "      <td>(43.3616709338, -76.4360441829)</td>\n",
              "      <td>2805 JANETTE WAY</td>\n",
              "      <td>5.0</td>\n",
              "      <td>\"Worcester\"</td>\n",
              "      <td>MA</td>\n",
              "      <td>22.0</td>\n",
              "      <td>88.0</td>\n",
              "      <td>26.97</td>\n",
              "      <td>27%</td>\n",
              "      <td>1.0</td>\n",
              "    </tr>\n",
              "    <tr>\n",
              "      <th>4</th>\n",
              "      <td>6/5/14</td>\n",
              "      <td>9:30 AM</td>\n",
              "      <td>NaN</td>\n",
              "      <td>Blankman</td>\n",
              "      <td>F</td>\n",
              "      <td>\"Denzel Washington\"</td>\n",
              "      <td>NaN</td>\n",
              "      <td>(42.9657659397, -78.9531063633)</td>\n",
              "      <td>6001 MCMAHON DR</td>\n",
              "      <td>1.0</td>\n",
              "      <td>\"Arlington\"</td>\n",
              "      <td>VA</td>\n",
              "      <td>5.0</td>\n",
              "      <td>64.0</td>\n",
              "      <td>21.51</td>\n",
              "      <td>78.30%</td>\n",
              "      <td>1.0</td>\n",
              "    </tr>\n",
              "  </tbody>\n",
              "</table>\n",
              "</div>"
            ],
            "text/plain": [
              "      Date     Time      FirstName  LastName  ... \"Weight\"  \"BMI\"  Complete Type\n",
              "0  10/5/13  7:30 AM           John       Doe  ...     59.0  22.02    85.50%  1.0\n",
              "1  10/9/13  8:00 AM           Jack  McGinnis  ...     86.0  19.70    85.50%  1.0\n",
              "2  12/5/13  8:30 AM  John \"Da Man\"    Repici  ...     69.0  24.09       73%  1.0\n",
              "3   1/2/14  9:00 AM        Stephen     Tyler  ...     88.0  26.97       27%  1.0\n",
              "4   6/5/14  9:30 AM            NaN  Blankman  ...     64.0  21.51    78.30%  1.0\n",
              "\n",
              "[5 rows x 17 columns]"
            ]
          },
          "metadata": {},
          "execution_count": 8
        }
      ]
    },
    {
      "cell_type": "code",
      "metadata": {
        "id": "-_aJufE_cEkD",
        "colab": {
          "base_uri": "https://localhost:8080/"
        },
        "outputId": "7a888d8d-f127-4a44-df71-968594022e9c"
      },
      "source": [
        "# let's learn the data-types\n",
        "df.dtypes"
      ],
      "execution_count": 9,
      "outputs": [
        {
          "output_type": "execute_result",
          "data": {
            "text/plain": [
              "Date                      object\n",
              "Time                      object\n",
              "FirstName                 object\n",
              "LastName                  object\n",
              "Sex                       object\n",
              "Favourite Artist          object\n",
              "Unnamed: 6               float64\n",
              "Fav. Park Location        object\n",
              "Home Address (Street)     object\n",
              "Region                   float64\n",
              "\"City\"                    object\n",
              "\"State\"                   object\n",
              "\"Age\"                    float64\n",
              "\"Weight\"                 float64\n",
              "\"BMI\"                    float64\n",
              "Complete                  object\n",
              "Type                     float64\n",
              "dtype: object"
            ]
          },
          "metadata": {},
          "execution_count": 9
        }
      ]
    },
    {
      "cell_type": "code",
      "metadata": {
        "id": "sb4btwuYcEkE",
        "colab": {
          "base_uri": "https://localhost:8080/"
        },
        "outputId": "8797bea1-2050-4464-c3b9-a3c97c31c1f1"
      },
      "source": [
        "# for large datasets, dtypes command allow you to see limited number of data-types. in order to prevent this\n",
        "pandas.set_option(\"display.max_rows\", 999)\n",
        "pandas.set_option(\"display.max_columns\", 999)\n",
        "df.dtypes"
      ],
      "execution_count": 10,
      "outputs": [
        {
          "output_type": "execute_result",
          "data": {
            "text/plain": [
              "Date                      object\n",
              "Time                      object\n",
              "FirstName                 object\n",
              "LastName                  object\n",
              "Sex                       object\n",
              "Favourite Artist          object\n",
              "Unnamed: 6               float64\n",
              "Fav. Park Location        object\n",
              "Home Address (Street)     object\n",
              "Region                   float64\n",
              "\"City\"                    object\n",
              "\"State\"                   object\n",
              "\"Age\"                    float64\n",
              "\"Weight\"                 float64\n",
              "\"BMI\"                    float64\n",
              "Complete                  object\n",
              "Type                     float64\n",
              "dtype: object"
            ]
          },
          "metadata": {},
          "execution_count": 10
        }
      ]
    },
    {
      "cell_type": "code",
      "metadata": {
        "id": "g_jMJYTecEkE",
        "colab": {
          "base_uri": "https://localhost:8080/"
        },
        "outputId": "ba174f2f-520f-49e1-b9f9-00a98dec3f7b"
      },
      "source": [
        "df.info"
      ],
      "execution_count": 11,
      "outputs": [
        {
          "output_type": "execute_result",
          "data": {
            "text/plain": [
              "<bound method DataFrame.info of         Date      Time              FirstName   LastName  Sex  \\\n",
              "0    10/5/13   7:30 AM                   John        Doe    M   \n",
              "1    10/9/13   8:00 AM                   Jack   McGinnis    M   \n",
              "2    12/5/13   8:30 AM          John \"Da Man\"     Repici    M   \n",
              "3     1/2/14   9:00 AM                Stephen      Tyler    M   \n",
              "4     6/5/14   9:30 AM                    NaN   Blankman    F   \n",
              "5    9/12/14  10:00 AM  Joan \"the bone\", Anne        Jet    M   \n",
              "6    10/5/14  10:30 AM                  Maria     Spacey    F   \n",
              "7    10/5/14  11:00 AM                  Susan      Black    F   \n",
              "8     1/1/16  11:30 AM                  Robin    Jackson    F   \n",
              "9    10/5/16  12:00 PM                    NaN        NaN    F   \n",
              "10   10/5/16  12:30 PM                Whitney       Penn    F   \n",
              "11   10/5/17   1:00 PM                    Bob     Marley    M   \n",
              "12  10/15/17   1:30 PM                 Robert  Robertson    M   \n",
              "13   10/5/18   2:00 PM                  Emily       Foxx    F   \n",
              "14   10/5/19   2:30 PM                  Susan    Mancini    F   \n",
              "15       NaN       NaN                    NaN        NaN  NaN   \n",
              "16       NaN       NaN                    NaN        NaN  NaN   \n",
              "\n",
              "             Favourite Artist  Unnamed: 6               Fav. Park Location  \\\n",
              "0            \"Jack Nicholson\"         NaN  (40.9099922695, -73.2632063245)   \n",
              "1           \"Roberto Benigni\"         NaN  (40.9099922695, -73.2632063245)   \n",
              "2              \"Kevin Spacey\"         NaN  (40.9099922695, -73.2632063245)   \n",
              "3             \"Russell Crowe\"         NaN  (43.3616709338, -76.4360441829)   \n",
              "4         \"Denzel Washington\"         NaN  (42.9657659397, -78.9531063633)   \n",
              "5              \"Adrien Brody\"         NaN  (40.7475174105, -73.4568035403)   \n",
              "6                 \"Sean Penn\"         NaN  (40.7475174105, -73.4568035403)   \n",
              "7                \"Jamie Foxx\"         NaN  (40.7475174105, -73.4568035403)   \n",
              "8    \"Philip Seymour Hoffman\"         NaN  (40.7475174105, -73.4568035403)   \n",
              "9           \"Forest Whitaker\"         NaN  (40.7475174105, -73.4568035403)   \n",
              "10         \"Daniel Day-Lewis\"         NaN  (42.6731942171, -76.8677249793)   \n",
              "11                \"Sean Penn\"         NaN  (42.2155402507, -75.8362368401)   \n",
              "12             \"Jeff Bridges\"         NaN  (43.3417081221, -76.6913106828)   \n",
              "13              \"Colin Firth\"         NaN  (43.0469783183, -75.9818848047)   \n",
              "14            \"Jean Dujardin\"         NaN  (42.0930548903, -77.1547655357)   \n",
              "15                        NaN         NaN                              NaN   \n",
              "16                        NaN         NaN                              NaN   \n",
              "\n",
              "              Home Address (Street)  Region            \"City\" \"State\"  \"Age\"  \\\n",
              "0                      3526 HIGH ST     9.0      \"Youngstown\"      OH   60.0   \n",
              "1                       51 OMAHA CT     9.0         \"Yankton\"      SD   12.0   \n",
              "2                    2796 BRANCH ST     9.0          \"Yakima\"      WA   41.0   \n",
              "3                  2805 JANETTE WAY     5.0       \"Worcester\"      MA   22.0   \n",
              "4                   6001 MCMAHON DR     1.0       \"Arlington\"      VA    5.0   \n",
              "5                5828 PEPPERMILL CT     NaN   \"Winston-Salem\"      NC    9.0   \n",
              "6                               NaN     9.0        \"Winnipeg\"      MB   18.0   \n",
              "7                     2561 19TH AVE     9.0      \"Winchester\"      VA   16.0   \n",
              "8   11150 TRINITY RIVER DR Unit 114     9.0      \"Wilmington\"      NC   30.0   \n",
              "9                      7325 10TH ST     9.0      \"Wilmington\"      DE   43.0   \n",
              "10                 645 MORRISON AVE     4.0       \"Williston\"      ND   18.0   \n",
              "11                    4085 FAWN CIR     5.0    \"Williamsport\"      PA   50.0   \n",
              "12                  2930 LA ROSA RD     4.0      \"Williamson\"      WV    2.0   \n",
              "13                    2113 KIRK WAY     5.0   \"Wichita Falls\"      TX   13.0   \n",
              "14              4533 LOCH HAVEN WAY     4.0         \"Wichita\"      KS   15.0   \n",
              "15                              NaN     NaN               NaN     NaN    NaN   \n",
              "16                              NaN     NaN               NaN     NaN    NaN   \n",
              "\n",
              "    \"Weight\"  \"BMI\" Complete  Type  \n",
              "0       59.0  22.02   85.50%   1.0  \n",
              "1       86.0  19.70   85.50%   1.0  \n",
              "2       69.0  24.09      73%   1.0  \n",
              "3       88.0  26.97      27%   1.0  \n",
              "4       64.0  21.51   78.30%   1.0  \n",
              "5       55.0  18.69   25.60%   1.0  \n",
              "6       60.0  24.24   85.50%   1.0  \n",
              "7       53.0  21.23   85.50%   1.0  \n",
              "8       68.0  30.26      73%   1.0  \n",
              "9       56.0  21.88      27%   1.0  \n",
              "10      47.0  17.63   78.30%   1.0  \n",
              "11      69.0  24.57   25.60%   1.0  \n",
              "12      66.0  20.68   75.50%   1.0  \n",
              "13      55.0  20.97      73%   1.0  \n",
              "14      68.0  27.30      27%   1.0  \n",
              "15       NaN    NaN      NaN   NaN  \n",
              "16       NaN    NaN      NaN   NaN  >"
            ]
          },
          "metadata": {},
          "execution_count": 11
        }
      ]
    },
    {
      "cell_type": "code",
      "metadata": {
        "id": "eyl19NHrcEkE",
        "colab": {
          "base_uri": "https://localhost:8080/",
          "height": 297
        },
        "outputId": "80cf95da-6835-49e6-c7d7-19beceea5ddb"
      },
      "source": [
        "df.describe()"
      ],
      "execution_count": 12,
      "outputs": [
        {
          "output_type": "execute_result",
          "data": {
            "text/html": [
              "<div>\n",
              "<style scoped>\n",
              "    .dataframe tbody tr th:only-of-type {\n",
              "        vertical-align: middle;\n",
              "    }\n",
              "\n",
              "    .dataframe tbody tr th {\n",
              "        vertical-align: top;\n",
              "    }\n",
              "\n",
              "    .dataframe thead th {\n",
              "        text-align: right;\n",
              "    }\n",
              "</style>\n",
              "<table border=\"1\" class=\"dataframe\">\n",
              "  <thead>\n",
              "    <tr style=\"text-align: right;\">\n",
              "      <th></th>\n",
              "      <th>Unnamed: 6</th>\n",
              "      <th>Region</th>\n",
              "      <th>\"Age\"</th>\n",
              "      <th>\"Weight\"</th>\n",
              "      <th>\"BMI\"</th>\n",
              "      <th>Type</th>\n",
              "    </tr>\n",
              "  </thead>\n",
              "  <tbody>\n",
              "    <tr>\n",
              "      <th>count</th>\n",
              "      <td>0.0</td>\n",
              "      <td>14.000000</td>\n",
              "      <td>15.00000</td>\n",
              "      <td>15.000000</td>\n",
              "      <td>15.000000</td>\n",
              "      <td>15.0</td>\n",
              "    </tr>\n",
              "    <tr>\n",
              "      <th>mean</th>\n",
              "      <td>NaN</td>\n",
              "      <td>6.500000</td>\n",
              "      <td>23.60000</td>\n",
              "      <td>64.200000</td>\n",
              "      <td>22.782667</td>\n",
              "      <td>1.0</td>\n",
              "    </tr>\n",
              "    <tr>\n",
              "      <th>std</th>\n",
              "      <td>NaN</td>\n",
              "      <td>2.766559</td>\n",
              "      <td>17.34441</td>\n",
              "      <td>11.409269</td>\n",
              "      <td>3.451860</td>\n",
              "      <td>0.0</td>\n",
              "    </tr>\n",
              "    <tr>\n",
              "      <th>min</th>\n",
              "      <td>NaN</td>\n",
              "      <td>1.000000</td>\n",
              "      <td>2.00000</td>\n",
              "      <td>47.000000</td>\n",
              "      <td>17.630000</td>\n",
              "      <td>1.0</td>\n",
              "    </tr>\n",
              "    <tr>\n",
              "      <th>25%</th>\n",
              "      <td>NaN</td>\n",
              "      <td>4.250000</td>\n",
              "      <td>12.50000</td>\n",
              "      <td>55.500000</td>\n",
              "      <td>20.825000</td>\n",
              "      <td>1.0</td>\n",
              "    </tr>\n",
              "    <tr>\n",
              "      <th>50%</th>\n",
              "      <td>NaN</td>\n",
              "      <td>7.000000</td>\n",
              "      <td>18.00000</td>\n",
              "      <td>64.000000</td>\n",
              "      <td>21.880000</td>\n",
              "      <td>1.0</td>\n",
              "    </tr>\n",
              "    <tr>\n",
              "      <th>75%</th>\n",
              "      <td>NaN</td>\n",
              "      <td>9.000000</td>\n",
              "      <td>35.50000</td>\n",
              "      <td>68.500000</td>\n",
              "      <td>24.405000</td>\n",
              "      <td>1.0</td>\n",
              "    </tr>\n",
              "    <tr>\n",
              "      <th>max</th>\n",
              "      <td>NaN</td>\n",
              "      <td>9.000000</td>\n",
              "      <td>60.00000</td>\n",
              "      <td>88.000000</td>\n",
              "      <td>30.260000</td>\n",
              "      <td>1.0</td>\n",
              "    </tr>\n",
              "  </tbody>\n",
              "</table>\n",
              "</div>"
            ],
            "text/plain": [
              "       Unnamed: 6     Region     \"Age\"   \"Weight\"      \"BMI\"  Type\n",
              "count         0.0  14.000000  15.00000  15.000000  15.000000  15.0\n",
              "mean          NaN   6.500000  23.60000  64.200000  22.782667   1.0\n",
              "std           NaN   2.766559  17.34441  11.409269   3.451860   0.0\n",
              "min           NaN   1.000000   2.00000  47.000000  17.630000   1.0\n",
              "25%           NaN   4.250000  12.50000  55.500000  20.825000   1.0\n",
              "50%           NaN   7.000000  18.00000  64.000000  21.880000   1.0\n",
              "75%           NaN   9.000000  35.50000  68.500000  24.405000   1.0\n",
              "max           NaN   9.000000  60.00000  88.000000  30.260000   1.0"
            ]
          },
          "metadata": {},
          "execution_count": 12
        }
      ]
    },
    {
      "cell_type": "code",
      "metadata": {
        "id": "R55sSX09cEkF",
        "colab": {
          "base_uri": "https://localhost:8080/",
          "height": 478
        },
        "outputId": "1dd9b5ff-e330-4392-9bd4-9575b9f60413"
      },
      "source": [
        "#By default, describe() applies to numeric columns. To expand to other types,\n",
        "df.describe(include='all')"
      ],
      "execution_count": 13,
      "outputs": [
        {
          "output_type": "execute_result",
          "data": {
            "text/html": [
              "<div>\n",
              "<style scoped>\n",
              "    .dataframe tbody tr th:only-of-type {\n",
              "        vertical-align: middle;\n",
              "    }\n",
              "\n",
              "    .dataframe tbody tr th {\n",
              "        vertical-align: top;\n",
              "    }\n",
              "\n",
              "    .dataframe thead th {\n",
              "        text-align: right;\n",
              "    }\n",
              "</style>\n",
              "<table border=\"1\" class=\"dataframe\">\n",
              "  <thead>\n",
              "    <tr style=\"text-align: right;\">\n",
              "      <th></th>\n",
              "      <th>Date</th>\n",
              "      <th>Time</th>\n",
              "      <th>FirstName</th>\n",
              "      <th>LastName</th>\n",
              "      <th>Sex</th>\n",
              "      <th>Favourite Artist</th>\n",
              "      <th>Unnamed: 6</th>\n",
              "      <th>Fav. Park Location</th>\n",
              "      <th>Home Address (Street)</th>\n",
              "      <th>Region</th>\n",
              "      <th>\"City\"</th>\n",
              "      <th>\"State\"</th>\n",
              "      <th>\"Age\"</th>\n",
              "      <th>\"Weight\"</th>\n",
              "      <th>\"BMI\"</th>\n",
              "      <th>Complete</th>\n",
              "      <th>Type</th>\n",
              "    </tr>\n",
              "  </thead>\n",
              "  <tbody>\n",
              "    <tr>\n",
              "      <th>count</th>\n",
              "      <td>15</td>\n",
              "      <td>15</td>\n",
              "      <td>13</td>\n",
              "      <td>14</td>\n",
              "      <td>15</td>\n",
              "      <td>15</td>\n",
              "      <td>0.0</td>\n",
              "      <td>15</td>\n",
              "      <td>14</td>\n",
              "      <td>14.000000</td>\n",
              "      <td>15</td>\n",
              "      <td>15</td>\n",
              "      <td>15.00000</td>\n",
              "      <td>15.000000</td>\n",
              "      <td>15.000000</td>\n",
              "      <td>15</td>\n",
              "      <td>15.0</td>\n",
              "    </tr>\n",
              "    <tr>\n",
              "      <th>unique</th>\n",
              "      <td>13</td>\n",
              "      <td>15</td>\n",
              "      <td>12</td>\n",
              "      <td>14</td>\n",
              "      <td>2</td>\n",
              "      <td>14</td>\n",
              "      <td>NaN</td>\n",
              "      <td>9</td>\n",
              "      <td>14</td>\n",
              "      <td>NaN</td>\n",
              "      <td>14</td>\n",
              "      <td>14</td>\n",
              "      <td>NaN</td>\n",
              "      <td>NaN</td>\n",
              "      <td>NaN</td>\n",
              "      <td>6</td>\n",
              "      <td>NaN</td>\n",
              "    </tr>\n",
              "    <tr>\n",
              "      <th>top</th>\n",
              "      <td>10/5/16</td>\n",
              "      <td>1:00 PM</td>\n",
              "      <td>Susan</td>\n",
              "      <td>Robertson</td>\n",
              "      <td>F</td>\n",
              "      <td>\"Sean Penn\"</td>\n",
              "      <td>NaN</td>\n",
              "      <td>(40.7475174105, -73.4568035403)</td>\n",
              "      <td>2796 BRANCH ST</td>\n",
              "      <td>NaN</td>\n",
              "      <td>\"Wilmington\"</td>\n",
              "      <td>NC</td>\n",
              "      <td>NaN</td>\n",
              "      <td>NaN</td>\n",
              "      <td>NaN</td>\n",
              "      <td>85.50%</td>\n",
              "      <td>NaN</td>\n",
              "    </tr>\n",
              "    <tr>\n",
              "      <th>freq</th>\n",
              "      <td>2</td>\n",
              "      <td>1</td>\n",
              "      <td>2</td>\n",
              "      <td>1</td>\n",
              "      <td>8</td>\n",
              "      <td>2</td>\n",
              "      <td>NaN</td>\n",
              "      <td>5</td>\n",
              "      <td>1</td>\n",
              "      <td>NaN</td>\n",
              "      <td>2</td>\n",
              "      <td>2</td>\n",
              "      <td>NaN</td>\n",
              "      <td>NaN</td>\n",
              "      <td>NaN</td>\n",
              "      <td>4</td>\n",
              "      <td>NaN</td>\n",
              "    </tr>\n",
              "    <tr>\n",
              "      <th>mean</th>\n",
              "      <td>NaN</td>\n",
              "      <td>NaN</td>\n",
              "      <td>NaN</td>\n",
              "      <td>NaN</td>\n",
              "      <td>NaN</td>\n",
              "      <td>NaN</td>\n",
              "      <td>NaN</td>\n",
              "      <td>NaN</td>\n",
              "      <td>NaN</td>\n",
              "      <td>6.500000</td>\n",
              "      <td>NaN</td>\n",
              "      <td>NaN</td>\n",
              "      <td>23.60000</td>\n",
              "      <td>64.200000</td>\n",
              "      <td>22.782667</td>\n",
              "      <td>NaN</td>\n",
              "      <td>1.0</td>\n",
              "    </tr>\n",
              "    <tr>\n",
              "      <th>std</th>\n",
              "      <td>NaN</td>\n",
              "      <td>NaN</td>\n",
              "      <td>NaN</td>\n",
              "      <td>NaN</td>\n",
              "      <td>NaN</td>\n",
              "      <td>NaN</td>\n",
              "      <td>NaN</td>\n",
              "      <td>NaN</td>\n",
              "      <td>NaN</td>\n",
              "      <td>2.766559</td>\n",
              "      <td>NaN</td>\n",
              "      <td>NaN</td>\n",
              "      <td>17.34441</td>\n",
              "      <td>11.409269</td>\n",
              "      <td>3.451860</td>\n",
              "      <td>NaN</td>\n",
              "      <td>0.0</td>\n",
              "    </tr>\n",
              "    <tr>\n",
              "      <th>min</th>\n",
              "      <td>NaN</td>\n",
              "      <td>NaN</td>\n",
              "      <td>NaN</td>\n",
              "      <td>NaN</td>\n",
              "      <td>NaN</td>\n",
              "      <td>NaN</td>\n",
              "      <td>NaN</td>\n",
              "      <td>NaN</td>\n",
              "      <td>NaN</td>\n",
              "      <td>1.000000</td>\n",
              "      <td>NaN</td>\n",
              "      <td>NaN</td>\n",
              "      <td>2.00000</td>\n",
              "      <td>47.000000</td>\n",
              "      <td>17.630000</td>\n",
              "      <td>NaN</td>\n",
              "      <td>1.0</td>\n",
              "    </tr>\n",
              "    <tr>\n",
              "      <th>25%</th>\n",
              "      <td>NaN</td>\n",
              "      <td>NaN</td>\n",
              "      <td>NaN</td>\n",
              "      <td>NaN</td>\n",
              "      <td>NaN</td>\n",
              "      <td>NaN</td>\n",
              "      <td>NaN</td>\n",
              "      <td>NaN</td>\n",
              "      <td>NaN</td>\n",
              "      <td>4.250000</td>\n",
              "      <td>NaN</td>\n",
              "      <td>NaN</td>\n",
              "      <td>12.50000</td>\n",
              "      <td>55.500000</td>\n",
              "      <td>20.825000</td>\n",
              "      <td>NaN</td>\n",
              "      <td>1.0</td>\n",
              "    </tr>\n",
              "    <tr>\n",
              "      <th>50%</th>\n",
              "      <td>NaN</td>\n",
              "      <td>NaN</td>\n",
              "      <td>NaN</td>\n",
              "      <td>NaN</td>\n",
              "      <td>NaN</td>\n",
              "      <td>NaN</td>\n",
              "      <td>NaN</td>\n",
              "      <td>NaN</td>\n",
              "      <td>NaN</td>\n",
              "      <td>7.000000</td>\n",
              "      <td>NaN</td>\n",
              "      <td>NaN</td>\n",
              "      <td>18.00000</td>\n",
              "      <td>64.000000</td>\n",
              "      <td>21.880000</td>\n",
              "      <td>NaN</td>\n",
              "      <td>1.0</td>\n",
              "    </tr>\n",
              "    <tr>\n",
              "      <th>75%</th>\n",
              "      <td>NaN</td>\n",
              "      <td>NaN</td>\n",
              "      <td>NaN</td>\n",
              "      <td>NaN</td>\n",
              "      <td>NaN</td>\n",
              "      <td>NaN</td>\n",
              "      <td>NaN</td>\n",
              "      <td>NaN</td>\n",
              "      <td>NaN</td>\n",
              "      <td>9.000000</td>\n",
              "      <td>NaN</td>\n",
              "      <td>NaN</td>\n",
              "      <td>35.50000</td>\n",
              "      <td>68.500000</td>\n",
              "      <td>24.405000</td>\n",
              "      <td>NaN</td>\n",
              "      <td>1.0</td>\n",
              "    </tr>\n",
              "    <tr>\n",
              "      <th>max</th>\n",
              "      <td>NaN</td>\n",
              "      <td>NaN</td>\n",
              "      <td>NaN</td>\n",
              "      <td>NaN</td>\n",
              "      <td>NaN</td>\n",
              "      <td>NaN</td>\n",
              "      <td>NaN</td>\n",
              "      <td>NaN</td>\n",
              "      <td>NaN</td>\n",
              "      <td>9.000000</td>\n",
              "      <td>NaN</td>\n",
              "      <td>NaN</td>\n",
              "      <td>60.00000</td>\n",
              "      <td>88.000000</td>\n",
              "      <td>30.260000</td>\n",
              "      <td>NaN</td>\n",
              "      <td>1.0</td>\n",
              "    </tr>\n",
              "  </tbody>\n",
              "</table>\n",
              "</div>"
            ],
            "text/plain": [
              "           Date     Time FirstName   LastName  Sex Favourite Artist  \\\n",
              "count        15       15        13         14   15               15   \n",
              "unique       13       15        12         14    2               14   \n",
              "top     10/5/16  1:00 PM     Susan  Robertson    F      \"Sean Penn\"   \n",
              "freq          2        1         2          1    8                2   \n",
              "mean        NaN      NaN       NaN        NaN  NaN              NaN   \n",
              "std         NaN      NaN       NaN        NaN  NaN              NaN   \n",
              "min         NaN      NaN       NaN        NaN  NaN              NaN   \n",
              "25%         NaN      NaN       NaN        NaN  NaN              NaN   \n",
              "50%         NaN      NaN       NaN        NaN  NaN              NaN   \n",
              "75%         NaN      NaN       NaN        NaN  NaN              NaN   \n",
              "max         NaN      NaN       NaN        NaN  NaN              NaN   \n",
              "\n",
              "        Unnamed: 6               Fav. Park Location Home Address (Street)  \\\n",
              "count          0.0                               15                    14   \n",
              "unique         NaN                                9                    14   \n",
              "top            NaN  (40.7475174105, -73.4568035403)        2796 BRANCH ST   \n",
              "freq           NaN                                5                     1   \n",
              "mean           NaN                              NaN                   NaN   \n",
              "std            NaN                              NaN                   NaN   \n",
              "min            NaN                              NaN                   NaN   \n",
              "25%            NaN                              NaN                   NaN   \n",
              "50%            NaN                              NaN                   NaN   \n",
              "75%            NaN                              NaN                   NaN   \n",
              "max            NaN                              NaN                   NaN   \n",
              "\n",
              "           Region         \"City\" \"State\"     \"Age\"   \"Weight\"      \"BMI\"  \\\n",
              "count   14.000000             15      15  15.00000  15.000000  15.000000   \n",
              "unique        NaN             14      14       NaN        NaN        NaN   \n",
              "top           NaN   \"Wilmington\"      NC       NaN        NaN        NaN   \n",
              "freq          NaN              2       2       NaN        NaN        NaN   \n",
              "mean     6.500000            NaN     NaN  23.60000  64.200000  22.782667   \n",
              "std      2.766559            NaN     NaN  17.34441  11.409269   3.451860   \n",
              "min      1.000000            NaN     NaN   2.00000  47.000000  17.630000   \n",
              "25%      4.250000            NaN     NaN  12.50000  55.500000  20.825000   \n",
              "50%      7.000000            NaN     NaN  18.00000  64.000000  21.880000   \n",
              "75%      9.000000            NaN     NaN  35.50000  68.500000  24.405000   \n",
              "max      9.000000            NaN     NaN  60.00000  88.000000  30.260000   \n",
              "\n",
              "       Complete  Type  \n",
              "count        15  15.0  \n",
              "unique        6   NaN  \n",
              "top      85.50%   NaN  \n",
              "freq          4   NaN  \n",
              "mean        NaN   1.0  \n",
              "std         NaN   0.0  \n",
              "min         NaN   1.0  \n",
              "25%         NaN   1.0  \n",
              "50%         NaN   1.0  \n",
              "75%         NaN   1.0  \n",
              "max         NaN   1.0  "
            ]
          },
          "metadata": {},
          "execution_count": 13
        }
      ]
    },
    {
      "cell_type": "code",
      "metadata": {
        "id": "ytOA8BnIcEkF",
        "colab": {
          "base_uri": "https://localhost:8080/",
          "height": 261
        },
        "outputId": "1378ea3d-fd8e-4cb0-e0b8-9972260a056c"
      },
      "source": [
        "#the result might be messy (since describe outputs different results for numberical versus object). Let's try\n",
        "df.describe(include='object')"
      ],
      "execution_count": 14,
      "outputs": [
        {
          "output_type": "execute_result",
          "data": {
            "text/html": [
              "<div>\n",
              "<style scoped>\n",
              "    .dataframe tbody tr th:only-of-type {\n",
              "        vertical-align: middle;\n",
              "    }\n",
              "\n",
              "    .dataframe tbody tr th {\n",
              "        vertical-align: top;\n",
              "    }\n",
              "\n",
              "    .dataframe thead th {\n",
              "        text-align: right;\n",
              "    }\n",
              "</style>\n",
              "<table border=\"1\" class=\"dataframe\">\n",
              "  <thead>\n",
              "    <tr style=\"text-align: right;\">\n",
              "      <th></th>\n",
              "      <th>Date</th>\n",
              "      <th>Time</th>\n",
              "      <th>FirstName</th>\n",
              "      <th>LastName</th>\n",
              "      <th>Sex</th>\n",
              "      <th>Favourite Artist</th>\n",
              "      <th>Fav. Park Location</th>\n",
              "      <th>Home Address (Street)</th>\n",
              "      <th>\"City\"</th>\n",
              "      <th>\"State\"</th>\n",
              "      <th>Complete</th>\n",
              "    </tr>\n",
              "  </thead>\n",
              "  <tbody>\n",
              "    <tr>\n",
              "      <th>count</th>\n",
              "      <td>15</td>\n",
              "      <td>15</td>\n",
              "      <td>13</td>\n",
              "      <td>14</td>\n",
              "      <td>15</td>\n",
              "      <td>15</td>\n",
              "      <td>15</td>\n",
              "      <td>14</td>\n",
              "      <td>15</td>\n",
              "      <td>15</td>\n",
              "      <td>15</td>\n",
              "    </tr>\n",
              "    <tr>\n",
              "      <th>unique</th>\n",
              "      <td>13</td>\n",
              "      <td>15</td>\n",
              "      <td>12</td>\n",
              "      <td>14</td>\n",
              "      <td>2</td>\n",
              "      <td>14</td>\n",
              "      <td>9</td>\n",
              "      <td>14</td>\n",
              "      <td>14</td>\n",
              "      <td>14</td>\n",
              "      <td>6</td>\n",
              "    </tr>\n",
              "    <tr>\n",
              "      <th>top</th>\n",
              "      <td>10/5/16</td>\n",
              "      <td>1:00 PM</td>\n",
              "      <td>Susan</td>\n",
              "      <td>Robertson</td>\n",
              "      <td>F</td>\n",
              "      <td>\"Sean Penn\"</td>\n",
              "      <td>(40.7475174105, -73.4568035403)</td>\n",
              "      <td>2796 BRANCH ST</td>\n",
              "      <td>\"Wilmington\"</td>\n",
              "      <td>NC</td>\n",
              "      <td>85.50%</td>\n",
              "    </tr>\n",
              "    <tr>\n",
              "      <th>freq</th>\n",
              "      <td>2</td>\n",
              "      <td>1</td>\n",
              "      <td>2</td>\n",
              "      <td>1</td>\n",
              "      <td>8</td>\n",
              "      <td>2</td>\n",
              "      <td>5</td>\n",
              "      <td>1</td>\n",
              "      <td>2</td>\n",
              "      <td>2</td>\n",
              "      <td>4</td>\n",
              "    </tr>\n",
              "  </tbody>\n",
              "</table>\n",
              "</div>"
            ],
            "text/plain": [
              "           Date     Time FirstName   LastName Sex Favourite Artist  \\\n",
              "count        15       15        13         14  15               15   \n",
              "unique       13       15        12         14   2               14   \n",
              "top     10/5/16  1:00 PM     Susan  Robertson   F      \"Sean Penn\"   \n",
              "freq          2        1         2          1   8                2   \n",
              "\n",
              "                     Fav. Park Location Home Address (Street)         \"City\"  \\\n",
              "count                                15                    14             15   \n",
              "unique                                9                    14             14   \n",
              "top     (40.7475174105, -73.4568035403)        2796 BRANCH ST   \"Wilmington\"   \n",
              "freq                                  5                     1              2   \n",
              "\n",
              "       \"State\" Complete  \n",
              "count       15       15  \n",
              "unique      14        6  \n",
              "top         NC   85.50%  \n",
              "freq         2        4  "
            ]
          },
          "metadata": {},
          "execution_count": 14
        }
      ]
    },
    {
      "cell_type": "code",
      "metadata": {
        "id": "bw_OHwQ0cEkF",
        "colab": {
          "base_uri": "https://localhost:8080/"
        },
        "outputId": "3d984aec-cc6e-45ca-ab8f-0148ce205a86"
      },
      "source": [
        "df['Date'][0:4]"
      ],
      "execution_count": 15,
      "outputs": [
        {
          "output_type": "execute_result",
          "data": {
            "text/plain": [
              "0    10/5/13\n",
              "1    10/9/13\n",
              "2    12/5/13\n",
              "3     1/2/14\n",
              "Name: Date, dtype: object"
            ]
          },
          "metadata": {},
          "execution_count": 15
        }
      ]
    },
    {
      "cell_type": "code",
      "metadata": {
        "id": "p8qKtKCCcEkG",
        "colab": {
          "base_uri": "https://localhost:8080/"
        },
        "outputId": "71c7c605-b66e-4bf9-a500-43398c34313c"
      },
      "source": [
        "# see the difference between previous and this referencing!\n",
        "df['\"State\"'][0:4]"
      ],
      "execution_count": 16,
      "outputs": [
        {
          "output_type": "execute_result",
          "data": {
            "text/plain": [
              "0     OH\n",
              "1     SD\n",
              "2     WA\n",
              "3     MA\n",
              "Name: \"State\", dtype: object"
            ]
          },
          "metadata": {},
          "execution_count": 16
        }
      ]
    },
    {
      "cell_type": "code",
      "metadata": {
        "id": "PVtUsd2LcEkG",
        "colab": {
          "base_uri": "https://localhost:8080/"
        },
        "outputId": "26aa0b0a-fb7f-4ed7-e477-e06bf6ea5321"
      },
      "source": [
        "# how many different states are there\n",
        "df['\"State\"'].nunique()"
      ],
      "execution_count": 17,
      "outputs": [
        {
          "output_type": "execute_result",
          "data": {
            "text/plain": [
              "14"
            ]
          },
          "metadata": {},
          "execution_count": 17
        }
      ]
    },
    {
      "cell_type": "code",
      "metadata": {
        "id": "qBDg1CjWcEkG",
        "colab": {
          "base_uri": "https://localhost:8080/"
        },
        "outputId": "b7e8e6a3-568a-40c9-dee7-bf832a7e8b29"
      },
      "source": [
        "# how many females, how many males\n",
        "df['Sex'].value_counts()"
      ],
      "execution_count": 18,
      "outputs": [
        {
          "output_type": "execute_result",
          "data": {
            "text/plain": [
              "F    8\n",
              "M    7\n",
              "Name: Sex, dtype: int64"
            ]
          },
          "metadata": {},
          "execution_count": 18
        }
      ]
    },
    {
      "cell_type": "code",
      "metadata": {
        "id": "1TTTfzZRcEkG",
        "colab": {
          "base_uri": "https://localhost:8080/"
        },
        "outputId": "f58397c8-9eed-4363-8dd3-7f0aacd16062"
      },
      "source": [
        "# we'll receive an error message if we try\n",
        "df['Complete'][0:8]"
      ],
      "execution_count": 19,
      "outputs": [
        {
          "output_type": "execute_result",
          "data": {
            "text/plain": [
              "0    85.50%\n",
              "1    85.50%\n",
              "2       73%\n",
              "3       27%\n",
              "4    78.30%\n",
              "5    25.60%\n",
              "6    85.50%\n",
              "7    85.50%\n",
              "Name: Complete, dtype: object"
            ]
          },
          "metadata": {},
          "execution_count": 19
        }
      ]
    },
    {
      "cell_type": "code",
      "metadata": {
        "id": "CAMxDX1XcEkH",
        "colab": {
          "base_uri": "https://localhost:8080/",
          "height": 281
        },
        "outputId": "ed05819e-25e2-4edd-841b-a01a346f5c37"
      },
      "source": [
        "# we'll receive another error message if we try\n",
        "# df['Complete as percentege'] = df['Complete'].astype('float64')\n",
        "#\n",
        "# the reason is that % sign. let's ged rid off it\n",
        "df['Complete as percentege'] = df['Complete'].str.replace('%','').astype('float64')\n",
        "df.head(3)"
      ],
      "execution_count": 20,
      "outputs": [
        {
          "output_type": "execute_result",
          "data": {
            "text/html": [
              "<div>\n",
              "<style scoped>\n",
              "    .dataframe tbody tr th:only-of-type {\n",
              "        vertical-align: middle;\n",
              "    }\n",
              "\n",
              "    .dataframe tbody tr th {\n",
              "        vertical-align: top;\n",
              "    }\n",
              "\n",
              "    .dataframe thead th {\n",
              "        text-align: right;\n",
              "    }\n",
              "</style>\n",
              "<table border=\"1\" class=\"dataframe\">\n",
              "  <thead>\n",
              "    <tr style=\"text-align: right;\">\n",
              "      <th></th>\n",
              "      <th>Date</th>\n",
              "      <th>Time</th>\n",
              "      <th>FirstName</th>\n",
              "      <th>LastName</th>\n",
              "      <th>Sex</th>\n",
              "      <th>Favourite Artist</th>\n",
              "      <th>Unnamed: 6</th>\n",
              "      <th>Fav. Park Location</th>\n",
              "      <th>Home Address (Street)</th>\n",
              "      <th>Region</th>\n",
              "      <th>\"City\"</th>\n",
              "      <th>\"State\"</th>\n",
              "      <th>\"Age\"</th>\n",
              "      <th>\"Weight\"</th>\n",
              "      <th>\"BMI\"</th>\n",
              "      <th>Complete</th>\n",
              "      <th>Type</th>\n",
              "      <th>Complete as percentege</th>\n",
              "    </tr>\n",
              "  </thead>\n",
              "  <tbody>\n",
              "    <tr>\n",
              "      <th>0</th>\n",
              "      <td>10/5/13</td>\n",
              "      <td>7:30 AM</td>\n",
              "      <td>John</td>\n",
              "      <td>Doe</td>\n",
              "      <td>M</td>\n",
              "      <td>\"Jack Nicholson\"</td>\n",
              "      <td>NaN</td>\n",
              "      <td>(40.9099922695, -73.2632063245)</td>\n",
              "      <td>3526 HIGH ST</td>\n",
              "      <td>9.0</td>\n",
              "      <td>\"Youngstown\"</td>\n",
              "      <td>OH</td>\n",
              "      <td>60.0</td>\n",
              "      <td>59.0</td>\n",
              "      <td>22.02</td>\n",
              "      <td>85.50%</td>\n",
              "      <td>1.0</td>\n",
              "      <td>85.5</td>\n",
              "    </tr>\n",
              "    <tr>\n",
              "      <th>1</th>\n",
              "      <td>10/9/13</td>\n",
              "      <td>8:00 AM</td>\n",
              "      <td>Jack</td>\n",
              "      <td>McGinnis</td>\n",
              "      <td>M</td>\n",
              "      <td>\"Roberto Benigni\"</td>\n",
              "      <td>NaN</td>\n",
              "      <td>(40.9099922695, -73.2632063245)</td>\n",
              "      <td>51 OMAHA CT</td>\n",
              "      <td>9.0</td>\n",
              "      <td>\"Yankton\"</td>\n",
              "      <td>SD</td>\n",
              "      <td>12.0</td>\n",
              "      <td>86.0</td>\n",
              "      <td>19.70</td>\n",
              "      <td>85.50%</td>\n",
              "      <td>1.0</td>\n",
              "      <td>85.5</td>\n",
              "    </tr>\n",
              "    <tr>\n",
              "      <th>2</th>\n",
              "      <td>12/5/13</td>\n",
              "      <td>8:30 AM</td>\n",
              "      <td>John \"Da Man\"</td>\n",
              "      <td>Repici</td>\n",
              "      <td>M</td>\n",
              "      <td>\"Kevin Spacey\"</td>\n",
              "      <td>NaN</td>\n",
              "      <td>(40.9099922695, -73.2632063245)</td>\n",
              "      <td>2796 BRANCH ST</td>\n",
              "      <td>9.0</td>\n",
              "      <td>\"Yakima\"</td>\n",
              "      <td>WA</td>\n",
              "      <td>41.0</td>\n",
              "      <td>69.0</td>\n",
              "      <td>24.09</td>\n",
              "      <td>73%</td>\n",
              "      <td>1.0</td>\n",
              "      <td>73.0</td>\n",
              "    </tr>\n",
              "  </tbody>\n",
              "</table>\n",
              "</div>"
            ],
            "text/plain": [
              "      Date     Time      FirstName  LastName Sex    Favourite Artist  \\\n",
              "0  10/5/13  7:30 AM           John       Doe   M    \"Jack Nicholson\"   \n",
              "1  10/9/13  8:00 AM           Jack  McGinnis   M   \"Roberto Benigni\"   \n",
              "2  12/5/13  8:30 AM  John \"Da Man\"    Repici   M      \"Kevin Spacey\"   \n",
              "\n",
              "   Unnamed: 6               Fav. Park Location Home Address (Street)  Region  \\\n",
              "0         NaN  (40.9099922695, -73.2632063245)          3526 HIGH ST     9.0   \n",
              "1         NaN  (40.9099922695, -73.2632063245)           51 OMAHA CT     9.0   \n",
              "2         NaN  (40.9099922695, -73.2632063245)        2796 BRANCH ST     9.0   \n",
              "\n",
              "          \"City\" \"State\"  \"Age\"  \"Weight\"  \"BMI\" Complete  Type  \\\n",
              "0   \"Youngstown\"      OH   60.0      59.0  22.02   85.50%   1.0   \n",
              "1      \"Yankton\"      SD   12.0      86.0  19.70   85.50%   1.0   \n",
              "2       \"Yakima\"      WA   41.0      69.0  24.09      73%   1.0   \n",
              "\n",
              "   Complete as percentege  \n",
              "0                    85.5  \n",
              "1                    85.5  \n",
              "2                    73.0  "
            ]
          },
          "metadata": {},
          "execution_count": 20
        }
      ]
    },
    {
      "cell_type": "code",
      "metadata": {
        "id": "4XpXu2dQcEkH"
      },
      "source": [
        "series_of_type_per_column = df.dtypes"
      ],
      "execution_count": 21,
      "outputs": []
    },
    {
      "cell_type": "code",
      "metadata": {
        "id": "SlyKIXXKcEkH",
        "colab": {
          "base_uri": "https://localhost:8080/",
          "height": 394
        },
        "outputId": "40a1aacd-0906-4801-9df1-eb2ae528d059"
      },
      "source": [
        "df.head() # now we have a new column!"
      ],
      "execution_count": 22,
      "outputs": [
        {
          "output_type": "execute_result",
          "data": {
            "text/html": [
              "<div>\n",
              "<style scoped>\n",
              "    .dataframe tbody tr th:only-of-type {\n",
              "        vertical-align: middle;\n",
              "    }\n",
              "\n",
              "    .dataframe tbody tr th {\n",
              "        vertical-align: top;\n",
              "    }\n",
              "\n",
              "    .dataframe thead th {\n",
              "        text-align: right;\n",
              "    }\n",
              "</style>\n",
              "<table border=\"1\" class=\"dataframe\">\n",
              "  <thead>\n",
              "    <tr style=\"text-align: right;\">\n",
              "      <th></th>\n",
              "      <th>Date</th>\n",
              "      <th>Time</th>\n",
              "      <th>FirstName</th>\n",
              "      <th>LastName</th>\n",
              "      <th>Sex</th>\n",
              "      <th>Favourite Artist</th>\n",
              "      <th>Unnamed: 6</th>\n",
              "      <th>Fav. Park Location</th>\n",
              "      <th>Home Address (Street)</th>\n",
              "      <th>Region</th>\n",
              "      <th>\"City\"</th>\n",
              "      <th>\"State\"</th>\n",
              "      <th>\"Age\"</th>\n",
              "      <th>\"Weight\"</th>\n",
              "      <th>\"BMI\"</th>\n",
              "      <th>Complete</th>\n",
              "      <th>Type</th>\n",
              "      <th>Complete as percentege</th>\n",
              "    </tr>\n",
              "  </thead>\n",
              "  <tbody>\n",
              "    <tr>\n",
              "      <th>0</th>\n",
              "      <td>10/5/13</td>\n",
              "      <td>7:30 AM</td>\n",
              "      <td>John</td>\n",
              "      <td>Doe</td>\n",
              "      <td>M</td>\n",
              "      <td>\"Jack Nicholson\"</td>\n",
              "      <td>NaN</td>\n",
              "      <td>(40.9099922695, -73.2632063245)</td>\n",
              "      <td>3526 HIGH ST</td>\n",
              "      <td>9.0</td>\n",
              "      <td>\"Youngstown\"</td>\n",
              "      <td>OH</td>\n",
              "      <td>60.0</td>\n",
              "      <td>59.0</td>\n",
              "      <td>22.02</td>\n",
              "      <td>85.50%</td>\n",
              "      <td>1.0</td>\n",
              "      <td>85.5</td>\n",
              "    </tr>\n",
              "    <tr>\n",
              "      <th>1</th>\n",
              "      <td>10/9/13</td>\n",
              "      <td>8:00 AM</td>\n",
              "      <td>Jack</td>\n",
              "      <td>McGinnis</td>\n",
              "      <td>M</td>\n",
              "      <td>\"Roberto Benigni\"</td>\n",
              "      <td>NaN</td>\n",
              "      <td>(40.9099922695, -73.2632063245)</td>\n",
              "      <td>51 OMAHA CT</td>\n",
              "      <td>9.0</td>\n",
              "      <td>\"Yankton\"</td>\n",
              "      <td>SD</td>\n",
              "      <td>12.0</td>\n",
              "      <td>86.0</td>\n",
              "      <td>19.70</td>\n",
              "      <td>85.50%</td>\n",
              "      <td>1.0</td>\n",
              "      <td>85.5</td>\n",
              "    </tr>\n",
              "    <tr>\n",
              "      <th>2</th>\n",
              "      <td>12/5/13</td>\n",
              "      <td>8:30 AM</td>\n",
              "      <td>John \"Da Man\"</td>\n",
              "      <td>Repici</td>\n",
              "      <td>M</td>\n",
              "      <td>\"Kevin Spacey\"</td>\n",
              "      <td>NaN</td>\n",
              "      <td>(40.9099922695, -73.2632063245)</td>\n",
              "      <td>2796 BRANCH ST</td>\n",
              "      <td>9.0</td>\n",
              "      <td>\"Yakima\"</td>\n",
              "      <td>WA</td>\n",
              "      <td>41.0</td>\n",
              "      <td>69.0</td>\n",
              "      <td>24.09</td>\n",
              "      <td>73%</td>\n",
              "      <td>1.0</td>\n",
              "      <td>73.0</td>\n",
              "    </tr>\n",
              "    <tr>\n",
              "      <th>3</th>\n",
              "      <td>1/2/14</td>\n",
              "      <td>9:00 AM</td>\n",
              "      <td>Stephen</td>\n",
              "      <td>Tyler</td>\n",
              "      <td>M</td>\n",
              "      <td>\"Russell Crowe\"</td>\n",
              "      <td>NaN</td>\n",
              "      <td>(43.3616709338, -76.4360441829)</td>\n",
              "      <td>2805 JANETTE WAY</td>\n",
              "      <td>5.0</td>\n",
              "      <td>\"Worcester\"</td>\n",
              "      <td>MA</td>\n",
              "      <td>22.0</td>\n",
              "      <td>88.0</td>\n",
              "      <td>26.97</td>\n",
              "      <td>27%</td>\n",
              "      <td>1.0</td>\n",
              "      <td>27.0</td>\n",
              "    </tr>\n",
              "    <tr>\n",
              "      <th>4</th>\n",
              "      <td>6/5/14</td>\n",
              "      <td>9:30 AM</td>\n",
              "      <td>NaN</td>\n",
              "      <td>Blankman</td>\n",
              "      <td>F</td>\n",
              "      <td>\"Denzel Washington\"</td>\n",
              "      <td>NaN</td>\n",
              "      <td>(42.9657659397, -78.9531063633)</td>\n",
              "      <td>6001 MCMAHON DR</td>\n",
              "      <td>1.0</td>\n",
              "      <td>\"Arlington\"</td>\n",
              "      <td>VA</td>\n",
              "      <td>5.0</td>\n",
              "      <td>64.0</td>\n",
              "      <td>21.51</td>\n",
              "      <td>78.30%</td>\n",
              "      <td>1.0</td>\n",
              "      <td>78.3</td>\n",
              "    </tr>\n",
              "  </tbody>\n",
              "</table>\n",
              "</div>"
            ],
            "text/plain": [
              "      Date     Time      FirstName  LastName Sex      Favourite Artist  \\\n",
              "0  10/5/13  7:30 AM           John       Doe   M      \"Jack Nicholson\"   \n",
              "1  10/9/13  8:00 AM           Jack  McGinnis   M     \"Roberto Benigni\"   \n",
              "2  12/5/13  8:30 AM  John \"Da Man\"    Repici   M        \"Kevin Spacey\"   \n",
              "3   1/2/14  9:00 AM        Stephen     Tyler   M       \"Russell Crowe\"   \n",
              "4   6/5/14  9:30 AM            NaN  Blankman   F   \"Denzel Washington\"   \n",
              "\n",
              "   Unnamed: 6               Fav. Park Location Home Address (Street)  Region  \\\n",
              "0         NaN  (40.9099922695, -73.2632063245)          3526 HIGH ST     9.0   \n",
              "1         NaN  (40.9099922695, -73.2632063245)           51 OMAHA CT     9.0   \n",
              "2         NaN  (40.9099922695, -73.2632063245)        2796 BRANCH ST     9.0   \n",
              "3         NaN  (43.3616709338, -76.4360441829)      2805 JANETTE WAY     5.0   \n",
              "4         NaN  (42.9657659397, -78.9531063633)       6001 MCMAHON DR     1.0   \n",
              "\n",
              "          \"City\" \"State\"  \"Age\"  \"Weight\"  \"BMI\" Complete  Type  \\\n",
              "0   \"Youngstown\"      OH   60.0      59.0  22.02   85.50%   1.0   \n",
              "1      \"Yankton\"      SD   12.0      86.0  19.70   85.50%   1.0   \n",
              "2       \"Yakima\"      WA   41.0      69.0  24.09      73%   1.0   \n",
              "3    \"Worcester\"      MA   22.0      88.0  26.97      27%   1.0   \n",
              "4    \"Arlington\"      VA    5.0      64.0  21.51   78.30%   1.0   \n",
              "\n",
              "   Complete as percentege  \n",
              "0                    85.5  \n",
              "1                    85.5  \n",
              "2                    73.0  \n",
              "3                    27.0  \n",
              "4                    78.3  "
            ]
          },
          "metadata": {},
          "execution_count": 22
        }
      ]
    },
    {
      "cell_type": "code",
      "metadata": {
        "id": "pD949jmVcEkH",
        "colab": {
          "base_uri": "https://localhost:8080/"
        },
        "outputId": "575a13e4-4312-4038-e7e3-cd34c3313c10"
      },
      "source": [
        "first_n_entries=5\n",
        "for col,col_type in df.dtypes.iteritems():\n",
        "    if(col_type=='object'):\n",
        "        print('\\n',col,'has',df[col].nunique(),'unique entries; first ',first_n_entries,'are')\n",
        "        print(df[col][0:first_n_entries])"
      ],
      "execution_count": 23,
      "outputs": [
        {
          "output_type": "stream",
          "name": "stdout",
          "text": [
            "\n",
            " Date has 13 unique entries; first  5 are\n",
            "0    10/5/13\n",
            "1    10/9/13\n",
            "2    12/5/13\n",
            "3     1/2/14\n",
            "4     6/5/14\n",
            "Name: Date, dtype: object\n",
            "\n",
            " Time has 15 unique entries; first  5 are\n",
            "0    7:30 AM\n",
            "1    8:00 AM\n",
            "2    8:30 AM\n",
            "3    9:00 AM\n",
            "4    9:30 AM\n",
            "Name: Time, dtype: object\n",
            "\n",
            " FirstName has 12 unique entries; first  5 are\n",
            "0             John\n",
            "1             Jack\n",
            "2    John \"Da Man\"\n",
            "3          Stephen\n",
            "4              NaN\n",
            "Name: FirstName, dtype: object\n",
            "\n",
            " LastName has 14 unique entries; first  5 are\n",
            "0         Doe\n",
            "1    McGinnis\n",
            "2      Repici\n",
            "3       Tyler\n",
            "4    Blankman\n",
            "Name: LastName, dtype: object\n",
            "\n",
            " Sex has 2 unique entries; first  5 are\n",
            "0    M\n",
            "1    M\n",
            "2    M\n",
            "3    M\n",
            "4    F\n",
            "Name: Sex, dtype: object\n",
            "\n",
            " Favourite Artist has 14 unique entries; first  5 are\n",
            "0        \"Jack Nicholson\"\n",
            "1       \"Roberto Benigni\"\n",
            "2          \"Kevin Spacey\"\n",
            "3         \"Russell Crowe\"\n",
            "4     \"Denzel Washington\"\n",
            "Name: Favourite Artist, dtype: object\n",
            "\n",
            " Fav. Park Location has 9 unique entries; first  5 are\n",
            "0    (40.9099922695, -73.2632063245)\n",
            "1    (40.9099922695, -73.2632063245)\n",
            "2    (40.9099922695, -73.2632063245)\n",
            "3    (43.3616709338, -76.4360441829)\n",
            "4    (42.9657659397, -78.9531063633)\n",
            "Name: Fav. Park Location, dtype: object\n",
            "\n",
            " Home Address (Street) has 14 unique entries; first  5 are\n",
            "0        3526 HIGH ST\n",
            "1         51 OMAHA CT\n",
            "2      2796 BRANCH ST\n",
            "3    2805 JANETTE WAY\n",
            "4     6001 MCMAHON DR\n",
            "Name: Home Address (Street), dtype: object\n",
            "\n",
            " \"City\" has 14 unique entries; first  5 are\n",
            "0     \"Youngstown\"\n",
            "1        \"Yankton\"\n",
            "2         \"Yakima\"\n",
            "3      \"Worcester\"\n",
            "4      \"Arlington\"\n",
            "Name: \"City\", dtype: object\n",
            "\n",
            " \"State\" has 14 unique entries; first  5 are\n",
            "0     OH\n",
            "1     SD\n",
            "2     WA\n",
            "3     MA\n",
            "4     VA\n",
            "Name: \"State\", dtype: object\n",
            "\n",
            " Complete has 6 unique entries; first  5 are\n",
            "0    85.50%\n",
            "1    85.50%\n",
            "2       73%\n",
            "3       27%\n",
            "4    78.30%\n",
            "Name: Complete, dtype: object\n"
          ]
        }
      ]
    },
    {
      "cell_type": "code",
      "metadata": {
        "id": "raDrwISJcEkH"
      },
      "source": [
        "def uniq_per_col(df,count):\n",
        "    for this_column in df.columns:\n",
        "        print(\"\\n==== \",this_column,\"has\",df[this_column].nunique(),\"unique entries ====\")\n",
        "        print(df[this_column].value_counts().head(count))"
      ],
      "execution_count": 24,
      "outputs": []
    },
    {
      "cell_type": "code",
      "metadata": {
        "id": "-4y57-SZcEkI",
        "colab": {
          "base_uri": "https://localhost:8080/"
        },
        "outputId": "03929402-b83e-4c3e-ca37-347e1bd5086e"
      },
      "source": [
        "uniq_per_col(df,5)"
      ],
      "execution_count": 25,
      "outputs": [
        {
          "output_type": "stream",
          "name": "stdout",
          "text": [
            "\n",
            "====  Date has 13 unique entries ====\n",
            "10/5/16     2\n",
            "10/5/14     2\n",
            "10/15/17    1\n",
            "10/5/18     1\n",
            "10/5/19     1\n",
            "Name: Date, dtype: int64\n",
            "\n",
            "====  Time has 15 unique entries ====\n",
            "1:00 PM    1\n",
            "2:30 PM    1\n",
            "7:30 AM    1\n",
            "8:00 AM    1\n",
            "1:30 PM    1\n",
            "Name: Time, dtype: int64\n",
            "\n",
            "====  FirstName has 12 unique entries ====\n",
            "Susan                    2\n",
            "Maria                    1\n",
            "John \"Da Man\"            1\n",
            "Joan \"the bone\", Anne    1\n",
            "John                     1\n",
            "Name: FirstName, dtype: int64\n",
            "\n",
            "====  LastName has 14 unique entries ====\n",
            "Robertson    1\n",
            "Marley       1\n",
            "Repici       1\n",
            "Mancini      1\n",
            "Jackson      1\n",
            "Name: LastName, dtype: int64\n",
            "\n",
            "====  Sex has 2 unique entries ====\n",
            "F    8\n",
            "M    7\n",
            "Name: Sex, dtype: int64\n",
            "\n",
            "====  Favourite Artist has 14 unique entries ====\n",
            " \"Sean Penn\"                 2\n",
            " \"Philip Seymour Hoffman\"    1\n",
            " \"Kevin Spacey\"              1\n",
            " \"Jeff Bridges\"              1\n",
            " \"Roberto Benigni\"           1\n",
            "Name: Favourite Artist, dtype: int64\n",
            "\n",
            "====  Unnamed: 6 has 0 unique entries ====\n",
            "Series([], Name: Unnamed: 6, dtype: int64)\n",
            "\n",
            "====  Fav. Park Location has 9 unique entries ====\n",
            "(40.7475174105, -73.4568035403)    5\n",
            "(40.9099922695, -73.2632063245)    3\n",
            "(43.3616709338, -76.4360441829)    1\n",
            "(42.2155402507, -75.8362368401)    1\n",
            "(42.6731942171, -76.8677249793)    1\n",
            "Name: Fav. Park Location, dtype: int64\n",
            "\n",
            "====  Home Address (Street) has 14 unique entries ====\n",
            "2796 BRANCH ST                     1\n",
            "4533 LOCH HAVEN WAY                1\n",
            "2561 19TH AVE                      1\n",
            "2805 JANETTE WAY                   1\n",
            "11150 TRINITY RIVER DR Unit 114    1\n",
            "Name: Home Address (Street), dtype: int64\n",
            "\n",
            "====  Region has 4 unique entries ====\n",
            "9.0    7\n",
            "4.0    3\n",
            "5.0    3\n",
            "1.0    1\n",
            "Name: Region, dtype: int64\n",
            "\n",
            "====  \"City\" has 14 unique entries ====\n",
            " \"Wilmington\"      2\n",
            " \"Wichita\"         1\n",
            " \"Williamsport\"    1\n",
            " \"Williamson\"      1\n",
            " \"Youngstown\"      1\n",
            "Name: \"City\", dtype: int64\n",
            "\n",
            "====  \"State\" has 14 unique entries ====\n",
            " NC    2\n",
            " MB    1\n",
            " MA    1\n",
            " SD    1\n",
            " DE    1\n",
            "Name: \"State\", dtype: int64\n",
            "\n",
            "====  \"Age\" has 14 unique entries ====\n",
            "18.0    2\n",
            "15.0    1\n",
            "13.0    1\n",
            "2.0     1\n",
            "50.0    1\n",
            "Name: \"Age\", dtype: int64\n",
            "\n",
            "====  \"Weight\" has 12 unique entries ====\n",
            "68.0    2\n",
            "55.0    2\n",
            "69.0    2\n",
            "66.0    1\n",
            "47.0    1\n",
            "Name: \"Weight\", dtype: int64\n",
            "\n",
            "====  \"BMI\" has 15 unique entries ====\n",
            "17.63    1\n",
            "20.68    1\n",
            "27.30    1\n",
            "30.26    1\n",
            "24.09    1\n",
            "Name: \"BMI\", dtype: int64\n",
            "\n",
            "====  Complete has 6 unique entries ====\n",
            "85.50%    4\n",
            "73%       3\n",
            "27%       3\n",
            "25.60%    2\n",
            "78.30%    2\n",
            "Name: Complete, dtype: int64\n",
            "\n",
            "====  Type has 1 unique entries ====\n",
            "1.0    15\n",
            "Name: Type, dtype: int64\n",
            "\n",
            "====  Complete as percentege has 6 unique entries ====\n",
            "85.5    4\n",
            "27.0    3\n",
            "73.0    3\n",
            "25.6    2\n",
            "78.3    2\n",
            "Name: Complete as percentege, dtype: int64\n"
          ]
        }
      ]
    },
    {
      "cell_type": "code",
      "metadata": {
        "id": "-aTBIue6cEkI",
        "colab": {
          "base_uri": "https://localhost:8080/",
          "height": 709
        },
        "outputId": "08b00f1c-9179-4065-e01a-213a6c046356"
      },
      "source": [
        "df.head(6).T # let's see how the transpose of the dataset looks like"
      ],
      "execution_count": 26,
      "outputs": [
        {
          "output_type": "execute_result",
          "data": {
            "text/html": [
              "<div>\n",
              "<style scoped>\n",
              "    .dataframe tbody tr th:only-of-type {\n",
              "        vertical-align: middle;\n",
              "    }\n",
              "\n",
              "    .dataframe tbody tr th {\n",
              "        vertical-align: top;\n",
              "    }\n",
              "\n",
              "    .dataframe thead th {\n",
              "        text-align: right;\n",
              "    }\n",
              "</style>\n",
              "<table border=\"1\" class=\"dataframe\">\n",
              "  <thead>\n",
              "    <tr style=\"text-align: right;\">\n",
              "      <th></th>\n",
              "      <th>0</th>\n",
              "      <th>1</th>\n",
              "      <th>2</th>\n",
              "      <th>3</th>\n",
              "      <th>4</th>\n",
              "      <th>5</th>\n",
              "    </tr>\n",
              "  </thead>\n",
              "  <tbody>\n",
              "    <tr>\n",
              "      <th>Date</th>\n",
              "      <td>10/5/13</td>\n",
              "      <td>10/9/13</td>\n",
              "      <td>12/5/13</td>\n",
              "      <td>1/2/14</td>\n",
              "      <td>6/5/14</td>\n",
              "      <td>9/12/14</td>\n",
              "    </tr>\n",
              "    <tr>\n",
              "      <th>Time</th>\n",
              "      <td>7:30 AM</td>\n",
              "      <td>8:00 AM</td>\n",
              "      <td>8:30 AM</td>\n",
              "      <td>9:00 AM</td>\n",
              "      <td>9:30 AM</td>\n",
              "      <td>10:00 AM</td>\n",
              "    </tr>\n",
              "    <tr>\n",
              "      <th>FirstName</th>\n",
              "      <td>John</td>\n",
              "      <td>Jack</td>\n",
              "      <td>John \"Da Man\"</td>\n",
              "      <td>Stephen</td>\n",
              "      <td>NaN</td>\n",
              "      <td>Joan \"the bone\", Anne</td>\n",
              "    </tr>\n",
              "    <tr>\n",
              "      <th>LastName</th>\n",
              "      <td>Doe</td>\n",
              "      <td>McGinnis</td>\n",
              "      <td>Repici</td>\n",
              "      <td>Tyler</td>\n",
              "      <td>Blankman</td>\n",
              "      <td>Jet</td>\n",
              "    </tr>\n",
              "    <tr>\n",
              "      <th>Sex</th>\n",
              "      <td>M</td>\n",
              "      <td>M</td>\n",
              "      <td>M</td>\n",
              "      <td>M</td>\n",
              "      <td>F</td>\n",
              "      <td>M</td>\n",
              "    </tr>\n",
              "    <tr>\n",
              "      <th>Favourite Artist</th>\n",
              "      <td>\"Jack Nicholson\"</td>\n",
              "      <td>\"Roberto Benigni\"</td>\n",
              "      <td>\"Kevin Spacey\"</td>\n",
              "      <td>\"Russell Crowe\"</td>\n",
              "      <td>\"Denzel Washington\"</td>\n",
              "      <td>\"Adrien Brody\"</td>\n",
              "    </tr>\n",
              "    <tr>\n",
              "      <th>Unnamed: 6</th>\n",
              "      <td>NaN</td>\n",
              "      <td>NaN</td>\n",
              "      <td>NaN</td>\n",
              "      <td>NaN</td>\n",
              "      <td>NaN</td>\n",
              "      <td>NaN</td>\n",
              "    </tr>\n",
              "    <tr>\n",
              "      <th>Fav. Park Location</th>\n",
              "      <td>(40.9099922695, -73.2632063245)</td>\n",
              "      <td>(40.9099922695, -73.2632063245)</td>\n",
              "      <td>(40.9099922695, -73.2632063245)</td>\n",
              "      <td>(43.3616709338, -76.4360441829)</td>\n",
              "      <td>(42.9657659397, -78.9531063633)</td>\n",
              "      <td>(40.7475174105, -73.4568035403)</td>\n",
              "    </tr>\n",
              "    <tr>\n",
              "      <th>Home Address (Street)</th>\n",
              "      <td>3526 HIGH ST</td>\n",
              "      <td>51 OMAHA CT</td>\n",
              "      <td>2796 BRANCH ST</td>\n",
              "      <td>2805 JANETTE WAY</td>\n",
              "      <td>6001 MCMAHON DR</td>\n",
              "      <td>5828 PEPPERMILL CT</td>\n",
              "    </tr>\n",
              "    <tr>\n",
              "      <th>Region</th>\n",
              "      <td>9</td>\n",
              "      <td>9</td>\n",
              "      <td>9</td>\n",
              "      <td>5</td>\n",
              "      <td>1</td>\n",
              "      <td>NaN</td>\n",
              "    </tr>\n",
              "    <tr>\n",
              "      <th>\"City\"</th>\n",
              "      <td>\"Youngstown\"</td>\n",
              "      <td>\"Yankton\"</td>\n",
              "      <td>\"Yakima\"</td>\n",
              "      <td>\"Worcester\"</td>\n",
              "      <td>\"Arlington\"</td>\n",
              "      <td>\"Winston-Salem\"</td>\n",
              "    </tr>\n",
              "    <tr>\n",
              "      <th>\"State\"</th>\n",
              "      <td>OH</td>\n",
              "      <td>SD</td>\n",
              "      <td>WA</td>\n",
              "      <td>MA</td>\n",
              "      <td>VA</td>\n",
              "      <td>NC</td>\n",
              "    </tr>\n",
              "    <tr>\n",
              "      <th>\"Age\"</th>\n",
              "      <td>60</td>\n",
              "      <td>12</td>\n",
              "      <td>41</td>\n",
              "      <td>22</td>\n",
              "      <td>5</td>\n",
              "      <td>9</td>\n",
              "    </tr>\n",
              "    <tr>\n",
              "      <th>\"Weight\"</th>\n",
              "      <td>59</td>\n",
              "      <td>86</td>\n",
              "      <td>69</td>\n",
              "      <td>88</td>\n",
              "      <td>64</td>\n",
              "      <td>55</td>\n",
              "    </tr>\n",
              "    <tr>\n",
              "      <th>\"BMI\"</th>\n",
              "      <td>22.02</td>\n",
              "      <td>19.7</td>\n",
              "      <td>24.09</td>\n",
              "      <td>26.97</td>\n",
              "      <td>21.51</td>\n",
              "      <td>18.69</td>\n",
              "    </tr>\n",
              "    <tr>\n",
              "      <th>Complete</th>\n",
              "      <td>85.50%</td>\n",
              "      <td>85.50%</td>\n",
              "      <td>73%</td>\n",
              "      <td>27%</td>\n",
              "      <td>78.30%</td>\n",
              "      <td>25.60%</td>\n",
              "    </tr>\n",
              "    <tr>\n",
              "      <th>Type</th>\n",
              "      <td>1</td>\n",
              "      <td>1</td>\n",
              "      <td>1</td>\n",
              "      <td>1</td>\n",
              "      <td>1</td>\n",
              "      <td>1</td>\n",
              "    </tr>\n",
              "    <tr>\n",
              "      <th>Complete as percentege</th>\n",
              "      <td>85.5</td>\n",
              "      <td>85.5</td>\n",
              "      <td>73</td>\n",
              "      <td>27</td>\n",
              "      <td>78.3</td>\n",
              "      <td>25.6</td>\n",
              "    </tr>\n",
              "  </tbody>\n",
              "</table>\n",
              "</div>"
            ],
            "text/plain": [
              "                                                      0  \\\n",
              "Date                                            10/5/13   \n",
              "Time                                            7:30 AM   \n",
              "FirstName                                          John   \n",
              "LastName                                            Doe   \n",
              "Sex                                                   M   \n",
              "Favourite Artist                       \"Jack Nicholson\"   \n",
              "Unnamed: 6                                          NaN   \n",
              "Fav. Park Location      (40.9099922695, -73.2632063245)   \n",
              "Home Address (Street)                      3526 HIGH ST   \n",
              "Region                                                9   \n",
              "\"City\"                                     \"Youngstown\"   \n",
              "\"State\"                                              OH   \n",
              "\"Age\"                                                60   \n",
              "\"Weight\"                                             59   \n",
              "\"BMI\"                                             22.02   \n",
              "Complete                                         85.50%   \n",
              "Type                                                  1   \n",
              "Complete as percentege                             85.5   \n",
              "\n",
              "                                                      1  \\\n",
              "Date                                            10/9/13   \n",
              "Time                                            8:00 AM   \n",
              "FirstName                                          Jack   \n",
              "LastName                                       McGinnis   \n",
              "Sex                                                   M   \n",
              "Favourite Artist                      \"Roberto Benigni\"   \n",
              "Unnamed: 6                                          NaN   \n",
              "Fav. Park Location      (40.9099922695, -73.2632063245)   \n",
              "Home Address (Street)                       51 OMAHA CT   \n",
              "Region                                                9   \n",
              "\"City\"                                        \"Yankton\"   \n",
              "\"State\"                                              SD   \n",
              "\"Age\"                                                12   \n",
              "\"Weight\"                                             86   \n",
              "\"BMI\"                                              19.7   \n",
              "Complete                                         85.50%   \n",
              "Type                                                  1   \n",
              "Complete as percentege                             85.5   \n",
              "\n",
              "                                                      2  \\\n",
              "Date                                            12/5/13   \n",
              "Time                                            8:30 AM   \n",
              "FirstName                                 John \"Da Man\"   \n",
              "LastName                                         Repici   \n",
              "Sex                                                   M   \n",
              "Favourite Artist                         \"Kevin Spacey\"   \n",
              "Unnamed: 6                                          NaN   \n",
              "Fav. Park Location      (40.9099922695, -73.2632063245)   \n",
              "Home Address (Street)                    2796 BRANCH ST   \n",
              "Region                                                9   \n",
              "\"City\"                                         \"Yakima\"   \n",
              "\"State\"                                              WA   \n",
              "\"Age\"                                                41   \n",
              "\"Weight\"                                             69   \n",
              "\"BMI\"                                             24.09   \n",
              "Complete                                            73%   \n",
              "Type                                                  1   \n",
              "Complete as percentege                               73   \n",
              "\n",
              "                                                      3  \\\n",
              "Date                                             1/2/14   \n",
              "Time                                            9:00 AM   \n",
              "FirstName                                       Stephen   \n",
              "LastName                                          Tyler   \n",
              "Sex                                                   M   \n",
              "Favourite Artist                        \"Russell Crowe\"   \n",
              "Unnamed: 6                                          NaN   \n",
              "Fav. Park Location      (43.3616709338, -76.4360441829)   \n",
              "Home Address (Street)                  2805 JANETTE WAY   \n",
              "Region                                                5   \n",
              "\"City\"                                      \"Worcester\"   \n",
              "\"State\"                                              MA   \n",
              "\"Age\"                                                22   \n",
              "\"Weight\"                                             88   \n",
              "\"BMI\"                                             26.97   \n",
              "Complete                                            27%   \n",
              "Type                                                  1   \n",
              "Complete as percentege                               27   \n",
              "\n",
              "                                                      4  \\\n",
              "Date                                             6/5/14   \n",
              "Time                                            9:30 AM   \n",
              "FirstName                                           NaN   \n",
              "LastName                                       Blankman   \n",
              "Sex                                                   F   \n",
              "Favourite Artist                    \"Denzel Washington\"   \n",
              "Unnamed: 6                                          NaN   \n",
              "Fav. Park Location      (42.9657659397, -78.9531063633)   \n",
              "Home Address (Street)                   6001 MCMAHON DR   \n",
              "Region                                                1   \n",
              "\"City\"                                      \"Arlington\"   \n",
              "\"State\"                                              VA   \n",
              "\"Age\"                                                 5   \n",
              "\"Weight\"                                             64   \n",
              "\"BMI\"                                             21.51   \n",
              "Complete                                         78.30%   \n",
              "Type                                                  1   \n",
              "Complete as percentege                             78.3   \n",
              "\n",
              "                                                      5  \n",
              "Date                                            9/12/14  \n",
              "Time                                           10:00 AM  \n",
              "FirstName                         Joan \"the bone\", Anne  \n",
              "LastName                                            Jet  \n",
              "Sex                                                   M  \n",
              "Favourite Artist                         \"Adrien Brody\"  \n",
              "Unnamed: 6                                          NaN  \n",
              "Fav. Park Location      (40.7475174105, -73.4568035403)  \n",
              "Home Address (Street)                5828 PEPPERMILL CT  \n",
              "Region                                              NaN  \n",
              "\"City\"                                  \"Winston-Salem\"  \n",
              "\"State\"                                              NC  \n",
              "\"Age\"                                                 9  \n",
              "\"Weight\"                                             55  \n",
              "\"BMI\"                                             18.69  \n",
              "Complete                                         25.60%  \n",
              "Type                                                  1  \n",
              "Complete as percentege                             25.6  "
            ]
          },
          "metadata": {},
          "execution_count": 26
        }
      ]
    },
    {
      "cell_type": "code",
      "metadata": {
        "id": "67dSj_MYcEkI",
        "colab": {
          "base_uri": "https://localhost:8080/",
          "height": 258
        },
        "outputId": "1b6237ab-0561-4ecb-8da7-6f56a1b983ac"
      },
      "source": [
        "# are there columns that have no values?\n",
        "df.isnull().head()"
      ],
      "execution_count": 27,
      "outputs": [
        {
          "output_type": "execute_result",
          "data": {
            "text/html": [
              "<div>\n",
              "<style scoped>\n",
              "    .dataframe tbody tr th:only-of-type {\n",
              "        vertical-align: middle;\n",
              "    }\n",
              "\n",
              "    .dataframe tbody tr th {\n",
              "        vertical-align: top;\n",
              "    }\n",
              "\n",
              "    .dataframe thead th {\n",
              "        text-align: right;\n",
              "    }\n",
              "</style>\n",
              "<table border=\"1\" class=\"dataframe\">\n",
              "  <thead>\n",
              "    <tr style=\"text-align: right;\">\n",
              "      <th></th>\n",
              "      <th>Date</th>\n",
              "      <th>Time</th>\n",
              "      <th>FirstName</th>\n",
              "      <th>LastName</th>\n",
              "      <th>Sex</th>\n",
              "      <th>Favourite Artist</th>\n",
              "      <th>Unnamed: 6</th>\n",
              "      <th>Fav. Park Location</th>\n",
              "      <th>Home Address (Street)</th>\n",
              "      <th>Region</th>\n",
              "      <th>\"City\"</th>\n",
              "      <th>\"State\"</th>\n",
              "      <th>\"Age\"</th>\n",
              "      <th>\"Weight\"</th>\n",
              "      <th>\"BMI\"</th>\n",
              "      <th>Complete</th>\n",
              "      <th>Type</th>\n",
              "      <th>Complete as percentege</th>\n",
              "    </tr>\n",
              "  </thead>\n",
              "  <tbody>\n",
              "    <tr>\n",
              "      <th>0</th>\n",
              "      <td>False</td>\n",
              "      <td>False</td>\n",
              "      <td>False</td>\n",
              "      <td>False</td>\n",
              "      <td>False</td>\n",
              "      <td>False</td>\n",
              "      <td>True</td>\n",
              "      <td>False</td>\n",
              "      <td>False</td>\n",
              "      <td>False</td>\n",
              "      <td>False</td>\n",
              "      <td>False</td>\n",
              "      <td>False</td>\n",
              "      <td>False</td>\n",
              "      <td>False</td>\n",
              "      <td>False</td>\n",
              "      <td>False</td>\n",
              "      <td>False</td>\n",
              "    </tr>\n",
              "    <tr>\n",
              "      <th>1</th>\n",
              "      <td>False</td>\n",
              "      <td>False</td>\n",
              "      <td>False</td>\n",
              "      <td>False</td>\n",
              "      <td>False</td>\n",
              "      <td>False</td>\n",
              "      <td>True</td>\n",
              "      <td>False</td>\n",
              "      <td>False</td>\n",
              "      <td>False</td>\n",
              "      <td>False</td>\n",
              "      <td>False</td>\n",
              "      <td>False</td>\n",
              "      <td>False</td>\n",
              "      <td>False</td>\n",
              "      <td>False</td>\n",
              "      <td>False</td>\n",
              "      <td>False</td>\n",
              "    </tr>\n",
              "    <tr>\n",
              "      <th>2</th>\n",
              "      <td>False</td>\n",
              "      <td>False</td>\n",
              "      <td>False</td>\n",
              "      <td>False</td>\n",
              "      <td>False</td>\n",
              "      <td>False</td>\n",
              "      <td>True</td>\n",
              "      <td>False</td>\n",
              "      <td>False</td>\n",
              "      <td>False</td>\n",
              "      <td>False</td>\n",
              "      <td>False</td>\n",
              "      <td>False</td>\n",
              "      <td>False</td>\n",
              "      <td>False</td>\n",
              "      <td>False</td>\n",
              "      <td>False</td>\n",
              "      <td>False</td>\n",
              "    </tr>\n",
              "    <tr>\n",
              "      <th>3</th>\n",
              "      <td>False</td>\n",
              "      <td>False</td>\n",
              "      <td>False</td>\n",
              "      <td>False</td>\n",
              "      <td>False</td>\n",
              "      <td>False</td>\n",
              "      <td>True</td>\n",
              "      <td>False</td>\n",
              "      <td>False</td>\n",
              "      <td>False</td>\n",
              "      <td>False</td>\n",
              "      <td>False</td>\n",
              "      <td>False</td>\n",
              "      <td>False</td>\n",
              "      <td>False</td>\n",
              "      <td>False</td>\n",
              "      <td>False</td>\n",
              "      <td>False</td>\n",
              "    </tr>\n",
              "    <tr>\n",
              "      <th>4</th>\n",
              "      <td>False</td>\n",
              "      <td>False</td>\n",
              "      <td>True</td>\n",
              "      <td>False</td>\n",
              "      <td>False</td>\n",
              "      <td>False</td>\n",
              "      <td>True</td>\n",
              "      <td>False</td>\n",
              "      <td>False</td>\n",
              "      <td>False</td>\n",
              "      <td>False</td>\n",
              "      <td>False</td>\n",
              "      <td>False</td>\n",
              "      <td>False</td>\n",
              "      <td>False</td>\n",
              "      <td>False</td>\n",
              "      <td>False</td>\n",
              "      <td>False</td>\n",
              "    </tr>\n",
              "  </tbody>\n",
              "</table>\n",
              "</div>"
            ],
            "text/plain": [
              "    Date   Time  FirstName  LastName    Sex  Favourite Artist  Unnamed: 6  \\\n",
              "0  False  False      False     False  False             False        True   \n",
              "1  False  False      False     False  False             False        True   \n",
              "2  False  False      False     False  False             False        True   \n",
              "3  False  False      False     False  False             False        True   \n",
              "4  False  False       True     False  False             False        True   \n",
              "\n",
              "   Fav. Park Location  Home Address (Street)  Region  \"City\"  \"State\"  \"Age\"  \\\n",
              "0               False                  False   False   False    False  False   \n",
              "1               False                  False   False   False    False  False   \n",
              "2               False                  False   False   False    False  False   \n",
              "3               False                  False   False   False    False  False   \n",
              "4               False                  False   False   False    False  False   \n",
              "\n",
              "   \"Weight\"  \"BMI\"  Complete   Type  Complete as percentege  \n",
              "0     False  False     False  False                   False  \n",
              "1     False  False     False  False                   False  \n",
              "2     False  False     False  False                   False  \n",
              "3     False  False     False  False                   False  \n",
              "4     False  False     False  False                   False  "
            ]
          },
          "metadata": {},
          "execution_count": 27
        }
      ]
    },
    {
      "cell_type": "code",
      "metadata": {
        "id": "v1qx8DnxcEkI",
        "colab": {
          "base_uri": "https://localhost:8080/"
        },
        "outputId": "d0b613a7-33c5-4b3d-dcd8-b234e03d422d"
      },
      "source": [
        "df.isnull().sum()"
      ],
      "execution_count": 28,
      "outputs": [
        {
          "output_type": "execute_result",
          "data": {
            "text/plain": [
              "Date                       2\n",
              "Time                       2\n",
              "FirstName                  4\n",
              "LastName                   3\n",
              "Sex                        2\n",
              "Favourite Artist           2\n",
              "Unnamed: 6                17\n",
              "Fav. Park Location         2\n",
              "Home Address (Street)      3\n",
              "Region                     3\n",
              "\"City\"                     2\n",
              "\"State\"                    2\n",
              "\"Age\"                      2\n",
              "\"Weight\"                   2\n",
              "\"BMI\"                      2\n",
              "Complete                   2\n",
              "Type                       2\n",
              "Complete as percentege     2\n",
              "dtype: int64"
            ]
          },
          "metadata": {},
          "execution_count": 28
        }
      ]
    },
    {
      "cell_type": "code",
      "metadata": {
        "id": "kI9-XsdNcEkI",
        "colab": {
          "base_uri": "https://localhost:8080/"
        },
        "outputId": "3d38ebdc-7895-420b-dc3d-0bdbbfe0667a"
      },
      "source": [
        "df.shape"
      ],
      "execution_count": 29,
      "outputs": [
        {
          "output_type": "execute_result",
          "data": {
            "text/plain": [
              "(17, 18)"
            ]
          },
          "metadata": {},
          "execution_count": 29
        }
      ]
    },
    {
      "cell_type": "code",
      "metadata": {
        "id": "Ffgydu10cEkI",
        "colab": {
          "base_uri": "https://localhost:8080/"
        },
        "outputId": "a4745219-b096-44e4-cb83-c26290ccd606"
      },
      "source": [
        "# one of the columns is completely empty (probably we skipped that column accidentally)\n",
        "df.isnull().sum()==df.shape[0]"
      ],
      "execution_count": 30,
      "outputs": [
        {
          "output_type": "execute_result",
          "data": {
            "text/plain": [
              "Date                      False\n",
              "Time                      False\n",
              "FirstName                 False\n",
              "LastName                  False\n",
              "Sex                       False\n",
              "Favourite Artist          False\n",
              "Unnamed: 6                 True\n",
              "Fav. Park Location        False\n",
              "Home Address (Street)     False\n",
              "Region                    False\n",
              "\"City\"                    False\n",
              "\"State\"                   False\n",
              "\"Age\"                     False\n",
              "\"Weight\"                  False\n",
              "\"BMI\"                     False\n",
              "Complete                  False\n",
              "Type                      False\n",
              "Complete as percentege    False\n",
              "dtype: bool"
            ]
          },
          "metadata": {},
          "execution_count": 30
        }
      ]
    },
    {
      "cell_type": "code",
      "metadata": {
        "id": "9t2ele5UcEkI"
      },
      "source": [
        "# let's drop columns that are not useful\n",
        "series_of_bool_indicating_whether_column_is_empty = df.isnull().sum()==df.shape[0]\n",
        "\n",
        "for col_name, bool_value in series_of_bool_indicating_whether_column_is_empty.iteritems():\n",
        "    if bool_value:\n",
        "        df.drop([col_name],axis=1,inplace=True)"
      ],
      "execution_count": 31,
      "outputs": []
    },
    {
      "cell_type": "code",
      "metadata": {
        "id": "4ARrRUEgcEkJ",
        "colab": {
          "base_uri": "https://localhost:8080/"
        },
        "outputId": "5e620f80-862f-4adc-8726-a1f8e31842d0"
      },
      "source": [
        "df.shape"
      ],
      "execution_count": 32,
      "outputs": [
        {
          "output_type": "execute_result",
          "data": {
            "text/plain": [
              "(17, 17)"
            ]
          },
          "metadata": {},
          "execution_count": 32
        }
      ]
    },
    {
      "cell_type": "code",
      "metadata": {
        "id": "cPPIMaFmcEkJ",
        "colab": {
          "base_uri": "https://localhost:8080/"
        },
        "outputId": "6b83482f-1f96-4e17-f139-f12ab460bf5c"
      },
      "source": [
        "len(df)"
      ],
      "execution_count": 33,
      "outputs": [
        {
          "output_type": "execute_result",
          "data": {
            "text/plain": [
              "17"
            ]
          },
          "metadata": {},
          "execution_count": 33
        }
      ]
    },
    {
      "cell_type": "code",
      "metadata": {
        "id": "zcwgEAhQcEkJ",
        "colab": {
          "base_uri": "https://localhost:8080/"
        },
        "outputId": "a020d605-a154-43c7-b770-6df910ff1b91"
      },
      "source": [
        "df.isnull().sum()/len(df)"
      ],
      "execution_count": 34,
      "outputs": [
        {
          "output_type": "execute_result",
          "data": {
            "text/plain": [
              "Date                      0.117647\n",
              "Time                      0.117647\n",
              "FirstName                 0.235294\n",
              "LastName                  0.176471\n",
              "Sex                       0.117647\n",
              "Favourite Artist          0.117647\n",
              "Fav. Park Location        0.117647\n",
              "Home Address (Street)     0.176471\n",
              "Region                    0.176471\n",
              "\"City\"                    0.117647\n",
              "\"State\"                   0.117647\n",
              "\"Age\"                     0.117647\n",
              "\"Weight\"                  0.117647\n",
              "\"BMI\"                     0.117647\n",
              "Complete                  0.117647\n",
              "Type                      0.117647\n",
              "Complete as percentege    0.117647\n",
              "dtype: float64"
            ]
          },
          "metadata": {},
          "execution_count": 34
        }
      ]
    },
    {
      "cell_type": "code",
      "metadata": {
        "id": "QxxMh7m2cEkJ",
        "colab": {
          "base_uri": "https://localhost:8080/"
        },
        "outputId": "247cd787-572d-4d96-b379-b09ae486496d"
      },
      "source": [
        "df['FirstName'].isnull().sum()"
      ],
      "execution_count": 35,
      "outputs": [
        {
          "output_type": "execute_result",
          "data": {
            "text/plain": [
              "4"
            ]
          },
          "metadata": {},
          "execution_count": 35
        }
      ]
    },
    {
      "cell_type": "code",
      "metadata": {
        "id": "KsBZScx8cEkJ",
        "colab": {
          "base_uri": "https://localhost:8080/"
        },
        "outputId": "d3116b94-a329-4061-ee9a-bd51e96aa4d1"
      },
      "source": [
        "# Strange! when we look at the CSV file, we only see two empty cells. What is going on? Let's investigate more.\n",
        "df['Date'].isnull().sum()"
      ],
      "execution_count": 36,
      "outputs": [
        {
          "output_type": "execute_result",
          "data": {
            "text/plain": [
              "2"
            ]
          },
          "metadata": {},
          "execution_count": 36
        }
      ]
    },
    {
      "cell_type": "code",
      "metadata": {
        "id": "kUC0I7a8cEkK",
        "colab": {
          "base_uri": "https://localhost:8080/",
          "height": 165
        },
        "outputId": "0d428058-3a48-485f-cce9-8bbc428d4f47"
      },
      "source": [
        "# still strange. according csv file, the Date column is full!\n",
        "# let's print the rows where the Date cell is null\n",
        "df[df['Date'].isnull()]"
      ],
      "execution_count": 37,
      "outputs": [
        {
          "output_type": "execute_result",
          "data": {
            "text/html": [
              "<div>\n",
              "<style scoped>\n",
              "    .dataframe tbody tr th:only-of-type {\n",
              "        vertical-align: middle;\n",
              "    }\n",
              "\n",
              "    .dataframe tbody tr th {\n",
              "        vertical-align: top;\n",
              "    }\n",
              "\n",
              "    .dataframe thead th {\n",
              "        text-align: right;\n",
              "    }\n",
              "</style>\n",
              "<table border=\"1\" class=\"dataframe\">\n",
              "  <thead>\n",
              "    <tr style=\"text-align: right;\">\n",
              "      <th></th>\n",
              "      <th>Date</th>\n",
              "      <th>Time</th>\n",
              "      <th>FirstName</th>\n",
              "      <th>LastName</th>\n",
              "      <th>Sex</th>\n",
              "      <th>Favourite Artist</th>\n",
              "      <th>Fav. Park Location</th>\n",
              "      <th>Home Address (Street)</th>\n",
              "      <th>Region</th>\n",
              "      <th>\"City\"</th>\n",
              "      <th>\"State\"</th>\n",
              "      <th>\"Age\"</th>\n",
              "      <th>\"Weight\"</th>\n",
              "      <th>\"BMI\"</th>\n",
              "      <th>Complete</th>\n",
              "      <th>Type</th>\n",
              "      <th>Complete as percentege</th>\n",
              "    </tr>\n",
              "  </thead>\n",
              "  <tbody>\n",
              "    <tr>\n",
              "      <th>15</th>\n",
              "      <td>NaN</td>\n",
              "      <td>NaN</td>\n",
              "      <td>NaN</td>\n",
              "      <td>NaN</td>\n",
              "      <td>NaN</td>\n",
              "      <td>NaN</td>\n",
              "      <td>NaN</td>\n",
              "      <td>NaN</td>\n",
              "      <td>NaN</td>\n",
              "      <td>NaN</td>\n",
              "      <td>NaN</td>\n",
              "      <td>NaN</td>\n",
              "      <td>NaN</td>\n",
              "      <td>NaN</td>\n",
              "      <td>NaN</td>\n",
              "      <td>NaN</td>\n",
              "      <td>NaN</td>\n",
              "    </tr>\n",
              "    <tr>\n",
              "      <th>16</th>\n",
              "      <td>NaN</td>\n",
              "      <td>NaN</td>\n",
              "      <td>NaN</td>\n",
              "      <td>NaN</td>\n",
              "      <td>NaN</td>\n",
              "      <td>NaN</td>\n",
              "      <td>NaN</td>\n",
              "      <td>NaN</td>\n",
              "      <td>NaN</td>\n",
              "      <td>NaN</td>\n",
              "      <td>NaN</td>\n",
              "      <td>NaN</td>\n",
              "      <td>NaN</td>\n",
              "      <td>NaN</td>\n",
              "      <td>NaN</td>\n",
              "      <td>NaN</td>\n",
              "      <td>NaN</td>\n",
              "    </tr>\n",
              "  </tbody>\n",
              "</table>\n",
              "</div>"
            ],
            "text/plain": [
              "   Date Time FirstName LastName  Sex Favourite Artist Fav. Park Location  \\\n",
              "15  NaN  NaN       NaN      NaN  NaN              NaN                NaN   \n",
              "16  NaN  NaN       NaN      NaN  NaN              NaN                NaN   \n",
              "\n",
              "   Home Address (Street)  Region \"City\" \"State\"  \"Age\"  \"Weight\"  \"BMI\"  \\\n",
              "15                   NaN     NaN    NaN     NaN    NaN       NaN    NaN   \n",
              "16                   NaN     NaN    NaN     NaN    NaN       NaN    NaN   \n",
              "\n",
              "   Complete  Type  Complete as percentege  \n",
              "15      NaN   NaN                     NaN  \n",
              "16      NaN   NaN                     NaN  "
            ]
          },
          "metadata": {},
          "execution_count": 37
        }
      ]
    },
    {
      "cell_type": "code",
      "metadata": {
        "id": "v4UU_lNocEkK"
      },
      "source": [
        "# Now we know the problem: even though there is no entry, the last 2 rows was accepted as regular rows.\n",
        "# The last two rows are actually empty! let's get rid off them\n",
        "series_of_bool_indicating_whether_column_is_empty = df.T.isnull().sum()==df.T.shape[0]\n",
        "for col_name, bool_value in series_of_bool_indicating_whether_column_is_empty.iteritems():\n",
        "    if bool_value:\n",
        "        df.drop([col_name],axis=0,inplace=True)"
      ],
      "execution_count": 38,
      "outputs": []
    },
    {
      "cell_type": "code",
      "metadata": {
        "id": "92ooFnEWcEkK",
        "colab": {
          "base_uri": "https://localhost:8080/"
        },
        "outputId": "e9fa8a9b-3629-4da0-ada0-85021bbce153"
      },
      "source": [
        "df.shape"
      ],
      "execution_count": 39,
      "outputs": [
        {
          "output_type": "execute_result",
          "data": {
            "text/plain": [
              "(15, 17)"
            ]
          },
          "metadata": {},
          "execution_count": 39
        }
      ]
    },
    {
      "cell_type": "code",
      "metadata": {
        "id": "4RIQNZrzcEkK",
        "colab": {
          "base_uri": "https://localhost:8080/"
        },
        "outputId": "b99f2fd5-8998-4483-a851-ba43bfd6c81e"
      },
      "source": [
        "df['FirstName'].isnull().sum()"
      ],
      "execution_count": 40,
      "outputs": [
        {
          "output_type": "execute_result",
          "data": {
            "text/plain": [
              "2"
            ]
          },
          "metadata": {},
          "execution_count": 40
        }
      ]
    },
    {
      "cell_type": "code",
      "metadata": {
        "id": "K9ysLNQxcEkK",
        "colab": {
          "base_uri": "https://localhost:8080/",
          "height": 394
        },
        "outputId": "954fdce7-28c0-4d5b-cb9f-2d74efe4daf0"
      },
      "source": [
        "df.head()"
      ],
      "execution_count": 41,
      "outputs": [
        {
          "output_type": "execute_result",
          "data": {
            "text/html": [
              "<div>\n",
              "<style scoped>\n",
              "    .dataframe tbody tr th:only-of-type {\n",
              "        vertical-align: middle;\n",
              "    }\n",
              "\n",
              "    .dataframe tbody tr th {\n",
              "        vertical-align: top;\n",
              "    }\n",
              "\n",
              "    .dataframe thead th {\n",
              "        text-align: right;\n",
              "    }\n",
              "</style>\n",
              "<table border=\"1\" class=\"dataframe\">\n",
              "  <thead>\n",
              "    <tr style=\"text-align: right;\">\n",
              "      <th></th>\n",
              "      <th>Date</th>\n",
              "      <th>Time</th>\n",
              "      <th>FirstName</th>\n",
              "      <th>LastName</th>\n",
              "      <th>Sex</th>\n",
              "      <th>Favourite Artist</th>\n",
              "      <th>Fav. Park Location</th>\n",
              "      <th>Home Address (Street)</th>\n",
              "      <th>Region</th>\n",
              "      <th>\"City\"</th>\n",
              "      <th>\"State\"</th>\n",
              "      <th>\"Age\"</th>\n",
              "      <th>\"Weight\"</th>\n",
              "      <th>\"BMI\"</th>\n",
              "      <th>Complete</th>\n",
              "      <th>Type</th>\n",
              "      <th>Complete as percentege</th>\n",
              "    </tr>\n",
              "  </thead>\n",
              "  <tbody>\n",
              "    <tr>\n",
              "      <th>0</th>\n",
              "      <td>10/5/13</td>\n",
              "      <td>7:30 AM</td>\n",
              "      <td>John</td>\n",
              "      <td>Doe</td>\n",
              "      <td>M</td>\n",
              "      <td>\"Jack Nicholson\"</td>\n",
              "      <td>(40.9099922695, -73.2632063245)</td>\n",
              "      <td>3526 HIGH ST</td>\n",
              "      <td>9.0</td>\n",
              "      <td>\"Youngstown\"</td>\n",
              "      <td>OH</td>\n",
              "      <td>60.0</td>\n",
              "      <td>59.0</td>\n",
              "      <td>22.02</td>\n",
              "      <td>85.50%</td>\n",
              "      <td>1.0</td>\n",
              "      <td>85.5</td>\n",
              "    </tr>\n",
              "    <tr>\n",
              "      <th>1</th>\n",
              "      <td>10/9/13</td>\n",
              "      <td>8:00 AM</td>\n",
              "      <td>Jack</td>\n",
              "      <td>McGinnis</td>\n",
              "      <td>M</td>\n",
              "      <td>\"Roberto Benigni\"</td>\n",
              "      <td>(40.9099922695, -73.2632063245)</td>\n",
              "      <td>51 OMAHA CT</td>\n",
              "      <td>9.0</td>\n",
              "      <td>\"Yankton\"</td>\n",
              "      <td>SD</td>\n",
              "      <td>12.0</td>\n",
              "      <td>86.0</td>\n",
              "      <td>19.70</td>\n",
              "      <td>85.50%</td>\n",
              "      <td>1.0</td>\n",
              "      <td>85.5</td>\n",
              "    </tr>\n",
              "    <tr>\n",
              "      <th>2</th>\n",
              "      <td>12/5/13</td>\n",
              "      <td>8:30 AM</td>\n",
              "      <td>John \"Da Man\"</td>\n",
              "      <td>Repici</td>\n",
              "      <td>M</td>\n",
              "      <td>\"Kevin Spacey\"</td>\n",
              "      <td>(40.9099922695, -73.2632063245)</td>\n",
              "      <td>2796 BRANCH ST</td>\n",
              "      <td>9.0</td>\n",
              "      <td>\"Yakima\"</td>\n",
              "      <td>WA</td>\n",
              "      <td>41.0</td>\n",
              "      <td>69.0</td>\n",
              "      <td>24.09</td>\n",
              "      <td>73%</td>\n",
              "      <td>1.0</td>\n",
              "      <td>73.0</td>\n",
              "    </tr>\n",
              "    <tr>\n",
              "      <th>3</th>\n",
              "      <td>1/2/14</td>\n",
              "      <td>9:00 AM</td>\n",
              "      <td>Stephen</td>\n",
              "      <td>Tyler</td>\n",
              "      <td>M</td>\n",
              "      <td>\"Russell Crowe\"</td>\n",
              "      <td>(43.3616709338, -76.4360441829)</td>\n",
              "      <td>2805 JANETTE WAY</td>\n",
              "      <td>5.0</td>\n",
              "      <td>\"Worcester\"</td>\n",
              "      <td>MA</td>\n",
              "      <td>22.0</td>\n",
              "      <td>88.0</td>\n",
              "      <td>26.97</td>\n",
              "      <td>27%</td>\n",
              "      <td>1.0</td>\n",
              "      <td>27.0</td>\n",
              "    </tr>\n",
              "    <tr>\n",
              "      <th>4</th>\n",
              "      <td>6/5/14</td>\n",
              "      <td>9:30 AM</td>\n",
              "      <td>NaN</td>\n",
              "      <td>Blankman</td>\n",
              "      <td>F</td>\n",
              "      <td>\"Denzel Washington\"</td>\n",
              "      <td>(42.9657659397, -78.9531063633)</td>\n",
              "      <td>6001 MCMAHON DR</td>\n",
              "      <td>1.0</td>\n",
              "      <td>\"Arlington\"</td>\n",
              "      <td>VA</td>\n",
              "      <td>5.0</td>\n",
              "      <td>64.0</td>\n",
              "      <td>21.51</td>\n",
              "      <td>78.30%</td>\n",
              "      <td>1.0</td>\n",
              "      <td>78.3</td>\n",
              "    </tr>\n",
              "  </tbody>\n",
              "</table>\n",
              "</div>"
            ],
            "text/plain": [
              "      Date     Time      FirstName  LastName Sex      Favourite Artist  \\\n",
              "0  10/5/13  7:30 AM           John       Doe   M      \"Jack Nicholson\"   \n",
              "1  10/9/13  8:00 AM           Jack  McGinnis   M     \"Roberto Benigni\"   \n",
              "2  12/5/13  8:30 AM  John \"Da Man\"    Repici   M        \"Kevin Spacey\"   \n",
              "3   1/2/14  9:00 AM        Stephen     Tyler   M       \"Russell Crowe\"   \n",
              "4   6/5/14  9:30 AM            NaN  Blankman   F   \"Denzel Washington\"   \n",
              "\n",
              "                Fav. Park Location Home Address (Street)  Region  \\\n",
              "0  (40.9099922695, -73.2632063245)          3526 HIGH ST     9.0   \n",
              "1  (40.9099922695, -73.2632063245)           51 OMAHA CT     9.0   \n",
              "2  (40.9099922695, -73.2632063245)        2796 BRANCH ST     9.0   \n",
              "3  (43.3616709338, -76.4360441829)      2805 JANETTE WAY     5.0   \n",
              "4  (42.9657659397, -78.9531063633)       6001 MCMAHON DR     1.0   \n",
              "\n",
              "          \"City\" \"State\"  \"Age\"  \"Weight\"  \"BMI\" Complete  Type  \\\n",
              "0   \"Youngstown\"      OH   60.0      59.0  22.02   85.50%   1.0   \n",
              "1      \"Yankton\"      SD   12.0      86.0  19.70   85.50%   1.0   \n",
              "2       \"Yakima\"      WA   41.0      69.0  24.09      73%   1.0   \n",
              "3    \"Worcester\"      MA   22.0      88.0  26.97      27%   1.0   \n",
              "4    \"Arlington\"      VA    5.0      64.0  21.51   78.30%   1.0   \n",
              "\n",
              "   Complete as percentege  \n",
              "0                    85.5  \n",
              "1                    85.5  \n",
              "2                    73.0  \n",
              "3                    27.0  \n",
              "4                    78.3  "
            ]
          },
          "metadata": {},
          "execution_count": 41
        }
      ]
    },
    {
      "cell_type": "code",
      "metadata": {
        "id": "lTApN6D7cEkK",
        "colab": {
          "base_uri": "https://localhost:8080/",
          "height": 281
        },
        "outputId": "33dbc0c4-d5f1-497f-a21d-e1e41fe8d7c9"
      },
      "source": [
        "df.tail(3)"
      ],
      "execution_count": 42,
      "outputs": [
        {
          "output_type": "execute_result",
          "data": {
            "text/html": [
              "<div>\n",
              "<style scoped>\n",
              "    .dataframe tbody tr th:only-of-type {\n",
              "        vertical-align: middle;\n",
              "    }\n",
              "\n",
              "    .dataframe tbody tr th {\n",
              "        vertical-align: top;\n",
              "    }\n",
              "\n",
              "    .dataframe thead th {\n",
              "        text-align: right;\n",
              "    }\n",
              "</style>\n",
              "<table border=\"1\" class=\"dataframe\">\n",
              "  <thead>\n",
              "    <tr style=\"text-align: right;\">\n",
              "      <th></th>\n",
              "      <th>Date</th>\n",
              "      <th>Time</th>\n",
              "      <th>FirstName</th>\n",
              "      <th>LastName</th>\n",
              "      <th>Sex</th>\n",
              "      <th>Favourite Artist</th>\n",
              "      <th>Fav. Park Location</th>\n",
              "      <th>Home Address (Street)</th>\n",
              "      <th>Region</th>\n",
              "      <th>\"City\"</th>\n",
              "      <th>\"State\"</th>\n",
              "      <th>\"Age\"</th>\n",
              "      <th>\"Weight\"</th>\n",
              "      <th>\"BMI\"</th>\n",
              "      <th>Complete</th>\n",
              "      <th>Type</th>\n",
              "      <th>Complete as percentege</th>\n",
              "    </tr>\n",
              "  </thead>\n",
              "  <tbody>\n",
              "    <tr>\n",
              "      <th>12</th>\n",
              "      <td>10/15/17</td>\n",
              "      <td>1:30 PM</td>\n",
              "      <td>Robert</td>\n",
              "      <td>Robertson</td>\n",
              "      <td>M</td>\n",
              "      <td>\"Jeff Bridges\"</td>\n",
              "      <td>(43.3417081221, -76.6913106828)</td>\n",
              "      <td>2930 LA ROSA RD</td>\n",
              "      <td>4.0</td>\n",
              "      <td>\"Williamson\"</td>\n",
              "      <td>WV</td>\n",
              "      <td>2.0</td>\n",
              "      <td>66.0</td>\n",
              "      <td>20.68</td>\n",
              "      <td>75.50%</td>\n",
              "      <td>1.0</td>\n",
              "      <td>75.5</td>\n",
              "    </tr>\n",
              "    <tr>\n",
              "      <th>13</th>\n",
              "      <td>10/5/18</td>\n",
              "      <td>2:00 PM</td>\n",
              "      <td>Emily</td>\n",
              "      <td>Foxx</td>\n",
              "      <td>F</td>\n",
              "      <td>\"Colin Firth\"</td>\n",
              "      <td>(43.0469783183, -75.9818848047)</td>\n",
              "      <td>2113 KIRK WAY</td>\n",
              "      <td>5.0</td>\n",
              "      <td>\"Wichita Falls\"</td>\n",
              "      <td>TX</td>\n",
              "      <td>13.0</td>\n",
              "      <td>55.0</td>\n",
              "      <td>20.97</td>\n",
              "      <td>73%</td>\n",
              "      <td>1.0</td>\n",
              "      <td>73.0</td>\n",
              "    </tr>\n",
              "    <tr>\n",
              "      <th>14</th>\n",
              "      <td>10/5/19</td>\n",
              "      <td>2:30 PM</td>\n",
              "      <td>Susan</td>\n",
              "      <td>Mancini</td>\n",
              "      <td>F</td>\n",
              "      <td>\"Jean Dujardin\"</td>\n",
              "      <td>(42.0930548903, -77.1547655357)</td>\n",
              "      <td>4533 LOCH HAVEN WAY</td>\n",
              "      <td>4.0</td>\n",
              "      <td>\"Wichita\"</td>\n",
              "      <td>KS</td>\n",
              "      <td>15.0</td>\n",
              "      <td>68.0</td>\n",
              "      <td>27.30</td>\n",
              "      <td>27%</td>\n",
              "      <td>1.0</td>\n",
              "      <td>27.0</td>\n",
              "    </tr>\n",
              "  </tbody>\n",
              "</table>\n",
              "</div>"
            ],
            "text/plain": [
              "        Date     Time FirstName   LastName Sex  Favourite Artist  \\\n",
              "12  10/15/17  1:30 PM    Robert  Robertson   M    \"Jeff Bridges\"   \n",
              "13   10/5/18  2:00 PM     Emily       Foxx   F     \"Colin Firth\"   \n",
              "14   10/5/19  2:30 PM     Susan    Mancini   F   \"Jean Dujardin\"   \n",
              "\n",
              "                 Fav. Park Location Home Address (Street)  Region  \\\n",
              "12  (43.3417081221, -76.6913106828)       2930 LA ROSA RD     4.0   \n",
              "13  (43.0469783183, -75.9818848047)         2113 KIRK WAY     5.0   \n",
              "14  (42.0930548903, -77.1547655357)   4533 LOCH HAVEN WAY     4.0   \n",
              "\n",
              "              \"City\" \"State\"  \"Age\"  \"Weight\"  \"BMI\" Complete  Type  \\\n",
              "12      \"Williamson\"      WV    2.0      66.0  20.68   75.50%   1.0   \n",
              "13   \"Wichita Falls\"      TX   13.0      55.0  20.97      73%   1.0   \n",
              "14         \"Wichita\"      KS   15.0      68.0  27.30      27%   1.0   \n",
              "\n",
              "    Complete as percentege  \n",
              "12                    75.5  \n",
              "13                    73.0  \n",
              "14                    27.0  "
            ]
          },
          "metadata": {},
          "execution_count": 42
        }
      ]
    },
    {
      "cell_type": "code",
      "metadata": {
        "id": "Chtam1eqcEkK"
      },
      "source": [
        "#However, this is python. there must be an easier way of removing empty rows and columns "
      ],
      "execution_count": 43,
      "outputs": []
    },
    {
      "cell_type": "code",
      "metadata": {
        "id": "P-17tFWHcEkK",
        "colab": {
          "base_uri": "https://localhost:8080/"
        },
        "outputId": "a5f521d7-f30d-4f9a-f454-45cc0440bcd4"
      },
      "source": [
        "url = 'https://raw.githubusercontent.com/simsekergun/DATA601/main/2021Fall/datasets/sample_dataset.csv'\n",
        "df = pandas.read_csv(url, skiprows=1, low_memory=False)\n",
        "print('before:',df.shape)\n",
        "#\n",
        "df.dropna(how='all',axis=0,inplace=True) # rows \n",
        "df.dropna(how='all',axis=1,inplace=True) # columns\n",
        "#\n",
        "print('after:',df.shape)"
      ],
      "execution_count": 44,
      "outputs": [
        {
          "output_type": "stream",
          "name": "stdout",
          "text": [
            "before: (17, 17)\n",
            "after: (15, 16)\n"
          ]
        }
      ]
    },
    {
      "cell_type": "code",
      "metadata": {
        "id": "Jo3UMWfycEkL",
        "colab": {
          "base_uri": "https://localhost:8080/"
        },
        "outputId": "f67b709c-7617-425c-b99f-13b790bcf438"
      },
      "source": [
        "# Are there columns where all rows have the same value?\n",
        "for this_column in df.columns:\n",
        "    if (df[this_column].nunique()==1):\n",
        "        print(this_column)"
      ],
      "execution_count": 45,
      "outputs": [
        {
          "output_type": "stream",
          "name": "stdout",
          "text": [
            "Type\n"
          ]
        }
      ]
    },
    {
      "cell_type": "code",
      "metadata": {
        "id": "mDJvIlxqcEkL",
        "colab": {
          "base_uri": "https://localhost:8080/"
        },
        "outputId": "4a567242-e234-4f85-a51c-e8455e9a87d5"
      },
      "source": [
        "print('before:',df.shape)\n",
        "#\n",
        "for this_column in df.columns:\n",
        "    if (df[this_column].nunique()==1):\n",
        "        df.drop([this_column],axis=1,inplace=True)\n",
        "#        \n",
        "print('after:',df.shape)"
      ],
      "execution_count": 46,
      "outputs": [
        {
          "output_type": "stream",
          "name": "stdout",
          "text": [
            "before: (15, 16)\n",
            "after: (15, 15)\n"
          ]
        }
      ]
    },
    {
      "cell_type": "code",
      "metadata": {
        "id": "hF2sdrjMcEkL"
      },
      "source": [
        "# We can inspect the remaining columns\n",
        "def uniq_per_col(df,count):\n",
        "    for this_column in df.columns:\n",
        "        print(\"==== \",this_column,\"has\",df[this_column].nunique(),\"unique entries ====\")\n",
        "        print(df[this_column].value_counts().head(count))"
      ],
      "execution_count": 47,
      "outputs": []
    },
    {
      "cell_type": "code",
      "metadata": {
        "id": "hw9ZCnDWcEkL",
        "colab": {
          "base_uri": "https://localhost:8080/"
        },
        "outputId": "5cc4a5da-82de-4585-91b2-b7cd7b488190"
      },
      "source": [
        "uniq_per_col(df,5)"
      ],
      "execution_count": 48,
      "outputs": [
        {
          "output_type": "stream",
          "name": "stdout",
          "text": [
            "====  Date has 13 unique entries ====\n",
            "10/5/16     2\n",
            "10/5/14     2\n",
            "10/15/17    1\n",
            "10/5/18     1\n",
            "10/5/19     1\n",
            "Name: Date, dtype: int64\n",
            "====  Time has 15 unique entries ====\n",
            "1:00 PM    1\n",
            "2:30 PM    1\n",
            "7:30 AM    1\n",
            "8:00 AM    1\n",
            "1:30 PM    1\n",
            "Name: Time, dtype: int64\n",
            "====  FirstName has 12 unique entries ====\n",
            "Susan                    2\n",
            "Maria                    1\n",
            "John \"Da Man\"            1\n",
            "Joan \"the bone\", Anne    1\n",
            "John                     1\n",
            "Name: FirstName, dtype: int64\n",
            "====  LastName has 14 unique entries ====\n",
            "Robertson    1\n",
            "Marley       1\n",
            "Repici       1\n",
            "Mancini      1\n",
            "Jackson      1\n",
            "Name: LastName, dtype: int64\n",
            "====  Sex has 2 unique entries ====\n",
            "F    8\n",
            "M    7\n",
            "Name: Sex, dtype: int64\n",
            "====  Favourite Artist has 14 unique entries ====\n",
            " \"Sean Penn\"                 2\n",
            " \"Philip Seymour Hoffman\"    1\n",
            " \"Kevin Spacey\"              1\n",
            " \"Jeff Bridges\"              1\n",
            " \"Roberto Benigni\"           1\n",
            "Name: Favourite Artist, dtype: int64\n",
            "====  Fav. Park Location has 9 unique entries ====\n",
            "(40.7475174105, -73.4568035403)    5\n",
            "(40.9099922695, -73.2632063245)    3\n",
            "(43.3616709338, -76.4360441829)    1\n",
            "(42.2155402507, -75.8362368401)    1\n",
            "(42.6731942171, -76.8677249793)    1\n",
            "Name: Fav. Park Location, dtype: int64\n",
            "====  Home Address (Street) has 14 unique entries ====\n",
            "2796 BRANCH ST                     1\n",
            "4533 LOCH HAVEN WAY                1\n",
            "2561 19TH AVE                      1\n",
            "2805 JANETTE WAY                   1\n",
            "11150 TRINITY RIVER DR Unit 114    1\n",
            "Name: Home Address (Street), dtype: int64\n",
            "====  Region has 4 unique entries ====\n",
            "9.0    7\n",
            "4.0    3\n",
            "5.0    3\n",
            "1.0    1\n",
            "Name: Region, dtype: int64\n",
            "====  \"City\" has 14 unique entries ====\n",
            " \"Wilmington\"      2\n",
            " \"Wichita\"         1\n",
            " \"Williamsport\"    1\n",
            " \"Williamson\"      1\n",
            " \"Youngstown\"      1\n",
            "Name: \"City\", dtype: int64\n",
            "====  \"State\" has 14 unique entries ====\n",
            " NC    2\n",
            " MB    1\n",
            " MA    1\n",
            " SD    1\n",
            " DE    1\n",
            "Name: \"State\", dtype: int64\n",
            "====  \"Age\" has 14 unique entries ====\n",
            "18.0    2\n",
            "15.0    1\n",
            "13.0    1\n",
            "2.0     1\n",
            "50.0    1\n",
            "Name: \"Age\", dtype: int64\n",
            "====  \"Weight\" has 12 unique entries ====\n",
            "68.0    2\n",
            "55.0    2\n",
            "69.0    2\n",
            "66.0    1\n",
            "47.0    1\n",
            "Name: \"Weight\", dtype: int64\n",
            "====  \"BMI\" has 15 unique entries ====\n",
            "21.88    1\n",
            "20.68    1\n",
            "27.30    1\n",
            "30.26    1\n",
            "24.09    1\n",
            "Name: \"BMI\", dtype: int64\n",
            "====  Complete has 6 unique entries ====\n",
            "85.50%    4\n",
            "73%       3\n",
            "27%       3\n",
            "25.60%    2\n",
            "78.30%    2\n",
            "Name: Complete, dtype: int64\n"
          ]
        }
      ]
    },
    {
      "cell_type": "code",
      "metadata": {
        "id": "Q8VVtrLJcEkL",
        "colab": {
          "base_uri": "https://localhost:8080/"
        },
        "outputId": "eb31dc93-d5c3-4c4d-cdcb-94c3bf09ac6c"
      },
      "source": [
        "!pip install missingno"
      ],
      "execution_count": 49,
      "outputs": [
        {
          "output_type": "stream",
          "name": "stdout",
          "text": [
            "Requirement already satisfied: missingno in /usr/local/lib/python3.7/dist-packages (0.5.0)\n",
            "Requirement already satisfied: matplotlib in /usr/local/lib/python3.7/dist-packages (from missingno) (3.2.2)\n",
            "Requirement already satisfied: seaborn in /usr/local/lib/python3.7/dist-packages (from missingno) (0.11.2)\n",
            "Requirement already satisfied: numpy in /usr/local/lib/python3.7/dist-packages (from missingno) (1.19.5)\n",
            "Requirement already satisfied: scipy in /usr/local/lib/python3.7/dist-packages (from missingno) (1.4.1)\n",
            "Requirement already satisfied: python-dateutil>=2.1 in /usr/local/lib/python3.7/dist-packages (from matplotlib->missingno) (2.8.2)\n",
            "Requirement already satisfied: kiwisolver>=1.0.1 in /usr/local/lib/python3.7/dist-packages (from matplotlib->missingno) (1.3.2)\n",
            "Requirement already satisfied: cycler>=0.10 in /usr/local/lib/python3.7/dist-packages (from matplotlib->missingno) (0.10.0)\n",
            "Requirement already satisfied: pyparsing!=2.0.4,!=2.1.2,!=2.1.6,>=2.0.1 in /usr/local/lib/python3.7/dist-packages (from matplotlib->missingno) (2.4.7)\n",
            "Requirement already satisfied: six in /usr/local/lib/python3.7/dist-packages (from cycler>=0.10->matplotlib->missingno) (1.15.0)\n",
            "Requirement already satisfied: pandas>=0.23 in /usr/local/lib/python3.7/dist-packages (from seaborn->missingno) (1.1.5)\n",
            "Requirement already satisfied: pytz>=2017.2 in /usr/local/lib/python3.7/dist-packages (from pandas>=0.23->seaborn->missingno) (2018.9)\n"
          ]
        }
      ]
    },
    {
      "cell_type": "code",
      "metadata": {
        "id": "j6-iMRnQcEkL"
      },
      "source": [
        "import missingno as msno"
      ],
      "execution_count": 50,
      "outputs": []
    },
    {
      "cell_type": "code",
      "metadata": {
        "id": "Es0ZEuPJcEkL"
      },
      "source": [
        "import matplotlib.pylab as plt"
      ],
      "execution_count": 51,
      "outputs": []
    },
    {
      "cell_type": "code",
      "metadata": {
        "id": "5FxsJlw1cEkL"
      },
      "source": [
        "pandas.options.display.max_rows = 999\n",
        "pandas.set_option('display.max_columns', 500)"
      ],
      "execution_count": 52,
      "outputs": []
    },
    {
      "cell_type": "code",
      "metadata": {
        "id": "JUFytkcLcEkM",
        "colab": {
          "base_uri": "https://localhost:8080/"
        },
        "outputId": "c156ef71-4d87-4bb3-a0ce-5285b76c797e"
      },
      "source": [
        "url = 'https://raw.githubusercontent.com/simsekergun/DATA601/main/2021Fall/datasets/sample_dataset.csv'\n",
        "df = pandas.read_csv(url, skiprows=1, low_memory=False)\n",
        "df.shape"
      ],
      "execution_count": 59,
      "outputs": [
        {
          "output_type": "execute_result",
          "data": {
            "text/plain": [
              "(17, 17)"
            ]
          },
          "metadata": {},
          "execution_count": 59
        }
      ]
    },
    {
      "cell_type": "code",
      "metadata": {
        "id": "BMeDtKdHcEkM",
        "colab": {
          "base_uri": "https://localhost:8080/",
          "height": 477
        },
        "outputId": "aa5b417a-9931-4c4f-bf83-f6c5cdf1994d"
      },
      "source": [
        "msno.matrix(df.sample(17))"
      ],
      "execution_count": 60,
      "outputs": [
        {
          "output_type": "execute_result",
          "data": {
            "text/plain": [
              "<matplotlib.axes._subplots.AxesSubplot at 0x7f364c934810>"
            ]
          },
          "metadata": {},
          "execution_count": 60
        },
        {
          "output_type": "display_data",
          "data": {
            "image/png": "[encoded data removed]",
            "text/plain": [
              "<Figure size 1800x720 with 2 Axes>"
            ]
          },
          "metadata": {
            "needs_background": "light"
          }
        }
      ]
    },
    {
      "cell_type": "code",
      "metadata": {
        "id": "JZB6UaLScEkM",
        "colab": {
          "base_uri": "https://localhost:8080/"
        },
        "outputId": "f09f6f9c-f044-40fe-e6dc-3ca3ded089b5"
      },
      "source": [
        "df.dropna(how='all',axis=0,inplace=True) # rows \n",
        "df.dropna(how='all',axis=1,inplace=True) # columns\n",
        "df.shape"
      ],
      "execution_count": 61,
      "outputs": [
        {
          "output_type": "execute_result",
          "data": {
            "text/plain": [
              "(15, 16)"
            ]
          },
          "metadata": {},
          "execution_count": 61
        }
      ]
    },
    {
      "cell_type": "code",
      "metadata": {
        "id": "n6DVrNCrcEkM",
        "colab": {
          "base_uri": "https://localhost:8080/",
          "height": 477
        },
        "outputId": "34fd9b50-5317-4c4e-e9a1-79e388b9f93c"
      },
      "source": [
        "msno.matrix(df.sample(15))"
      ],
      "execution_count": 62,
      "outputs": [
        {
          "output_type": "execute_result",
          "data": {
            "text/plain": [
              "<matplotlib.axes._subplots.AxesSubplot at 0x7f364c85dc50>"
            ]
          },
          "metadata": {},
          "execution_count": 62
        },
        {
          "output_type": "display_data",
          "data": {
            "image/png": "[encoded data removed]",
            "text/plain": [
              "<Figure size 1800x720 with 2 Axes>"
            ]
          },
          "metadata": {
            "needs_background": "light"
          }
        }
      ]
    },
    {
      "cell_type": "code",
      "metadata": {
        "id": "Psys9Z_YHIbo"
      },
      "source": [
        ""
      ],
      "execution_count": null,
      "outputs": []
    }
  ]
}