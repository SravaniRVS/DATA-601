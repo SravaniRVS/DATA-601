{
  "nbformat": 4,
  "nbformat_minor": 0,
  "metadata": {
    "colab": {
      "name": "Feature_Selection_LogReg_Lab_Full.ipynb",
      "provenance": []
    },
    "kernelspec": {
      "name": "python3",
      "display_name": "Python 3"
    },
    "language_info": {
      "name": "python"
    }
  },
  "cells": [
    {
      "cell_type": "markdown",
      "source": [
        "Import the \"breast cancer\" dataset from sklearn.datasets and determine minimum number features to achieve classification with %96 accuracy."
      ],
      "metadata": {
        "id": "gEYCxO70KzOL"
      }
    },
    {
      "cell_type": "code",
      "execution_count": null,
      "metadata": {
        "id": "iAfTYDH58WTh"
      },
      "outputs": [],
      "source": [
        "from collections import defaultdict\n",
        "\n",
        "import matplotlib.pyplot as plt\n",
        "import numpy as np\n",
        "import pandas as pd\n",
        "from scipy.stats import spearmanr\n",
        "from scipy.cluster import hierarchy\n",
        "from scipy.spatial.distance import squareform\n",
        "\n",
        "from sklearn.model_selection import train_test_split\n",
        "from sklearn.linear_model import LogisticRegression"
      ]
    },
    {
      "cell_type": "code",
      "source": [
        "from sklearn.datasets import load_breast_cancer\n",
        "cancer = load_breast_cancer()"
      ],
      "metadata": {
        "id": "kFBVWeRH8W5p"
      },
      "execution_count": null,
      "outputs": []
    },
    {
      "cell_type": "code",
      "source": [
        "df = pd.DataFrame(np.c_[cancer['data'], cancer['target']],\n",
        "                  columns= np.append(cancer['feature_names'], ['target']))"
      ],
      "metadata": {
        "id": "0CYVBvDimSLp"
      },
      "execution_count": null,
      "outputs": []
    },
    {
      "cell_type": "code",
      "source": [
        "df.describe()"
      ],
      "metadata": {
        "id": "fgZG9mKsmkup",
        "colab": {
          "base_uri": "https://localhost:8080/",
          "height": 428
        },
        "outputId": "4a20b905-0590-4412-f9aa-6184e8f093a6"
      },
      "execution_count": null,
      "outputs": [
        {
          "output_type": "execute_result",
          "data": {
            "text/plain": [
              "       mean radius  mean texture  mean perimeter    mean area  \\\n",
              "count   569.000000    569.000000      569.000000   569.000000   \n",
              "mean     14.127292     19.289649       91.969033   654.889104   \n",
              "std       3.524049      4.301036       24.298981   351.914129   \n",
              "min       6.981000      9.710000       43.790000   143.500000   \n",
              "25%      11.700000     16.170000       75.170000   420.300000   \n",
              "50%      13.370000     18.840000       86.240000   551.100000   \n",
              "75%      15.780000     21.800000      104.100000   782.700000   \n",
              "max      28.110000     39.280000      188.500000  2501.000000   \n",
              "\n",
              "       mean smoothness  mean compactness  mean concavity  mean concave points  \\\n",
              "count       569.000000        569.000000      569.000000           569.000000   \n",
              "mean          0.096360          0.104341        0.088799             0.048919   \n",
              "std           0.014064          0.052813        0.079720             0.038803   \n",
              "min           0.052630          0.019380        0.000000             0.000000   \n",
              "25%           0.086370          0.064920        0.029560             0.020310   \n",
              "50%           0.095870          0.092630        0.061540             0.033500   \n",
              "75%           0.105300          0.130400        0.130700             0.074000   \n",
              "max           0.163400          0.345400        0.426800             0.201200   \n",
              "\n",
              "       mean symmetry  mean fractal dimension  ...  worst texture  \\\n",
              "count     569.000000              569.000000  ...     569.000000   \n",
              "mean        0.181162                0.062798  ...      25.677223   \n",
              "std         0.027414                0.007060  ...       6.146258   \n",
              "min         0.106000                0.049960  ...      12.020000   \n",
              "25%         0.161900                0.057700  ...      21.080000   \n",
              "50%         0.179200                0.061540  ...      25.410000   \n",
              "75%         0.195700                0.066120  ...      29.720000   \n",
              "max         0.304000                0.097440  ...      49.540000   \n",
              "\n",
              "       worst perimeter   worst area  worst smoothness  worst compactness  \\\n",
              "count       569.000000   569.000000        569.000000         569.000000   \n",
              "mean        107.261213   880.583128          0.132369           0.254265   \n",
              "std          33.602542   569.356993          0.022832           0.157336   \n",
              "min          50.410000   185.200000          0.071170           0.027290   \n",
              "25%          84.110000   515.300000          0.116600           0.147200   \n",
              "50%          97.660000   686.500000          0.131300           0.211900   \n",
              "75%         125.400000  1084.000000          0.146000           0.339100   \n",
              "max         251.200000  4254.000000          0.222600           1.058000   \n",
              "\n",
              "       worst concavity  worst concave points  worst symmetry  \\\n",
              "count       569.000000            569.000000      569.000000   \n",
              "mean          0.272188              0.114606        0.290076   \n",
              "std           0.208624              0.065732        0.061867   \n",
              "min           0.000000              0.000000        0.156500   \n",
              "25%           0.114500              0.064930        0.250400   \n",
              "50%           0.226700              0.099930        0.282200   \n",
              "75%           0.382900              0.161400        0.317900   \n",
              "max           1.252000              0.291000        0.663800   \n",
              "\n",
              "       worst fractal dimension      target  \n",
              "count               569.000000  569.000000  \n",
              "mean                  0.083946    0.627417  \n",
              "std                   0.018061    0.483918  \n",
              "min                   0.055040    0.000000  \n",
              "25%                   0.071460    0.000000  \n",
              "50%                   0.080040    1.000000  \n",
              "75%                   0.092080    1.000000  \n",
              "max                   0.207500    1.000000  \n",
              "\n",
              "[8 rows x 31 columns]"
            ],
            "text/html": [
              "\n",
              "  <div id=\"df-273b6c36-2f38-4774-9aad-d33c2569fd0b\">\n",
              "    <div class=\"colab-df-container\">\n",
              "      <div>\n",
              "<style scoped>\n",
              "    .dataframe tbody tr th:only-of-type {\n",
              "        vertical-align: middle;\n",
              "    }\n",
              "\n",
              "    .dataframe tbody tr th {\n",
              "        vertical-align: top;\n",
              "    }\n",
              "\n",
              "    .dataframe thead th {\n",
              "        text-align: right;\n",
              "    }\n",
              "</style>\n",
              "<table border=\"1\" class=\"dataframe\">\n",
              "  <thead>\n",
              "    <tr style=\"text-align: right;\">\n",
              "      <th></th>\n",
              "      <th>mean radius</th>\n",
              "      <th>mean texture</th>\n",
              "      <th>mean perimeter</th>\n",
              "      <th>mean area</th>\n",
              "      <th>mean smoothness</th>\n",
              "      <th>mean compactness</th>\n",
              "      <th>mean concavity</th>\n",
              "      <th>mean concave points</th>\n",
              "      <th>mean symmetry</th>\n",
              "      <th>mean fractal dimension</th>\n",
              "      <th>...</th>\n",
              "      <th>worst texture</th>\n",
              "      <th>worst perimeter</th>\n",
              "      <th>worst area</th>\n",
              "      <th>worst smoothness</th>\n",
              "      <th>worst compactness</th>\n",
              "      <th>worst concavity</th>\n",
              "      <th>worst concave points</th>\n",
              "      <th>worst symmetry</th>\n",
              "      <th>worst fractal dimension</th>\n",
              "      <th>target</th>\n",
              "    </tr>\n",
              "  </thead>\n",
              "  <tbody>\n",
              "    <tr>\n",
              "      <th>count</th>\n",
              "      <td>569.000000</td>\n",
              "      <td>569.000000</td>\n",
              "      <td>569.000000</td>\n",
              "      <td>569.000000</td>\n",
              "      <td>569.000000</td>\n",
              "      <td>569.000000</td>\n",
              "      <td>569.000000</td>\n",
              "      <td>569.000000</td>\n",
              "      <td>569.000000</td>\n",
              "      <td>569.000000</td>\n",
              "      <td>...</td>\n",
              "      <td>569.000000</td>\n",
              "      <td>569.000000</td>\n",
              "      <td>569.000000</td>\n",
              "      <td>569.000000</td>\n",
              "      <td>569.000000</td>\n",
              "      <td>569.000000</td>\n",
              "      <td>569.000000</td>\n",
              "      <td>569.000000</td>\n",
              "      <td>569.000000</td>\n",
              "      <td>569.000000</td>\n",
              "    </tr>\n",
              "    <tr>\n",
              "      <th>mean</th>\n",
              "      <td>14.127292</td>\n",
              "      <td>19.289649</td>\n",
              "      <td>91.969033</td>\n",
              "      <td>654.889104</td>\n",
              "      <td>0.096360</td>\n",
              "      <td>0.104341</td>\n",
              "      <td>0.088799</td>\n",
              "      <td>0.048919</td>\n",
              "      <td>0.181162</td>\n",
              "      <td>0.062798</td>\n",
              "      <td>...</td>\n",
              "      <td>25.677223</td>\n",
              "      <td>107.261213</td>\n",
              "      <td>880.583128</td>\n",
              "      <td>0.132369</td>\n",
              "      <td>0.254265</td>\n",
              "      <td>0.272188</td>\n",
              "      <td>0.114606</td>\n",
              "      <td>0.290076</td>\n",
              "      <td>0.083946</td>\n",
              "      <td>0.627417</td>\n",
              "    </tr>\n",
              "    <tr>\n",
              "      <th>std</th>\n",
              "      <td>3.524049</td>\n",
              "      <td>4.301036</td>\n",
              "      <td>24.298981</td>\n",
              "      <td>351.914129</td>\n",
              "      <td>0.014064</td>\n",
              "      <td>0.052813</td>\n",
              "      <td>0.079720</td>\n",
              "      <td>0.038803</td>\n",
              "      <td>0.027414</td>\n",
              "      <td>0.007060</td>\n",
              "      <td>...</td>\n",
              "      <td>6.146258</td>\n",
              "      <td>33.602542</td>\n",
              "      <td>569.356993</td>\n",
              "      <td>0.022832</td>\n",
              "      <td>0.157336</td>\n",
              "      <td>0.208624</td>\n",
              "      <td>0.065732</td>\n",
              "      <td>0.061867</td>\n",
              "      <td>0.018061</td>\n",
              "      <td>0.483918</td>\n",
              "    </tr>\n",
              "    <tr>\n",
              "      <th>min</th>\n",
              "      <td>6.981000</td>\n",
              "      <td>9.710000</td>\n",
              "      <td>43.790000</td>\n",
              "      <td>143.500000</td>\n",
              "      <td>0.052630</td>\n",
              "      <td>0.019380</td>\n",
              "      <td>0.000000</td>\n",
              "      <td>0.000000</td>\n",
              "      <td>0.106000</td>\n",
              "      <td>0.049960</td>\n",
              "      <td>...</td>\n",
              "      <td>12.020000</td>\n",
              "      <td>50.410000</td>\n",
              "      <td>185.200000</td>\n",
              "      <td>0.071170</td>\n",
              "      <td>0.027290</td>\n",
              "      <td>0.000000</td>\n",
              "      <td>0.000000</td>\n",
              "      <td>0.156500</td>\n",
              "      <td>0.055040</td>\n",
              "      <td>0.000000</td>\n",
              "    </tr>\n",
              "    <tr>\n",
              "      <th>25%</th>\n",
              "      <td>11.700000</td>\n",
              "      <td>16.170000</td>\n",
              "      <td>75.170000</td>\n",
              "      <td>420.300000</td>\n",
              "      <td>0.086370</td>\n",
              "      <td>0.064920</td>\n",
              "      <td>0.029560</td>\n",
              "      <td>0.020310</td>\n",
              "      <td>0.161900</td>\n",
              "      <td>0.057700</td>\n",
              "      <td>...</td>\n",
              "      <td>21.080000</td>\n",
              "      <td>84.110000</td>\n",
              "      <td>515.300000</td>\n",
              "      <td>0.116600</td>\n",
              "      <td>0.147200</td>\n",
              "      <td>0.114500</td>\n",
              "      <td>0.064930</td>\n",
              "      <td>0.250400</td>\n",
              "      <td>0.071460</td>\n",
              "      <td>0.000000</td>\n",
              "    </tr>\n",
              "    <tr>\n",
              "      <th>50%</th>\n",
              "      <td>13.370000</td>\n",
              "      <td>18.840000</td>\n",
              "      <td>86.240000</td>\n",
              "      <td>551.100000</td>\n",
              "      <td>0.095870</td>\n",
              "      <td>0.092630</td>\n",
              "      <td>0.061540</td>\n",
              "      <td>0.033500</td>\n",
              "      <td>0.179200</td>\n",
              "      <td>0.061540</td>\n",
              "      <td>...</td>\n",
              "      <td>25.410000</td>\n",
              "      <td>97.660000</td>\n",
              "      <td>686.500000</td>\n",
              "      <td>0.131300</td>\n",
              "      <td>0.211900</td>\n",
              "      <td>0.226700</td>\n",
              "      <td>0.099930</td>\n",
              "      <td>0.282200</td>\n",
              "      <td>0.080040</td>\n",
              "      <td>1.000000</td>\n",
              "    </tr>\n",
              "    <tr>\n",
              "      <th>75%</th>\n",
              "      <td>15.780000</td>\n",
              "      <td>21.800000</td>\n",
              "      <td>104.100000</td>\n",
              "      <td>782.700000</td>\n",
              "      <td>0.105300</td>\n",
              "      <td>0.130400</td>\n",
              "      <td>0.130700</td>\n",
              "      <td>0.074000</td>\n",
              "      <td>0.195700</td>\n",
              "      <td>0.066120</td>\n",
              "      <td>...</td>\n",
              "      <td>29.720000</td>\n",
              "      <td>125.400000</td>\n",
              "      <td>1084.000000</td>\n",
              "      <td>0.146000</td>\n",
              "      <td>0.339100</td>\n",
              "      <td>0.382900</td>\n",
              "      <td>0.161400</td>\n",
              "      <td>0.317900</td>\n",
              "      <td>0.092080</td>\n",
              "      <td>1.000000</td>\n",
              "    </tr>\n",
              "    <tr>\n",
              "      <th>max</th>\n",
              "      <td>28.110000</td>\n",
              "      <td>39.280000</td>\n",
              "      <td>188.500000</td>\n",
              "      <td>2501.000000</td>\n",
              "      <td>0.163400</td>\n",
              "      <td>0.345400</td>\n",
              "      <td>0.426800</td>\n",
              "      <td>0.201200</td>\n",
              "      <td>0.304000</td>\n",
              "      <td>0.097440</td>\n",
              "      <td>...</td>\n",
              "      <td>49.540000</td>\n",
              "      <td>251.200000</td>\n",
              "      <td>4254.000000</td>\n",
              "      <td>0.222600</td>\n",
              "      <td>1.058000</td>\n",
              "      <td>1.252000</td>\n",
              "      <td>0.291000</td>\n",
              "      <td>0.663800</td>\n",
              "      <td>0.207500</td>\n",
              "      <td>1.000000</td>\n",
              "    </tr>\n",
              "  </tbody>\n",
              "</table>\n",
              "<p>8 rows × 31 columns</p>\n",
              "</div>\n",
              "      <button class=\"colab-df-convert\" onclick=\"convertToInteractive('df-273b6c36-2f38-4774-9aad-d33c2569fd0b')\"\n",
              "              title=\"Convert this dataframe to an interactive table.\"\n",
              "              style=\"display:none;\">\n",
              "        \n",
              "  <svg xmlns=\"http://www.w3.org/2000/svg\" height=\"24px\"viewBox=\"0 0 24 24\"\n",
              "       width=\"24px\">\n",
              "    <path d=\"M0 0h24v24H0V0z\" fill=\"none\"/>\n",
              "    <path d=\"M18.56 5.44l.94 2.06.94-2.06 2.06-.94-2.06-.94-.94-2.06-.94 2.06-2.06.94zm-11 1L8.5 8.5l.94-2.06 2.06-.94-2.06-.94L8.5 2.5l-.94 2.06-2.06.94zm10 10l.94 2.06.94-2.06 2.06-.94-2.06-.94-.94-2.06-.94 2.06-2.06.94z\"/><path d=\"M17.41 7.96l-1.37-1.37c-.4-.4-.92-.59-1.43-.59-.52 0-1.04.2-1.43.59L10.3 9.45l-7.72 7.72c-.78.78-.78 2.05 0 2.83L4 21.41c.39.39.9.59 1.41.59.51 0 1.02-.2 1.41-.59l7.78-7.78 2.81-2.81c.8-.78.8-2.07 0-2.86zM5.41 20L4 18.59l7.72-7.72 1.47 1.35L5.41 20z\"/>\n",
              "  </svg>\n",
              "      </button>\n",
              "      \n",
              "  <style>\n",
              "    .colab-df-container {\n",
              "      display:flex;\n",
              "      flex-wrap:wrap;\n",
              "      gap: 12px;\n",
              "    }\n",
              "\n",
              "    .colab-df-convert {\n",
              "      background-color: #E8F0FE;\n",
              "      border: none;\n",
              "      border-radius: 50%;\n",
              "      cursor: pointer;\n",
              "      display: none;\n",
              "      fill: #1967D2;\n",
              "      height: 32px;\n",
              "      padding: 0 0 0 0;\n",
              "      width: 32px;\n",
              "    }\n",
              "\n",
              "    .colab-df-convert:hover {\n",
              "      background-color: #E2EBFA;\n",
              "      box-shadow: 0px 1px 2px rgba(60, 64, 67, 0.3), 0px 1px 3px 1px rgba(60, 64, 67, 0.15);\n",
              "      fill: #174EA6;\n",
              "    }\n",
              "\n",
              "    [theme=dark] .colab-df-convert {\n",
              "      background-color: #3B4455;\n",
              "      fill: #D2E3FC;\n",
              "    }\n",
              "\n",
              "    [theme=dark] .colab-df-convert:hover {\n",
              "      background-color: #434B5C;\n",
              "      box-shadow: 0px 1px 3px 1px rgba(0, 0, 0, 0.15);\n",
              "      filter: drop-shadow(0px 1px 2px rgba(0, 0, 0, 0.3));\n",
              "      fill: #FFFFFF;\n",
              "    }\n",
              "  </style>\n",
              "\n",
              "      <script>\n",
              "        const buttonEl =\n",
              "          document.querySelector('#df-273b6c36-2f38-4774-9aad-d33c2569fd0b button.colab-df-convert');\n",
              "        buttonEl.style.display =\n",
              "          google.colab.kernel.accessAllowed ? 'block' : 'none';\n",
              "\n",
              "        async function convertToInteractive(key) {\n",
              "          const element = document.querySelector('#df-273b6c36-2f38-4774-9aad-d33c2569fd0b');\n",
              "          const dataTable =\n",
              "            await google.colab.kernel.invokeFunction('convertToInteractive',\n",
              "                                                     [key], {});\n",
              "          if (!dataTable) return;\n",
              "\n",
              "          const docLinkHtml = 'Like what you see? Visit the ' +\n",
              "            '<a target=\"_blank\" href=https://colab.research.google.com/notebooks/data_table.ipynb>data table notebook</a>'\n",
              "            + ' to learn more about interactive tables.';\n",
              "          element.innerHTML = '';\n",
              "          dataTable['output_type'] = 'display_data';\n",
              "          await google.colab.output.renderOutput(dataTable, element);\n",
              "          const docLink = document.createElement('div');\n",
              "          docLink.innerHTML = docLinkHtml;\n",
              "          element.appendChild(docLink);\n",
              "        }\n",
              "      </script>\n",
              "    </div>\n",
              "  </div>\n",
              "  "
            ]
          },
          "metadata": {},
          "execution_count": 4
        }
      ]
    },
    {
      "cell_type": "code",
      "source": [
        "X, y = cancer.data, cancer.target\n",
        "X_train, X_test, y_train, y_test = train_test_split(X, y, test_size=0.2, random_state=42)"
      ],
      "metadata": {
        "id": "fZfrJ0ywnQ0k"
      },
      "execution_count": null,
      "outputs": []
    },
    {
      "cell_type": "code",
      "source": [
        "X_train.shape, X_test.shape"
      ],
      "metadata": {
        "id": "DcXmSQyXmQw8",
        "colab": {
          "base_uri": "https://localhost:8080/"
        },
        "outputId": "63b21e8f-c5a3-4b70-85cf-5422f513f4d1"
      },
      "execution_count": null,
      "outputs": [
        {
          "output_type": "execute_result",
          "data": {
            "text/plain": [
              "((455, 30), (114, 30))"
            ]
          },
          "metadata": {},
          "execution_count": 6
        }
      ]
    },
    {
      "cell_type": "code",
      "source": [
        "df.hist(layout=(8,4),figsize=(14,20))\n",
        "plt.show()"
      ],
      "metadata": {
        "id": "oGN4lEUEnckX",
        "colab": {
          "base_uri": "https://localhost:8080/",
          "height": 1000
        },
        "outputId": "1c23b6c0-fa25-4a6d-dec1-1b5fcb18a6d3"
      },
      "execution_count": null,
      "outputs": [
        {
          "output_type": "display_data",
          "data": {
            "text/plain": [
              "<Figure size 1008x1440 with 32 Axes>"
            ],
            "image/png": "[encoded data removed]"
          },
          "metadata": {
            "needs_background": "light"
          }
        }
      ]
    },
    {
      "cell_type": "code",
      "source": [
        "logreg = LogisticRegression()\n",
        "logreg.fit(X_train, y_train)"
      ],
      "metadata": {
        "id": "QerJanlenovc",
        "colab": {
          "base_uri": "https://localhost:8080/"
        },
        "outputId": "897478c1-2763-4023-88bd-255a2f7c9f56"
      },
      "execution_count": null,
      "outputs": [
        {
          "output_type": "stream",
          "name": "stderr",
          "text": [
            "/usr/local/lib/python3.7/dist-packages/sklearn/linear_model/_logistic.py:818: ConvergenceWarning: lbfgs failed to converge (status=1):\n",
            "STOP: TOTAL NO. of ITERATIONS REACHED LIMIT.\n",
            "\n",
            "Increase the number of iterations (max_iter) or scale the data as shown in:\n",
            "    https://scikit-learn.org/stable/modules/preprocessing.html\n",
            "Please also refer to the documentation for alternative solver options:\n",
            "    https://scikit-learn.org/stable/modules/linear_model.html#logistic-regression\n",
            "  extra_warning_msg=_LOGISTIC_SOLVER_CONVERGENCE_MSG,\n"
          ]
        },
        {
          "output_type": "execute_result",
          "data": {
            "text/plain": [
              "LogisticRegression()"
            ]
          },
          "metadata": {},
          "execution_count": 23
        }
      ]
    },
    {
      "cell_type": "code",
      "source": [
        "#MODEL ACCURACY\n",
        "logreg.score(X_test,y_test)"
      ],
      "metadata": {
        "id": "KyIuR3Xen8US",
        "colab": {
          "base_uri": "https://localhost:8080/"
        },
        "outputId": "a717ee22-f878-478c-9252-8eaf57410627"
      },
      "execution_count": null,
      "outputs": [
        {
          "output_type": "execute_result",
          "data": {
            "text/plain": [
              "0.9649122807017544"
            ]
          },
          "metadata": {},
          "execution_count": 9
        }
      ]
    },
    {
      "cell_type": "code",
      "source": [
        "yhat=logreg.predict(X_test)"
      ],
      "metadata": {
        "id": "9_OCJ6PxotSr"
      },
      "execution_count": null,
      "outputs": []
    },
    {
      "cell_type": "code",
      "source": [
        "from sklearn.metrics import classification_report, confusion_matrix\n",
        "CM=confusion_matrix(y_test,yhat,labels=[0,1])\n",
        "print(CM)"
      ],
      "metadata": {
        "id": "4KTlLYnLoX-s",
        "colab": {
          "base_uri": "https://localhost:8080/"
        },
        "outputId": "ba375477-55bc-4df5-f073-bd853ffc0eb4"
      },
      "execution_count": null,
      "outputs": [
        {
          "output_type": "stream",
          "name": "stdout",
          "text": [
            "[[40  3]\n",
            " [ 1 70]]\n"
          ]
        }
      ]
    },
    {
      "cell_type": "code",
      "source": [
        "from sklearn.feature_selection import SelectKBest\n",
        "from sklearn.feature_selection import chi2\n",
        "x = df.iloc[:,:-1]\n",
        "y = df.iloc[:,-1]\n",
        "\n",
        "print(\"Feature data dimension: \", x.shape)\n",
        "\n",
        "select = SelectKBest(score_func=chi2, k=20)\n",
        "z = select.fit_transform(x, y)\n",
        "print(\"After selecting best k features:\", z.shape)"
      ],
      "metadata": {
        "id": "PSeWZjy2ofM5",
        "colab": {
          "base_uri": "https://localhost:8080/"
        },
        "outputId": "6da2f6f6-45e5-4f5d-a0ac-72d65fc3e709"
      },
      "execution_count": null,
      "outputs": [
        {
          "output_type": "stream",
          "name": "stdout",
          "text": [
            "Feature data dimension:  (569, 30)\n",
            "After selecting best k features: (569, 20)\n"
          ]
        }
      ]
    },
    {
      "cell_type": "code",
      "source": [
        "filter = select.get_support()\n",
        "features = np.array(x.columns.tolist())\n",
        " \n",
        "print(\"Selected best features:\")\n",
        "print(features[filter])"
      ],
      "metadata": {
        "id": "hGBOWlU7pNAE",
        "colab": {
          "base_uri": "https://localhost:8080/"
        },
        "outputId": "8c70d7c2-4208-4197-80f6-0412f5f5e9d0"
      },
      "execution_count": null,
      "outputs": [
        {
          "output_type": "stream",
          "name": "stdout",
          "text": [
            "Selected best features:\n",
            "['mean radius' 'mean texture' 'mean perimeter' 'mean area'\n",
            " 'mean compactness' 'mean concavity' 'mean concave points' 'radius error'\n",
            " 'perimeter error' 'area error' 'compactness error' 'concavity error'\n",
            " 'worst radius' 'worst texture' 'worst perimeter' 'worst area'\n",
            " 'worst compactness' 'worst concavity' 'worst concave points'\n",
            " 'worst symmetry']\n"
          ]
        }
      ]
    },
    {
      "cell_type": "code",
      "source": [
        "x_filtered = x.iloc[:,filter]\n",
        "X_train, X_test, y_train, y_test = train_test_split(x_filtered.values, y.values, test_size=0.2, random_state=42)"
      ],
      "metadata": {
        "id": "_ICHuBwhpetD"
      },
      "execution_count": null,
      "outputs": []
    },
    {
      "cell_type": "code",
      "source": [
        "logreg = LogisticRegression()\n",
        "logreg.fit(X_train, y_train)\n",
        "logreg.score(X_test,y_test)"
      ],
      "metadata": {
        "id": "-Hcu5cEIplVR",
        "colab": {
          "base_uri": "https://localhost:8080/"
        },
        "outputId": "5e41d6e1-26d7-4700-f1c4-d0aeb70859de"
      },
      "execution_count": null,
      "outputs": [
        {
          "output_type": "stream",
          "name": "stderr",
          "text": [
            "/usr/local/lib/python3.7/dist-packages/sklearn/linear_model/_logistic.py:818: ConvergenceWarning: lbfgs failed to converge (status=1):\n",
            "STOP: TOTAL NO. of ITERATIONS REACHED LIMIT.\n",
            "\n",
            "Increase the number of iterations (max_iter) or scale the data as shown in:\n",
            "    https://scikit-learn.org/stable/modules/preprocessing.html\n",
            "Please also refer to the documentation for alternative solver options:\n",
            "    https://scikit-learn.org/stable/modules/linear_model.html#logistic-regression\n",
            "  extra_warning_msg=_LOGISTIC_SOLVER_CONVERGENCE_MSG,\n"
          ]
        },
        {
          "output_type": "execute_result",
          "data": {
            "text/plain": [
              "0.9649122807017544"
            ]
          },
          "metadata": {},
          "execution_count": 15
        }
      ]
    },
    {
      "cell_type": "code",
      "source": [
        "yhat=logreg.predict(X_test)\n",
        "CM=confusion_matrix(y_test,yhat,labels=[0,1])\n",
        "print(CM)"
      ],
      "metadata": {
        "id": "4V3FnTygptpj",
        "colab": {
          "base_uri": "https://localhost:8080/"
        },
        "outputId": "ae2df286-5254-4fc4-9006-4dcdf290eb4e"
      },
      "execution_count": null,
      "outputs": [
        {
          "output_type": "stream",
          "name": "stdout",
          "text": [
            "[[40  3]\n",
            " [ 1 70]]\n"
          ]
        }
      ]
    },
    {
      "cell_type": "code",
      "source": [
        "import statsmodels.api as sm\n",
        "model = sm.Logit(y_train, X_train)\n",
        "results = model.fit()\n",
        "results.summary()"
      ],
      "metadata": {
        "id": "f33qE3hwp0Fl",
        "colab": {
          "base_uri": "https://localhost:8080/",
          "height": 818
        },
        "outputId": "be5b483a-9024-4a6c-d3b7-e7a29d68f947"
      },
      "execution_count": null,
      "outputs": [
        {
          "output_type": "stream",
          "name": "stderr",
          "text": [
            "/usr/local/lib/python3.7/dist-packages/statsmodels/tools/_testing.py:19: FutureWarning: pandas.util.testing is deprecated. Use the functions in the public API at pandas.testing instead.\n",
            "  import pandas.util.testing as tm\n"
          ]
        },
        {
          "output_type": "stream",
          "name": "stdout",
          "text": [
            "Optimization terminated successfully.\n",
            "         Current function value: 0.038324\n",
            "         Iterations 16\n"
          ]
        },
        {
          "output_type": "execute_result",
          "data": {
            "text/plain": [
              "<class 'statsmodels.iolib.summary.Summary'>\n",
              "\"\"\"\n",
              "                           Logit Regression Results                           \n",
              "==============================================================================\n",
              "Dep. Variable:                      y   No. Observations:                  455\n",
              "Model:                          Logit   Df Residuals:                      435\n",
              "Method:                           MLE   Df Model:                           19\n",
              "Date:                Fri, 06 May 2022   Pseudo R-squ.:                  0.9419\n",
              "Time:                        18:55:25   Log-Likelihood:                -17.438\n",
              "converged:                       True   LL-Null:                       -300.17\n",
              "Covariance Type:            nonrobust   LLR p-value:                9.654e-108\n",
              "==============================================================================\n",
              "                 coef    std err          z      P>|z|      [0.025      0.975]\n",
              "------------------------------------------------------------------------------\n",
              "x1            13.7409     21.703      0.633      0.527     -28.796      56.278\n",
              "x2            -0.7803      0.567     -1.377      0.169      -1.891       0.330\n",
              "x3            -0.5251      2.839     -0.185      0.853      -6.090       5.040\n",
              "x4            -0.0818      0.104     -0.789      0.430      -0.285       0.121\n",
              "x5           223.9788    112.184      1.997      0.046       4.102     443.856\n",
              "x6            44.5964    109.310      0.408      0.683    -169.647     258.839\n",
              "x7          -505.8769    250.328     -2.021      0.043    -996.511     -15.242\n",
              "x8             6.5039     35.211      0.185      0.853     -62.509      75.517\n",
              "x9             2.6304      4.050      0.650      0.516      -5.307      10.567\n",
              "x10           -0.4886      0.374     -1.307      0.191      -1.222       0.244\n",
              "x11          -68.5643    172.929     -0.396      0.692    -407.499     270.370\n",
              "x12          143.4951    149.410      0.960      0.337    -149.343     436.333\n",
              "x13           -4.2812     10.805     -0.396      0.692     -25.459      16.896\n",
              "x14           -0.1442      0.262     -0.550      0.583      -0.658       0.370\n",
              "x15            0.0566      0.641      0.088      0.930      -1.200       1.313\n",
              "x16            0.0133      0.087      0.153      0.878      -0.157       0.184\n",
              "x17            2.1300     26.214      0.081      0.935     -49.248      53.508\n",
              "x18          -51.8320     33.891     -1.529      0.126    -118.258      14.594\n",
              "x19          -13.9351     60.205     -0.231      0.817    -131.935     104.065\n",
              "x20          -27.4629     16.408     -1.674      0.094     -59.623       4.697\n",
              "==============================================================================\n",
              "\n",
              "Possibly complete quasi-separation: A fraction 0.81 of observations can be\n",
              "perfectly predicted. This might indicate that there is complete\n",
              "quasi-separation. In this case some parameters will not be identified.\n",
              "\"\"\""
            ],
            "text/html": [
              "<table class=\"simpletable\">\n",
              "<caption>Logit Regression Results</caption>\n",
              "<tr>\n",
              "  <th>Dep. Variable:</th>           <td>y</td>        <th>  No. Observations:  </th>   <td>   455</td>  \n",
              "</tr>\n",
              "<tr>\n",
              "  <th>Model:</th>                 <td>Logit</td>      <th>  Df Residuals:      </th>   <td>   435</td>  \n",
              "</tr>\n",
              "<tr>\n",
              "  <th>Method:</th>                 <td>MLE</td>       <th>  Df Model:          </th>   <td>    19</td>  \n",
              "</tr>\n",
              "<tr>\n",
              "  <th>Date:</th>            <td>Fri, 06 May 2022</td> <th>  Pseudo R-squ.:     </th>   <td>0.9419</td>  \n",
              "</tr>\n",
              "<tr>\n",
              "  <th>Time:</th>                <td>18:55:25</td>     <th>  Log-Likelihood:    </th>  <td> -17.438</td> \n",
              "</tr>\n",
              "<tr>\n",
              "  <th>converged:</th>             <td>True</td>       <th>  LL-Null:           </th>  <td> -300.17</td> \n",
              "</tr>\n",
              "<tr>\n",
              "  <th>Covariance Type:</th>     <td>nonrobust</td>    <th>  LLR p-value:       </th> <td>9.654e-108</td>\n",
              "</tr>\n",
              "</table>\n",
              "<table class=\"simpletable\">\n",
              "<tr>\n",
              "   <td></td>      <th>coef</th>     <th>std err</th>      <th>z</th>      <th>P>|z|</th>  <th>[0.025</th>    <th>0.975]</th>  \n",
              "</tr>\n",
              "<tr>\n",
              "  <th>x1</th>  <td>   13.7409</td> <td>   21.703</td> <td>    0.633</td> <td> 0.527</td> <td>  -28.796</td> <td>   56.278</td>\n",
              "</tr>\n",
              "<tr>\n",
              "  <th>x2</th>  <td>   -0.7803</td> <td>    0.567</td> <td>   -1.377</td> <td> 0.169</td> <td>   -1.891</td> <td>    0.330</td>\n",
              "</tr>\n",
              "<tr>\n",
              "  <th>x3</th>  <td>   -0.5251</td> <td>    2.839</td> <td>   -0.185</td> <td> 0.853</td> <td>   -6.090</td> <td>    5.040</td>\n",
              "</tr>\n",
              "<tr>\n",
              "  <th>x4</th>  <td>   -0.0818</td> <td>    0.104</td> <td>   -0.789</td> <td> 0.430</td> <td>   -0.285</td> <td>    0.121</td>\n",
              "</tr>\n",
              "<tr>\n",
              "  <th>x5</th>  <td>  223.9788</td> <td>  112.184</td> <td>    1.997</td> <td> 0.046</td> <td>    4.102</td> <td>  443.856</td>\n",
              "</tr>\n",
              "<tr>\n",
              "  <th>x6</th>  <td>   44.5964</td> <td>  109.310</td> <td>    0.408</td> <td> 0.683</td> <td> -169.647</td> <td>  258.839</td>\n",
              "</tr>\n",
              "<tr>\n",
              "  <th>x7</th>  <td> -505.8769</td> <td>  250.328</td> <td>   -2.021</td> <td> 0.043</td> <td> -996.511</td> <td>  -15.242</td>\n",
              "</tr>\n",
              "<tr>\n",
              "  <th>x8</th>  <td>    6.5039</td> <td>   35.211</td> <td>    0.185</td> <td> 0.853</td> <td>  -62.509</td> <td>   75.517</td>\n",
              "</tr>\n",
              "<tr>\n",
              "  <th>x9</th>  <td>    2.6304</td> <td>    4.050</td> <td>    0.650</td> <td> 0.516</td> <td>   -5.307</td> <td>   10.567</td>\n",
              "</tr>\n",
              "<tr>\n",
              "  <th>x10</th> <td>   -0.4886</td> <td>    0.374</td> <td>   -1.307</td> <td> 0.191</td> <td>   -1.222</td> <td>    0.244</td>\n",
              "</tr>\n",
              "<tr>\n",
              "  <th>x11</th> <td>  -68.5643</td> <td>  172.929</td> <td>   -0.396</td> <td> 0.692</td> <td> -407.499</td> <td>  270.370</td>\n",
              "</tr>\n",
              "<tr>\n",
              "  <th>x12</th> <td>  143.4951</td> <td>  149.410</td> <td>    0.960</td> <td> 0.337</td> <td> -149.343</td> <td>  436.333</td>\n",
              "</tr>\n",
              "<tr>\n",
              "  <th>x13</th> <td>   -4.2812</td> <td>   10.805</td> <td>   -0.396</td> <td> 0.692</td> <td>  -25.459</td> <td>   16.896</td>\n",
              "</tr>\n",
              "<tr>\n",
              "  <th>x14</th> <td>   -0.1442</td> <td>    0.262</td> <td>   -0.550</td> <td> 0.583</td> <td>   -0.658</td> <td>    0.370</td>\n",
              "</tr>\n",
              "<tr>\n",
              "  <th>x15</th> <td>    0.0566</td> <td>    0.641</td> <td>    0.088</td> <td> 0.930</td> <td>   -1.200</td> <td>    1.313</td>\n",
              "</tr>\n",
              "<tr>\n",
              "  <th>x16</th> <td>    0.0133</td> <td>    0.087</td> <td>    0.153</td> <td> 0.878</td> <td>   -0.157</td> <td>    0.184</td>\n",
              "</tr>\n",
              "<tr>\n",
              "  <th>x17</th> <td>    2.1300</td> <td>   26.214</td> <td>    0.081</td> <td> 0.935</td> <td>  -49.248</td> <td>   53.508</td>\n",
              "</tr>\n",
              "<tr>\n",
              "  <th>x18</th> <td>  -51.8320</td> <td>   33.891</td> <td>   -1.529</td> <td> 0.126</td> <td> -118.258</td> <td>   14.594</td>\n",
              "</tr>\n",
              "<tr>\n",
              "  <th>x19</th> <td>  -13.9351</td> <td>   60.205</td> <td>   -0.231</td> <td> 0.817</td> <td> -131.935</td> <td>  104.065</td>\n",
              "</tr>\n",
              "<tr>\n",
              "  <th>x20</th> <td>  -27.4629</td> <td>   16.408</td> <td>   -1.674</td> <td> 0.094</td> <td>  -59.623</td> <td>    4.697</td>\n",
              "</tr>\n",
              "</table><br/><br/>Possibly complete quasi-separation: A fraction 0.81 of observations can be<br/>perfectly predicted. This might indicate that there is complete<br/>quasi-separation. In this case some parameters will not be identified."
            ]
          },
          "metadata": {},
          "execution_count": 17
        }
      ]
    },
    {
      "cell_type": "code",
      "source": [
        "coefs = pd.DataFrame({\n",
        "    'coef': results.params,\n",
        "    'pvalue': results.pvalues,\n",
        "}).sort_values(by='pvalue', ascending=False)\n",
        "coefs"
      ],
      "metadata": {
        "id": "8CMsAVqsqWyG",
        "colab": {
          "base_uri": "https://localhost:8080/",
          "height": 676
        },
        "outputId": "8773ec20-5cdb-4e4b-f709-f8f15806ce4b"
      },
      "execution_count": null,
      "outputs": [
        {
          "output_type": "execute_result",
          "data": {
            "text/plain": [
              "          coef    pvalue\n",
              "16    2.129969  0.935240\n",
              "14    0.056577  0.929655\n",
              "15    0.013348  0.878059\n",
              "7     6.503859  0.853457\n",
              "2    -0.525097  0.853274\n",
              "18  -13.935102  0.816958\n",
              "12   -4.281217  0.691942\n",
              "10  -68.564290  0.691745\n",
              "5    44.596386  0.683287\n",
              "13   -0.144175  0.582574\n",
              "0    13.740925  0.526642\n",
              "8     2.630414  0.515983\n",
              "3    -0.081784  0.430384\n",
              "11  143.495145  0.336848\n",
              "9    -0.488625  0.191354\n",
              "1    -0.780286  0.168558\n",
              "17  -51.831981  0.126176\n",
              "19  -27.462874  0.094188\n",
              "4   223.978770  0.045877\n",
              "6  -505.876919  0.043295"
            ],
            "text/html": [
              "\n",
              "  <div id=\"df-9308ad4c-18e3-4fd4-b792-3ee52c58c73d\">\n",
              "    <div class=\"colab-df-container\">\n",
              "      <div>\n",
              "<style scoped>\n",
              "    .dataframe tbody tr th:only-of-type {\n",
              "        vertical-align: middle;\n",
              "    }\n",
              "\n",
              "    .dataframe tbody tr th {\n",
              "        vertical-align: top;\n",
              "    }\n",
              "\n",
              "    .dataframe thead th {\n",
              "        text-align: right;\n",
              "    }\n",
              "</style>\n",
              "<table border=\"1\" class=\"dataframe\">\n",
              "  <thead>\n",
              "    <tr style=\"text-align: right;\">\n",
              "      <th></th>\n",
              "      <th>coef</th>\n",
              "      <th>pvalue</th>\n",
              "    </tr>\n",
              "  </thead>\n",
              "  <tbody>\n",
              "    <tr>\n",
              "      <th>16</th>\n",
              "      <td>2.129969</td>\n",
              "      <td>0.935240</td>\n",
              "    </tr>\n",
              "    <tr>\n",
              "      <th>14</th>\n",
              "      <td>0.056577</td>\n",
              "      <td>0.929655</td>\n",
              "    </tr>\n",
              "    <tr>\n",
              "      <th>15</th>\n",
              "      <td>0.013348</td>\n",
              "      <td>0.878059</td>\n",
              "    </tr>\n",
              "    <tr>\n",
              "      <th>7</th>\n",
              "      <td>6.503859</td>\n",
              "      <td>0.853457</td>\n",
              "    </tr>\n",
              "    <tr>\n",
              "      <th>2</th>\n",
              "      <td>-0.525097</td>\n",
              "      <td>0.853274</td>\n",
              "    </tr>\n",
              "    <tr>\n",
              "      <th>18</th>\n",
              "      <td>-13.935102</td>\n",
              "      <td>0.816958</td>\n",
              "    </tr>\n",
              "    <tr>\n",
              "      <th>12</th>\n",
              "      <td>-4.281217</td>\n",
              "      <td>0.691942</td>\n",
              "    </tr>\n",
              "    <tr>\n",
              "      <th>10</th>\n",
              "      <td>-68.564290</td>\n",
              "      <td>0.691745</td>\n",
              "    </tr>\n",
              "    <tr>\n",
              "      <th>5</th>\n",
              "      <td>44.596386</td>\n",
              "      <td>0.683287</td>\n",
              "    </tr>\n",
              "    <tr>\n",
              "      <th>13</th>\n",
              "      <td>-0.144175</td>\n",
              "      <td>0.582574</td>\n",
              "    </tr>\n",
              "    <tr>\n",
              "      <th>0</th>\n",
              "      <td>13.740925</td>\n",
              "      <td>0.526642</td>\n",
              "    </tr>\n",
              "    <tr>\n",
              "      <th>8</th>\n",
              "      <td>2.630414</td>\n",
              "      <td>0.515983</td>\n",
              "    </tr>\n",
              "    <tr>\n",
              "      <th>3</th>\n",
              "      <td>-0.081784</td>\n",
              "      <td>0.430384</td>\n",
              "    </tr>\n",
              "    <tr>\n",
              "      <th>11</th>\n",
              "      <td>143.495145</td>\n",
              "      <td>0.336848</td>\n",
              "    </tr>\n",
              "    <tr>\n",
              "      <th>9</th>\n",
              "      <td>-0.488625</td>\n",
              "      <td>0.191354</td>\n",
              "    </tr>\n",
              "    <tr>\n",
              "      <th>1</th>\n",
              "      <td>-0.780286</td>\n",
              "      <td>0.168558</td>\n",
              "    </tr>\n",
              "    <tr>\n",
              "      <th>17</th>\n",
              "      <td>-51.831981</td>\n",
              "      <td>0.126176</td>\n",
              "    </tr>\n",
              "    <tr>\n",
              "      <th>19</th>\n",
              "      <td>-27.462874</td>\n",
              "      <td>0.094188</td>\n",
              "    </tr>\n",
              "    <tr>\n",
              "      <th>4</th>\n",
              "      <td>223.978770</td>\n",
              "      <td>0.045877</td>\n",
              "    </tr>\n",
              "    <tr>\n",
              "      <th>6</th>\n",
              "      <td>-505.876919</td>\n",
              "      <td>0.043295</td>\n",
              "    </tr>\n",
              "  </tbody>\n",
              "</table>\n",
              "</div>\n",
              "      <button class=\"colab-df-convert\" onclick=\"convertToInteractive('df-9308ad4c-18e3-4fd4-b792-3ee52c58c73d')\"\n",
              "              title=\"Convert this dataframe to an interactive table.\"\n",
              "              style=\"display:none;\">\n",
              "        \n",
              "  <svg xmlns=\"http://www.w3.org/2000/svg\" height=\"24px\"viewBox=\"0 0 24 24\"\n",
              "       width=\"24px\">\n",
              "    <path d=\"M0 0h24v24H0V0z\" fill=\"none\"/>\n",
              "    <path d=\"M18.56 5.44l.94 2.06.94-2.06 2.06-.94-2.06-.94-.94-2.06-.94 2.06-2.06.94zm-11 1L8.5 8.5l.94-2.06 2.06-.94-2.06-.94L8.5 2.5l-.94 2.06-2.06.94zm10 10l.94 2.06.94-2.06 2.06-.94-2.06-.94-.94-2.06-.94 2.06-2.06.94z\"/><path d=\"M17.41 7.96l-1.37-1.37c-.4-.4-.92-.59-1.43-.59-.52 0-1.04.2-1.43.59L10.3 9.45l-7.72 7.72c-.78.78-.78 2.05 0 2.83L4 21.41c.39.39.9.59 1.41.59.51 0 1.02-.2 1.41-.59l7.78-7.78 2.81-2.81c.8-.78.8-2.07 0-2.86zM5.41 20L4 18.59l7.72-7.72 1.47 1.35L5.41 20z\"/>\n",
              "  </svg>\n",
              "      </button>\n",
              "      \n",
              "  <style>\n",
              "    .colab-df-container {\n",
              "      display:flex;\n",
              "      flex-wrap:wrap;\n",
              "      gap: 12px;\n",
              "    }\n",
              "\n",
              "    .colab-df-convert {\n",
              "      background-color: #E8F0FE;\n",
              "      border: none;\n",
              "      border-radius: 50%;\n",
              "      cursor: pointer;\n",
              "      display: none;\n",
              "      fill: #1967D2;\n",
              "      height: 32px;\n",
              "      padding: 0 0 0 0;\n",
              "      width: 32px;\n",
              "    }\n",
              "\n",
              "    .colab-df-convert:hover {\n",
              "      background-color: #E2EBFA;\n",
              "      box-shadow: 0px 1px 2px rgba(60, 64, 67, 0.3), 0px 1px 3px 1px rgba(60, 64, 67, 0.15);\n",
              "      fill: #174EA6;\n",
              "    }\n",
              "\n",
              "    [theme=dark] .colab-df-convert {\n",
              "      background-color: #3B4455;\n",
              "      fill: #D2E3FC;\n",
              "    }\n",
              "\n",
              "    [theme=dark] .colab-df-convert:hover {\n",
              "      background-color: #434B5C;\n",
              "      box-shadow: 0px 1px 3px 1px rgba(0, 0, 0, 0.15);\n",
              "      filter: drop-shadow(0px 1px 2px rgba(0, 0, 0, 0.3));\n",
              "      fill: #FFFFFF;\n",
              "    }\n",
              "  </style>\n",
              "\n",
              "      <script>\n",
              "        const buttonEl =\n",
              "          document.querySelector('#df-9308ad4c-18e3-4fd4-b792-3ee52c58c73d button.colab-df-convert');\n",
              "        buttonEl.style.display =\n",
              "          google.colab.kernel.accessAllowed ? 'block' : 'none';\n",
              "\n",
              "        async function convertToInteractive(key) {\n",
              "          const element = document.querySelector('#df-9308ad4c-18e3-4fd4-b792-3ee52c58c73d');\n",
              "          const dataTable =\n",
              "            await google.colab.kernel.invokeFunction('convertToInteractive',\n",
              "                                                     [key], {});\n",
              "          if (!dataTable) return;\n",
              "\n",
              "          const docLinkHtml = 'Like what you see? Visit the ' +\n",
              "            '<a target=\"_blank\" href=https://colab.research.google.com/notebooks/data_table.ipynb>data table notebook</a>'\n",
              "            + ' to learn more about interactive tables.';\n",
              "          element.innerHTML = '';\n",
              "          dataTable['output_type'] = 'display_data';\n",
              "          await google.colab.output.renderOutput(dataTable, element);\n",
              "          const docLink = document.createElement('div');\n",
              "          docLink.innerHTML = docLinkHtml;\n",
              "          element.appendChild(docLink);\n",
              "        }\n",
              "      </script>\n",
              "    </div>\n",
              "  </div>\n",
              "  "
            ]
          },
          "metadata": {},
          "execution_count": 18
        }
      ]
    },
    {
      "cell_type": "code",
      "source": [
        "plt.hist(coefs.pvalue,bins=50)"
      ],
      "metadata": {
        "id": "hIdLGdhYqkst",
        "colab": {
          "base_uri": "https://localhost:8080/",
          "height": 526
        },
        "outputId": "fe1f0e55-0c83-4efe-ce2e-8ec67d1a72d7"
      },
      "execution_count": null,
      "outputs": [
        {
          "output_type": "execute_result",
          "data": {
            "text/plain": [
              "(array([2., 0., 1., 0., 1., 0., 0., 1., 1., 0., 0., 0., 0., 0., 0., 0., 1.,\n",
              "        0., 0., 0., 0., 1., 0., 0., 0., 0., 1., 1., 0., 0., 1., 0., 0., 0.,\n",
              "        0., 1., 2., 0., 0., 0., 0., 0., 0., 1., 0., 2., 1., 0., 0., 2.]),\n",
              " array([0.04329492, 0.06113382, 0.07897273, 0.09681164, 0.11465055,\n",
              "        0.13248946, 0.15032837, 0.16816728, 0.18600619, 0.2038451 ,\n",
              "        0.221684  , 0.23952291, 0.25736182, 0.27520073, 0.29303964,\n",
              "        0.31087855, 0.32871746, 0.34655637, 0.36439527, 0.38223418,\n",
              "        0.40007309, 0.417912  , 0.43575091, 0.45358982, 0.47142873,\n",
              "        0.48926764, 0.50710655, 0.52494545, 0.54278436, 0.56062327,\n",
              "        0.57846218, 0.59630109, 0.61414   , 0.63197891, 0.64981782,\n",
              "        0.66765672, 0.68549563, 0.70333454, 0.72117345, 0.73901236,\n",
              "        0.75685127, 0.77469018, 0.79252909, 0.81036799, 0.8282069 ,\n",
              "        0.84604581, 0.86388472, 0.88172363, 0.89956254, 0.91740145,\n",
              "        0.93524036]),\n",
              " <a list of 50 Patch objects>)"
            ]
          },
          "metadata": {},
          "execution_count": 19
        },
        {
          "output_type": "display_data",
          "data": {
            "text/plain": [
              "<Figure size 432x288 with 1 Axes>"
            ],
            "image/png": "[encoded data removed]"
          },
          "metadata": {
            "needs_background": "light"
          }
        }
      ]
    },
    {
      "cell_type": "code",
      "source": [
        "feature_cols = coefs[coefs.pvalue < 0.2].index\n",
        "print(len(feature_cols))"
      ],
      "metadata": {
        "id": "UHhcyhXkucfO",
        "colab": {
          "base_uri": "https://localhost:8080/"
        },
        "outputId": "fc5ea026-5fa3-4537-e794-cb51f0991101"
      },
      "execution_count": null,
      "outputs": [
        {
          "output_type": "stream",
          "name": "stdout",
          "text": [
            "6\n"
          ]
        }
      ]
    },
    {
      "cell_type": "code",
      "source": [
        "logreg = LogisticRegression()\n",
        "logreg.fit(X_train[:,feature_cols], y_train)\n",
        "logreg.score(X_test[:,feature_cols],y_test)"
      ],
      "metadata": {
        "id": "g5ETXHvguhgU",
        "colab": {
          "base_uri": "https://localhost:8080/"
        },
        "outputId": "71ebf30b-2c41-40b9-e9f5-1156126a0642"
      },
      "execution_count": null,
      "outputs": [
        {
          "output_type": "execute_result",
          "data": {
            "text/plain": [
              "0.9649122807017544"
            ]
          },
          "metadata": {},
          "execution_count": 28
        }
      ]
    },
    {
      "cell_type": "code",
      "source": [
        "yhat=logreg.predict(X_test[:,feature_cols])\n",
        "CM=confusion_matrix(y_test,yhat,labels=[0,1])\n",
        "print(CM)"
      ],
      "metadata": {
        "id": "WpHdIaxNusgK",
        "colab": {
          "base_uri": "https://localhost:8080/"
        },
        "outputId": "ddeb8d13-0244-4810-b50c-79f5d30d3bfa"
      },
      "execution_count": null,
      "outputs": [
        {
          "output_type": "stream",
          "name": "stdout",
          "text": [
            "[[40  3]\n",
            " [ 1 70]]\n"
          ]
        }
      ]
    },
    {
      "cell_type": "code",
      "source": [
        ""
      ],
      "metadata": {
        "id": "uS-lVrmZKnms"
      },
      "execution_count": null,
      "outputs": []
    }
  ]
}