{
  "nbformat": 4,
  "nbformat_minor": 5,
  "metadata": {
    "kernelspec": {
      "display_name": "Python 3",
      "language": "python",
      "name": "python3"
    },
    "language_info": {
      "codemirror_mode": {
        "name": "ipython",
        "version": 3
      },
      "file_extension": ".py",
      "mimetype": "text/x-python",
      "name": "python",
      "nbconvert_exporter": "python",
      "pygments_lexer": "ipython3",
      "version": "3.8.8"
    },
    "colab": {
      "name": "Feature_Selection_LinReg_LAB.ipynb",
      "provenance": [],
      "collapsed_sections": []
    }
  },
  "cells": [
    {
      "cell_type": "code",
      "metadata": {
        "id": "08281f34-9d0d-41d0-b483-69a834b46589"
      },
      "source": [
        "# USUAL SUSPECTS\n",
        "import numpy as np\n",
        "import pandas as pd\n",
        "import matplotlib.pyplot as plt\n",
        "from matplotlib.pyplot import bar\n",
        "# sklearn stuff\n",
        "from sklearn.metrics import r2_score\n",
        "from sklearn.model_selection import train_test_split\n",
        "from sklearn.linear_model import LinearRegression\n",
        "from sklearn.metrics import mean_absolute_error"
      ],
      "id": "08281f34-9d0d-41d0-b483-69a834b46589",
      "execution_count": null,
      "outputs": []
    },
    {
      "cell_type": "code",
      "metadata": {
        "id": "528761c5-8c9b-4b02-a2b4-52d08a3e5ba5"
      },
      "source": [
        "!wget https://github.com/simsekergun/DATA601/raw/main/Datasets/LRdataset.zip?raw=true"
      ],
      "id": "528761c5-8c9b-4b02-a2b4-52d08a3e5ba5",
      "execution_count": null,
      "outputs": []
    },
    {
      "cell_type": "code",
      "metadata": {
        "id": "rv6ntJSwxUtc"
      },
      "source": [
        "ls"
      ],
      "id": "rv6ntJSwxUtc",
      "execution_count": null,
      "outputs": []
    },
    {
      "cell_type": "code",
      "metadata": {
        "id": "z7Ir8UACw1Sy"
      },
      "source": [
        "from zipfile import ZipFile"
      ],
      "id": "z7Ir8UACw1Sy",
      "execution_count": null,
      "outputs": []
    },
    {
      "cell_type": "code",
      "metadata": {
        "id": "UFhISZgZvtkg"
      },
      "source": [
        "file_path = './LRdataset.zip?raw=true'\n",
        "with ZipFile(file_path, 'r') as zip: \n",
        "    # printing all the contents of the zip file \n",
        "    zip.printdir() \n",
        "  \n",
        "    # extracting all the files \n",
        "    print('Extracting all the files now...') \n",
        "    zip.extractall(path = './') \n",
        "    print('Done!')"
      ],
      "id": "UFhISZgZvtkg",
      "execution_count": null,
      "outputs": []
    },
    {
      "cell_type": "code",
      "metadata": {
        "id": "felP4DcJxbRY"
      },
      "source": [
        "df = pd.read_csv('LRdatasetv.csv',index_col=None)\n",
        "df.head()"
      ],
      "id": "felP4DcJxbRY",
      "execution_count": null,
      "outputs": []
    },
    {
      "cell_type": "code",
      "source": [
        "df = df.iloc[: , 1:]\n",
        "df.head()"
      ],
      "metadata": {
        "id": "WKtCuJUC4_bJ"
      },
      "id": "WKtCuJUC4_bJ",
      "execution_count": null,
      "outputs": []
    },
    {
      "cell_type": "markdown",
      "source": [
        "X = Featuers = First 2000 columns\n",
        "Y = Dependent = Last column\n",
        "\n",
        "Build a linear regression model to regress (predict) Y from X. <br>\n",
        "You are free to use as many as features you want!"
      ],
      "metadata": {
        "id": "L6Bqn-7z5lMu"
      },
      "id": "L6Bqn-7z5lMu"
    },
    {
      "cell_type": "code",
      "source": [
        ""
      ],
      "metadata": {
        "id": "jl0DSdKL5-4J"
      },
      "id": "jl0DSdKL5-4J",
      "execution_count": null,
      "outputs": []
    }
  ]
}